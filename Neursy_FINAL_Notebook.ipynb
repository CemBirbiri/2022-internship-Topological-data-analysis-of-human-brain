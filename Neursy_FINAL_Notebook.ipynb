{
  "cells": [
    {
      "cell_type": "code",
      "source": [
        "!pip install gudhi\n",
        "!pip install --upgrade category_encoders\n",
        "!pip install dyneusr\n",
        "!pip install umap-learn\n",
        "!pip install -q latextable\n",
        "\n",
        "\n"
      ],
      "metadata": {
        "id": "l4vUNVkL-K3P"
      },
      "id": "l4vUNVkL-K3P",
      "execution_count": null,
      "outputs": []
    },
    {
      "cell_type": "markdown",
      "id": "19dfbb72",
      "metadata": {
        "id": "19dfbb72"
      },
      "source": [
        "# 1. Load Data"
      ]
    },
    {
      "cell_type": "code",
      "source": [
        "from google.colab import drive\n",
        "drive.mount('/content/drive')"
      ],
      "metadata": {
        "colab": {
          "base_uri": "https://localhost:8080/"
        },
        "id": "zASDWgn17m5v",
        "outputId": "90842a36-d494-42dd-bfc9-e5cfa815bc04"
      },
      "id": "zASDWgn17m5v",
      "execution_count": 2,
      "outputs": [
        {
          "output_type": "stream",
          "name": "stdout",
          "text": [
            "Mounted at /content/drive\n"
          ]
        }
      ]
    },
    {
      "cell_type": "markdown",
      "id": "bd252d3c",
      "metadata": {
        "id": "bd252d3c"
      },
      "source": [
        "## 1.1 Load Target values"
      ]
    },
    {
      "cell_type": "markdown",
      "id": "8fa6b12a",
      "metadata": {
        "id": "8fa6b12a"
      },
      "source": [
        "In the target-dataset, we have 1206 patients(1206 rows in the dataset) and 583 different targets(583 different target values). If we build a machine learning model, we can predict these 583 different targets. The target selection is based on us."
      ]
    },
    {
      "cell_type": "code",
      "execution_count": 3,
      "id": "d8ae0d63",
      "metadata": {
        "colab": {
          "base_uri": "https://localhost:8080/"
        },
        "id": "d8ae0d63",
        "outputId": "a2a3c9ef-2d26-4237-e696-c3fa566c9754"
      },
      "outputs": [
        {
          "output_type": "stream",
          "name": "stdout",
          "text": [
            "(1206, 583)\n"
          ]
        }
      ],
      "source": [
        "#Load the target file to Jupyter Notebook\n",
        "\n",
        "import pandas as pd\n",
        "import numpy as np\n",
        "\n",
        "df_struct = pd.read_csv('/content/drive/MyDrive/GUDHI-tda-tutorials-mapper/df_struct.csv')\n",
        "print(df_struct.shape)"
      ]
    },
    {
      "cell_type": "code",
      "execution_count": 4,
      "id": "08e711e9",
      "metadata": {
        "colab": {
          "base_uri": "https://localhost:8080/"
        },
        "id": "08e711e9",
        "outputId": "7469a083-8ebf-4775-c1e1-7259496062fe"
      },
      "outputs": [
        {
          "output_type": "execute_result",
          "data": {
            "text/plain": [
              "Index(['Unnamed: 0', 'Subject', 'Release', 'Acquisition', 'Gender', 'Age',\n",
              "       '3T_Full_MR_Compl', 'T1_Count', 'T2_Count', '3T_RS-fMRI_Count',\n",
              "       ...\n",
              "       'Noise_Comp', 'Odor_Unadj', 'Odor_AgeAdj', 'PainIntens_RawScore',\n",
              "       'PainInterf_Tscore', 'Taste_Unadj', 'Taste_AgeAdj', 'Mars_Log_Score',\n",
              "       'Mars_Errs', 'Mars_Final'],\n",
              "      dtype='object', length=583)"
            ]
          },
          "metadata": {},
          "execution_count": 4
        }
      ],
      "source": [
        "#Let's see what kind of targets we have:\n",
        "df_struct.columns"
      ]
    },
    {
      "cell_type": "markdown",
      "id": "2a7497a9",
      "metadata": {
        "id": "2a7497a9"
      },
      "source": [
        "## 1.2 Load DTI connectivity matrices of 998 patients:"
      ]
    },
    {
      "cell_type": "markdown",
      "id": "b404c9ba",
      "metadata": {
        "id": "b404c9ba"
      },
      "source": [
        "Our goal is to predict targets given by connectivity matrices. These connectivity matrices represent neural relationships of different brain regions. We have 998 connectivity matrices so we have 998 patients."
      ]
    },
    {
      "cell_type": "code",
      "execution_count": 5,
      "id": "ef92bbf3",
      "metadata": {
        "id": "ef92bbf3"
      },
      "outputs": [],
      "source": [
        "# Let's now load it into a list of 998 pandas DataFrames\n",
        "import pickle\n",
        "open_file = open('/content/drive/MyDrive/GUDHI-tda-tutorials-mapper/DTI.txt', \"rb\")\n",
        "loaded_DTI = pickle.load(open_file)\n",
        "open_file.close()"
      ]
    },
    {
      "cell_type": "code",
      "execution_count": 6,
      "id": "eb1a7178",
      "metadata": {
        "colab": {
          "base_uri": "https://localhost:8080/"
        },
        "id": "eb1a7178",
        "outputId": "e10cefca-42a8-4668-fd14-be02eee685e2"
      },
      "outputs": [
        {
          "output_type": "execute_result",
          "data": {
            "text/plain": [
              "(998, list)"
            ]
          },
          "metadata": {},
          "execution_count": 6
        }
      ],
      "source": [
        "#Just to check that we 998 connectivity matrixes\n",
        "len(loaded_DTI), type(loaded_DTI)"
      ]
    },
    {
      "cell_type": "markdown",
      "id": "f1388716",
      "metadata": {
        "id": "f1388716"
      },
      "source": [
        "The connectivity matrices have shape (116,116). That means we have 116 brain regions."
      ]
    },
    {
      "cell_type": "code",
      "execution_count": 7,
      "id": "64736816",
      "metadata": {
        "colab": {
          "base_uri": "https://localhost:8080/"
        },
        "id": "64736816",
        "outputId": "ab9b9000-c27d-454a-9d07-bf23cf1fa114"
      },
      "outputs": [
        {
          "output_type": "execute_result",
          "data": {
            "text/plain": [
              "(116, 116)"
            ]
          },
          "metadata": {},
          "execution_count": 7
        }
      ],
      "source": [
        "loaded_DTI[0].to_numpy().shape"
      ]
    },
    {
      "cell_type": "markdown",
      "id": "aad997e1",
      "metadata": {
        "id": "aad997e1"
      },
      "source": [
        "## 1.3 Load IDs of 998 patient:"
      ]
    },
    {
      "cell_type": "markdown",
      "id": "41fcb0c8",
      "metadata": {
        "id": "41fcb0c8"
      },
      "source": [
        "In the target-dataset we had 1206 patients, however we have 998 connectivity matrices. So we need to select 998 patients' target values. How to do it? By matching the IDs of patients. First we load the patient IDs:"
      ]
    },
    {
      "cell_type": "code",
      "execution_count": 8,
      "id": "818a9517",
      "metadata": {
        "id": "818a9517"
      },
      "outputs": [],
      "source": [
        "# You may need the IDs of all DTI networks in your project. We give this for you here:\n",
        "#!wget -O 'IDsDTI.txt' https://www.dropbox.com/s/k7wuffrr0e26a7m/IDsDTI.txt?dl=0\n",
        "open_file = open('/content/drive/MyDrive/GUDHI-tda-tutorials-mapper/IDsDTI.txt', \"rb\")\n",
        "DTI_IDs = pickle.load(open_file)\n",
        "open_file.close()"
      ]
    },
    {
      "cell_type": "code",
      "execution_count": 9,
      "id": "0aecf2f9",
      "metadata": {
        "colab": {
          "base_uri": "https://localhost:8080/"
        },
        "id": "0aecf2f9",
        "outputId": "aee97ab0-f7e6-4b36-fb19-6f196bf222d7"
      },
      "outputs": [
        {
          "output_type": "execute_result",
          "data": {
            "text/plain": [
              "998"
            ]
          },
          "metadata": {},
          "execution_count": 9
        }
      ],
      "source": [
        "len(DTI_IDs)"
      ]
    },
    {
      "cell_type": "code",
      "execution_count": 10,
      "id": "2da194d7",
      "metadata": {
        "colab": {
          "base_uri": "https://localhost:8080/",
          "height": 0
        },
        "id": "2da194d7",
        "outputId": "1d023e6c-3b47-441b-eaed-e60a2f4642b0"
      },
      "outputs": [
        {
          "output_type": "execute_result",
          "data": {
            "text/plain": [
              "  Subject\n",
              "0  120212\n",
              "1  108222\n",
              "2  111009\n",
              "3  393247\n",
              "4  211821"
            ],
            "text/html": [
              "\n",
              "  <div id=\"df-3d0a30c7-3b28-405d-9007-61ea9d5f4cdf\">\n",
              "    <div class=\"colab-df-container\">\n",
              "      <div>\n",
              "<style scoped>\n",
              "    .dataframe tbody tr th:only-of-type {\n",
              "        vertical-align: middle;\n",
              "    }\n",
              "\n",
              "    .dataframe tbody tr th {\n",
              "        vertical-align: top;\n",
              "    }\n",
              "\n",
              "    .dataframe thead th {\n",
              "        text-align: right;\n",
              "    }\n",
              "</style>\n",
              "<table border=\"1\" class=\"dataframe\">\n",
              "  <thead>\n",
              "    <tr style=\"text-align: right;\">\n",
              "      <th></th>\n",
              "      <th>Subject</th>\n",
              "    </tr>\n",
              "  </thead>\n",
              "  <tbody>\n",
              "    <tr>\n",
              "      <th>0</th>\n",
              "      <td>120212</td>\n",
              "    </tr>\n",
              "    <tr>\n",
              "      <th>1</th>\n",
              "      <td>108222</td>\n",
              "    </tr>\n",
              "    <tr>\n",
              "      <th>2</th>\n",
              "      <td>111009</td>\n",
              "    </tr>\n",
              "    <tr>\n",
              "      <th>3</th>\n",
              "      <td>393247</td>\n",
              "    </tr>\n",
              "    <tr>\n",
              "      <th>4</th>\n",
              "      <td>211821</td>\n",
              "    </tr>\n",
              "  </tbody>\n",
              "</table>\n",
              "</div>\n",
              "      <button class=\"colab-df-convert\" onclick=\"convertToInteractive('df-3d0a30c7-3b28-405d-9007-61ea9d5f4cdf')\"\n",
              "              title=\"Convert this dataframe to an interactive table.\"\n",
              "              style=\"display:none;\">\n",
              "        \n",
              "  <svg xmlns=\"http://www.w3.org/2000/svg\" height=\"24px\"viewBox=\"0 0 24 24\"\n",
              "       width=\"24px\">\n",
              "    <path d=\"M0 0h24v24H0V0z\" fill=\"none\"/>\n",
              "    <path d=\"M18.56 5.44l.94 2.06.94-2.06 2.06-.94-2.06-.94-.94-2.06-.94 2.06-2.06.94zm-11 1L8.5 8.5l.94-2.06 2.06-.94-2.06-.94L8.5 2.5l-.94 2.06-2.06.94zm10 10l.94 2.06.94-2.06 2.06-.94-2.06-.94-.94-2.06-.94 2.06-2.06.94z\"/><path d=\"M17.41 7.96l-1.37-1.37c-.4-.4-.92-.59-1.43-.59-.52 0-1.04.2-1.43.59L10.3 9.45l-7.72 7.72c-.78.78-.78 2.05 0 2.83L4 21.41c.39.39.9.59 1.41.59.51 0 1.02-.2 1.41-.59l7.78-7.78 2.81-2.81c.8-.78.8-2.07 0-2.86zM5.41 20L4 18.59l7.72-7.72 1.47 1.35L5.41 20z\"/>\n",
              "  </svg>\n",
              "      </button>\n",
              "      \n",
              "  <style>\n",
              "    .colab-df-container {\n",
              "      display:flex;\n",
              "      flex-wrap:wrap;\n",
              "      gap: 12px;\n",
              "    }\n",
              "\n",
              "    .colab-df-convert {\n",
              "      background-color: #E8F0FE;\n",
              "      border: none;\n",
              "      border-radius: 50%;\n",
              "      cursor: pointer;\n",
              "      display: none;\n",
              "      fill: #1967D2;\n",
              "      height: 32px;\n",
              "      padding: 0 0 0 0;\n",
              "      width: 32px;\n",
              "    }\n",
              "\n",
              "    .colab-df-convert:hover {\n",
              "      background-color: #E2EBFA;\n",
              "      box-shadow: 0px 1px 2px rgba(60, 64, 67, 0.3), 0px 1px 3px 1px rgba(60, 64, 67, 0.15);\n",
              "      fill: #174EA6;\n",
              "    }\n",
              "\n",
              "    [theme=dark] .colab-df-convert {\n",
              "      background-color: #3B4455;\n",
              "      fill: #D2E3FC;\n",
              "    }\n",
              "\n",
              "    [theme=dark] .colab-df-convert:hover {\n",
              "      background-color: #434B5C;\n",
              "      box-shadow: 0px 1px 3px 1px rgba(0, 0, 0, 0.15);\n",
              "      filter: drop-shadow(0px 1px 2px rgba(0, 0, 0, 0.3));\n",
              "      fill: #FFFFFF;\n",
              "    }\n",
              "  </style>\n",
              "\n",
              "      <script>\n",
              "        const buttonEl =\n",
              "          document.querySelector('#df-3d0a30c7-3b28-405d-9007-61ea9d5f4cdf button.colab-df-convert');\n",
              "        buttonEl.style.display =\n",
              "          google.colab.kernel.accessAllowed ? 'block' : 'none';\n",
              "\n",
              "        async function convertToInteractive(key) {\n",
              "          const element = document.querySelector('#df-3d0a30c7-3b28-405d-9007-61ea9d5f4cdf');\n",
              "          const dataTable =\n",
              "            await google.colab.kernel.invokeFunction('convertToInteractive',\n",
              "                                                     [key], {});\n",
              "          if (!dataTable) return;\n",
              "\n",
              "          const docLinkHtml = 'Like what you see? Visit the ' +\n",
              "            '<a target=\"_blank\" href=https://colab.research.google.com/notebooks/data_table.ipynb>data table notebook</a>'\n",
              "            + ' to learn more about interactive tables.';\n",
              "          element.innerHTML = '';\n",
              "          dataTable['output_type'] = 'display_data';\n",
              "          await google.colab.output.renderOutput(dataTable, element);\n",
              "          const docLink = document.createElement('div');\n",
              "          docLink.innerHTML = docLinkHtml;\n",
              "          element.appendChild(docLink);\n",
              "        }\n",
              "      </script>\n",
              "    </div>\n",
              "  </div>\n",
              "  "
            ]
          },
          "metadata": {},
          "execution_count": 10
        }
      ],
      "source": [
        "DTI_IDs = pd.DataFrame(DTI_IDs,columns =['Subject'])\n",
        "DTI_IDs.head()"
      ]
    },
    {
      "cell_type": "markdown",
      "id": "f5c12471",
      "metadata": {
        "id": "f5c12471"
      },
      "source": [
        "## 1.3 Load Brain region names:"
      ]
    },
    {
      "cell_type": "markdown",
      "id": "081936a9",
      "metadata": {
        "id": "081936a9"
      },
      "source": [
        "We may also need the 116 brain region names in future so we load it too:\n"
      ]
    },
    {
      "cell_type": "code",
      "execution_count": 11,
      "id": "2d6decca",
      "metadata": {
        "id": "2d6decca"
      },
      "outputs": [],
      "source": [
        "# You may need the list of names\n",
        "#!wget -O 'AAL_names.txt' https://www.dropbox.com/s/5fkp3s5suyibe57/AAL_names.txt?dl=0"
      ]
    },
    {
      "cell_type": "code",
      "execution_count": 12,
      "id": "541505a2",
      "metadata": {
        "colab": {
          "base_uri": "https://localhost:8080/"
        },
        "id": "541505a2",
        "outputId": "6c5200d3-c970-45fd-c286-6c74a212e507"
      },
      "outputs": [
        {
          "output_type": "execute_result",
          "data": {
            "text/plain": [
              "116"
            ]
          },
          "metadata": {},
          "execution_count": 12
        }
      ],
      "source": [
        "open_file = open('/content/drive/MyDrive/GUDHI-tda-tutorials-mapper/AAL_names.txt', \"rb\")\n",
        "loaded_AAL_names = pickle.load(open_file)\n",
        "open_file.close()\n",
        "len(loaded_AAL_names)"
      ]
    },
    {
      "cell_type": "code",
      "source": [
        "#loaded_AAL_names"
      ],
      "metadata": {
        "id": "AgsnyXsw-brB"
      },
      "id": "AgsnyXsw-brB",
      "execution_count": 13,
      "outputs": []
    },
    {
      "cell_type": "markdown",
      "id": "6d2f0e24",
      "metadata": {
        "id": "6d2f0e24"
      },
      "source": [
        "# 2. Preprocessing Data"
      ]
    },
    {
      "cell_type": "markdown",
      "id": "ecaaf4b5",
      "metadata": {
        "id": "ecaaf4b5"
      },
      "source": [
        "### 2.1 Match ID's with target values:"
      ]
    },
    {
      "cell_type": "markdown",
      "id": "54bb4fd1",
      "metadata": {
        "id": "54bb4fd1"
      },
      "source": [
        "We do mathing the patient IDs with the target values here. The 'Subject' column in both datasets represent the IDs."
      ]
    },
    {
      "cell_type": "code",
      "execution_count": 14,
      "id": "ec4c17a6",
      "metadata": {
        "id": "ec4c17a6"
      },
      "outputs": [],
      "source": [
        "df_targets = df_struct.copy()"
      ]
    },
    {
      "cell_type": "code",
      "execution_count": 15,
      "id": "f5042e2b",
      "metadata": {
        "id": "f5042e2b"
      },
      "outputs": [],
      "source": [
        "df_targets = df_struct.copy()\n",
        "\n",
        "for i in range(len(df_targets)):\n",
        "    \n",
        "    flag=0\n",
        "    \n",
        "    for j in range(len(DTI_IDs)):\n",
        "        if int(DTI_IDs['Subject'][j])== df_targets['Subject'][i]:\n",
        "            flag = 1\n",
        "        \n",
        "    if flag==0:\n",
        "        df_targets = df_targets.drop([i])\n",
        "        "
      ]
    },
    {
      "cell_type": "code",
      "execution_count": 16,
      "id": "ffab492f",
      "metadata": {
        "colab": {
          "base_uri": "https://localhost:8080/"
        },
        "id": "ffab492f",
        "outputId": "4652e258-3564-4503-dc4f-e0dbb5bb9272"
      },
      "outputs": [
        {
          "output_type": "execute_result",
          "data": {
            "text/plain": [
              "(998, 583)"
            ]
          },
          "metadata": {},
          "execution_count": 16
        }
      ],
      "source": [
        "df_targets.shape"
      ]
    },
    {
      "cell_type": "markdown",
      "id": "33aa34cb",
      "metadata": {
        "id": "33aa34cb"
      },
      "source": [
        "### 2.2 Take tranpose to make matrices symmetric"
      ]
    },
    {
      "cell_type": "markdown",
      "id": "ecf6f7bf",
      "metadata": {
        "id": "ecf6f7bf"
      },
      "source": [
        "Our connectivity matrices are not symmetric. The DTI_ab matrix measures the amount of fibers from a to b and DTI_ba from b to a, which may differ. Simply, we have a directed graph, and weights are in two opposite dimension. We need to make the matrice symmetric:"
      ]
    },
    {
      "cell_type": "code",
      "execution_count": 17,
      "id": "005954a5",
      "metadata": {
        "id": "005954a5"
      },
      "outputs": [],
      "source": [
        "DTI_sym = loaded_DTI.copy()"
      ]
    },
    {
      "cell_type": "code",
      "source": [
        "loaded_DTI[0]"
      ],
      "metadata": {
        "colab": {
          "base_uri": "https://localhost:8080/",
          "height": 0
        },
        "id": "P3rM_ASm_TSj",
        "outputId": "83f98443-3b75-4e5f-aef0-6fee3226ecde"
      },
      "id": "P3rM_ASm_TSj",
      "execution_count": 18,
      "outputs": [
        {
          "output_type": "execute_result",
          "data": {
            "text/plain": [
              "                   Precentral_L  Precentral_R  Frontal_Sup_L  Frontal_Sup_R  \\\n",
              "data.1                                                                        \n",
              "Precentral_L           0.000000      0.111284       0.244940       0.036833   \n",
              "Precentral_R           0.058161      0.000000       0.024979       0.077539   \n",
              "Frontal_Sup_L          0.638208      0.124529       0.000000       0.278553   \n",
              "Frontal_Sup_R          0.077435      0.311908       0.224755       0.000000   \n",
              "Frontal_Sup_Orb_L      0.000000      0.000000       0.031933       0.002034   \n",
              "...                         ...           ...            ...            ...   \n",
              "Vermis_6               0.000000      0.000000       0.000000       0.000000   \n",
              "Vermis_7               0.000000      0.000000       0.000000       0.000000   \n",
              "Vermis_8               0.000000      0.000000       0.000000       0.000000   \n",
              "Vermis_9               0.000000      0.000000       0.000000       0.000000   \n",
              "Vermis_10              0.000000      0.000000       0.000000       0.000000   \n",
              "\n",
              "                   Frontal_Sup_Orb_L  Frontal_Sup_Orb_R  Frontal_Mid_L  \\\n",
              "data.1                                                                   \n",
              "Precentral_L                0.000000           0.000000       0.316256   \n",
              "Precentral_R                0.000000           0.000000       0.003282   \n",
              "Frontal_Sup_L               0.276687           0.012743       1.000000   \n",
              "Frontal_Sup_R               0.014218           1.000000       0.040737   \n",
              "Frontal_Sup_Orb_L           0.000000           0.000000       0.002370   \n",
              "...                              ...                ...            ...   \n",
              "Vermis_6                    0.000000           0.000000       0.000000   \n",
              "Vermis_7                    0.000000           0.000000       0.000000   \n",
              "Vermis_8                    0.000000           0.000000       0.000000   \n",
              "Vermis_9                    0.000000           0.000000       0.000000   \n",
              "Vermis_10                   0.000000           0.000000       0.000000   \n",
              "\n",
              "                   Frontal_Mid_R  Frontal_Mid_Orb_L  Frontal_Mid_Orb_R  ...  \\\n",
              "data.1                                                                  ...   \n",
              "Precentral_L            0.031119           0.000000           0.037296  ...   \n",
              "Precentral_R            0.193988           0.000000           0.000000  ...   \n",
              "Frontal_Sup_L           0.275736           0.078628           0.029371  ...   \n",
              "Frontal_Sup_R           1.000000           0.024073           0.350583  ...   \n",
              "Frontal_Sup_Orb_L       0.000000           0.542085           0.000000  ...   \n",
              "...                          ...                ...                ...  ...   \n",
              "Vermis_6                0.000000           0.000000           0.000000  ...   \n",
              "Vermis_7                0.000000           0.000000           0.000000  ...   \n",
              "Vermis_8                0.000000           0.000000           0.000000  ...   \n",
              "Vermis_9                0.000000           0.000000           0.000000  ...   \n",
              "Vermis_10               0.000000           0.000000           0.000000  ...   \n",
              "\n",
              "                   Cerebelum_10_L  Cerebelum_10_R  Vermis_1_2  Vermis_3  \\\n",
              "data.1                                                                    \n",
              "Precentral_L             0.000000        0.000000    0.000000  0.000000   \n",
              "Precentral_R             0.000000        0.000000    0.000000  0.000000   \n",
              "Frontal_Sup_L            0.000000        0.000000    0.000000  0.000000   \n",
              "Frontal_Sup_R            0.000000        0.000000    0.000000  0.000000   \n",
              "Frontal_Sup_Orb_L        0.000000        0.000000    0.000000  0.000000   \n",
              "...                           ...             ...         ...       ...   \n",
              "Vermis_6                 0.000000        0.000000    0.031301  0.237843   \n",
              "Vermis_7                 0.043103        0.232500    0.000000  0.446245   \n",
              "Vermis_8                 0.040640        0.415833    0.000000  0.473040   \n",
              "Vermis_9                 0.057061        0.476667    0.000000  0.401919   \n",
              "Vermis_10                0.000000        0.000000    0.000000  0.151836   \n",
              "\n",
              "                   Vermis_4_5  Vermis_6  Vermis_7  Vermis_8  Vermis_9  \\\n",
              "data.1                                                                  \n",
              "Precentral_L         0.000000  0.000000  0.000000  0.000000  0.000000   \n",
              "Precentral_R         0.000000  0.000000  0.000000  0.000000  0.000000   \n",
              "Frontal_Sup_L        0.000000  0.000000  0.000000  0.000000  0.000000   \n",
              "Frontal_Sup_R        0.000000  0.000000  0.000000  0.000000  0.000000   \n",
              "Frontal_Sup_Orb_L    0.000000  0.000000  0.000000  0.000000  0.000000   \n",
              "...                       ...       ...       ...       ...       ...   \n",
              "Vermis_6             0.366248  0.000000  0.432853  0.124460  0.226047   \n",
              "Vermis_7             0.076638  0.506090  0.000000  0.855930  0.774257   \n",
              "Vermis_8             0.080923  0.134490  0.791066  0.000000  0.986443   \n",
              "Vermis_9             0.094849  0.247622  0.725417  1.000000  0.000000   \n",
              "Vermis_10            0.165157  0.370098  0.065506  0.092187  0.189033   \n",
              "\n",
              "                   Vermis_10  \n",
              "data.1                        \n",
              "Precentral_L        0.000000  \n",
              "Precentral_R        0.000000  \n",
              "Frontal_Sup_L       0.000000  \n",
              "Frontal_Sup_R       0.000000  \n",
              "Frontal_Sup_Orb_L   0.000000  \n",
              "...                      ...  \n",
              "Vermis_6            1.000000  \n",
              "Vermis_7            0.206943  \n",
              "Vermis_8            0.269161  \n",
              "Vermis_9            0.559513  \n",
              "Vermis_10           0.000000  \n",
              "\n",
              "[116 rows x 116 columns]"
            ],
            "text/html": [
              "\n",
              "  <div id=\"df-ee689753-0a21-4627-b280-ccfea9243d7a\">\n",
              "    <div class=\"colab-df-container\">\n",
              "      <div>\n",
              "<style scoped>\n",
              "    .dataframe tbody tr th:only-of-type {\n",
              "        vertical-align: middle;\n",
              "    }\n",
              "\n",
              "    .dataframe tbody tr th {\n",
              "        vertical-align: top;\n",
              "    }\n",
              "\n",
              "    .dataframe thead th {\n",
              "        text-align: right;\n",
              "    }\n",
              "</style>\n",
              "<table border=\"1\" class=\"dataframe\">\n",
              "  <thead>\n",
              "    <tr style=\"text-align: right;\">\n",
              "      <th></th>\n",
              "      <th>Precentral_L</th>\n",
              "      <th>Precentral_R</th>\n",
              "      <th>Frontal_Sup_L</th>\n",
              "      <th>Frontal_Sup_R</th>\n",
              "      <th>Frontal_Sup_Orb_L</th>\n",
              "      <th>Frontal_Sup_Orb_R</th>\n",
              "      <th>Frontal_Mid_L</th>\n",
              "      <th>Frontal_Mid_R</th>\n",
              "      <th>Frontal_Mid_Orb_L</th>\n",
              "      <th>Frontal_Mid_Orb_R</th>\n",
              "      <th>...</th>\n",
              "      <th>Cerebelum_10_L</th>\n",
              "      <th>Cerebelum_10_R</th>\n",
              "      <th>Vermis_1_2</th>\n",
              "      <th>Vermis_3</th>\n",
              "      <th>Vermis_4_5</th>\n",
              "      <th>Vermis_6</th>\n",
              "      <th>Vermis_7</th>\n",
              "      <th>Vermis_8</th>\n",
              "      <th>Vermis_9</th>\n",
              "      <th>Vermis_10</th>\n",
              "    </tr>\n",
              "    <tr>\n",
              "      <th>data.1</th>\n",
              "      <th></th>\n",
              "      <th></th>\n",
              "      <th></th>\n",
              "      <th></th>\n",
              "      <th></th>\n",
              "      <th></th>\n",
              "      <th></th>\n",
              "      <th></th>\n",
              "      <th></th>\n",
              "      <th></th>\n",
              "      <th></th>\n",
              "      <th></th>\n",
              "      <th></th>\n",
              "      <th></th>\n",
              "      <th></th>\n",
              "      <th></th>\n",
              "      <th></th>\n",
              "      <th></th>\n",
              "      <th></th>\n",
              "      <th></th>\n",
              "      <th></th>\n",
              "    </tr>\n",
              "  </thead>\n",
              "  <tbody>\n",
              "    <tr>\n",
              "      <th>Precentral_L</th>\n",
              "      <td>0.000000</td>\n",
              "      <td>0.111284</td>\n",
              "      <td>0.244940</td>\n",
              "      <td>0.036833</td>\n",
              "      <td>0.000000</td>\n",
              "      <td>0.000000</td>\n",
              "      <td>0.316256</td>\n",
              "      <td>0.031119</td>\n",
              "      <td>0.000000</td>\n",
              "      <td>0.037296</td>\n",
              "      <td>...</td>\n",
              "      <td>0.000000</td>\n",
              "      <td>0.000000</td>\n",
              "      <td>0.000000</td>\n",
              "      <td>0.000000</td>\n",
              "      <td>0.000000</td>\n",
              "      <td>0.000000</td>\n",
              "      <td>0.000000</td>\n",
              "      <td>0.000000</td>\n",
              "      <td>0.000000</td>\n",
              "      <td>0.000000</td>\n",
              "    </tr>\n",
              "    <tr>\n",
              "      <th>Precentral_R</th>\n",
              "      <td>0.058161</td>\n",
              "      <td>0.000000</td>\n",
              "      <td>0.024979</td>\n",
              "      <td>0.077539</td>\n",
              "      <td>0.000000</td>\n",
              "      <td>0.000000</td>\n",
              "      <td>0.003282</td>\n",
              "      <td>0.193988</td>\n",
              "      <td>0.000000</td>\n",
              "      <td>0.000000</td>\n",
              "      <td>...</td>\n",
              "      <td>0.000000</td>\n",
              "      <td>0.000000</td>\n",
              "      <td>0.000000</td>\n",
              "      <td>0.000000</td>\n",
              "      <td>0.000000</td>\n",
              "      <td>0.000000</td>\n",
              "      <td>0.000000</td>\n",
              "      <td>0.000000</td>\n",
              "      <td>0.000000</td>\n",
              "      <td>0.000000</td>\n",
              "    </tr>\n",
              "    <tr>\n",
              "      <th>Frontal_Sup_L</th>\n",
              "      <td>0.638208</td>\n",
              "      <td>0.124529</td>\n",
              "      <td>0.000000</td>\n",
              "      <td>0.278553</td>\n",
              "      <td>0.276687</td>\n",
              "      <td>0.012743</td>\n",
              "      <td>1.000000</td>\n",
              "      <td>0.275736</td>\n",
              "      <td>0.078628</td>\n",
              "      <td>0.029371</td>\n",
              "      <td>...</td>\n",
              "      <td>0.000000</td>\n",
              "      <td>0.000000</td>\n",
              "      <td>0.000000</td>\n",
              "      <td>0.000000</td>\n",
              "      <td>0.000000</td>\n",
              "      <td>0.000000</td>\n",
              "      <td>0.000000</td>\n",
              "      <td>0.000000</td>\n",
              "      <td>0.000000</td>\n",
              "      <td>0.000000</td>\n",
              "    </tr>\n",
              "    <tr>\n",
              "      <th>Frontal_Sup_R</th>\n",
              "      <td>0.077435</td>\n",
              "      <td>0.311908</td>\n",
              "      <td>0.224755</td>\n",
              "      <td>0.000000</td>\n",
              "      <td>0.014218</td>\n",
              "      <td>1.000000</td>\n",
              "      <td>0.040737</td>\n",
              "      <td>1.000000</td>\n",
              "      <td>0.024073</td>\n",
              "      <td>0.350583</td>\n",
              "      <td>...</td>\n",
              "      <td>0.000000</td>\n",
              "      <td>0.000000</td>\n",
              "      <td>0.000000</td>\n",
              "      <td>0.000000</td>\n",
              "      <td>0.000000</td>\n",
              "      <td>0.000000</td>\n",
              "      <td>0.000000</td>\n",
              "      <td>0.000000</td>\n",
              "      <td>0.000000</td>\n",
              "      <td>0.000000</td>\n",
              "    </tr>\n",
              "    <tr>\n",
              "      <th>Frontal_Sup_Orb_L</th>\n",
              "      <td>0.000000</td>\n",
              "      <td>0.000000</td>\n",
              "      <td>0.031933</td>\n",
              "      <td>0.002034</td>\n",
              "      <td>0.000000</td>\n",
              "      <td>0.000000</td>\n",
              "      <td>0.002370</td>\n",
              "      <td>0.000000</td>\n",
              "      <td>0.542085</td>\n",
              "      <td>0.000000</td>\n",
              "      <td>...</td>\n",
              "      <td>0.000000</td>\n",
              "      <td>0.000000</td>\n",
              "      <td>0.000000</td>\n",
              "      <td>0.000000</td>\n",
              "      <td>0.000000</td>\n",
              "      <td>0.000000</td>\n",
              "      <td>0.000000</td>\n",
              "      <td>0.000000</td>\n",
              "      <td>0.000000</td>\n",
              "      <td>0.000000</td>\n",
              "    </tr>\n",
              "    <tr>\n",
              "      <th>...</th>\n",
              "      <td>...</td>\n",
              "      <td>...</td>\n",
              "      <td>...</td>\n",
              "      <td>...</td>\n",
              "      <td>...</td>\n",
              "      <td>...</td>\n",
              "      <td>...</td>\n",
              "      <td>...</td>\n",
              "      <td>...</td>\n",
              "      <td>...</td>\n",
              "      <td>...</td>\n",
              "      <td>...</td>\n",
              "      <td>...</td>\n",
              "      <td>...</td>\n",
              "      <td>...</td>\n",
              "      <td>...</td>\n",
              "      <td>...</td>\n",
              "      <td>...</td>\n",
              "      <td>...</td>\n",
              "      <td>...</td>\n",
              "      <td>...</td>\n",
              "    </tr>\n",
              "    <tr>\n",
              "      <th>Vermis_6</th>\n",
              "      <td>0.000000</td>\n",
              "      <td>0.000000</td>\n",
              "      <td>0.000000</td>\n",
              "      <td>0.000000</td>\n",
              "      <td>0.000000</td>\n",
              "      <td>0.000000</td>\n",
              "      <td>0.000000</td>\n",
              "      <td>0.000000</td>\n",
              "      <td>0.000000</td>\n",
              "      <td>0.000000</td>\n",
              "      <td>...</td>\n",
              "      <td>0.000000</td>\n",
              "      <td>0.000000</td>\n",
              "      <td>0.031301</td>\n",
              "      <td>0.237843</td>\n",
              "      <td>0.366248</td>\n",
              "      <td>0.000000</td>\n",
              "      <td>0.432853</td>\n",
              "      <td>0.124460</td>\n",
              "      <td>0.226047</td>\n",
              "      <td>1.000000</td>\n",
              "    </tr>\n",
              "    <tr>\n",
              "      <th>Vermis_7</th>\n",
              "      <td>0.000000</td>\n",
              "      <td>0.000000</td>\n",
              "      <td>0.000000</td>\n",
              "      <td>0.000000</td>\n",
              "      <td>0.000000</td>\n",
              "      <td>0.000000</td>\n",
              "      <td>0.000000</td>\n",
              "      <td>0.000000</td>\n",
              "      <td>0.000000</td>\n",
              "      <td>0.000000</td>\n",
              "      <td>...</td>\n",
              "      <td>0.043103</td>\n",
              "      <td>0.232500</td>\n",
              "      <td>0.000000</td>\n",
              "      <td>0.446245</td>\n",
              "      <td>0.076638</td>\n",
              "      <td>0.506090</td>\n",
              "      <td>0.000000</td>\n",
              "      <td>0.855930</td>\n",
              "      <td>0.774257</td>\n",
              "      <td>0.206943</td>\n",
              "    </tr>\n",
              "    <tr>\n",
              "      <th>Vermis_8</th>\n",
              "      <td>0.000000</td>\n",
              "      <td>0.000000</td>\n",
              "      <td>0.000000</td>\n",
              "      <td>0.000000</td>\n",
              "      <td>0.000000</td>\n",
              "      <td>0.000000</td>\n",
              "      <td>0.000000</td>\n",
              "      <td>0.000000</td>\n",
              "      <td>0.000000</td>\n",
              "      <td>0.000000</td>\n",
              "      <td>...</td>\n",
              "      <td>0.040640</td>\n",
              "      <td>0.415833</td>\n",
              "      <td>0.000000</td>\n",
              "      <td>0.473040</td>\n",
              "      <td>0.080923</td>\n",
              "      <td>0.134490</td>\n",
              "      <td>0.791066</td>\n",
              "      <td>0.000000</td>\n",
              "      <td>0.986443</td>\n",
              "      <td>0.269161</td>\n",
              "    </tr>\n",
              "    <tr>\n",
              "      <th>Vermis_9</th>\n",
              "      <td>0.000000</td>\n",
              "      <td>0.000000</td>\n",
              "      <td>0.000000</td>\n",
              "      <td>0.000000</td>\n",
              "      <td>0.000000</td>\n",
              "      <td>0.000000</td>\n",
              "      <td>0.000000</td>\n",
              "      <td>0.000000</td>\n",
              "      <td>0.000000</td>\n",
              "      <td>0.000000</td>\n",
              "      <td>...</td>\n",
              "      <td>0.057061</td>\n",
              "      <td>0.476667</td>\n",
              "      <td>0.000000</td>\n",
              "      <td>0.401919</td>\n",
              "      <td>0.094849</td>\n",
              "      <td>0.247622</td>\n",
              "      <td>0.725417</td>\n",
              "      <td>1.000000</td>\n",
              "      <td>0.000000</td>\n",
              "      <td>0.559513</td>\n",
              "    </tr>\n",
              "    <tr>\n",
              "      <th>Vermis_10</th>\n",
              "      <td>0.000000</td>\n",
              "      <td>0.000000</td>\n",
              "      <td>0.000000</td>\n",
              "      <td>0.000000</td>\n",
              "      <td>0.000000</td>\n",
              "      <td>0.000000</td>\n",
              "      <td>0.000000</td>\n",
              "      <td>0.000000</td>\n",
              "      <td>0.000000</td>\n",
              "      <td>0.000000</td>\n",
              "      <td>...</td>\n",
              "      <td>0.000000</td>\n",
              "      <td>0.000000</td>\n",
              "      <td>0.000000</td>\n",
              "      <td>0.151836</td>\n",
              "      <td>0.165157</td>\n",
              "      <td>0.370098</td>\n",
              "      <td>0.065506</td>\n",
              "      <td>0.092187</td>\n",
              "      <td>0.189033</td>\n",
              "      <td>0.000000</td>\n",
              "    </tr>\n",
              "  </tbody>\n",
              "</table>\n",
              "<p>116 rows × 116 columns</p>\n",
              "</div>\n",
              "      <button class=\"colab-df-convert\" onclick=\"convertToInteractive('df-ee689753-0a21-4627-b280-ccfea9243d7a')\"\n",
              "              title=\"Convert this dataframe to an interactive table.\"\n",
              "              style=\"display:none;\">\n",
              "        \n",
              "  <svg xmlns=\"http://www.w3.org/2000/svg\" height=\"24px\"viewBox=\"0 0 24 24\"\n",
              "       width=\"24px\">\n",
              "    <path d=\"M0 0h24v24H0V0z\" fill=\"none\"/>\n",
              "    <path d=\"M18.56 5.44l.94 2.06.94-2.06 2.06-.94-2.06-.94-.94-2.06-.94 2.06-2.06.94zm-11 1L8.5 8.5l.94-2.06 2.06-.94-2.06-.94L8.5 2.5l-.94 2.06-2.06.94zm10 10l.94 2.06.94-2.06 2.06-.94-2.06-.94-.94-2.06-.94 2.06-2.06.94z\"/><path d=\"M17.41 7.96l-1.37-1.37c-.4-.4-.92-.59-1.43-.59-.52 0-1.04.2-1.43.59L10.3 9.45l-7.72 7.72c-.78.78-.78 2.05 0 2.83L4 21.41c.39.39.9.59 1.41.59.51 0 1.02-.2 1.41-.59l7.78-7.78 2.81-2.81c.8-.78.8-2.07 0-2.86zM5.41 20L4 18.59l7.72-7.72 1.47 1.35L5.41 20z\"/>\n",
              "  </svg>\n",
              "      </button>\n",
              "      \n",
              "  <style>\n",
              "    .colab-df-container {\n",
              "      display:flex;\n",
              "      flex-wrap:wrap;\n",
              "      gap: 12px;\n",
              "    }\n",
              "\n",
              "    .colab-df-convert {\n",
              "      background-color: #E8F0FE;\n",
              "      border: none;\n",
              "      border-radius: 50%;\n",
              "      cursor: pointer;\n",
              "      display: none;\n",
              "      fill: #1967D2;\n",
              "      height: 32px;\n",
              "      padding: 0 0 0 0;\n",
              "      width: 32px;\n",
              "    }\n",
              "\n",
              "    .colab-df-convert:hover {\n",
              "      background-color: #E2EBFA;\n",
              "      box-shadow: 0px 1px 2px rgba(60, 64, 67, 0.3), 0px 1px 3px 1px rgba(60, 64, 67, 0.15);\n",
              "      fill: #174EA6;\n",
              "    }\n",
              "\n",
              "    [theme=dark] .colab-df-convert {\n",
              "      background-color: #3B4455;\n",
              "      fill: #D2E3FC;\n",
              "    }\n",
              "\n",
              "    [theme=dark] .colab-df-convert:hover {\n",
              "      background-color: #434B5C;\n",
              "      box-shadow: 0px 1px 3px 1px rgba(0, 0, 0, 0.15);\n",
              "      filter: drop-shadow(0px 1px 2px rgba(0, 0, 0, 0.3));\n",
              "      fill: #FFFFFF;\n",
              "    }\n",
              "  </style>\n",
              "\n",
              "      <script>\n",
              "        const buttonEl =\n",
              "          document.querySelector('#df-ee689753-0a21-4627-b280-ccfea9243d7a button.colab-df-convert');\n",
              "        buttonEl.style.display =\n",
              "          google.colab.kernel.accessAllowed ? 'block' : 'none';\n",
              "\n",
              "        async function convertToInteractive(key) {\n",
              "          const element = document.querySelector('#df-ee689753-0a21-4627-b280-ccfea9243d7a');\n",
              "          const dataTable =\n",
              "            await google.colab.kernel.invokeFunction('convertToInteractive',\n",
              "                                                     [key], {});\n",
              "          if (!dataTable) return;\n",
              "\n",
              "          const docLinkHtml = 'Like what you see? Visit the ' +\n",
              "            '<a target=\"_blank\" href=https://colab.research.google.com/notebooks/data_table.ipynb>data table notebook</a>'\n",
              "            + ' to learn more about interactive tables.';\n",
              "          element.innerHTML = '';\n",
              "          dataTable['output_type'] = 'display_data';\n",
              "          await google.colab.output.renderOutput(dataTable, element);\n",
              "          const docLink = document.createElement('div');\n",
              "          docLink.innerHTML = docLinkHtml;\n",
              "          element.appendChild(docLink);\n",
              "        }\n",
              "      </script>\n",
              "    </div>\n",
              "  </div>\n",
              "  "
            ]
          },
          "metadata": {},
          "execution_count": 18
        }
      ]
    },
    {
      "cell_type": "code",
      "execution_count": 19,
      "id": "2502ff86",
      "metadata": {
        "colab": {
          "base_uri": "https://localhost:8080/",
          "height": 0
        },
        "id": "2502ff86",
        "outputId": "c66edced-da7a-4352-9666-de35bba0fc0d"
      },
      "outputs": [
        {
          "output_type": "execute_result",
          "data": {
            "text/plain": [
              "                   Precentral_L  Precentral_R  Frontal_Sup_L  Frontal_Sup_R  \\\n",
              "data.1                                                                        \n",
              "Precentral_L           0.000000      0.084723       0.441574       0.057134   \n",
              "Precentral_R           0.084723      0.000000       0.074754       0.194723   \n",
              "Frontal_Sup_L          0.441574      0.074754       0.000000       0.251654   \n",
              "Frontal_Sup_R          0.057134      0.194723       0.251654       0.000000   \n",
              "Frontal_Sup_Orb_L      0.000000      0.000000       0.154310       0.008126   \n",
              "...                         ...           ...            ...            ...   \n",
              "Vermis_6               0.000000      0.000000       0.000000       0.000000   \n",
              "Vermis_7               0.000000      0.000000       0.000000       0.000000   \n",
              "Vermis_8               0.000000      0.000000       0.000000       0.000000   \n",
              "Vermis_9               0.000000      0.000000       0.000000       0.000000   \n",
              "Vermis_10              0.000000      0.000000       0.000000       0.000000   \n",
              "\n",
              "                   Frontal_Sup_Orb_L  Frontal_Sup_Orb_R  Frontal_Mid_L  \\\n",
              "data.1                                                                   \n",
              "Precentral_L                0.000000           0.000000       0.570140   \n",
              "Precentral_R                0.000000           0.000000       0.009822   \n",
              "Frontal_Sup_L               0.154310           0.007062       1.000000   \n",
              "Frontal_Sup_R               0.008126           0.567128       0.045612   \n",
              "Frontal_Sup_Orb_L           0.000000           0.000000       0.011454   \n",
              "...                              ...                ...            ...   \n",
              "Vermis_6                    0.000000           0.000000       0.000000   \n",
              "Vermis_7                    0.000000           0.000000       0.000000   \n",
              "Vermis_8                    0.000000           0.000000       0.000000   \n",
              "Vermis_9                    0.000000           0.000000       0.000000   \n",
              "Vermis_10                   0.000000           0.000000       0.000000   \n",
              "\n",
              "                   Frontal_Mid_R  Frontal_Mid_Orb_L  Frontal_Mid_Orb_R  ...  \\\n",
              "data.1                                                                  ...   \n",
              "Precentral_L            0.037480           0.000000           0.021363  ...   \n",
              "Precentral_R            0.358454           0.000000           0.000000  ...   \n",
              "Frontal_Sup_L           0.212413           0.045227           0.015506  ...   \n",
              "Frontal_Sup_R           0.835060           0.014280           0.187429  ...   \n",
              "Frontal_Sup_Orb_L       0.000000           0.624236           0.000000  ...   \n",
              "...                          ...                ...                ...  ...   \n",
              "Vermis_6                0.000000           0.000000           0.000000  ...   \n",
              "Vermis_7                0.000000           0.000000           0.000000  ...   \n",
              "Vermis_8                0.000000           0.000000           0.000000  ...   \n",
              "Vermis_9                0.000000           0.000000           0.000000  ...   \n",
              "Vermis_10               0.000000           0.000000           0.000000  ...   \n",
              "\n",
              "                   Cerebelum_10_L  Cerebelum_10_R  Vermis_1_2  Vermis_3  \\\n",
              "data.1                                                                    \n",
              "Precentral_L             0.000000        0.000000    0.000000  0.000000   \n",
              "Precentral_R             0.000000        0.000000    0.000000  0.000000   \n",
              "Frontal_Sup_L            0.000000        0.000000    0.000000  0.000000   \n",
              "Frontal_Sup_R            0.000000        0.000000    0.000000  0.000000   \n",
              "Frontal_Sup_Orb_L        0.000000        0.000000    0.000000  0.000000   \n",
              "...                           ...             ...         ...       ...   \n",
              "Vermis_6                 0.000000        0.000000    0.020406  0.178908   \n",
              "Vermis_7                 0.029044        0.136159    0.000000  0.319384   \n",
              "Vermis_8                 0.027964        0.246444    0.000000  0.346928   \n",
              "Vermis_9                 0.039117        0.281898    0.000000  0.293495   \n",
              "Vermis_10                0.000000        0.000000    0.000000  0.179390   \n",
              "\n",
              "                   Vermis_4_5  Vermis_6  Vermis_7  Vermis_8  Vermis_9  \\\n",
              "data.1                                                                  \n",
              "Precentral_L         0.000000  0.000000  0.000000  0.000000  0.000000   \n",
              "Precentral_R         0.000000  0.000000  0.000000  0.000000  0.000000   \n",
              "Frontal_Sup_L        0.000000  0.000000  0.000000  0.000000  0.000000   \n",
              "Frontal_Sup_R        0.000000  0.000000  0.000000  0.000000  0.000000   \n",
              "Frontal_Sup_Orb_L    0.000000  0.000000  0.000000  0.000000  0.000000   \n",
              "...                       ...       ...       ...       ...       ...   \n",
              "Vermis_6             0.496907  0.000000  0.469472  0.129475  0.236835   \n",
              "Vermis_7             0.094477  0.469472  0.000000  0.823498  0.749837   \n",
              "Vermis_8             0.104622  0.129475  0.823498  0.000000  0.993222   \n",
              "Vermis_9             0.121606  0.236835  0.749837  0.993222  0.000000   \n",
              "Vermis_10            0.464905  0.685049  0.136225  0.180674  0.374273   \n",
              "\n",
              "                   Vermis_10  \n",
              "data.1                        \n",
              "Precentral_L        0.000000  \n",
              "Precentral_R        0.000000  \n",
              "Frontal_Sup_L       0.000000  \n",
              "Frontal_Sup_R       0.000000  \n",
              "Frontal_Sup_Orb_L   0.000000  \n",
              "...                      ...  \n",
              "Vermis_6            0.685049  \n",
              "Vermis_7            0.136225  \n",
              "Vermis_8            0.180674  \n",
              "Vermis_9            0.374273  \n",
              "Vermis_10           0.000000  \n",
              "\n",
              "[116 rows x 116 columns]"
            ],
            "text/html": [
              "\n",
              "  <div id=\"df-3305e350-75bb-43f2-ab63-d394ae8c6cfb\">\n",
              "    <div class=\"colab-df-container\">\n",
              "      <div>\n",
              "<style scoped>\n",
              "    .dataframe tbody tr th:only-of-type {\n",
              "        vertical-align: middle;\n",
              "    }\n",
              "\n",
              "    .dataframe tbody tr th {\n",
              "        vertical-align: top;\n",
              "    }\n",
              "\n",
              "    .dataframe thead th {\n",
              "        text-align: right;\n",
              "    }\n",
              "</style>\n",
              "<table border=\"1\" class=\"dataframe\">\n",
              "  <thead>\n",
              "    <tr style=\"text-align: right;\">\n",
              "      <th></th>\n",
              "      <th>Precentral_L</th>\n",
              "      <th>Precentral_R</th>\n",
              "      <th>Frontal_Sup_L</th>\n",
              "      <th>Frontal_Sup_R</th>\n",
              "      <th>Frontal_Sup_Orb_L</th>\n",
              "      <th>Frontal_Sup_Orb_R</th>\n",
              "      <th>Frontal_Mid_L</th>\n",
              "      <th>Frontal_Mid_R</th>\n",
              "      <th>Frontal_Mid_Orb_L</th>\n",
              "      <th>Frontal_Mid_Orb_R</th>\n",
              "      <th>...</th>\n",
              "      <th>Cerebelum_10_L</th>\n",
              "      <th>Cerebelum_10_R</th>\n",
              "      <th>Vermis_1_2</th>\n",
              "      <th>Vermis_3</th>\n",
              "      <th>Vermis_4_5</th>\n",
              "      <th>Vermis_6</th>\n",
              "      <th>Vermis_7</th>\n",
              "      <th>Vermis_8</th>\n",
              "      <th>Vermis_9</th>\n",
              "      <th>Vermis_10</th>\n",
              "    </tr>\n",
              "    <tr>\n",
              "      <th>data.1</th>\n",
              "      <th></th>\n",
              "      <th></th>\n",
              "      <th></th>\n",
              "      <th></th>\n",
              "      <th></th>\n",
              "      <th></th>\n",
              "      <th></th>\n",
              "      <th></th>\n",
              "      <th></th>\n",
              "      <th></th>\n",
              "      <th></th>\n",
              "      <th></th>\n",
              "      <th></th>\n",
              "      <th></th>\n",
              "      <th></th>\n",
              "      <th></th>\n",
              "      <th></th>\n",
              "      <th></th>\n",
              "      <th></th>\n",
              "      <th></th>\n",
              "      <th></th>\n",
              "    </tr>\n",
              "  </thead>\n",
              "  <tbody>\n",
              "    <tr>\n",
              "      <th>Precentral_L</th>\n",
              "      <td>0.000000</td>\n",
              "      <td>0.084723</td>\n",
              "      <td>0.441574</td>\n",
              "      <td>0.057134</td>\n",
              "      <td>0.000000</td>\n",
              "      <td>0.000000</td>\n",
              "      <td>0.570140</td>\n",
              "      <td>0.037480</td>\n",
              "      <td>0.000000</td>\n",
              "      <td>0.021363</td>\n",
              "      <td>...</td>\n",
              "      <td>0.000000</td>\n",
              "      <td>0.000000</td>\n",
              "      <td>0.000000</td>\n",
              "      <td>0.000000</td>\n",
              "      <td>0.000000</td>\n",
              "      <td>0.000000</td>\n",
              "      <td>0.000000</td>\n",
              "      <td>0.000000</td>\n",
              "      <td>0.000000</td>\n",
              "      <td>0.000000</td>\n",
              "    </tr>\n",
              "    <tr>\n",
              "      <th>Precentral_R</th>\n",
              "      <td>0.084723</td>\n",
              "      <td>0.000000</td>\n",
              "      <td>0.074754</td>\n",
              "      <td>0.194723</td>\n",
              "      <td>0.000000</td>\n",
              "      <td>0.000000</td>\n",
              "      <td>0.009822</td>\n",
              "      <td>0.358454</td>\n",
              "      <td>0.000000</td>\n",
              "      <td>0.000000</td>\n",
              "      <td>...</td>\n",
              "      <td>0.000000</td>\n",
              "      <td>0.000000</td>\n",
              "      <td>0.000000</td>\n",
              "      <td>0.000000</td>\n",
              "      <td>0.000000</td>\n",
              "      <td>0.000000</td>\n",
              "      <td>0.000000</td>\n",
              "      <td>0.000000</td>\n",
              "      <td>0.000000</td>\n",
              "      <td>0.000000</td>\n",
              "    </tr>\n",
              "    <tr>\n",
              "      <th>Frontal_Sup_L</th>\n",
              "      <td>0.441574</td>\n",
              "      <td>0.074754</td>\n",
              "      <td>0.000000</td>\n",
              "      <td>0.251654</td>\n",
              "      <td>0.154310</td>\n",
              "      <td>0.007062</td>\n",
              "      <td>1.000000</td>\n",
              "      <td>0.212413</td>\n",
              "      <td>0.045227</td>\n",
              "      <td>0.015506</td>\n",
              "      <td>...</td>\n",
              "      <td>0.000000</td>\n",
              "      <td>0.000000</td>\n",
              "      <td>0.000000</td>\n",
              "      <td>0.000000</td>\n",
              "      <td>0.000000</td>\n",
              "      <td>0.000000</td>\n",
              "      <td>0.000000</td>\n",
              "      <td>0.000000</td>\n",
              "      <td>0.000000</td>\n",
              "      <td>0.000000</td>\n",
              "    </tr>\n",
              "    <tr>\n",
              "      <th>Frontal_Sup_R</th>\n",
              "      <td>0.057134</td>\n",
              "      <td>0.194723</td>\n",
              "      <td>0.251654</td>\n",
              "      <td>0.000000</td>\n",
              "      <td>0.008126</td>\n",
              "      <td>0.567128</td>\n",
              "      <td>0.045612</td>\n",
              "      <td>0.835060</td>\n",
              "      <td>0.014280</td>\n",
              "      <td>0.187429</td>\n",
              "      <td>...</td>\n",
              "      <td>0.000000</td>\n",
              "      <td>0.000000</td>\n",
              "      <td>0.000000</td>\n",
              "      <td>0.000000</td>\n",
              "      <td>0.000000</td>\n",
              "      <td>0.000000</td>\n",
              "      <td>0.000000</td>\n",
              "      <td>0.000000</td>\n",
              "      <td>0.000000</td>\n",
              "      <td>0.000000</td>\n",
              "    </tr>\n",
              "    <tr>\n",
              "      <th>Frontal_Sup_Orb_L</th>\n",
              "      <td>0.000000</td>\n",
              "      <td>0.000000</td>\n",
              "      <td>0.154310</td>\n",
              "      <td>0.008126</td>\n",
              "      <td>0.000000</td>\n",
              "      <td>0.000000</td>\n",
              "      <td>0.011454</td>\n",
              "      <td>0.000000</td>\n",
              "      <td>0.624236</td>\n",
              "      <td>0.000000</td>\n",
              "      <td>...</td>\n",
              "      <td>0.000000</td>\n",
              "      <td>0.000000</td>\n",
              "      <td>0.000000</td>\n",
              "      <td>0.000000</td>\n",
              "      <td>0.000000</td>\n",
              "      <td>0.000000</td>\n",
              "      <td>0.000000</td>\n",
              "      <td>0.000000</td>\n",
              "      <td>0.000000</td>\n",
              "      <td>0.000000</td>\n",
              "    </tr>\n",
              "    <tr>\n",
              "      <th>...</th>\n",
              "      <td>...</td>\n",
              "      <td>...</td>\n",
              "      <td>...</td>\n",
              "      <td>...</td>\n",
              "      <td>...</td>\n",
              "      <td>...</td>\n",
              "      <td>...</td>\n",
              "      <td>...</td>\n",
              "      <td>...</td>\n",
              "      <td>...</td>\n",
              "      <td>...</td>\n",
              "      <td>...</td>\n",
              "      <td>...</td>\n",
              "      <td>...</td>\n",
              "      <td>...</td>\n",
              "      <td>...</td>\n",
              "      <td>...</td>\n",
              "      <td>...</td>\n",
              "      <td>...</td>\n",
              "      <td>...</td>\n",
              "      <td>...</td>\n",
              "    </tr>\n",
              "    <tr>\n",
              "      <th>Vermis_6</th>\n",
              "      <td>0.000000</td>\n",
              "      <td>0.000000</td>\n",
              "      <td>0.000000</td>\n",
              "      <td>0.000000</td>\n",
              "      <td>0.000000</td>\n",
              "      <td>0.000000</td>\n",
              "      <td>0.000000</td>\n",
              "      <td>0.000000</td>\n",
              "      <td>0.000000</td>\n",
              "      <td>0.000000</td>\n",
              "      <td>...</td>\n",
              "      <td>0.000000</td>\n",
              "      <td>0.000000</td>\n",
              "      <td>0.020406</td>\n",
              "      <td>0.178908</td>\n",
              "      <td>0.496907</td>\n",
              "      <td>0.000000</td>\n",
              "      <td>0.469472</td>\n",
              "      <td>0.129475</td>\n",
              "      <td>0.236835</td>\n",
              "      <td>0.685049</td>\n",
              "    </tr>\n",
              "    <tr>\n",
              "      <th>Vermis_7</th>\n",
              "      <td>0.000000</td>\n",
              "      <td>0.000000</td>\n",
              "      <td>0.000000</td>\n",
              "      <td>0.000000</td>\n",
              "      <td>0.000000</td>\n",
              "      <td>0.000000</td>\n",
              "      <td>0.000000</td>\n",
              "      <td>0.000000</td>\n",
              "      <td>0.000000</td>\n",
              "      <td>0.000000</td>\n",
              "      <td>...</td>\n",
              "      <td>0.029044</td>\n",
              "      <td>0.136159</td>\n",
              "      <td>0.000000</td>\n",
              "      <td>0.319384</td>\n",
              "      <td>0.094477</td>\n",
              "      <td>0.469472</td>\n",
              "      <td>0.000000</td>\n",
              "      <td>0.823498</td>\n",
              "      <td>0.749837</td>\n",
              "      <td>0.136225</td>\n",
              "    </tr>\n",
              "    <tr>\n",
              "      <th>Vermis_8</th>\n",
              "      <td>0.000000</td>\n",
              "      <td>0.000000</td>\n",
              "      <td>0.000000</td>\n",
              "      <td>0.000000</td>\n",
              "      <td>0.000000</td>\n",
              "      <td>0.000000</td>\n",
              "      <td>0.000000</td>\n",
              "      <td>0.000000</td>\n",
              "      <td>0.000000</td>\n",
              "      <td>0.000000</td>\n",
              "      <td>...</td>\n",
              "      <td>0.027964</td>\n",
              "      <td>0.246444</td>\n",
              "      <td>0.000000</td>\n",
              "      <td>0.346928</td>\n",
              "      <td>0.104622</td>\n",
              "      <td>0.129475</td>\n",
              "      <td>0.823498</td>\n",
              "      <td>0.000000</td>\n",
              "      <td>0.993222</td>\n",
              "      <td>0.180674</td>\n",
              "    </tr>\n",
              "    <tr>\n",
              "      <th>Vermis_9</th>\n",
              "      <td>0.000000</td>\n",
              "      <td>0.000000</td>\n",
              "      <td>0.000000</td>\n",
              "      <td>0.000000</td>\n",
              "      <td>0.000000</td>\n",
              "      <td>0.000000</td>\n",
              "      <td>0.000000</td>\n",
              "      <td>0.000000</td>\n",
              "      <td>0.000000</td>\n",
              "      <td>0.000000</td>\n",
              "      <td>...</td>\n",
              "      <td>0.039117</td>\n",
              "      <td>0.281898</td>\n",
              "      <td>0.000000</td>\n",
              "      <td>0.293495</td>\n",
              "      <td>0.121606</td>\n",
              "      <td>0.236835</td>\n",
              "      <td>0.749837</td>\n",
              "      <td>0.993222</td>\n",
              "      <td>0.000000</td>\n",
              "      <td>0.374273</td>\n",
              "    </tr>\n",
              "    <tr>\n",
              "      <th>Vermis_10</th>\n",
              "      <td>0.000000</td>\n",
              "      <td>0.000000</td>\n",
              "      <td>0.000000</td>\n",
              "      <td>0.000000</td>\n",
              "      <td>0.000000</td>\n",
              "      <td>0.000000</td>\n",
              "      <td>0.000000</td>\n",
              "      <td>0.000000</td>\n",
              "      <td>0.000000</td>\n",
              "      <td>0.000000</td>\n",
              "      <td>...</td>\n",
              "      <td>0.000000</td>\n",
              "      <td>0.000000</td>\n",
              "      <td>0.000000</td>\n",
              "      <td>0.179390</td>\n",
              "      <td>0.464905</td>\n",
              "      <td>0.685049</td>\n",
              "      <td>0.136225</td>\n",
              "      <td>0.180674</td>\n",
              "      <td>0.374273</td>\n",
              "      <td>0.000000</td>\n",
              "    </tr>\n",
              "  </tbody>\n",
              "</table>\n",
              "<p>116 rows × 116 columns</p>\n",
              "</div>\n",
              "      <button class=\"colab-df-convert\" onclick=\"convertToInteractive('df-3305e350-75bb-43f2-ab63-d394ae8c6cfb')\"\n",
              "              title=\"Convert this dataframe to an interactive table.\"\n",
              "              style=\"display:none;\">\n",
              "        \n",
              "  <svg xmlns=\"http://www.w3.org/2000/svg\" height=\"24px\"viewBox=\"0 0 24 24\"\n",
              "       width=\"24px\">\n",
              "    <path d=\"M0 0h24v24H0V0z\" fill=\"none\"/>\n",
              "    <path d=\"M18.56 5.44l.94 2.06.94-2.06 2.06-.94-2.06-.94-.94-2.06-.94 2.06-2.06.94zm-11 1L8.5 8.5l.94-2.06 2.06-.94-2.06-.94L8.5 2.5l-.94 2.06-2.06.94zm10 10l.94 2.06.94-2.06 2.06-.94-2.06-.94-.94-2.06-.94 2.06-2.06.94z\"/><path d=\"M17.41 7.96l-1.37-1.37c-.4-.4-.92-.59-1.43-.59-.52 0-1.04.2-1.43.59L10.3 9.45l-7.72 7.72c-.78.78-.78 2.05 0 2.83L4 21.41c.39.39.9.59 1.41.59.51 0 1.02-.2 1.41-.59l7.78-7.78 2.81-2.81c.8-.78.8-2.07 0-2.86zM5.41 20L4 18.59l7.72-7.72 1.47 1.35L5.41 20z\"/>\n",
              "  </svg>\n",
              "      </button>\n",
              "      \n",
              "  <style>\n",
              "    .colab-df-container {\n",
              "      display:flex;\n",
              "      flex-wrap:wrap;\n",
              "      gap: 12px;\n",
              "    }\n",
              "\n",
              "    .colab-df-convert {\n",
              "      background-color: #E8F0FE;\n",
              "      border: none;\n",
              "      border-radius: 50%;\n",
              "      cursor: pointer;\n",
              "      display: none;\n",
              "      fill: #1967D2;\n",
              "      height: 32px;\n",
              "      padding: 0 0 0 0;\n",
              "      width: 32px;\n",
              "    }\n",
              "\n",
              "    .colab-df-convert:hover {\n",
              "      background-color: #E2EBFA;\n",
              "      box-shadow: 0px 1px 2px rgba(60, 64, 67, 0.3), 0px 1px 3px 1px rgba(60, 64, 67, 0.15);\n",
              "      fill: #174EA6;\n",
              "    }\n",
              "\n",
              "    [theme=dark] .colab-df-convert {\n",
              "      background-color: #3B4455;\n",
              "      fill: #D2E3FC;\n",
              "    }\n",
              "\n",
              "    [theme=dark] .colab-df-convert:hover {\n",
              "      background-color: #434B5C;\n",
              "      box-shadow: 0px 1px 3px 1px rgba(0, 0, 0, 0.15);\n",
              "      filter: drop-shadow(0px 1px 2px rgba(0, 0, 0, 0.3));\n",
              "      fill: #FFFFFF;\n",
              "    }\n",
              "  </style>\n",
              "\n",
              "      <script>\n",
              "        const buttonEl =\n",
              "          document.querySelector('#df-3305e350-75bb-43f2-ab63-d394ae8c6cfb button.colab-df-convert');\n",
              "        buttonEl.style.display =\n",
              "          google.colab.kernel.accessAllowed ? 'block' : 'none';\n",
              "\n",
              "        async function convertToInteractive(key) {\n",
              "          const element = document.querySelector('#df-3305e350-75bb-43f2-ab63-d394ae8c6cfb');\n",
              "          const dataTable =\n",
              "            await google.colab.kernel.invokeFunction('convertToInteractive',\n",
              "                                                     [key], {});\n",
              "          if (!dataTable) return;\n",
              "\n",
              "          const docLinkHtml = 'Like what you see? Visit the ' +\n",
              "            '<a target=\"_blank\" href=https://colab.research.google.com/notebooks/data_table.ipynb>data table notebook</a>'\n",
              "            + ' to learn more about interactive tables.';\n",
              "          element.innerHTML = '';\n",
              "          dataTable['output_type'] = 'display_data';\n",
              "          await google.colab.output.renderOutput(dataTable, element);\n",
              "          const docLink = document.createElement('div');\n",
              "          docLink.innerHTML = docLinkHtml;\n",
              "          element.appendChild(docLink);\n",
              "        }\n",
              "      </script>\n",
              "    </div>\n",
              "  </div>\n",
              "  "
            ]
          },
          "metadata": {},
          "execution_count": 19
        }
      ],
      "source": [
        "#Make the matrices symmetric\n",
        "\n",
        "for i in range(len(loaded_DTI)):\n",
        "    DTI_sym[i] = (DTI_sym[i] + DTI_sym[i].T)/2 \n",
        "DTI_sym[0]"
      ]
    },
    {
      "cell_type": "code",
      "execution_count": 20,
      "id": "7a3dff12",
      "metadata": {
        "colab": {
          "base_uri": "https://localhost:8080/"
        },
        "id": "7a3dff12",
        "outputId": "7ec23dbb-a151-4153-a695-6ec48741fac1"
      },
      "outputs": [
        {
          "output_type": "execute_result",
          "data": {
            "text/plain": [
              "(998, list, pandas.core.frame.DataFrame)"
            ]
          },
          "metadata": {},
          "execution_count": 20
        }
      ],
      "source": [
        "len(DTI_sym), type(DTI_sym), type(DTI_sym[0])"
      ]
    },
    {
      "cell_type": "markdown",
      "id": "e1133c75",
      "metadata": {
        "id": "e1133c75"
      },
      "source": [
        "### 2.4 Feature Extraction w/ SparseRipsPersistence"
      ]
    },
    {
      "cell_type": "code",
      "execution_count": 21,
      "id": "77bf4f30",
      "metadata": {
        "id": "77bf4f30"
      },
      "outputs": [],
      "source": [
        "#!python -m pip install -U giotto-tda"
      ]
    },
    {
      "cell_type": "code",
      "execution_count": 22,
      "id": "362efb10",
      "metadata": {
        "colab": {
          "base_uri": "https://localhost:8080/",
          "height": 0
        },
        "id": "362efb10",
        "outputId": "b0c4a591-fc52-4837-dbcc-3eff33fdf0eb"
      },
      "outputs": [
        {
          "output_type": "execute_result",
          "data": {
            "text/plain": [
              "'\\nimport numpy as np\\nfrom numpy.random import default_rng\\nrng = default_rng(42)  # Create a random number generator\\n\\nfrom scipy.spatial.distance import pdist, squareform\\nfrom scipy.sparse import coo_matrix\\n\\nfrom gtda.graphs import GraphGeodesicDistance\\nfrom gtda.homology import VietorisRipsPersistence, SparseRipsPersistence, FlagserPersistence\\n\\nfrom igraph import Graph\\n\\nfrom IPython.display import SVG, display\\n'"
            ],
            "application/vnd.google.colaboratory.intrinsic+json": {
              "type": "string"
            }
          },
          "metadata": {},
          "execution_count": 22
        }
      ],
      "source": [
        "\"\"\"\n",
        "import numpy as np\n",
        "from numpy.random import default_rng\n",
        "rng = default_rng(42)  # Create a random number generator\n",
        "\n",
        "from scipy.spatial.distance import pdist, squareform\n",
        "from scipy.sparse import coo_matrix\n",
        "\n",
        "from gtda.graphs import GraphGeodesicDistance\n",
        "from gtda.homology import VietorisRipsPersistence, SparseRipsPersistence, FlagserPersistence\n",
        "\n",
        "from igraph import Graph\n",
        "\n",
        "from IPython.display import SVG, display\n",
        "\"\"\""
      ]
    },
    {
      "cell_type": "code",
      "execution_count": 23,
      "id": "3a0e04bb",
      "metadata": {
        "colab": {
          "base_uri": "https://localhost:8080/",
          "height": 0
        },
        "id": "3a0e04bb",
        "outputId": "aaf144ec-4cc4-4a5e-fb52-dd3b7ed0d8e1"
      },
      "outputs": [
        {
          "output_type": "execute_result",
          "data": {
            "text/plain": [
              "'\\nsymmetric_DTI_np = []\\nnonsymmetric_DTI_np = []\\nfor i in range(len(DTI_sym)):\\n    symmetric_DTI_np.append(DTI_sym[i].to_numpy()) \\n    nonsymmetric_DTI_np.append(loaded_DTI[i].to_numpy())\\n    \\nlen(symmetric_DTI_np), len(nonsymmetric_DTI_np)\\n'"
            ],
            "application/vnd.google.colaboratory.intrinsic+json": {
              "type": "string"
            }
          },
          "metadata": {},
          "execution_count": 23
        }
      ],
      "source": [
        "\"\"\"\n",
        "symmetric_DTI_np = []\n",
        "nonsymmetric_DTI_np = []\n",
        "for i in range(len(DTI_sym)):\n",
        "    symmetric_DTI_np.append(DTI_sym[i].to_numpy()) \n",
        "    nonsymmetric_DTI_np.append(loaded_DTI[i].to_numpy())\n",
        "    \n",
        "len(symmetric_DTI_np), len(nonsymmetric_DTI_np)\n",
        "\"\"\""
      ]
    },
    {
      "cell_type": "code",
      "execution_count": 24,
      "id": "f3616856",
      "metadata": {
        "id": "f3616856"
      },
      "outputs": [],
      "source": [
        "#!pip install -U giotto-tda"
      ]
    },
    {
      "cell_type": "code",
      "execution_count": 25,
      "id": "952197eb",
      "metadata": {
        "id": "952197eb"
      },
      "outputs": [],
      "source": [
        "#Plotting:\n",
        "#from gtda.plotting import plot_diagram\n",
        "#i = 0\n",
        "#plot_diagram(diagrams[i])"
      ]
    },
    {
      "cell_type": "markdown",
      "id": "9b513355",
      "metadata": {
        "id": "9b513355"
      },
      "source": [
        "#### SparseRipsPersistence - Symmetric"
      ]
    },
    {
      "cell_type": "code",
      "execution_count": 26,
      "id": "3e7033d3",
      "metadata": {
        "colab": {
          "base_uri": "https://localhost:8080/",
          "height": 0
        },
        "id": "3e7033d3",
        "outputId": "3230b321-22de-4319-f645-0053d36a7a9d"
      },
      "outputs": [
        {
          "output_type": "execute_result",
          "data": {
            "text/plain": [
              "'\\n# Instantiate topological transformer\\nSP = SparseRipsPersistence( homology_dimensions=[0, 1, 2])\\n\\n# Compute persistence diagrams corresponding to each entry\\ndiagrams_sp_sym = SP.fit_transform(symmetric_DTI_np)\\n\\nprint(f\"diagrams.shape: {diagrams_sp_sym.shape} ({diagrams_sp_sym.shape[1]} topological features)\")\\n'"
            ],
            "application/vnd.google.colaboratory.intrinsic+json": {
              "type": "string"
            }
          },
          "metadata": {},
          "execution_count": 26
        }
      ],
      "source": [
        "\"\"\"\n",
        "# Instantiate topological transformer\n",
        "SP = SparseRipsPersistence( homology_dimensions=[0, 1, 2])\n",
        "\n",
        "# Compute persistence diagrams corresponding to each entry\n",
        "diagrams_sp_sym = SP.fit_transform(symmetric_DTI_np)\n",
        "\n",
        "print(f\"diagrams.shape: {diagrams_sp_sym.shape} ({diagrams_sp_sym.shape[1]} topological features)\")\n",
        "\"\"\""
      ]
    },
    {
      "cell_type": "code",
      "execution_count": 27,
      "id": "ac22f720",
      "metadata": {
        "colab": {
          "base_uri": "https://localhost:8080/",
          "height": 0
        },
        "id": "ac22f720",
        "outputId": "dd4037db-9312-4f36-f81c-30fe5f473d15"
      },
      "outputs": [
        {
          "output_type": "execute_result",
          "data": {
            "text/plain": [
              "'\\nfrom gtda.diagrams import PersistenceEntropy\\n\\nPE = PersistenceEntropy()\\n\\nfeatures_sp_sym = PE.fit_transform(diagrams_sp_sym)\\nfeatures_sp_sym\\n'"
            ],
            "application/vnd.google.colaboratory.intrinsic+json": {
              "type": "string"
            }
          },
          "metadata": {},
          "execution_count": 27
        }
      ],
      "source": [
        "\"\"\"\n",
        "from gtda.diagrams import PersistenceEntropy\n",
        "\n",
        "PE = PersistenceEntropy()\n",
        "\n",
        "features_sp_sym = PE.fit_transform(diagrams_sp_sym)\n",
        "features_sp_sym\n",
        "\"\"\""
      ]
    },
    {
      "cell_type": "markdown",
      "id": "c5c775b9",
      "metadata": {
        "id": "c5c775b9"
      },
      "source": [
        "Save the Topological features into a .csv file"
      ]
    },
    {
      "cell_type": "code",
      "execution_count": 28,
      "id": "4444bbf4",
      "metadata": {
        "colab": {
          "base_uri": "https://localhost:8080/",
          "height": 0
        },
        "id": "4444bbf4",
        "outputId": "af2ffd78-0ae4-40b9-d2ff-48e1652643ec"
      },
      "outputs": [
        {
          "output_type": "execute_result",
          "data": {
            "text/plain": [
              "\"\\n# save numpy array as csv file\\nfrom numpy import asarray\\nfrom numpy import savetxt\\n# save to csv file\\nsavetxt('SparseRipsPersistence_dim012_sym.csv', features_sp_sym, delimiter=',')\\n\\n\""
            ],
            "application/vnd.google.colaboratory.intrinsic+json": {
              "type": "string"
            }
          },
          "metadata": {},
          "execution_count": 28
        }
      ],
      "source": [
        "\"\"\"\n",
        "# save numpy array as csv file\n",
        "from numpy import asarray\n",
        "from numpy import savetxt\n",
        "# save to csv file\n",
        "savetxt('SparseRipsPersistence_dim012_sym.csv', features_sp_sym, delimiter=',')\n",
        "\n",
        "\"\"\""
      ]
    },
    {
      "cell_type": "markdown",
      "id": "e5f6f18a",
      "metadata": {
        "id": "e5f6f18a"
      },
      "source": [
        "Load topological features coming from SparseRips Complex:"
      ]
    },
    {
      "cell_type": "code",
      "execution_count": 29,
      "id": "d4043510",
      "metadata": {
        "colab": {
          "base_uri": "https://localhost:8080/"
        },
        "id": "d4043510",
        "outputId": "b4340404-d2ee-4b06-c143-861921c06ba4"
      },
      "outputs": [
        {
          "output_type": "stream",
          "name": "stdout",
          "text": [
            "[[6.81966661 4.52649199]\n",
            " [6.82150911 4.72372002]\n",
            " [6.81782604 4.45223201]\n",
            " ...\n",
            " [6.82301216 4.77680341]\n",
            " [6.8243857  4.41155091]\n",
            " [6.82064777 4.28775706]]\n"
          ]
        },
        {
          "output_type": "execute_result",
          "data": {
            "text/plain": [
              "numpy.ndarray"
            ]
          },
          "metadata": {},
          "execution_count": 29
        }
      ],
      "source": [
        "# load numpy array from csv file\n",
        "from numpy import loadtxt\n",
        "# load array\n",
        "loaded_features_sp_sym = loadtxt('/content/drive/MyDrive/GUDHI-tda-tutorials-mapper/SparseRipsPersistence_dim01_sym.csv', delimiter=',')\n",
        "# print the array\n",
        "print(loaded_features_sp_sym)\n",
        "type(loaded_features_sp_sym)"
      ]
    },
    {
      "cell_type": "markdown",
      "id": "2c4dadbf",
      "metadata": {
        "id": "2c4dadbf"
      },
      "source": [
        "Convert TDA features to a pandas df and add Gender column."
      ]
    },
    {
      "cell_type": "code",
      "execution_count": 30,
      "id": "29d22642",
      "metadata": {
        "colab": {
          "base_uri": "https://localhost:8080/",
          "height": 0
        },
        "id": "29d22642",
        "outputId": "aadd46ff-8349-4e0f-ad5c-2579e41fc1b1"
      },
      "outputs": [
        {
          "output_type": "execute_result",
          "data": {
            "text/plain": [
              "   TDA_feature_1  TDA_feature_2\n",
              "0       6.819667       4.526492\n",
              "1       6.821509       4.723720\n",
              "2       6.817826       4.452232\n",
              "3       6.820391       4.500798\n",
              "4       6.824610       4.486151"
            ],
            "text/html": [
              "\n",
              "  <div id=\"df-ab83a59d-3051-40a1-9acf-b7240a65e937\">\n",
              "    <div class=\"colab-df-container\">\n",
              "      <div>\n",
              "<style scoped>\n",
              "    .dataframe tbody tr th:only-of-type {\n",
              "        vertical-align: middle;\n",
              "    }\n",
              "\n",
              "    .dataframe tbody tr th {\n",
              "        vertical-align: top;\n",
              "    }\n",
              "\n",
              "    .dataframe thead th {\n",
              "        text-align: right;\n",
              "    }\n",
              "</style>\n",
              "<table border=\"1\" class=\"dataframe\">\n",
              "  <thead>\n",
              "    <tr style=\"text-align: right;\">\n",
              "      <th></th>\n",
              "      <th>TDA_feature_1</th>\n",
              "      <th>TDA_feature_2</th>\n",
              "    </tr>\n",
              "  </thead>\n",
              "  <tbody>\n",
              "    <tr>\n",
              "      <th>0</th>\n",
              "      <td>6.819667</td>\n",
              "      <td>4.526492</td>\n",
              "    </tr>\n",
              "    <tr>\n",
              "      <th>1</th>\n",
              "      <td>6.821509</td>\n",
              "      <td>4.723720</td>\n",
              "    </tr>\n",
              "    <tr>\n",
              "      <th>2</th>\n",
              "      <td>6.817826</td>\n",
              "      <td>4.452232</td>\n",
              "    </tr>\n",
              "    <tr>\n",
              "      <th>3</th>\n",
              "      <td>6.820391</td>\n",
              "      <td>4.500798</td>\n",
              "    </tr>\n",
              "    <tr>\n",
              "      <th>4</th>\n",
              "      <td>6.824610</td>\n",
              "      <td>4.486151</td>\n",
              "    </tr>\n",
              "  </tbody>\n",
              "</table>\n",
              "</div>\n",
              "      <button class=\"colab-df-convert\" onclick=\"convertToInteractive('df-ab83a59d-3051-40a1-9acf-b7240a65e937')\"\n",
              "              title=\"Convert this dataframe to an interactive table.\"\n",
              "              style=\"display:none;\">\n",
              "        \n",
              "  <svg xmlns=\"http://www.w3.org/2000/svg\" height=\"24px\"viewBox=\"0 0 24 24\"\n",
              "       width=\"24px\">\n",
              "    <path d=\"M0 0h24v24H0V0z\" fill=\"none\"/>\n",
              "    <path d=\"M18.56 5.44l.94 2.06.94-2.06 2.06-.94-2.06-.94-.94-2.06-.94 2.06-2.06.94zm-11 1L8.5 8.5l.94-2.06 2.06-.94-2.06-.94L8.5 2.5l-.94 2.06-2.06.94zm10 10l.94 2.06.94-2.06 2.06-.94-2.06-.94-.94-2.06-.94 2.06-2.06.94z\"/><path d=\"M17.41 7.96l-1.37-1.37c-.4-.4-.92-.59-1.43-.59-.52 0-1.04.2-1.43.59L10.3 9.45l-7.72 7.72c-.78.78-.78 2.05 0 2.83L4 21.41c.39.39.9.59 1.41.59.51 0 1.02-.2 1.41-.59l7.78-7.78 2.81-2.81c.8-.78.8-2.07 0-2.86zM5.41 20L4 18.59l7.72-7.72 1.47 1.35L5.41 20z\"/>\n",
              "  </svg>\n",
              "      </button>\n",
              "      \n",
              "  <style>\n",
              "    .colab-df-container {\n",
              "      display:flex;\n",
              "      flex-wrap:wrap;\n",
              "      gap: 12px;\n",
              "    }\n",
              "\n",
              "    .colab-df-convert {\n",
              "      background-color: #E8F0FE;\n",
              "      border: none;\n",
              "      border-radius: 50%;\n",
              "      cursor: pointer;\n",
              "      display: none;\n",
              "      fill: #1967D2;\n",
              "      height: 32px;\n",
              "      padding: 0 0 0 0;\n",
              "      width: 32px;\n",
              "    }\n",
              "\n",
              "    .colab-df-convert:hover {\n",
              "      background-color: #E2EBFA;\n",
              "      box-shadow: 0px 1px 2px rgba(60, 64, 67, 0.3), 0px 1px 3px 1px rgba(60, 64, 67, 0.15);\n",
              "      fill: #174EA6;\n",
              "    }\n",
              "\n",
              "    [theme=dark] .colab-df-convert {\n",
              "      background-color: #3B4455;\n",
              "      fill: #D2E3FC;\n",
              "    }\n",
              "\n",
              "    [theme=dark] .colab-df-convert:hover {\n",
              "      background-color: #434B5C;\n",
              "      box-shadow: 0px 1px 3px 1px rgba(0, 0, 0, 0.15);\n",
              "      filter: drop-shadow(0px 1px 2px rgba(0, 0, 0, 0.3));\n",
              "      fill: #FFFFFF;\n",
              "    }\n",
              "  </style>\n",
              "\n",
              "      <script>\n",
              "        const buttonEl =\n",
              "          document.querySelector('#df-ab83a59d-3051-40a1-9acf-b7240a65e937 button.colab-df-convert');\n",
              "        buttonEl.style.display =\n",
              "          google.colab.kernel.accessAllowed ? 'block' : 'none';\n",
              "\n",
              "        async function convertToInteractive(key) {\n",
              "          const element = document.querySelector('#df-ab83a59d-3051-40a1-9acf-b7240a65e937');\n",
              "          const dataTable =\n",
              "            await google.colab.kernel.invokeFunction('convertToInteractive',\n",
              "                                                     [key], {});\n",
              "          if (!dataTable) return;\n",
              "\n",
              "          const docLinkHtml = 'Like what you see? Visit the ' +\n",
              "            '<a target=\"_blank\" href=https://colab.research.google.com/notebooks/data_table.ipynb>data table notebook</a>'\n",
              "            + ' to learn more about interactive tables.';\n",
              "          element.innerHTML = '';\n",
              "          dataTable['output_type'] = 'display_data';\n",
              "          await google.colab.output.renderOutput(dataTable, element);\n",
              "          const docLink = document.createElement('div');\n",
              "          docLink.innerHTML = docLinkHtml;\n",
              "          element.appendChild(docLink);\n",
              "        }\n",
              "      </script>\n",
              "    </div>\n",
              "  </div>\n",
              "  "
            ]
          },
          "metadata": {},
          "execution_count": 30
        }
      ],
      "source": [
        "df_tda = pd.DataFrame(loaded_features_sp_sym, columns=[\"TDA_feature_1\",\"TDA_feature_2\"])  #,\"TDA_feature_3\"])\n",
        "df_tda.head(5)"
      ]
    },
    {
      "cell_type": "markdown",
      "source": [
        "### 2.5- Column meanings for printing"
      ],
      "metadata": {
        "id": "ZQ4HUFXkwKkr"
      },
      "id": "ZQ4HUFXkwKkr"
    },
    {
      "cell_type": "code",
      "source": [
        "#COGNITION\n",
        "Cognition_meanings2=[\n",
        "                        \"PicSeq_AgeAdj\" , \"Episodic Memory\",\n",
        "                         \"CardSort_AgeAdj\",\"Executive Function/ Cognitive Flexibility\",\n",
        "                         \"Flanker_AgeAdj\",\"Executive Function/ Inhibition\",\n",
        "                         \n",
        "                         \"PMAT24_A_CR\",\"Fluid Intelligence\",\n",
        "                         \"PMAT24_A_SI\", \"Fluid Intelligence\",\n",
        "                          \"PMAT24_A_RTCR\",\"Fluid Intelligence\",\n",
        "                         \n",
        "                        \"ReadEng_AgeAdj\",   \"Language/Reading Decoding \",\n",
        "                        \"PicVocab_AgeAdj\",  \"Language/Vocabulary Comprehension\",\n",
        "                        \"ProcSpeed_AgeAdj\", \"Processing Speed\" ,\n",
        "                         \n",
        "                         \"DDisc_AUC_200\",\"DDisc_AUC_40K\", \"Self-regulation/Impulsivity (Delay Discounting)\",\n",
        "                         \"DDisc_SV_1mo_200\", \"Self-regulation/Impulsivity (Delay Discounting)\",\n",
        "                          \"DDisc_SV_6mo_200\",\"Self-regulation/Impulsivity (Delay Discounting)\",\n",
        "                          \"DDisc_SV_1yr_200\",\"Self-regulation/Impulsivity (Delay Discounting)\",\n",
        "                          \"DDisc_SV_3yr_200\",\"Self-regulation/Impulsivity (Delay Discounting)\",\n",
        "                          \"DDisc_SV_5yr_200\",\"Self-regulation/Impulsivity (Delay Discounting)\",\n",
        "                          \"DDisc_SV_10yr_200\", \"Self-regulation/Impulsivity (Delay Discounting)\",\n",
        "                         \"DDisc_SV_1mo_40K\", \"Self-regulation/Impulsivity (Delay Discounting)\",\n",
        "                          \"DDisc_SV_6mo_40K\",\"Self-regulation/Impulsivity (Delay Discounting)\",\n",
        "                        \"DDisc_SV_1yr_40K\",\"Self-regulation/Impulsivity (Delay Discounting)\",\n",
        "                        \"DDisc_SV_3yr_40K\",\"Self-regulation/Impulsivity (Delay Discounting)\",\n",
        "                        \"DDisc_SV_5yr_40K\",\"Self-regulation/Impulsivity (Delay Discounting)\",\n",
        "                          \"DDisc_SV_10yr_40K\",\"Self-regulation/Impulsivity (Delay Discounting)\",\n",
        "\n",
        "                        \"VSPLOT_TC\",        \"Spatial Orientation\",\n",
        "                         \"VSPLOT_CRTE\",\"Spatial Orientation\",\n",
        "                         \"VSPLOT_OFF\",\"Spatial Orientation\",\n",
        "\n",
        "                         \"SCPT_SEN\",\"SCPT_SPEC\", \"Sustained Attention (Short Penn Continuous Performance Test)\",\n",
        "                         \"SCPT_TP\",\"Sustained Attention (Short Penn Continuous Performance Test)\",\n",
        "                     \"SCPT_TN\",\"Sustained Attention (Short Penn Continuous Performance Test)\",\n",
        "                    \"SCPT_FP\",\"Sustained Attention (Short Penn Continuous Performance Test)\",\n",
        "                    \"SCPT_FN\",\"Sustained Attention (Short Penn Continuous Performance Test)\",\n",
        "                    \"SCPT_TPRT\",\"Sustained Attention (Short Penn Continuous Performance Test)\",\n",
        "                    \"SCPT_LRNR\",\"Sustained Attention (Short Penn Continuous Performance Test)\",\n",
        "                         \n",
        "                         \n",
        "                         \"IWRD_TOT\",        \"Verbal Episodic Memory\",\n",
        "                         \"IWRD_RTC\",\"Verbal Episodic Memory\",\n",
        "                    \n",
        "                         \"ListSort_AgeAdj\", \"Working Memory (List Sorting)\"\n",
        "                        ]  \n",
        "#COGNITION\n",
        "Cognition_meanings=[\n",
        "                        \"PicSeq_AgeAdj\",   \"COG_Episodic Memory\",\n",
        "                         \"CardSort_AgeAdj\", \"COG_Executive Function/ Cognitive Flexibility\",\n",
        "                         \"Flanker_AgeAdj\",  \"COG_Executive Function/ Inhibition\",\n",
        "                         \n",
        "                         \"PMAT24_A_CR\",     \"COG_Fluid Intelligence\",\n",
        "                         #\"PMAT24_A_SI\", \"PMAT24_A_RTCR\",\n",
        "                         \n",
        "                        \"ReadEng_AgeAdj\",   \"COG_Language/Reading Decoding\" ,\n",
        "                        \"PicVocab_AgeAdj\",  \"COG_Language/Vocabulary Comprehension\",\n",
        "                        \"ProcSpeed_AgeAdj\", \"COG_Processing Speed \",\n",
        "                         \n",
        "                         \"DDisc_AUC_200\", \"COG_Self-regulation/Impulsivity (Delay Discounting)\",\n",
        "                    \"DDisc_AUC_40K\", \"COG_Self-regulation/Impulsivity (Delay Discounting)\",\n",
        "                         #\"DDisc_SV_1mo_200\", \"DDisc_SV_6mo_200\",\"DDisc_SV_1yr_200\",\"DDisc_SV_3yr_200\",\"DDisc_SV_5yr_200\",\"DDisc_SV_10yr_200\", \n",
        "                         #\"DDisc_SV_1mo_40K\", \"DDisc_SV_6mo_40K\",\"DDisc_SV_1yr_40K\",\"DDisc_SV_3yr_40K\",\"DDisc_SV_5yr_40K\",\"DDisc_SV_10yr_40K\",\n",
        "\n",
        "                        \"VSPLOT_TC\",        \"COG_Spatial Orientation\",\n",
        "                         #\"VSPLOT_CRTE\",\n",
        "                         #\"VSPLOT_OFF\",\n",
        "\n",
        "                         \"SCPT_SEN\", \"COG_Sustained Attention\",\n",
        "                    \"SCPT_SPEC\", \"COG_Sustained Attention\" ,#\"Sustained Attention\" #(Short Penn Continuous Performance Test)\n",
        "                         #\"SCPT_TP\", #\"SCPT_TN\",\"SCPT_FP\",\"SCPT_FN\",\"SCPT_TPRT\",\"SCPT_LRNR\",\n",
        "                         \n",
        "                         \n",
        "                         \"IWRD_TOT\",        \"COG_Verbal Episodic Memory\",\n",
        "                         #\"IWRD_RTC\",\n",
        "                         \"ListSort_AgeAdj\", \"COG_Working Memory (List Sorting)\",\n",
        "                        ]  "
      ],
      "metadata": {
        "id": "DBXHxRUuwRIG"
      },
      "id": "DBXHxRUuwRIG",
      "execution_count": 31,
      "outputs": []
    },
    {
      "cell_type": "code",
      "source": [
        "#EMOTION\n",
        "Emotion_meanings=[\n",
        "                       \"ER40_CR\", \"EMO_Emotion Recognition (Penn Emotion Recognition Test)\",\n",
        "                       #\"ER40_CRT\",\"ER40ANG\",\"ER40FEAR\",\"ER40HAP\",\"ER40NOE\",\"ER40SAD\",\n",
        "\n",
        "                      \"AngHostil_Unadj\",  \"EMO_Negative Affect ( Anger)\",\n",
        "                      #\"AngAffect_Unadj\",\"AngAggr_Unadj\",\"FearAffect_Unadj\",\n",
        "                      \"FearSomat_Unadj\", \"EMO_Negative Affect (Fear)\",\n",
        "                      \"Sadness_Unadj\", \"EMO_Negative Affect (Sadness)\",\n",
        "                       \n",
        "                       \"LifeSatisf_Unadj\",\"EMO_Psychological Well-being \",\n",
        "                       #\"MeanPurp_Unadj\",\"PosAffect_Unadj\",\n",
        "\n",
        "                        \"Loneliness_Unadj\",\"EMO_Social Relationships \",\n",
        "                       \"Friendship_Unadj\",\"EMO_PercHostil_Unadj\",\n",
        "                       #\"PercReject_Unadj\",\"EmotSupp_Unadj\",\"InstruSupp_Unadj\",\n",
        "\n",
        "                       \"PercStress_Unadj\", \"EMO_Stress and Self Efficacy\",\n",
        "                       #\"SelfEff_Unadj\"\n",
        "\n",
        "                       \n",
        "]\n"
      ],
      "metadata": {
        "id": "JOnGKanqy2J1"
      },
      "id": "JOnGKanqy2J1",
      "execution_count": 32,
      "outputs": []
    },
    {
      "cell_type": "code",
      "source": [
        "#MOTOR \n",
        "Motor_meanings=[\n",
        "                     \n",
        "                     \"Endurance_AgeAdj\", \"MOT_Endurance (2 minute walk test)\",\n",
        "                     \"GaitSpeed_Comp\", \"MOT_Locomotion (4-meter walk test)\",\n",
        "                     \"Dexterity_AgeAdj\", \"MOT_Dexterity (9-hole Pegboard)\",\n",
        "                     \"Strength_AgeAdj\", \"MOT_Strength (Grip Strength Dynamometry)\"          \n",
        "]"
      ],
      "metadata": {
        "id": "N9DHHx0NzFXl"
      },
      "id": "N9DHHx0NzFXl",
      "execution_count": 33,
      "outputs": []
    },
    {
      "cell_type": "code",
      "source": [
        "df_targets[\"GaitSpeed_Comp\"]"
      ],
      "metadata": {
        "colab": {
          "base_uri": "https://localhost:8080/"
        },
        "id": "g-5QxxrUVoBB",
        "outputId": "6ae908da-631b-409b-fa3c-d8a2213de2f6"
      },
      "id": "g-5QxxrUVoBB",
      "execution_count": 34,
      "outputs": [
        {
          "output_type": "execute_result",
          "data": {
            "text/plain": [
              "1       1.24\n",
              "2       1.58\n",
              "3       1.51\n",
              "4       1.10\n",
              "5       1.24\n",
              "        ... \n",
              "1200    1.07\n",
              "1201    1.24\n",
              "1202    1.23\n",
              "1203    1.39\n",
              "1205    1.07\n",
              "Name: GaitSpeed_Comp, Length: 998, dtype: float64"
            ]
          },
          "metadata": {},
          "execution_count": 34
        }
      ]
    },
    {
      "cell_type": "code",
      "source": [
        "#OTHER \n",
        "Other_meanings=[\n",
        "                     \"Age\", \"OTH_Age\",\n",
        "                    \"Gender\", \"OTH_Gender\",\n",
        "                \"TDA_feature_1\", \"OTH_TDA_feature_1\",\n",
        "                \"TDA_feature_2\",\"OTH_TDA_feature_2\"\n",
        "                     \n",
        "]"
      ],
      "metadata": {
        "id": "NH6FFy0f2rys"
      },
      "id": "NH6FFy0f2rys",
      "execution_count": 35,
      "outputs": []
    },
    {
      "cell_type": "code",
      "source": [
        "# FreeSurfer Summary Statistics\n",
        "Freesurfer_Summary_Statistics=[\n",
        "    \"FS_LCort_GM_Vol\", \"GMV_Left hemisphere cortical gray matter volume\",\n",
        "    \"FS_RCort_GM_Vol\", \"GMV_Right hemisphere cortical gray matter volume\",\n",
        "    \"FS_TotCort_GM_Vol\", \"GMV_Total cortical gray matter volume\",\n",
        "    \"FS_SubCort_GM_Vol\",\"GMV_Total subcortical gray matter volume\",\n",
        "    \"FS_Total_GM_Vol\", \"GMV_Total gray matter volume\",\n",
        "    \"FS_SupraTentorial_Vol\", \"FSS_Supratentorial volume\",\n",
        "    \"FS_L_WM_Vol\",\"WMV_Left hemisphere cortical white matter volume\",\n",
        "    \"FS_R_WM_Vol\", \"WMV_Right hemisphere cortical white matter volume\",\n",
        "    \"FS_Tot_WM_Vol\",\"WMV_Total cortical white matter volume\"\n",
        "]"
      ],
      "metadata": {
        "id": "2FcZ3mzTYp9-"
      },
      "execution_count": 36,
      "outputs": [],
      "id": "2FcZ3mzTYp9-"
    },
    {
      "cell_type": "code",
      "source": [
        "#ALL Surface Thickness\n",
        "Surface_Thickness=[]\n",
        "for i in range(0,len(df_targets.columns)):\n",
        "  if df_targets.columns[i][-4:]==\"Thck\":\n",
        "    Surface_Thickness.append(df_targets.columns[i])\n",
        "    Surface_Thickness.append(df_targets.columns[i])\n",
        "\n"
      ],
      "metadata": {
        "id": "V53QFNO-aPld"
      },
      "execution_count": 37,
      "outputs": [],
      "id": "V53QFNO-aPld"
    },
    {
      "cell_type": "code",
      "source": [
        "brain_meanings=[\n",
        "    #Anterior Cingulate Cortex\n",
        "   \"FS_L_Caudalanteriorcingulate_Area\", \"SA__Left caudal-anterior-cingulate SA\",\n",
        "   \t\"FS_L_Rostralanteriorcingulate_Area\" ,\"SA__Left rostral-anterior-cingulate SA\",\n",
        "    \"FS_R_Caudalanteriorcingulate_Area\",\"SA__Right caudal-anterior-cingulate SA\",\n",
        "    \t\"FS_R_Rostralanteriorcingulate_Area\",\"SA__Right rostral-anterior-cingulate SA\",\n",
        "\n",
        "      \"FS_L_Caudalanteriorcingulate_Thck\",\"Thc_Left caudal-anterior-cingulate Avg Thickness\",\n",
        "      \t\"FS_L_Rostralanteriorcingulate_Thck\",\"Thc_Left rostral-anterior-cingulate Avg Thickness\",\n",
        "        \t \"FS_R_Caudalanteriorcingulate_Thck\",\"Thc_Right caudal-anterior-cingulate Avg Thickness\",\n",
        "           \t\"FS_R_Rostralanteriorcingulate_Thck\", \"Thc_Right rostral-anterior-cingulate Avg Thickness\",\n",
        "      #Orbitofrontal Cortex\n",
        "     \"FS_L_Lateralorbitofrontal_Area\", \"SA__Left lateral-orbito-frontal SA\",\n",
        "     \t\"FS_L_Medialorbitofrontal_Area\",\"SA__Left medial-orbito-frontal SA\",\n",
        "       \"FS_R_Lateralorbitofrontal_Area\",\"SA__Right lateral-orbito-frontal SA\",\n",
        "      \t\"FS_R_Medialorbitofrontal_Area\" , \"SA__Right medial-orbito-frontal SA\",\n",
        "\n",
        "        \"FS_L_Lateralorbitofrontal_Thck\", \"Thc_Left lateral-orbito-frontal Avg Thickness\",\n",
        "        \"FS_L_Medialorbitofrontal_Thck\", \"Thc_Left medial-orbito-frontal Avg Thickness\",\n",
        "        \"FS_R_Lateralorbitofrontal_Thck\" ,\"Thc_Right lateral-orbito-frontal Avg Thickness\",\n",
        "        \"FS_R_Medialorbitofrontal_Thck\", \"Thc_Right medial-orbito-frontal Avg Thickness\"\t \n",
        "\n",
        "\n",
        "\n",
        "]\n",
        "\t"
      ],
      "metadata": {
        "id": "GmHuknvR_crG"
      },
      "id": "GmHuknvR_crG",
      "execution_count": 38,
      "outputs": []
    },
    {
      "cell_type": "code",
      "execution_count": 39,
      "metadata": {
        "colab": {
          "base_uri": "https://localhost:8080/"
        },
        "outputId": "56858252-c611-49d3-bdc5-01b708a6951a",
        "id": "j8I0mJHtfc6d"
      },
      "outputs": [
        {
          "output_type": "stream",
          "name": "stdout",
          "text": [
            "110\n",
            "{'PicSeq_AgeAdj': 'COG_Episodic Memory', 'CardSort_AgeAdj': 'COG_Executive Function/ Cognitive Flexibility', 'Flanker_AgeAdj': 'COG_Executive Function/ Inhibition', 'PMAT24_A_CR': 'COG_Fluid Intelligence', 'ReadEng_AgeAdj': 'COG_Language/Reading Decoding', 'PicVocab_AgeAdj': 'COG_Language/Vocabulary Comprehension', 'ProcSpeed_AgeAdj': 'COG_Processing Speed ', 'DDisc_AUC_200': 'COG_Self-regulation/Impulsivity (Delay Discounting)', 'DDisc_AUC_40K': 'COG_Self-regulation/Impulsivity (Delay Discounting)', 'VSPLOT_TC': 'COG_Spatial Orientation', 'SCPT_SEN': 'COG_Sustained Attention', 'SCPT_SPEC': 'COG_Sustained Attention', 'IWRD_TOT': 'COG_Verbal Episodic Memory', 'ListSort_AgeAdj': 'COG_Working Memory (List Sorting)', 'ER40_CR': 'EMO_Emotion Recognition (Penn Emotion Recognition Test)', 'AngHostil_Unadj': 'EMO_Negative Affect ( Anger)', 'FearSomat_Unadj': 'EMO_Negative Affect (Fear)', 'Sadness_Unadj': 'EMO_Negative Affect (Sadness)', 'LifeSatisf_Unadj': 'EMO_Psychological Well-being ', 'Loneliness_Unadj': 'EMO_Social Relationships ', 'Friendship_Unadj': 'EMO_PercHostil_Unadj', 'PercStress_Unadj': 'EMO_Stress and Self Efficacy', 'Age': 'OTH_Age', 'Gender': 'OTH_Gender', 'TDA_feature_1': 'OTH_TDA_feature_1', 'TDA_feature_2': 'OTH_TDA_feature_2', 'Endurance_AgeAdj': 'MOT_Endurance (2 minute walk test)', 'GaitSpeed_Comp': 'MOT_Locomotion (4-meter walk test)', 'Dexterity_AgeAdj': 'MOT_Dexterity (9-hole Pegboard)', 'Strength_AgeAdj': 'MOT_Strength (Grip Strength Dynamometry)', 'FS_LCort_GM_Vol': 'GMV_Left hemisphere cortical gray matter volume', 'FS_RCort_GM_Vol': 'GMV_Right hemisphere cortical gray matter volume', 'FS_TotCort_GM_Vol': 'GMV_Total cortical gray matter volume', 'FS_SubCort_GM_Vol': 'GMV_Total subcortical gray matter volume', 'FS_Total_GM_Vol': 'GMV_Total gray matter volume', 'FS_SupraTentorial_Vol': 'FSS_Supratentorial volume', 'FS_L_WM_Vol': 'WMV_Left hemisphere cortical white matter volume', 'FS_R_WM_Vol': 'WMV_Right hemisphere cortical white matter volume', 'FS_Tot_WM_Vol': 'WMV_Total cortical white matter volume', 'FS_L_Caudalanteriorcingulate_Area': 'SA__Left caudal-anterior-cingulate SA', 'FS_L_Rostralanteriorcingulate_Area': 'SA__Left rostral-anterior-cingulate SA', 'FS_R_Caudalanteriorcingulate_Area': 'SA__Right caudal-anterior-cingulate SA', 'FS_R_Rostralanteriorcingulate_Area': 'SA__Right rostral-anterior-cingulate SA', 'FS_L_Caudalanteriorcingulate_Thck': 'Thc_Left caudal-anterior-cingulate Avg Thickness', 'FS_L_Rostralanteriorcingulate_Thck': 'Thc_Left rostral-anterior-cingulate Avg Thickness', 'FS_R_Caudalanteriorcingulate_Thck': 'Thc_Right caudal-anterior-cingulate Avg Thickness', 'FS_R_Rostralanteriorcingulate_Thck': 'Thc_Right rostral-anterior-cingulate Avg Thickness', 'FS_L_Lateralorbitofrontal_Area': 'SA__Left lateral-orbito-frontal SA', 'FS_L_Medialorbitofrontal_Area': 'SA__Left medial-orbito-frontal SA', 'FS_R_Lateralorbitofrontal_Area': 'SA__Right lateral-orbito-frontal SA', 'FS_R_Medialorbitofrontal_Area': 'SA__Right medial-orbito-frontal SA', 'FS_L_Lateralorbitofrontal_Thck': 'Thc_Left lateral-orbito-frontal Avg Thickness', 'FS_L_Medialorbitofrontal_Thck': 'Thc_Left medial-orbito-frontal Avg Thickness', 'FS_R_Lateralorbitofrontal_Thck': 'Thc_Right lateral-orbito-frontal Avg Thickness', 'FS_R_Medialorbitofrontal_Thck': 'Thc_Right medial-orbito-frontal Avg Thickness'}\n"
          ]
        }
      ],
      "source": [
        "def make_dict(lists):\n",
        "  mydic={}\n",
        "  for i in range(0,len(lists),2):\n",
        "    mydic[lists[i]]=lists[i+1]\n",
        "  return mydic\n",
        "\n",
        "all_meanings = Cognition_meanings + Emotion_meanings + Other_meanings +Motor_meanings+ Freesurfer_Summary_Statistics+brain_meanings\n",
        "print(len(all_meanings))\n",
        "meanings_dictionary = make_dict(all_meanings)\n",
        "print(meanings_dictionary)\n"
      ],
      "id": "j8I0mJHtfc6d"
    },
    {
      "cell_type": "markdown",
      "source": [
        "#3. Select columns to add final dataset\n"
      ],
      "metadata": {
        "id": "Rb5cTkanNmkr"
      },
      "id": "Rb5cTkanNmkr"
    },
    {
      "cell_type": "markdown",
      "source": [
        "##3.1 Select columns"
      ],
      "metadata": {
        "id": "9oUiD-x5daT4"
      },
      "id": "9oUiD-x5daT4"
    },
    {
      "cell_type": "code",
      "execution_count": 40,
      "metadata": {
        "id": "9731ee0d"
      },
      "outputs": [],
      "source": [
        "#COGNITION\n",
        "Cognition_feature_names=[\n",
        "                        \"PicSeq_AgeAdj\",   #Episodic Memory\n",
        "                         \"CardSort_AgeAdj\", #Executive Function/ Cognitive Flexibility\n",
        "                         \"Flanker_AgeAdj\",  #Executive Function/ Inhibition\n",
        "                         \n",
        "                         \"PMAT24_A_CR\",     #Fluid Intelligence\n",
        "                         #\"PMAT24_A_SI\", \"PMAT24_A_RTCR\",\n",
        "                         \n",
        "                        \"ReadEng_AgeAdj\",   #Language/Reading Decoding \n",
        "                        \"PicVocab_AgeAdj\",  #Language/Vocabulary Comprehension\n",
        "                        \"ProcSpeed_AgeAdj\", #Processing Speed \n",
        "                         \n",
        "                         \"DDisc_AUC_200\",\n",
        "                         #\"DDisc_AUC_40K\", #Self-regulation/Impulsivity (Delay Discounting)\n",
        "                         #\"DDisc_SV_1mo_200\", \"DDisc_SV_6mo_200\",\"DDisc_SV_1yr_200\",\"DDisc_SV_3yr_200\",\"DDisc_SV_5yr_200\",\"DDisc_SV_10yr_200\", \n",
        "                         #\"DDisc_SV_1mo_40K\", \"DDisc_SV_6mo_40K\",\"DDisc_SV_1yr_40K\",\"DDisc_SV_3yr_40K\",\"DDisc_SV_5yr_40K\",\"DDisc_SV_10yr_40K\",\n",
        "\n",
        "                        \"VSPLOT_TC\",        #Spatial Orientation\n",
        "                         #\"VSPLOT_CRTE\",\n",
        "                         #\"VSPLOT_OFF\",\n",
        "\n",
        "                         \"SCPT_SEN\",\"SCPT_SPEC\", #Sustained Attention (Short Penn Continuous Performance Test)\n",
        "                         #\"SCPT_TP\", #\"SCPT_TN\",\"SCPT_FP\",\"SCPT_FN\",\"SCPT_TPRT\",\"SCPT_LRNR\",\n",
        "                         \n",
        "                         \n",
        "                         \"IWRD_TOT\",        #Verbal Episodic Memory\n",
        "                         #\"IWRD_RTC\",\n",
        "                         \"ListSort_AgeAdj\", #Working Memory (List Sorting)\n",
        "                        ]  \n"
      ],
      "id": "9731ee0d"
    },
    {
      "cell_type": "code",
      "execution_count": 41,
      "metadata": {
        "id": "CKnIr81OgvVw"
      },
      "outputs": [],
      "source": [
        "#EMOTION\n",
        "Emotion_feature_names=[\n",
        "                       \"ER40_CR\", #Emotion Recognition (Penn Emotion Recognition Test)\n",
        "                       #\"ER40_CRT\",\"ER40ANG\",\"ER40FEAR\",\"ER40HAP\",\"ER40NOE\",\"ER40SAD\",\n",
        "\n",
        "                      \"AngHostil_Unadj\",  #Negative Affect (Sadness, Fear, Anger)\n",
        "                      #\"AngAffect_Unadj\",\"AngAggr_Unadj\",\"FearAffect_Unadj\",\n",
        "                      \"FearSomat_Unadj\",\n",
        "                      \"Sadness_Unadj\",\n",
        "                       \n",
        "                       \"LifeSatisf_Unadj\",#Psychological Well-being \n",
        "                       #\"MeanPurp_Unadj\",\"PosAffect_Unadj\",\n",
        "\n",
        "                        \"Loneliness_Unadj\",#Social Relationships \n",
        "                       \"Friendship_Unadj\",#\"PercHostil_Unadj\",\n",
        "                       #\"PercReject_Unadj\",\"EmotSupp_Unadj\",\"InstruSupp_Unadj\",\n",
        "\n",
        "                       \"PercStress_Unadj\", #Stress and Self Efficacy\n",
        "                       #\"SelfEff_Unadj\"\n",
        "\n",
        "                       \n",
        "\n",
        "]"
      ],
      "id": "CKnIr81OgvVw"
    },
    {
      "cell_type": "code",
      "execution_count": 42,
      "metadata": {
        "id": "PAsTR9nOhsJL"
      },
      "outputs": [],
      "source": [
        "#MOTOR\n",
        "Motor_feature_names=[\n",
        "                     \n",
        "                     \"Endurance_AgeAdj\", #Endurance (2 minute walk test)\n",
        "                     \"GaitSpeed_Comp\", #Locomotion (4-meter walk test)\n",
        "                     \"Dexterity_AgeAdj\", #Dexterity (9-hole Pegboard)\n",
        "                     \"Strength_AgeAdj\", #Strength (Grip Strength Dynamometry)          \n",
        "]"
      ],
      "id": "PAsTR9nOhsJL"
    },
    {
      "cell_type": "code",
      "source": [
        "# FreeSurfer Summary Statistics\n",
        "Freesurfer_Summary_Statistics_feature_names=[\n",
        "    #\"FS_LCort_GM_Vol\", #\"FSS_Left hemisphere cortical gray matter volume\",\n",
        "    #\"FS_RCort_GM_Vol\", #\"FSS_Right hemisphere cortical gray matter volume\",\n",
        "    \"FS_TotCort_GM_Vol\", #\"Total cortical gray matter volume\",\n",
        "    \"FS_SubCort_GM_Vol\",#\"FSS_Total subcortical gray matter volume\",\n",
        "    \"FS_Total_GM_Vol\", #\"FSS_Total gray matter volume\",\n",
        "    \"FS_SupraTentorial_Vol\", #\"FSS_Supratentorial volume\",\n",
        "    #\"FS_L_WM_Vol\",#\"Left hemisphere cortical white matter volume\",\n",
        "    #\"FS_R_WM_Vol\", #\"Right hemisphere cortical white matter volume\",\n",
        "    \"FS_Tot_WM_Vol\"#,\"Total cortical white matter volume\"\n",
        "]"
      ],
      "metadata": {
        "id": "jnZjuezJckh8"
      },
      "execution_count": 43,
      "outputs": [],
      "id": "jnZjuezJckh8"
    },
    {
      "cell_type": "code",
      "source": [
        "#Thickness\n",
        "Surface_Thickness_feature_names=[]\n",
        "for i in range(0,len(df_targets.columns)):\n",
        "  if df_targets.columns[i][-4:]==\"Thck\":\n",
        "    Surface_Thickness_feature_names.append(df_targets.columns[i])\n"
      ],
      "metadata": {
        "id": "CE1IcxxzctjG"
      },
      "execution_count": 44,
      "outputs": [],
      "id": "CE1IcxxzctjG"
    },
    {
      "cell_type": "code",
      "source": [
        "############################################\n",
        "#FOR RESEARCH:\n",
        "brain_features = [\n",
        "    #Anterior Cingulate Cortex\n",
        "   \"FS_L_Caudalanteriorcingulate_Area\", #\"BRA_Left caudalanteriorcingulate Surface Area\",\n",
        "   \t\"FS_L_Rostralanteriorcingulate_Area\" ,#\"BRA_Left rostralanteriorcingulate Surface Area\",\n",
        "    \"FS_R_Caudalanteriorcingulate_Area\",#\"Right caudalanteriorcingulate Surface Area\",\n",
        "    \t\"FS_R_Rostralanteriorcingulate_Area\",#\"Right rostralanteriorcingulate Surface Area\",\n",
        "\n",
        "      \"FS_L_Caudalanteriorcingulate_Thck\",#\"Left caudalanteriorcingulate Average Thickness\",\n",
        "      \t\"FS_L_Rostralanteriorcingulate_Thck\",#\"Left rostralanteriorcingulate Average Thickness\",\n",
        "        \t \"FS_R_Caudalanteriorcingulate_Thck\",#\"Right caudalanteriorcingulate Average Thickness\",\n",
        "           \t\"FS_R_Rostralanteriorcingulate_Thck\",# \"Right rostralanteriorcingulate Average Thickness\",\n",
        "      #Orbitofrontal Cortex\n",
        "     \"FS_L_Lateralorbitofrontal_Area\", #\"Left lateralorbitofrontal Surface Area\",\n",
        "     \t\"FS_L_Medialorbitofrontal_Area\",#\"Left medialorbitofrontal Surface Area\",\n",
        "       \"FS_R_Lateralorbitofrontal_Area\",#\"Right lateralorbitofrontal Surface Area\",\n",
        "      \t\"FS_R_Medialorbitofrontal_Area\" , #\"Right medialorbitofrontal Surface Area\",\n",
        "\n",
        "        \"FS_L_Lateralorbitofrontal_Thck\", #\"Left lateralorbitofrontal Average Thickness\",\n",
        "        \"FS_L_Medialorbitofrontal_Thck\", #\"Left medialorbitofrontal Average Thickness\",\n",
        "        \"FS_R_Lateralorbitofrontal_Thck\", #,\"Right lateralorbitofrontal Average Thickness\",\n",
        "        \"FS_R_Medialorbitofrontal_Thck\",# \"Right medialorbitofrontal Average Thickness\"\t \n",
        "\n",
        "\n",
        "\n",
        "]"
      ],
      "metadata": {
        "id": "KutgwCMaDM9I"
      },
      "id": "KutgwCMaDM9I",
      "execution_count": 45,
      "outputs": []
    },
    {
      "cell_type": "code",
      "execution_count": 46,
      "metadata": {
        "id": "e7ed3fa4"
      },
      "outputs": [],
      "source": [
        "df_targets.reset_index(drop=True, inplace=True)\n",
        "df_cognition = df_targets[Cognition_feature_names]\n",
        "df_emotion = df_targets[Emotion_feature_names]\n",
        "df_motor =df_targets[Motor_feature_names]\n",
        "df_Freesurfer_Summary_Statistics = df_targets[Freesurfer_Summary_Statistics_feature_names]\n",
        "df_Surface_Thickness_feature_names = df_targets[Surface_Thickness_feature_names]\n",
        "\n",
        "df_brain=df_targets[brain_features]"
      ],
      "id": "e7ed3fa4"
    },
    {
      "cell_type": "markdown",
      "source": [
        "##3.2 Age Column"
      ],
      "metadata": {
        "id": "sJu6yac2dhX0"
      },
      "id": "sJu6yac2dhX0"
    },
    {
      "cell_type": "code",
      "source": [
        "np.sum(df_targets[\"Age\"]=='26-30')"
      ],
      "metadata": {
        "colab": {
          "base_uri": "https://localhost:8080/"
        },
        "id": "5_pdmIe3iOMW",
        "outputId": "6484b989-01d4-4126-9882-02e97a41e0fc"
      },
      "id": "5_pdmIe3iOMW",
      "execution_count": 47,
      "outputs": [
        {
          "output_type": "execute_result",
          "data": {
            "text/plain": [
              "429"
            ]
          },
          "metadata": {},
          "execution_count": 47
        }
      ]
    },
    {
      "cell_type": "code",
      "source": [
        "age_col  = df_targets[\"Age\"].copy()\n",
        "age_col"
      ],
      "metadata": {
        "colab": {
          "base_uri": "https://localhost:8080/"
        },
        "id": "KwD8a9m3pdVK",
        "outputId": "46591e56-ded8-44d3-84a4-ef6594622a75"
      },
      "id": "KwD8a9m3pdVK",
      "execution_count": 48,
      "outputs": [
        {
          "output_type": "execute_result",
          "data": {
            "text/plain": [
              "0      26-30\n",
              "1      26-30\n",
              "2      31-35\n",
              "3      26-30\n",
              "4      31-35\n",
              "       ...  \n",
              "993    31-35\n",
              "994    31-35\n",
              "995    26-30\n",
              "996    26-30\n",
              "997    26-30\n",
              "Name: Age, Length: 998, dtype: object"
            ]
          },
          "metadata": {},
          "execution_count": 48
        }
      ]
    },
    {
      "cell_type": "code",
      "source": [
        "df_targets.reset_index(drop=True, inplace=True)\n",
        "\n",
        "\n",
        "\n",
        "#Group the age categories:\n",
        "for i in range(len(age_col)):\n",
        "  if age_col[i]== '31-35':\n",
        "    age_col[i] = '31+'\n",
        "  elif age_col[i]== '36+':\n",
        "    age_col[i] = '31+'\n",
        "  elif age_col[i]== '26-30':\n",
        "    age_col[i] = '22-30'\n",
        "  elif age_col[i]== '22-25':\n",
        "    age_col[i] = '22-30'\n",
        "  \n"
      ],
      "metadata": {
        "id": "BNN46fwQdlFc"
      },
      "id": "BNN46fwQdlFc",
      "execution_count": 49,
      "outputs": []
    },
    {
      "cell_type": "code",
      "source": [
        "age_col"
      ],
      "metadata": {
        "colab": {
          "base_uri": "https://localhost:8080/"
        },
        "id": "FjSgR90UpU2Y",
        "outputId": "43993414-bebf-48a5-ab7a-a95ba5bfbe12"
      },
      "id": "FjSgR90UpU2Y",
      "execution_count": 50,
      "outputs": [
        {
          "output_type": "execute_result",
          "data": {
            "text/plain": [
              "0      22-30\n",
              "1      22-30\n",
              "2        31+\n",
              "3      22-30\n",
              "4        31+\n",
              "       ...  \n",
              "993      31+\n",
              "994      31+\n",
              "995    22-30\n",
              "996    22-30\n",
              "997    22-30\n",
              "Name: Age, Length: 998, dtype: object"
            ]
          },
          "metadata": {},
          "execution_count": 50
        }
      ]
    },
    {
      "cell_type": "code",
      "source": [
        "\n",
        "import category_encoders as ce\n",
        "\n",
        "encoder= ce.OrdinalEncoder(cols=[\"Age\"])\n",
        "\n",
        "age_col = encoder.fit_transform(age_col)\n",
        "age_col"
      ],
      "metadata": {
        "colab": {
          "base_uri": "https://localhost:8080/",
          "height": 424
        },
        "id": "flgd-WR6pqG1",
        "outputId": "e17a8a9a-2544-47b2-c422-8c58d96f74e1"
      },
      "id": "flgd-WR6pqG1",
      "execution_count": 51,
      "outputs": [
        {
          "output_type": "execute_result",
          "data": {
            "text/plain": [
              "     Age\n",
              "0      1\n",
              "1      1\n",
              "2      2\n",
              "3      1\n",
              "4      2\n",
              "..   ...\n",
              "993    2\n",
              "994    2\n",
              "995    1\n",
              "996    1\n",
              "997    1\n",
              "\n",
              "[998 rows x 1 columns]"
            ],
            "text/html": [
              "\n",
              "  <div id=\"df-b37c3fbe-ae87-488a-aa2d-3e9848a0de6c\">\n",
              "    <div class=\"colab-df-container\">\n",
              "      <div>\n",
              "<style scoped>\n",
              "    .dataframe tbody tr th:only-of-type {\n",
              "        vertical-align: middle;\n",
              "    }\n",
              "\n",
              "    .dataframe tbody tr th {\n",
              "        vertical-align: top;\n",
              "    }\n",
              "\n",
              "    .dataframe thead th {\n",
              "        text-align: right;\n",
              "    }\n",
              "</style>\n",
              "<table border=\"1\" class=\"dataframe\">\n",
              "  <thead>\n",
              "    <tr style=\"text-align: right;\">\n",
              "      <th></th>\n",
              "      <th>Age</th>\n",
              "    </tr>\n",
              "  </thead>\n",
              "  <tbody>\n",
              "    <tr>\n",
              "      <th>0</th>\n",
              "      <td>1</td>\n",
              "    </tr>\n",
              "    <tr>\n",
              "      <th>1</th>\n",
              "      <td>1</td>\n",
              "    </tr>\n",
              "    <tr>\n",
              "      <th>2</th>\n",
              "      <td>2</td>\n",
              "    </tr>\n",
              "    <tr>\n",
              "      <th>3</th>\n",
              "      <td>1</td>\n",
              "    </tr>\n",
              "    <tr>\n",
              "      <th>4</th>\n",
              "      <td>2</td>\n",
              "    </tr>\n",
              "    <tr>\n",
              "      <th>...</th>\n",
              "      <td>...</td>\n",
              "    </tr>\n",
              "    <tr>\n",
              "      <th>993</th>\n",
              "      <td>2</td>\n",
              "    </tr>\n",
              "    <tr>\n",
              "      <th>994</th>\n",
              "      <td>2</td>\n",
              "    </tr>\n",
              "    <tr>\n",
              "      <th>995</th>\n",
              "      <td>1</td>\n",
              "    </tr>\n",
              "    <tr>\n",
              "      <th>996</th>\n",
              "      <td>1</td>\n",
              "    </tr>\n",
              "    <tr>\n",
              "      <th>997</th>\n",
              "      <td>1</td>\n",
              "    </tr>\n",
              "  </tbody>\n",
              "</table>\n",
              "<p>998 rows × 1 columns</p>\n",
              "</div>\n",
              "      <button class=\"colab-df-convert\" onclick=\"convertToInteractive('df-b37c3fbe-ae87-488a-aa2d-3e9848a0de6c')\"\n",
              "              title=\"Convert this dataframe to an interactive table.\"\n",
              "              style=\"display:none;\">\n",
              "        \n",
              "  <svg xmlns=\"http://www.w3.org/2000/svg\" height=\"24px\"viewBox=\"0 0 24 24\"\n",
              "       width=\"24px\">\n",
              "    <path d=\"M0 0h24v24H0V0z\" fill=\"none\"/>\n",
              "    <path d=\"M18.56 5.44l.94 2.06.94-2.06 2.06-.94-2.06-.94-.94-2.06-.94 2.06-2.06.94zm-11 1L8.5 8.5l.94-2.06 2.06-.94-2.06-.94L8.5 2.5l-.94 2.06-2.06.94zm10 10l.94 2.06.94-2.06 2.06-.94-2.06-.94-.94-2.06-.94 2.06-2.06.94z\"/><path d=\"M17.41 7.96l-1.37-1.37c-.4-.4-.92-.59-1.43-.59-.52 0-1.04.2-1.43.59L10.3 9.45l-7.72 7.72c-.78.78-.78 2.05 0 2.83L4 21.41c.39.39.9.59 1.41.59.51 0 1.02-.2 1.41-.59l7.78-7.78 2.81-2.81c.8-.78.8-2.07 0-2.86zM5.41 20L4 18.59l7.72-7.72 1.47 1.35L5.41 20z\"/>\n",
              "  </svg>\n",
              "      </button>\n",
              "      \n",
              "  <style>\n",
              "    .colab-df-container {\n",
              "      display:flex;\n",
              "      flex-wrap:wrap;\n",
              "      gap: 12px;\n",
              "    }\n",
              "\n",
              "    .colab-df-convert {\n",
              "      background-color: #E8F0FE;\n",
              "      border: none;\n",
              "      border-radius: 50%;\n",
              "      cursor: pointer;\n",
              "      display: none;\n",
              "      fill: #1967D2;\n",
              "      height: 32px;\n",
              "      padding: 0 0 0 0;\n",
              "      width: 32px;\n",
              "    }\n",
              "\n",
              "    .colab-df-convert:hover {\n",
              "      background-color: #E2EBFA;\n",
              "      box-shadow: 0px 1px 2px rgba(60, 64, 67, 0.3), 0px 1px 3px 1px rgba(60, 64, 67, 0.15);\n",
              "      fill: #174EA6;\n",
              "    }\n",
              "\n",
              "    [theme=dark] .colab-df-convert {\n",
              "      background-color: #3B4455;\n",
              "      fill: #D2E3FC;\n",
              "    }\n",
              "\n",
              "    [theme=dark] .colab-df-convert:hover {\n",
              "      background-color: #434B5C;\n",
              "      box-shadow: 0px 1px 3px 1px rgba(0, 0, 0, 0.15);\n",
              "      filter: drop-shadow(0px 1px 2px rgba(0, 0, 0, 0.3));\n",
              "      fill: #FFFFFF;\n",
              "    }\n",
              "  </style>\n",
              "\n",
              "      <script>\n",
              "        const buttonEl =\n",
              "          document.querySelector('#df-b37c3fbe-ae87-488a-aa2d-3e9848a0de6c button.colab-df-convert');\n",
              "        buttonEl.style.display =\n",
              "          google.colab.kernel.accessAllowed ? 'block' : 'none';\n",
              "\n",
              "        async function convertToInteractive(key) {\n",
              "          const element = document.querySelector('#df-b37c3fbe-ae87-488a-aa2d-3e9848a0de6c');\n",
              "          const dataTable =\n",
              "            await google.colab.kernel.invokeFunction('convertToInteractive',\n",
              "                                                     [key], {});\n",
              "          if (!dataTable) return;\n",
              "\n",
              "          const docLinkHtml = 'Like what you see? Visit the ' +\n",
              "            '<a target=\"_blank\" href=https://colab.research.google.com/notebooks/data_table.ipynb>data table notebook</a>'\n",
              "            + ' to learn more about interactive tables.';\n",
              "          element.innerHTML = '';\n",
              "          dataTable['output_type'] = 'display_data';\n",
              "          await google.colab.output.renderOutput(dataTable, element);\n",
              "          const docLink = document.createElement('div');\n",
              "          docLink.innerHTML = docLinkHtml;\n",
              "          element.appendChild(docLink);\n",
              "        }\n",
              "      </script>\n",
              "    </div>\n",
              "  </div>\n",
              "  "
            ]
          },
          "metadata": {},
          "execution_count": 51
        }
      ]
    },
    {
      "cell_type": "markdown",
      "source": [
        "##3.3 Gender Column"
      ],
      "metadata": {
        "id": "HBCUXmV1hbe2"
      },
      "id": "HBCUXmV1hbe2"
    },
    {
      "cell_type": "code",
      "execution_count": 52,
      "metadata": {
        "id": "643dff08",
        "colab": {
          "base_uri": "https://localhost:8080/",
          "height": 0
        },
        "outputId": "39ce151d-8d04-49f6-8cf2-8c9d19d439a0"
      },
      "outputs": [
        {
          "output_type": "execute_result",
          "data": {
            "text/plain": [
              "   Gender\n",
              "0       1\n",
              "1       2\n",
              "2       1\n",
              "3       1"
            ],
            "text/html": [
              "\n",
              "  <div id=\"df-2fdb9d9e-f5b8-4fbf-b571-f7d2a76ddd45\">\n",
              "    <div class=\"colab-df-container\">\n",
              "      <div>\n",
              "<style scoped>\n",
              "    .dataframe tbody tr th:only-of-type {\n",
              "        vertical-align: middle;\n",
              "    }\n",
              "\n",
              "    .dataframe tbody tr th {\n",
              "        vertical-align: top;\n",
              "    }\n",
              "\n",
              "    .dataframe thead th {\n",
              "        text-align: right;\n",
              "    }\n",
              "</style>\n",
              "<table border=\"1\" class=\"dataframe\">\n",
              "  <thead>\n",
              "    <tr style=\"text-align: right;\">\n",
              "      <th></th>\n",
              "      <th>Gender</th>\n",
              "    </tr>\n",
              "  </thead>\n",
              "  <tbody>\n",
              "    <tr>\n",
              "      <th>0</th>\n",
              "      <td>1</td>\n",
              "    </tr>\n",
              "    <tr>\n",
              "      <th>1</th>\n",
              "      <td>2</td>\n",
              "    </tr>\n",
              "    <tr>\n",
              "      <th>2</th>\n",
              "      <td>1</td>\n",
              "    </tr>\n",
              "    <tr>\n",
              "      <th>3</th>\n",
              "      <td>1</td>\n",
              "    </tr>\n",
              "  </tbody>\n",
              "</table>\n",
              "</div>\n",
              "      <button class=\"colab-df-convert\" onclick=\"convertToInteractive('df-2fdb9d9e-f5b8-4fbf-b571-f7d2a76ddd45')\"\n",
              "              title=\"Convert this dataframe to an interactive table.\"\n",
              "              style=\"display:none;\">\n",
              "        \n",
              "  <svg xmlns=\"http://www.w3.org/2000/svg\" height=\"24px\"viewBox=\"0 0 24 24\"\n",
              "       width=\"24px\">\n",
              "    <path d=\"M0 0h24v24H0V0z\" fill=\"none\"/>\n",
              "    <path d=\"M18.56 5.44l.94 2.06.94-2.06 2.06-.94-2.06-.94-.94-2.06-.94 2.06-2.06.94zm-11 1L8.5 8.5l.94-2.06 2.06-.94-2.06-.94L8.5 2.5l-.94 2.06-2.06.94zm10 10l.94 2.06.94-2.06 2.06-.94-2.06-.94-.94-2.06-.94 2.06-2.06.94z\"/><path d=\"M17.41 7.96l-1.37-1.37c-.4-.4-.92-.59-1.43-.59-.52 0-1.04.2-1.43.59L10.3 9.45l-7.72 7.72c-.78.78-.78 2.05 0 2.83L4 21.41c.39.39.9.59 1.41.59.51 0 1.02-.2 1.41-.59l7.78-7.78 2.81-2.81c.8-.78.8-2.07 0-2.86zM5.41 20L4 18.59l7.72-7.72 1.47 1.35L5.41 20z\"/>\n",
              "  </svg>\n",
              "      </button>\n",
              "      \n",
              "  <style>\n",
              "    .colab-df-container {\n",
              "      display:flex;\n",
              "      flex-wrap:wrap;\n",
              "      gap: 12px;\n",
              "    }\n",
              "\n",
              "    .colab-df-convert {\n",
              "      background-color: #E8F0FE;\n",
              "      border: none;\n",
              "      border-radius: 50%;\n",
              "      cursor: pointer;\n",
              "      display: none;\n",
              "      fill: #1967D2;\n",
              "      height: 32px;\n",
              "      padding: 0 0 0 0;\n",
              "      width: 32px;\n",
              "    }\n",
              "\n",
              "    .colab-df-convert:hover {\n",
              "      background-color: #E2EBFA;\n",
              "      box-shadow: 0px 1px 2px rgba(60, 64, 67, 0.3), 0px 1px 3px 1px rgba(60, 64, 67, 0.15);\n",
              "      fill: #174EA6;\n",
              "    }\n",
              "\n",
              "    [theme=dark] .colab-df-convert {\n",
              "      background-color: #3B4455;\n",
              "      fill: #D2E3FC;\n",
              "    }\n",
              "\n",
              "    [theme=dark] .colab-df-convert:hover {\n",
              "      background-color: #434B5C;\n",
              "      box-shadow: 0px 1px 3px 1px rgba(0, 0, 0, 0.15);\n",
              "      filter: drop-shadow(0px 1px 2px rgba(0, 0, 0, 0.3));\n",
              "      fill: #FFFFFF;\n",
              "    }\n",
              "  </style>\n",
              "\n",
              "      <script>\n",
              "        const buttonEl =\n",
              "          document.querySelector('#df-2fdb9d9e-f5b8-4fbf-b571-f7d2a76ddd45 button.colab-df-convert');\n",
              "        buttonEl.style.display =\n",
              "          google.colab.kernel.accessAllowed ? 'block' : 'none';\n",
              "\n",
              "        async function convertToInteractive(key) {\n",
              "          const element = document.querySelector('#df-2fdb9d9e-f5b8-4fbf-b571-f7d2a76ddd45');\n",
              "          const dataTable =\n",
              "            await google.colab.kernel.invokeFunction('convertToInteractive',\n",
              "                                                     [key], {});\n",
              "          if (!dataTable) return;\n",
              "\n",
              "          const docLinkHtml = 'Like what you see? Visit the ' +\n",
              "            '<a target=\"_blank\" href=https://colab.research.google.com/notebooks/data_table.ipynb>data table notebook</a>'\n",
              "            + ' to learn more about interactive tables.';\n",
              "          element.innerHTML = '';\n",
              "          dataTable['output_type'] = 'display_data';\n",
              "          await google.colab.output.renderOutput(dataTable, element);\n",
              "          const docLink = document.createElement('div');\n",
              "          docLink.innerHTML = docLinkHtml;\n",
              "          element.appendChild(docLink);\n",
              "        }\n",
              "      </script>\n",
              "    </div>\n",
              "  </div>\n",
              "  "
            ]
          },
          "metadata": {},
          "execution_count": 52
        }
      ],
      "source": [
        "#For Jupyter notebook in Anaconda: (Make this on terminal, not in Jupyter notebook cell.)\n",
        "#conda install -c conda-forge category_encoders\n",
        "#For Colab:\n",
        "#!pip install --upgrade category_encoders\n",
        "\n",
        "import category_encoders as ce\n",
        "\n",
        "df_targets.reset_index(drop=True, inplace=True)\n",
        "gender_col  = df_targets[[\"Gender\"]]\n",
        "\n",
        "encoder= ce.OrdinalEncoder(cols=[\"Gender\"])\n",
        "\n",
        "gender_col = encoder.fit_transform(gender_col)\n",
        "gender_col.head(4)\n"
      ],
      "id": "643dff08"
    },
    {
      "cell_type": "code",
      "execution_count": 53,
      "metadata": {
        "id": "374a4e4f",
        "colab": {
          "base_uri": "https://localhost:8080/"
        },
        "outputId": "33cd272d-73f8-4d21-9cd9-cf10762c5ee5"
      },
      "outputs": [
        {
          "output_type": "execute_result",
          "data": {
            "text/plain": [
              "(998, 50)"
            ]
          },
          "metadata": {},
          "execution_count": 53
        }
      ],
      "source": [
        "df_tda_cognition = pd.concat([df_tda,\n",
        "                              age_col,\n",
        "                              gender_col, \n",
        "                              df_cognition,\n",
        "                              df_emotion,\n",
        "                              df_motor,\n",
        "                              df_Freesurfer_Summary_Statistics,\n",
        "                              df_brain]\n",
        "                              #df_Surface_Thickness_feature_names]\n",
        "                            , axis=1)\n",
        "df_tda_cognition.shape"
      ],
      "id": "374a4e4f"
    },
    {
      "cell_type": "markdown",
      "id": "59e63db0",
      "metadata": {
        "id": "59e63db0"
      },
      "source": [
        "### Replace NaN with mean"
      ]
    },
    {
      "cell_type": "code",
      "execution_count": 54,
      "id": "21c73249",
      "metadata": {
        "colab": {
          "base_uri": "https://localhost:8080/"
        },
        "id": "21c73249",
        "outputId": "788dcd90-3662-4e8d-ce0a-7e86556fcd32"
      },
      "outputs": [
        {
          "output_type": "execute_result",
          "data": {
            "text/plain": [
              "TDA_feature_1                         False\n",
              "TDA_feature_2                         False\n",
              "Age                                   False\n",
              "Gender                                False\n",
              "PicSeq_AgeAdj                         False\n",
              "CardSort_AgeAdj                       False\n",
              "Flanker_AgeAdj                        False\n",
              "PMAT24_A_CR                           False\n",
              "ReadEng_AgeAdj                        False\n",
              "PicVocab_AgeAdj                       False\n",
              "ProcSpeed_AgeAdj                      False\n",
              "DDisc_AUC_200                         False\n",
              "VSPLOT_TC                             False\n",
              "SCPT_SEN                              False\n",
              "SCPT_SPEC                             False\n",
              "IWRD_TOT                              False\n",
              "ListSort_AgeAdj                       False\n",
              "ER40_CR                               False\n",
              "AngHostil_Unadj                       False\n",
              "FearSomat_Unadj                       False\n",
              "Sadness_Unadj                         False\n",
              "LifeSatisf_Unadj                      False\n",
              "Loneliness_Unadj                      False\n",
              "Friendship_Unadj                      False\n",
              "PercStress_Unadj                      False\n",
              "Endurance_AgeAdj                      False\n",
              "GaitSpeed_Comp                        False\n",
              "Dexterity_AgeAdj                      False\n",
              "Strength_AgeAdj                       False\n",
              "FS_TotCort_GM_Vol                     False\n",
              "FS_SubCort_GM_Vol                     False\n",
              "FS_Total_GM_Vol                       False\n",
              "FS_SupraTentorial_Vol                 False\n",
              "FS_Tot_WM_Vol                         False\n",
              "FS_L_Caudalanteriorcingulate_Area     False\n",
              "FS_L_Rostralanteriorcingulate_Area    False\n",
              "FS_R_Caudalanteriorcingulate_Area     False\n",
              "FS_R_Rostralanteriorcingulate_Area    False\n",
              "FS_L_Caudalanteriorcingulate_Thck     False\n",
              "FS_L_Rostralanteriorcingulate_Thck    False\n",
              "FS_R_Caudalanteriorcingulate_Thck     False\n",
              "FS_R_Rostralanteriorcingulate_Thck    False\n",
              "FS_L_Lateralorbitofrontal_Area        False\n",
              "FS_L_Medialorbitofrontal_Area         False\n",
              "FS_R_Lateralorbitofrontal_Area        False\n",
              "FS_R_Medialorbitofrontal_Area         False\n",
              "FS_L_Lateralorbitofrontal_Thck        False\n",
              "FS_L_Medialorbitofrontal_Thck         False\n",
              "FS_R_Lateralorbitofrontal_Thck        False\n",
              "FS_R_Medialorbitofrontal_Thck         False\n",
              "dtype: bool"
            ]
          },
          "metadata": {},
          "execution_count": 54
        }
      ],
      "source": [
        "df_tda_cognition[list(df_tda_cognition.columns)] = df_tda_cognition[list(df_tda_cognition.columns)].fillna(value=df_tda_cognition[list(df_tda_cognition.columns)].mean())\n",
        "\n",
        "df_tda_cognition.isnull().any()"
      ]
    },
    {
      "cell_type": "markdown",
      "id": "b0bc82f9",
      "metadata": {
        "id": "b0bc82f9"
      },
      "source": [
        "#Implement Filters:"
      ]
    },
    {
      "cell_type": "code",
      "execution_count": 55,
      "id": "4eee4a80",
      "metadata": {
        "colab": {
          "base_uri": "https://localhost:8080/"
        },
        "id": "4eee4a80",
        "outputId": "77a6f270-7644-45eb-e462-1eb8b2f34ffd"
      },
      "outputs": [
        {
          "output_type": "execute_result",
          "data": {
            "text/plain": [
              "(998, 50)"
            ]
          },
          "metadata": {},
          "execution_count": 55
        }
      ],
      "source": [
        "df_tda_cognition_np = df_tda_cognition.to_numpy()\n",
        "df_tda_cognition_np.shape"
      ]
    },
    {
      "cell_type": "markdown",
      "source": [
        "1. L_P norm:"
      ],
      "metadata": {
        "id": "-FxLVt0QBIoF"
      },
      "id": "-FxLVt0QBIoF"
    },
    {
      "cell_type": "code",
      "source": [
        "#Define filter function for Mapper:\n",
        "L_p_filter = np.zeros((998,))\n",
        "print(L_p_filter.shape)\n",
        "\n",
        "k=1\n",
        "p=2\n",
        "\n",
        "for patients in range(0,len(df_tda_cognition_np)):\n",
        "  summ=0\n",
        "  filter_temp = 0\n",
        "  for features in range(len(df_tda_cognition_np[patients])):\n",
        "    summ += (df_tda_cognition_np[patients][features])**p\n",
        "    #print(df_tda_cognition_np[patients][features])\n",
        "  filter_temp = summ**(k/p)\n",
        "  L_p_filter[patients] = filter_temp"
      ],
      "metadata": {
        "colab": {
          "base_uri": "https://localhost:8080/"
        },
        "id": "I7bqkceVuCMJ",
        "outputId": "6e1285e3-7287-4967-e3a1-a09e84de3271"
      },
      "id": "I7bqkceVuCMJ",
      "execution_count": 56,
      "outputs": [
        {
          "output_type": "stream",
          "name": "stdout",
          "text": [
            "(998,)\n"
          ]
        }
      ]
    },
    {
      "cell_type": "code",
      "source": [
        "L_p_filter[:10]"
      ],
      "metadata": {
        "colab": {
          "base_uri": "https://localhost:8080/"
        },
        "id": "C2qmA6QJnku1",
        "outputId": "1bb8873e-dddc-44cd-95f6-37f470d3755c"
      },
      "id": "C2qmA6QJnku1",
      "execution_count": 57,
      "outputs": [
        {
          "output_type": "execute_result",
          "data": {
            "text/plain": [
              "array([1691357.68900011, 1326920.05274379, 1511189.83304841,\n",
              "       1578454.81831351, 1239485.90642318, 1353336.94579791,\n",
              "       1493255.34421621, 1347723.08037592, 1472738.60399367,\n",
              "       1657275.92676062])"
            ]
          },
          "metadata": {},
          "execution_count": 57
        }
      ]
    },
    {
      "cell_type": "markdown",
      "source": [
        "L_infinity Centrality:"
      ],
      "metadata": {
        "id": "cZIDCxuFBa88"
      },
      "id": "cZIDCxuFBa88"
    },
    {
      "cell_type": "code",
      "source": [
        "'''\n",
        "from scipy.spatial import distance\n",
        "\n",
        "L_infinity_filter = np.zeros((998,))\n",
        "\n",
        "for i in range(0,len(df_tda_cognition_np)):\n",
        "  max_distance=0\n",
        "\n",
        "  for j in range(len(df_tda_cognition_np)):\n",
        "    #if distance.euclidean(df_tda_cognition_np[i], df_tda_cognition_np[j]) > max_distance:\n",
        "    if distance.correlation(df_tda_cognition_np[i], df_tda_cognition_np[j]) > max_distance:\n",
        "    \n",
        "      max_distance = distance.correlation(df_tda_cognition_np[i], df_tda_cognition_np[j])\n",
        "\n",
        "  L_infinity_filter[i] = max_distance\n",
        "\n",
        "L_infinity_filter.shape, L_infinity_filter[:10]\n",
        "'''"
      ],
      "metadata": {
        "id": "KYisSJaZBdYa",
        "colab": {
          "base_uri": "https://localhost:8080/",
          "height": 0
        },
        "outputId": "cbeff2f1-3dbf-43cf-e64b-a7b60fdf19e0"
      },
      "id": "KYisSJaZBdYa",
      "execution_count": 58,
      "outputs": [
        {
          "output_type": "execute_result",
          "data": {
            "text/plain": [
              "'\\nfrom scipy.spatial import distance\\n\\nL_infinity_filter = np.zeros((998,))\\n\\nfor i in range(0,len(df_tda_cognition_np)):\\n  max_distance=0\\n\\n  for j in range(len(df_tda_cognition_np)):\\n    #if distance.euclidean(df_tda_cognition_np[i], df_tda_cognition_np[j]) > max_distance:\\n    if distance.correlation(df_tda_cognition_np[i], df_tda_cognition_np[j]) > max_distance:\\n    \\n      max_distance = distance.correlation(df_tda_cognition_np[i], df_tda_cognition_np[j])\\n\\n  L_infinity_filter[i] = max_distance\\n\\nL_infinity_filter.shape, L_infinity_filter[:10]\\n'"
            ],
            "application/vnd.google.colaboratory.intrinsic+json": {
              "type": "string"
            }
          },
          "metadata": {},
          "execution_count": 58
        }
      ]
    },
    {
      "cell_type": "code",
      "source": [
        "#L-infinity centrality, which assigns to each point the distance to the point most distant from it. \n",
        "\n",
        "#L-infinity centrality is defined for each data point y to be the maximum distance from y to any other data point in the \n",
        "#data set. It produces a more detailed and succinct description of the data set than a typical scatter plots display. \n",
        "#Large values of this function correspond to points that are far from the center of the data set. \n",
        "from scipy.spatial.distance import pdist, squareform\n",
        "\n",
        "#pairwise_dist = squareform(pdist(df_tda_cognition_np, 'euclidean')) \n",
        "pairwise_dist = squareform(pdist(df_tda_cognition_np, 'correlation'))\n",
        "\n",
        "L_infinity = np.amax(pairwise_dist, axis = 1)\n",
        "L_infinity.shape, L_infinity[:10]"
      ],
      "metadata": {
        "colab": {
          "base_uri": "https://localhost:8080/"
        },
        "id": "gGXQtmepnYU2",
        "outputId": "c3b3726d-7b2f-4960-8e6e-9ca06b2b5184"
      },
      "id": "gGXQtmepnYU2",
      "execution_count": 59,
      "outputs": [
        {
          "output_type": "execute_result",
          "data": {
            "text/plain": [
              "((998,), array([0.00284452, 0.00387969, 0.00389691, 0.00328126, 0.00652671,\n",
              "        0.00314194, 0.00355573, 0.00448024, 0.00288869, 0.00339839]))"
            ]
          },
          "metadata": {},
          "execution_count": 59
        }
      ]
    },
    {
      "cell_type": "code",
      "source": [
        "from sklearn.decomposition import TruncatedSVD\n",
        "\n",
        "svd = TruncatedSVD(n_components=1, n_iter=7, random_state=42)\n",
        "SVD_filter = svd.fit_transform(df_tda_cognition_np)\n",
        "print(SVD_filter.shape)\n"
      ],
      "metadata": {
        "colab": {
          "base_uri": "https://localhost:8080/"
        },
        "id": "HWvJxIALLJ-V",
        "outputId": "1fa57eef-6699-47d1-de52-7c961e633542"
      },
      "id": "HWvJxIALLJ-V",
      "execution_count": 60,
      "outputs": [
        {
          "output_type": "stream",
          "name": "stdout",
          "text": [
            "(998, 1)\n"
          ]
        }
      ]
    },
    {
      "cell_type": "code",
      "source": [
        "df_targets.Age"
      ],
      "metadata": {
        "colab": {
          "base_uri": "https://localhost:8080/"
        },
        "id": "di75DwfYFhjR",
        "outputId": "54bda127-1085-4745-b42b-47edc943514f"
      },
      "id": "di75DwfYFhjR",
      "execution_count": 61,
      "outputs": [
        {
          "output_type": "execute_result",
          "data": {
            "text/plain": [
              "0      26-30\n",
              "1      26-30\n",
              "2      31-35\n",
              "3      26-30\n",
              "4      31-35\n",
              "       ...  \n",
              "993    31-35\n",
              "994    31-35\n",
              "995    26-30\n",
              "996    26-30\n",
              "997    26-30\n",
              "Name: Age, Length: 998, dtype: object"
            ]
          },
          "metadata": {},
          "execution_count": 61
        }
      ]
    },
    {
      "cell_type": "markdown",
      "source": [
        "# 5. KepplerMapper\n"
      ],
      "metadata": {
        "id": "ZDz1hbM2EVc4"
      },
      "id": "ZDz1hbM2EVc4"
    },
    {
      "cell_type": "code",
      "source": [
        "df_tda_cognition_np.shape"
      ],
      "metadata": {
        "colab": {
          "base_uri": "https://localhost:8080/"
        },
        "id": "mFAvayivE32N",
        "outputId": "1fdcf74e-59e9-4503-adfd-8afce3611337"
      },
      "execution_count": 62,
      "outputs": [
        {
          "output_type": "execute_result",
          "data": {
            "text/plain": [
              "(998, 50)"
            ]
          },
          "metadata": {},
          "execution_count": 62
        }
      ],
      "id": "mFAvayivE32N"
    },
    {
      "cell_type": "code",
      "source": [
        "#target_col = df_tda_cognition[\"ListSort_AgeAdj\"].to_numpy()\n",
        "#SVD_filter\n",
        "#L_infinity[:,np.newaxis]\n",
        "#L_p_filter[:,np.newaxis]\n",
        "\n",
        "age_col = df_tda_cognition[\"Age\"].to_numpy()\n",
        "memory_col = df_tda_cognition[\"ListSort_AgeAdj\"].to_numpy()\n",
        "#filters = np.concatenate(( age_col[:,np.newaxis], SVD_filter), axis=1)\n",
        "#filters= np.concatenate(( SVD_filter, L_infinity[:,np.newaxis]), axis=1)"
      ],
      "metadata": {
        "id": "9iNs_b-QFR4z"
      },
      "execution_count": 63,
      "outputs": [],
      "id": "9iNs_b-QFR4z"
    },
    {
      "cell_type": "code",
      "source": [
        "from dyneusr import DyNeuGraph\n",
        "from dyneusr.datasets import make_trefoil\n",
        "from dyneusr.tools import visualize_mapper_stages\n",
        "import kmapper\n",
        "from kmapper import KeplerMapper\n",
        "\n",
        "from sklearn.feature_extraction.text import TfidfVectorizer\n",
        "from sklearn import manifold\n",
        "from sklearn.manifold import TSNE, Isomap\n",
        "from sklearn.decomposition import PCA,TruncatedSVD\n",
        "import umap.umap_ as umap\n",
        "from sklearn import preprocessing\n",
        "from sklearn.preprocessing import MinMaxScaler\n",
        "\n",
        "def create_y_gender(gender_col):\n",
        "  cols= np.unique(gender_col)\n",
        "\n",
        "  male = [1 if gender_col[i]==1 else 0 for i in range(len(gender_col)) ]\n",
        "  female = [1 if gender_col[i]==2 else 0 for i in range(len(gender_col)) ]\n",
        "  \n",
        "\n",
        "  d = {'male': male,  'female':female}\n",
        "  df = pd.DataFrame(data=d)\n",
        "  return df\n",
        "\n",
        "##########\n",
        "def create_y_age(age_col):\n",
        "  cols= np.unique(age_col)\n",
        "\n",
        "  age22_30 = [1 if age_col[i]==1 else 0 for i in range(len(age_col)) ]\n",
        "  age31 = [1 if age_col[i]==2 else 0 for i in range(len(age_col)) ]\n",
        "  \n",
        "\n",
        "  d = {'22-30': age22_30,  '31+':age31}\n",
        "  df = pd.DataFrame(data=d)\n",
        "  return df\n",
        "\n",
        "age_col = df_tda_cognition[\"Age\"].to_numpy()\n",
        "gender_col = df_tda_cognition[\"Gender\"].to_numpy()\n",
        "X = df_tda_cognition_np\n",
        "y = create_y_age(age_col)\n",
        "#y = create_y_gender(gender_col)\n",
        "#y = df_tda_cognition[\"FS_L_Lateralorbitofrontal_Area\"].to_numpy() #memory_col"
      ],
      "metadata": {
        "id": "OO2bZTZEE4Gm",
        "colab": {
          "base_uri": "https://localhost:8080/"
        },
        "outputId": "a0b19752-7e05-4993-bd62-182c6860518b"
      },
      "execution_count": 64,
      "outputs": [
        {
          "output_type": "stream",
          "name": "stderr",
          "text": [
            "/usr/local/lib/python3.7/dist-packages/nilearn/input_data/__init__.py:27: FutureWarning: The import path 'nilearn.input_data' is deprecated in version 0.9. Importing from 'nilearn.input_data' will be possible at least until release 0.13.0. Please import from 'nilearn.maskers' instead.\n",
            "  warnings.warn(message, FutureWarning)\n"
          ]
        }
      ],
      "id": "OO2bZTZEE4Gm"
    },
    {
      "cell_type": "code",
      "source": [
        "#y= df_tda_cognition[\"FS_Total_GM_Vol\"].to_numpy()[:,np.newaxis] #Total gray matter volume\n",
        "#y= df_tda_cognition[\"FS_SubCort_GM_Vol\"].to_numpy()[:,np.newaxis] #Total subcortical gray matter volume\n",
        "#y.shape"
      ],
      "metadata": {
        "id": "pVAiDbU2rLK5"
      },
      "id": "pVAiDbU2rLK5",
      "execution_count": 65,
      "outputs": []
    },
    {
      "cell_type": "code",
      "source": [
        "AGE_lens = age_col[:,np.newaxis]\n",
        "L_inf_lens = L_infinity[:,np.newaxis]\n",
        "L_p_filter_lens = L_p_filter[:,np.newaxis]\n",
        "\n",
        "\n",
        "\n",
        "import sklearn\n",
        "from sklearn.cluster import DBSCAN, AgglomerativeClustering\n",
        "\n",
        "mapper = KeplerMapper(verbose=1)\n",
        "\n",
        "#TfidfVectorizer_lens = mapper.fit_transform(X, \n",
        "                                            #projection= fidfVectorizer(analyzer=\"char\",ngram_range=(1,6), max_df=0.93, min_df=0.03))\n",
        "\n",
        "#Umap_lens = mapper.fit_transform(X, projection= umap.UMAP(n_components=2, random_state=1))\n",
        "#isomap_lens = mapper.fit_transform(X,projection=[manifold.Isomap(n_components=1, n_jobs=-1)]) \n",
        "#TSNE_lens = mapper.fit_transform(X, projection=TSNE(2))\n",
        "SVD_lens = mapper.fit_transform(X, projection= TruncatedSVD(n_components=2))\n",
        "#PCA_lens = mapper.fit_transform(X, projection= PCA(n_components=1))\n",
        "\n",
        "\n",
        "#two_lenses = np.c_[L_p_filter_lens, TSNE_lens]\n",
        "#two_lenses = np.c_[SVD_lens,  L_inf_lens]\n",
        "\n",
        "graphh = mapper.map(SVD_lens, X, \n",
        "                   sklearn.cluster.DBSCAN(eps=20., min_samples=5, metric=\"correlation\"),\n",
        "                   #clusterer = AgglomerativeClustering(),\n",
        "                   cover=kmapper.Cover(n_cubes=50, perc_overlap=62/100))\n",
        "\n",
        "\n",
        "# Visualize the shape graph using DyNeuSR's DyNeuGraph                          \n",
        "dG = DyNeuGraph(G=graphh, y=y)\n",
        "dG.visualize('SVDx2_50_0.62_color=GENDER.html')"
      ],
      "metadata": {
        "colab": {
          "base_uri": "https://localhost:8080/",
          "height": 1000
        },
        "id": "JPsP7PdnFSAn",
        "outputId": "996b9ea3-17f8-4e67-8ac9-da759cebdba7"
      },
      "execution_count": 66,
      "outputs": [
        {
          "output_type": "stream",
          "name": "stdout",
          "text": [
            "KeplerMapper()\n",
            "..Composing projection pipeline of length 1:\n",
            "\tProjections: TruncatedSVD()\n",
            "\tDistance matrices: False\n",
            "\tScalers: MinMaxScaler()\n",
            "..Projecting on data shaped (998, 50)\n",
            "\n",
            "..Projecting data using: \n",
            "\tTruncatedSVD()\n",
            "\n",
            "\n",
            "..Scaling with: MinMaxScaler()\n",
            "\n",
            "Mapping on data shaped (998, 50) using lens shaped (998, 2)\n",
            "\n",
            "Creating 2500 hypercubes.\n",
            "\n",
            "Created 4529 edges and 563 nodes in 0:00:00.682826.\n"
          ]
        },
        {
          "output_type": "display_data",
          "data": {
            "text/plain": [
              "<IPython.core.display.HTML object>"
            ],
            "text/html": [
              "<table border=\"1\" class=\"dataframe\">\n",
              "  <thead>\n",
              "    <tr style=\"text-align: right;\">\n",
              "      <th>label</th>\n",
              "      <th>group</th>\n",
              "      <th>value</th>\n",
              "      <th>row_count</th>\n",
              "    </tr>\n",
              "  </thead>\n",
              "  <tbody>\n",
              "    <tr>\n",
              "      <td>22-30</td>\n",
              "      <td>0</td>\n",
              "      <td>647</td>\n",
              "      <td>998</td>\n",
              "    </tr>\n",
              "    <tr>\n",
              "      <td>31+</td>\n",
              "      <td>1</td>\n",
              "      <td>351</td>\n",
              "      <td>998</td>\n",
              "    </tr>\n",
              "  </tbody>\n",
              "</table>"
            ]
          },
          "metadata": {}
        },
        {
          "output_type": "stream",
          "name": "stderr",
          "text": [
            "/usr/local/lib/python3.7/dist-packages/dyneusr/tools/graph_utils.py:431: VisibleDeprecationWarning: Creating an ndarray from ragged nested sequences (which is a list-or-tuple of lists-or-tuples-or ndarrays with different lengths or shapes) is deprecated. If you meant to do this, you must specify 'dtype=object' when creating the ndarray.\n",
            "  node_members = np.array(list(node_to_members.values()))\n"
          ]
        },
        {
          "output_type": "stream",
          "name": "stdout",
          "text": [
            "   > Found 0 nodes for data point 0.\n",
            "   > Found 0 nodes for data point 4.\n",
            "   > Found 0 nodes for data point 23.\n",
            "   > Found 0 nodes for data point 26.\n",
            "   > Found 0 nodes for data point 36.\n",
            "   > Found 0 nodes for data point 44.\n",
            "   > Found 0 nodes for data point 46.\n",
            "   > Found 0 nodes for data point 56.\n",
            "   > Found 0 nodes for data point 57.\n",
            "   > Found 0 nodes for data point 64.\n",
            "   > Found 0 nodes for data point 79.\n",
            "   > Found 0 nodes for data point 82.\n",
            "   > Found 0 nodes for data point 89.\n",
            "   > Found 0 nodes for data point 168.\n",
            "   > Found 0 nodes for data point 169.\n",
            "   > Found 0 nodes for data point 189.\n",
            "   > Found 0 nodes for data point 205.\n",
            "   > Found 0 nodes for data point 206.\n",
            "   > Found 0 nodes for data point 207.\n",
            "   > Found 0 nodes for data point 228.\n",
            "   > Found 0 nodes for data point 235.\n",
            "   > Found 0 nodes for data point 247.\n",
            "   > Found 0 nodes for data point 254.\n",
            "   > Found 0 nodes for data point 274.\n",
            "   > Found 0 nodes for data point 282.\n",
            "   > Found 0 nodes for data point 294.\n",
            "   > Found 0 nodes for data point 313.\n",
            "   > Found 0 nodes for data point 321.\n",
            "   > Found 0 nodes for data point 353.\n",
            "   > Found 0 nodes for data point 370.\n",
            "   > Found 0 nodes for data point 373.\n",
            "   > Found 0 nodes for data point 384.\n",
            "   > Found 0 nodes for data point 412.\n",
            "   > Found 0 nodes for data point 413.\n",
            "   > Found 0 nodes for data point 424.\n",
            "   > Found 0 nodes for data point 443.\n",
            "   > Found 0 nodes for data point 445.\n",
            "   > Found 0 nodes for data point 446.\n",
            "   > Found 0 nodes for data point 462.\n",
            "   > Found 0 nodes for data point 468.\n",
            "   > Found 0 nodes for data point 498.\n",
            "   > Found 0 nodes for data point 505.\n",
            "   > Found 0 nodes for data point 511.\n",
            "   > Found 0 nodes for data point 514.\n",
            "   > Found 0 nodes for data point 515.\n",
            "   > Found 0 nodes for data point 516.\n",
            "   > Found 0 nodes for data point 519.\n",
            "   > Found 0 nodes for data point 553.\n",
            "   > Found 0 nodes for data point 558.\n",
            "   > Found 0 nodes for data point 564.\n",
            "   > Found 0 nodes for data point 570.\n",
            "   > Found 0 nodes for data point 574.\n",
            "   > Found 0 nodes for data point 593.\n",
            "   > Found 0 nodes for data point 612.\n",
            "   > Found 0 nodes for data point 616.\n",
            "   > Found 0 nodes for data point 628.\n",
            "   > Found 0 nodes for data point 649.\n",
            "   > Found 0 nodes for data point 660.\n",
            "   > Found 0 nodes for data point 681.\n",
            "   > Found 0 nodes for data point 717.\n",
            "   > Found 0 nodes for data point 756.\n",
            "   > Found 0 nodes for data point 769.\n",
            "   > Found 0 nodes for data point 774.\n",
            "   > Found 0 nodes for data point 788.\n",
            "   > Found 0 nodes for data point 817.\n",
            "   > Found 0 nodes for data point 846.\n",
            "   > Found 0 nodes for data point 850.\n",
            "   > Found 0 nodes for data point 853.\n",
            "   > Found 0 nodes for data point 857.\n",
            "   > Found 0 nodes for data point 861.\n",
            "   > Found 0 nodes for data point 888.\n",
            "   > Found 0 nodes for data point 897.\n",
            "   > Found 0 nodes for data point 905.\n",
            "   > Found 0 nodes for data point 906.\n",
            "   > Found 0 nodes for data point 927.\n",
            "   > Found 0 nodes for data point 933.\n",
            "   > Found 0 nodes for data point 949.\n",
            "   > Found 0 nodes for data point 979.\n",
            "   > Found 0 nodes for data point 980.\n",
            "   > Found 0 nodes for data point 992.\n",
            "Already serving localhost:None \n",
            "[Force Graph] file:///content/SVDx2_50_0.62_color%3DGENDER.html\n"
          ]
        },
        {
          "output_type": "execute_result",
          "data": {
            "text/plain": [
              "DyNeuGraph()"
            ]
          },
          "metadata": {},
          "execution_count": 66
        }
      ],
      "id": "JPsP7PdnFSAn"
    },
    {
      "cell_type": "code",
      "source": [
        "'''\n",
        "from sklearn.cluster import AgglomerativeClustering\n",
        "import sklearn\n",
        "from sklearn.cluster import DBSCAN\n",
        "\n",
        "age_col = df_tda_cognition[\"Age\"].to_numpy()\n",
        "AGE_lens = age_col[:,np.newaxis]\n",
        "L_p_filter_lens = L_p_filter[:,np.newaxis]\n",
        "\n",
        "L_inf_lens = L_infinity[:,np.newaxis]\n",
        "\n",
        "\n",
        "mapper2 = KeplerMapper(verbose=1)\n",
        "\n",
        "\n",
        "#TfidfVectorizer_lens = mapper.fit_transform(X, projection= fidfVectorizer(analyzer=\"char\",ngram_range=(1,6), max_df=0.93, min_df=0.03))\n",
        "\n",
        "#Umap_lens = mapper2.fit_transform(X, projection= umap.UMAP(n_components=2, random_state=1))\n",
        "#isomap_lens = mapper.fit_transform(X,projection=[manifold.Isomap(n_components=1, n_jobs=-1)]) \n",
        "#PCA_lens = mapper.fit_transform(X, projection= PCA(n_components=1))\n",
        "\n",
        "#SVD_lens = mapper2.fit_transform(X, projection= TruncatedSVD(n_components=2))\n",
        "TSNE_lens = mapper2.fit_transform(X, projection=TSNE(2))\n",
        "\n",
        "numm = len(range(20,50, 2)) * len(range(20, 50, 2))\n",
        "#two_lenses = np.c_[SVD_lens, L_p_filter_lens]\n",
        "\n",
        "for n_cubes in range(20,50, 2):\n",
        "  for perc_overlap in range(20, 50 , 2):\n",
        "\n",
        "    graphh2 = mapper2.map(TSNE_lens, X, \n",
        "                      #clusterer = sklearn.cluster.DBSCAN(eps=20., min_samples=5, metric=\"correlation\"),\n",
        "                      clusterer = AgglomerativeClustering(linkage = 'single'),\n",
        "                      cover=kmapper.Cover(n_cubes=n_cubes, perc_overlap=(perc_overlap/100)) )\n",
        "\n",
        "    dG = DyNeuGraph(G=graphh2, y=y)\n",
        "    dG.visualize('/content/drive/MyDrive/a_results/Agg_TSNE_x2/'+ str(n_cubes)+'_'+str(perc_overlap/100)+'_result_'+str(numm)+'.html')\n",
        "\n",
        "    numm-=1\n",
        "\n",
        "'''"
      ],
      "metadata": {
        "colab": {
          "base_uri": "https://localhost:8080/",
          "height": 143
        },
        "id": "MgRLHu7CkiBg",
        "outputId": "0b8fd3a3-a77e-48e9-ec72-96b44dbe63e0"
      },
      "id": "MgRLHu7CkiBg",
      "execution_count": 67,
      "outputs": [
        {
          "output_type": "execute_result",
          "data": {
            "text/plain": [
              "'\\nfrom sklearn.cluster import AgglomerativeClustering\\nimport sklearn\\nfrom sklearn.cluster import DBSCAN\\n\\nage_col = df_tda_cognition[\"Age\"].to_numpy()\\nAGE_lens = age_col[:,np.newaxis]\\nL_p_filter_lens = L_p_filter[:,np.newaxis]\\n\\nL_inf_lens = L_infinity[:,np.newaxis]\\n\\n\\nmapper2 = KeplerMapper(verbose=1)\\n\\n\\n#TfidfVectorizer_lens = mapper.fit_transform(X, projection= fidfVectorizer(analyzer=\"char\",ngram_range=(1,6), max_df=0.93, min_df=0.03))\\n\\n#Umap_lens = mapper2.fit_transform(X, projection= umap.UMAP(n_components=2, random_state=1))\\n#isomap_lens = mapper.fit_transform(X,projection=[manifold.Isomap(n_components=1, n_jobs=-1)]) \\n#PCA_lens = mapper.fit_transform(X, projection= PCA(n_components=1))\\n\\n#SVD_lens = mapper2.fit_transform(X, projection= TruncatedSVD(n_components=2))\\nTSNE_lens = mapper2.fit_transform(X, projection=TSNE(2))\\n\\nnumm = len(range(20,50, 2)) * len(range(20, 50, 2))\\n#two_lenses = np.c_[SVD_lens, L_p_filter_lens]\\n\\nfor n_cubes in range(20,50, 2):\\n  for perc_overlap in range(20, 50 , 2):\\n\\n    graphh2 = mapper2.map(TSNE_lens, X, \\n                      #clusterer = sklearn.cluster.DBSCAN(eps=20., min_samples=5, metric=\"correlation\"),\\n                      clusterer = AgglomerativeClustering(linkage = \\'single\\'),\\n                      cover=kmapper.Cover(n_cubes=n_cubes, perc_overlap=(perc_overlap/100)) )\\n\\n    dG = DyNeuGraph(G=graphh2, y=y)\\n    dG.visualize(\\'/content/drive/MyDrive/a_results/Agg_TSNE_x2/\\'+ str(n_cubes)+\\'_\\'+str(perc_overlap/100)+\\'_result_\\'+str(numm)+\\'.html\\')\\n\\n    numm-=1\\n\\n'"
            ],
            "application/vnd.google.colaboratory.intrinsic+json": {
              "type": "string"
            }
          },
          "metadata": {},
          "execution_count": 67
        }
      ]
    },
    {
      "cell_type": "code",
      "source": [
        "for keys, vals in graphh.items():\n",
        "  print(keys)\n",
        "  print(vals)\n",
        "  print()"
      ],
      "metadata": {
        "colab": {
          "base_uri": "https://localhost:8080/"
        },
        "id": "ROnEmUR2-5b9",
        "outputId": "5d669f70-7bf8-41c5-953b-e5d306fe4cd7"
      },
      "execution_count": 68,
      "outputs": [
        {
          "output_type": "stream",
          "name": "stdout",
          "text": [
            "nodes\n",
            "defaultdict(<class 'list'>, {'cube19_cluster0': [112, 404, 824, 852, 926], 'cube20_cluster0': [112, 404, 824, 852, 926], 'cube31_cluster0': [338, 404, 824, 852, 926], 'cube32_cluster0': [338, 404, 824, 852, 926, 950], 'cube45_cluster0': [90, 157, 309, 366, 951], 'cube50_cluster0': [338, 404, 821, 852, 926], 'cube51_cluster0': [317, 338, 404, 662, 852, 926, 950], 'cube52_cluster0': [239, 317, 404, 662, 926, 950], 'cube53_cluster0': [239, 317, 557, 662, 950], 'cube55_cluster0': [167, 332, 557, 581, 825, 930], 'cube56_cluster0': [167, 332, 581, 659, 825, 930], 'cube71_cluster0': [157, 309, 488, 845, 989], 'cube74_cluster0': [38, 212, 283, 335, 364, 821], 'cube75_cluster0': [38, 212, 283, 335, 364, 710, 821], 'cube76_cluster0': [212, 335, 364, 710, 821], 'cube78_cluster0': [239, 317, 662, 836, 950], 'cube79_cluster0': [239, 317, 557, 662, 836, 950], 'cube82_cluster0': [167, 195, 332, 659, 742, 825], 'cube100_cluster0': [212, 283, 335, 364, 821], 'cube101_cluster0': [212, 233, 283, 335, 364, 710, 821], 'cube102_cluster0': [212, 233, 335, 364, 609, 710, 821], 'cube104_cluster0': [293, 317, 662, 836, 859], 'cube105_cluster0': [69, 293, 317, 662, 836, 859], 'cube109_cluster0': [167, 195, 742, 870, 913], 'cube126_cluster0': [156, 472, 845, 972, 989], 'cube130_cluster0': [212, 233, 335, 364, 710], 'cube131_cluster0': [212, 233, 330, 335, 364, 609, 710], 'cube136_cluster0': [69, 409, 457, 778, 913], 'cube137_cluster0': [195, 409, 479, 742, 778, 913], 'cube138_cluster0': [50, 195, 479, 742, 870, 913], 'cube139_cluster0': [50, 195, 479, 555, 786, 870], 'cube140_cluster0': [50, 148, 458, 480, 555, 786, 870], 'cube141_cluster0': [148, 324, 458, 480, 555, 786], 'cube155_cluster0': [156, 209, 472, 484, 972], 'cube156_cluster0': [209, 406, 472, 484, 972], 'cube160_cluster0': [88, 233, 330, 532, 609], 'cube161_cluster0': [88, 102, 126, 330, 532, 609, 854, 859], 'cube162_cluster0': [102, 126, 293, 851, 854, 859], 'cube163_cluster0': [69, 102, 126, 293, 851, 854, 859], 'cube167_cluster0': [50, 368, 479, 701, 870, 883, 913], 'cube168_cluster0': [50, 368, 418, 479, 701, 786, 870, 883], 'cube169_cluster0': [50, 148, 418, 458, 480, 701, 786, 870], 'cube170_cluster0': [45, 148, 324, 418, 458, 480, 786], 'cube171_cluster0': [45, 148, 324, 458, 480], 'cube175_cluster0': [103, 132, 357, 721, 907], 'cube190_cluster0': [116, 138, 209, 472, 484, 991], 'cube191_cluster0': [116, 138, 209, 406, 472, 484, 991], 'cube192_cluster0': [138, 406, 484, 728, 971, 991], 'cube193_cluster0': [262, 397, 406, 449, 529, 587, 728, 971], 'cube194_cluster0': [88, 262, 275, 397, 449, 529, 532, 587, 728, 925, 971], 'cube195_cluster0': [88, 262, 275, 436, 449, 529, 532, 925], 'cube196_cluster0': [88, 102, 126, 179, 194, 275, 344, 436, 532, 854, 925], 'cube197_cluster0': [102, 126, 179, 194, 231, 344, 436, 526, 577, 851, 854], 'cube198_cluster0': [102, 126, 151, 179, 194, 231, 279, 526, 534, 577, 672, 700, 727, 844, 851, 854, 890], 'cube199_cluster0': [151, 178, 279, 409, 526, 534, 577, 672, 700, 727, 764, 844, 851, 890], 'cube200_cluster0': [151, 178, 279, 409, 422, 528, 672, 727, 764, 778, 844, 890], 'cube201_cluster0': [178, 409, 422, 528, 778], 'cube202_cluster0': [50, 368, 422, 528, 701, 883], 'cube203_cluster0': [50, 368, 418, 701, 804, 883], 'cube204_cluster0': [50, 148, 418, 458, 701, 804], 'cube205_cluster0': [45, 148, 248, 324, 418, 458], 'cube206_cluster0': [45, 148, 248, 324, 458, 544], 'cube207_cluster0': [45, 324, 544, 718, 735], 'cube208_cluster0': [103, 435, 544, 718, 735], 'cube210_cluster0': [103, 132, 357, 435, 721], 'cube220_cluster0': [171, 543, 631, 638, 734], 'cube221_cluster0': [171, 543, 631, 734, 995], 'cube224_cluster0': [116, 135, 138, 518, 991], 'cube225_cluster0': [135, 138, 244, 350, 518, 728, 794, 971, 991], 'cube226_cluster0': [99, 135, 244, 262, 350, 397, 449, 529, 587, 728, 794, 964, 971], 'cube227_cluster0': [88, 99, 244, 262, 275, 397, 440, 449, 529, 587, 641, 723, 728, 794, 925, 964, 971], 'cube228_cluster0': [88, 99, 262, 275, 436, 440, 449, 510, 517, 529, 641, 723, 925], 'cube229_cluster0': [81, 88, 126, 179, 194, 275, 344, 436, 440, 510, 517, 854, 925], 'cube230_cluster0': [76, 81, 126, 179, 194, 231, 344, 436, 510, 517, 522, 526, 577, 851, 854], 'cube231_cluster0': [76, 81, 126, 151, 179, 194, 231, 279, 411, 522, 526, 534, 577, 672, 700, 727, 844, 851, 854, 890], 'cube232_cluster0': [76, 151, 178, 191, 279, 411, 526, 534, 577, 586, 672, 682, 700, 727, 764, 844, 851, 890, 892], 'cube233_cluster0': [151, 178, 191, 279, 411, 422, 528, 586, 672, 682, 727, 764, 844, 890, 892], 'cube234_cluster0': [178, 191, 422, 528, 586, 682, 892], 'cube235_cluster0': [246, 422, 423, 528, 701, 883], 'cube236_cluster0': [240, 246, 418, 423, 533, 701, 731, 802, 804, 883], 'cube237_cluster0': [110, 240, 246, 369, 418, 423, 533, 701, 731, 802, 804], 'cube238_cluster0': [45, 110, 111, 240, 248, 369, 418, 533, 731], 'cube240_cluster0': [45, 111, 340, 544, 718, 735], 'cube241_cluster0': [103, 340, 435, 544, 718, 735], 'cube242_cluster0': [103, 340, 435, 757, 985], 'cube243_cluster0': [103, 435, 721, 757, 985], 'cube255_cluster0': [171, 543, 631, 918, 995], 'cube256_cluster0': [116, 171, 341, 631, 995], 'cube257_cluster0': [116, 341, 496, 518, 991], 'cube258_cluster0': [116, 135, 175, 496, 518, 991], 'cube259_cluster0': [135, 175, 244, 350, 495, 496, 518, 530, 728, 794, 971, 991], 'cube260_cluster0': [53, 99, 105, 135, 175, 244, 281, 350, 449, 495, 529, 530, 576, 587, 728, 738, 794, 964, 971], 'cube261_cluster0': [53, 99, 105, 244, 275, 281, 440, 449, 495, 529, 530, 576, 587, 641, 665, 723, 728, 738, 794, 833, 925, 964, 971], 'cube262_cluster0': [53, 99, 105, 275, 281, 436, 440, 449, 510, 517, 529, 624, 641, 665, 723, 738, 833, 925], 'cube263_cluster0': [18, 81, 101, 179, 194, 275, 344, 436, 440, 504, 510, 517, 624, 665, 833, 900, 925], 'cube264_cluster0': [18, 76, 81, 101, 179, 194, 223, 344, 436, 461, 504, 510, 517, 522, 526, 577, 624, 900], 'cube265_cluster0': [18, 76, 81, 101, 151, 179, 194, 223, 279, 411, 461, 504, 522, 526, 534, 577, 672, 700, 727, 843, 844, 890, 900], 'cube266_cluster0': [76, 151, 178, 191, 223, 279, 411, 461, 526, 534, 577, 586, 672, 682, 700, 727, 843, 844, 877, 890, 892], 'cube267_cluster0': [151, 178, 191, 204, 279, 411, 422, 525, 528, 586, 672, 679, 682, 727, 843, 844, 877, 890, 892], 'cube268_cluster0': [178, 191, 204, 422, 525, 528, 586, 679, 682, 877, 892], 'cube269_cluster0': [204, 211, 246, 422, 423, 503, 528, 679, 855], 'cube270_cluster0': [211, 240, 246, 423, 503, 533, 731, 802, 855, 987], 'cube271_cluster0': [110, 211, 240, 246, 369, 423, 503, 533, 731, 802, 987], 'cube272_cluster0': [110, 111, 240, 369, 427, 533, 650, 684, 731, 987], 'cube274_cluster0': [34, 111, 340, 427, 684], 'cube276_cluster0': [34, 340, 435, 757, 985], 'cube283_cluster0': [96, 171, 543, 777, 918, 995], 'cube284_cluster0': [96, 171, 341, 696, 777, 995], 'cube285_cluster0': [264, 341, 496, 647, 696, 747, 777], 'cube286_cluster0': [135, 175, 264, 496, 647, 747, 766, 896], 'cube287_cluster0': [86, 135, 175, 244, 264, 350, 495, 496, 530, 647, 664, 766, 794, 896, 924], 'cube288_cluster0': [53, 86, 105, 135, 142, 175, 244, 281, 350, 495, 530, 576, 594, 664, 738, 766, 794, 895, 896, 924, 964], 'cube289_cluster0': [53, 105, 142, 180, 244, 281, 440, 495, 530, 576, 594, 664, 665, 738, 794, 795, 833, 895, 924, 964], 'cube290_cluster0': [53, 62, 105, 117, 142, 180, 281, 440, 510, 517, 594, 624, 665, 738, 763, 795, 833], 'cube291_cluster0': [18, 33, 62, 81, 101, 117, 180, 192, 440, 504, 510, 517, 624, 665, 763, 795, 833, 900], 'cube292_cluster0': [18, 33, 76, 81, 101, 183, 192, 223, 331, 382, 447, 461, 504, 510, 517, 522, 615, 624, 900], 'cube293_cluster0': [18, 20, 76, 81, 101, 183, 223, 331, 382, 447, 461, 504, 522, 615, 655, 843, 900, 993], 'cube294_cluster0': [20, 76, 183, 191, 223, 331, 382, 394, 447, 461, 580, 615, 655, 843, 877, 993], 'cube295_cluster0': [63, 191, 204, 394, 525, 580, 626, 655, 679, 843, 877, 993], 'cube296_cluster0': [63, 191, 204, 312, 525, 580, 626, 679, 877], 'cube297_cluster0': [75, 204, 211, 246, 312, 423, 503, 626, 679, 739, 855], 'cube298_cluster0': [75, 211, 240, 246, 312, 423, 503, 731, 739, 802, 855, 987], 'cube299_cluster0': [110, 211, 240, 246, 301, 369, 423, 503, 731, 739, 802, 987], 'cube300_cluster0': [77, 110, 240, 301, 369, 427, 568, 650, 684, 731, 987], 'cube301_cluster0': [77, 336, 427, 568, 650, 684], 'cube302_cluster0': [34, 77, 173, 336, 340, 427, 568, 603, 684, 726], 'cube303_cluster0': [34, 173, 340, 603, 726], 'cube304_cluster0': [14, 34, 173, 340, 603, 726], 'cube311_cluster0': [96, 341, 343, 359, 696, 777], 'cube312_cluster0': [187, 264, 341, 343, 359, 496, 647, 696, 747, 777], 'cube313_cluster0': [175, 187, 264, 343, 496, 647, 747, 766, 893, 896], 'cube314_cluster0': [86, 97, 175, 201, 264, 495, 496, 530, 596, 647, 664, 766, 893, 896, 924], 'cube315_cluster0': [53, 86, 97, 105, 142, 175, 201, 213, 495, 530, 576, 594, 596, 664, 738, 766, 893, 895, 896, 924], 'cube316_cluster0': [53, 97, 105, 142, 172, 180, 201, 213, 236, 495, 530, 576, 594, 596, 664, 738, 795, 895, 924], 'cube317_cluster0': [53, 62, 105, 117, 142, 172, 180, 213, 236, 594, 624, 738, 763, 795, 801], 'cube318_cluster0': [18, 33, 62, 101, 117, 172, 180, 192, 236, 504, 624, 763, 795, 801], 'cube319_cluster0': [18, 33, 78, 101, 183, 192, 193, 223, 331, 361, 382, 447, 461, 504, 615, 624, 932], 'cube320_cluster0': [18, 20, 78, 101, 183, 190, 193, 223, 331, 361, 363, 382, 447, 461, 489, 504, 615, 655, 815, 843, 932, 993], 'cube321_cluster0': [20, 182, 183, 190, 214, 223, 268, 331, 361, 363, 382, 394, 447, 461, 465, 489, 580, 615, 655, 815, 835, 843, 899, 932, 993], 'cube322_cluster0': [63, 164, 182, 190, 204, 214, 268, 394, 465, 489, 580, 626, 653, 655, 679, 815, 835, 838, 843, 899, 916, 993], 'cube323_cluster0': [63, 164, 182, 204, 214, 268, 312, 374, 509, 548, 580, 626, 653, 679, 835, 838, 916], 'cube324_cluster0': [75, 164, 204, 312, 374, 509, 548, 626, 679, 739, 855, 916, 931], 'cube325_cluster0': [75, 312, 548, 556, 739, 855, 931], 'cube327_cluster0': [77, 301, 427, 568, 650], 'cube328_cluster0': [77, 336, 427, 497, 513, 568, 643, 650], 'cube329_cluster0': [34, 77, 173, 174, 336, 427, 497, 513, 568, 603, 643, 726], 'cube330_cluster0': [34, 173, 174, 497, 513, 603, 643, 726], 'cube331_cluster0': [14, 34, 173, 261, 603, 726], 'cube332_cluster0': [14, 251, 261, 289, 640], 'cube333_cluster0': [14, 251, 261, 289, 640, 806], 'cube339_cluster0': [96, 127, 359, 709, 777], 'cube340_cluster0': [29, 96, 127, 343, 359, 709, 777], 'cube341_cluster0': [29, 127, 187, 264, 343, 359, 709, 747, 777], 'cube342_cluster0': [49, 187, 264, 343, 425, 716, 747, 766, 893, 939], 'cube343_cluster0': [49, 86, 97, 155, 201, 264, 425, 596, 664, 716, 766, 893, 939], 'cube344_cluster0': [49, 86, 97, 142, 155, 201, 213, 594, 596, 664, 716, 766, 789, 893, 939], 'cube345_cluster0': [1, 97, 142, 155, 172, 180, 201, 213, 236, 426, 594, 596, 664, 789, 795], 'cube346_cluster0': [1, 142, 172, 180, 213, 236, 347, 408, 426, 594, 605, 763, 782, 789, 795, 801], 'cube347_cluster0': [1, 137, 172, 180, 236, 347, 408, 426, 605, 763, 782, 795, 801, 856], 'cube348_cluster0': [78, 137, 183, 193, 334, 347, 361, 382, 408, 437, 447, 605, 615, 856, 932], 'cube349_cluster0': [78, 183, 190, 193, 329, 334, 361, 363, 382, 386, 437, 447, 489, 615, 655, 815, 856, 932, 993], 'cube350_cluster0': [22, 182, 183, 190, 214, 268, 329, 334, 361, 363, 382, 386, 394, 437, 447, 465, 477, 489, 580, 615, 625, 636, 655, 666, 667, 815, 835, 837, 899, 932, 970, 993], 'cube351_cluster0': [22, 63, 164, 182, 190, 214, 268, 272, 329, 394, 465, 477, 489, 542, 580, 625, 629, 635, 636, 653, 655, 666, 667, 815, 835, 837, 838, 899, 910, 916, 944, 970, 993], 'cube352_cluster0': [22, 63, 164, 182, 214, 227, 268, 272, 312, 374, 509, 542, 548, 580, 625, 629, 635, 636, 653, 666, 748, 835, 837, 838, 910, 916, 944, 970], 'cube353_cluster0': [75, 164, 227, 272, 312, 374, 509, 542, 548, 629, 635, 739, 748, 910, 916, 931, 944, 947], 'cube354_cluster0': [75, 312, 548, 556, 737, 739, 748, 931, 947], 'cube355_cluster0': [301, 556, 737, 739, 931, 947], 'cube356_cluster0': [77, 301, 474, 671, 737], 'cube357_cluster0': [77, 263, 474, 497, 513, 643, 671], 'cube358_cluster0': [77, 174, 263, 270, 358, 497, 513, 603, 643, 726, 941], 'cube359_cluster0': [174, 263, 270, 298, 358, 497, 513, 603, 643, 726, 729, 941], 'cube360_cluster0': [14, 261, 298, 327, 603, 726, 729, 941], 'cube361_cluster0': [14, 251, 261, 289, 327, 640, 729], 'cube362_cluster0': [14, 251, 261, 289, 327, 640, 806], 'cube363_cluster0': [289, 640, 674, 806, 958], 'cube372_cluster0': [29, 127, 187, 709, 917], 'cube373_cluster0': [49, 187, 425, 716, 939], 'cube374_cluster0': [7, 49, 155, 201, 425, 444, 596, 716, 841, 939], 'cube375_cluster0': [7, 49, 155, 201, 213, 444, 596, 716, 789, 841, 939], 'cube376_cluster0': [1, 73, 155, 201, 213, 318, 426, 596, 789, 819, 841, 975], 'cube377_cluster0': [1, 19, 73, 213, 308, 318, 347, 408, 426, 605, 782, 789, 819, 975], 'cube378_cluster0': [1, 19, 137, 296, 308, 318, 347, 408, 426, 605, 634, 753, 782, 819, 856, 975, 976], 'cube379_cluster0': [5, 19, 78, 137, 193, 296, 308, 334, 347, 361, 408, 437, 605, 634, 753, 856, 932, 976], 'cube380_cluster0': [5, 21, 51, 78, 190, 193, 243, 329, 334, 361, 363, 386, 437, 452, 489, 634, 745, 753, 815, 856, 932], 'cube381_cluster0': [5, 21, 22, 51, 65, 190, 214, 243, 268, 329, 334, 361, 363, 386, 437, 452, 465, 473, 477, 489, 625, 636, 666, 667, 745, 815, 835, 837, 899, 932, 970], 'cube382_cluster0': [22, 51, 65, 176, 190, 214, 243, 268, 272, 329, 465, 473, 477, 489, 542, 625, 629, 635, 636, 653, 654, 666, 667, 745, 815, 835, 837, 838, 862, 899, 910, 916, 944, 970], 'cube383_cluster0': [22, 65, 125, 176, 214, 227, 268, 272, 374, 542, 625, 629, 635, 636, 653, 654, 666, 748, 807, 835, 837, 838, 862, 910, 916, 944, 970], 'cube384_cluster0': [125, 176, 227, 272, 286, 374, 542, 629, 635, 654, 748, 807, 862, 910, 916, 931, 944, 947], 'cube385_cluster0': [218, 286, 390, 645, 737, 748, 781, 931, 947], 'cube386_cluster0': [218, 265, 277, 286, 390, 645, 737, 781, 931, 947, 984], 'cube387_cluster0': [218, 265, 277, 474, 611, 671, 737, 984], 'cube388_cluster0': [263, 277, 398, 474, 611, 643, 671, 692, 761, 984], 'cube389_cluster0': [263, 270, 358, 398, 643, 692, 711, 730, 761, 941, 994], 'cube390_cluster0': [67, 118, 121, 263, 270, 298, 358, 398, 402, 643, 711, 729, 730, 761, 941, 994], 'cube391_cluster0': [67, 118, 121, 261, 298, 327, 402, 711, 729, 730, 866, 941, 994], 'cube392_cluster0': [67, 118, 251, 261, 289, 327, 729, 866], 'cube393_cluster0': [251, 261, 289, 327, 806], 'cube394_cluster0': [289, 674, 806, 901, 958], 'cube403_cluster0': [10, 29, 74, 198, 323, 709, 917], 'cube404_cluster0': [29, 74, 198, 323, 709, 917], 'cube405_cluster0': [49, 323, 425, 618, 716, 939], 'cube406_cluster0': [7, 49, 425, 444, 618, 716, 841, 939], 'cube407_cluster0': [7, 49, 444, 716, 789, 818, 841, 914, 939], 'cube408_cluster0': [73, 318, 426, 493, 661, 789, 818, 819, 841, 914, 975], 'cube409_cluster0': [19, 73, 308, 318, 347, 408, 426, 493, 646, 661, 678, 789, 818, 819, 975, 990], 'cube410_cluster0': [19, 296, 308, 318, 347, 408, 426, 493, 634, 646, 661, 678, 753, 819, 975, 976, 990], 'cube411_cluster0': [5, 19, 296, 308, 334, 347, 401, 408, 634, 753, 976, 990], 'cube412_cluster0': [5, 21, 51, 243, 334, 386, 401, 452, 610, 634, 673, 736, 745, 753], 'cube413_cluster0': [5, 21, 22, 41, 51, 65, 243, 334, 386, 401, 452, 473, 477, 606, 610, 636, 666, 673, 736, 745, 793], 'cube414_cluster0': [22, 41, 51, 65, 176, 243, 272, 473, 477, 606, 629, 632, 636, 654, 666, 736, 745, 793, 862, 944], 'cube415_cluster0': [22, 41, 65, 125, 136, 143, 176, 188, 227, 272, 288, 629, 632, 636, 654, 666, 793, 807, 862, 944], 'cube416_cluster0': [125, 136, 143, 176, 188, 227, 272, 286, 288, 629, 632, 654, 807, 862, 944], 'cube417_cluster0': [188, 218, 286, 288, 307, 390, 645, 781], 'cube418_cluster0': [218, 265, 277, 286, 307, 390, 567, 645, 695, 746, 752, 781, 984], 'cube419_cluster0': [218, 265, 277, 474, 567, 611, 671, 695, 724, 746, 752, 984], 'cube420_cluster0': [263, 277, 398, 474, 490, 567, 611, 671, 692, 724, 761, 984], 'cube421_cluster0': [263, 270, 358, 398, 490, 575, 692, 711, 724, 730, 761, 941, 994], 'cube422_cluster0': [67, 118, 121, 263, 270, 298, 358, 398, 402, 407, 490, 575, 711, 730, 761, 941, 994], 'cube423_cluster0': [67, 118, 121, 298, 327, 367, 402, 407, 575, 704, 711, 730, 866, 941, 994], 'cube424_cluster0': [67, 118, 327, 367, 407, 702, 704, 866], 'cube440_cluster0': [10, 74, 280, 451, 982], 'cube441_cluster0': [10, 74, 198, 280, 323, 713], 'cube442_cluster0': [74, 198, 226, 280, 323, 713], 'cube443_cluster0': [226, 323, 618, 713, 798], 'cube444_cluster0': [219, 226, 618, 798, 841], 'cube445_cluster0': [150, 219, 536, 798, 818, 841, 914], 'cube446_cluster0': [73, 150, 219, 493, 536, 658, 661, 708, 818, 819, 841, 914, 975], 'cube447_cluster0': [73, 91, 150, 308, 493, 536, 646, 658, 661, 678, 708, 818, 819, 975, 990], 'cube448_cluster0': [91, 308, 493, 634, 646, 658, 661, 678, 706, 708, 753, 819, 975, 976, 990], 'cube449_cluster0': [5, 91, 106, 308, 401, 634, 706, 753, 827, 976, 990], 'cube450_cluster0': [5, 51, 106, 401, 452, 610, 634, 673, 736, 745, 753, 822, 827], 'cube451_cluster0': [5, 30, 41, 51, 65, 401, 452, 524, 545, 561, 606, 610, 673, 736, 745, 793, 822], 'cube452_cluster0': [30, 41, 51, 65, 524, 545, 561, 606, 632, 736, 745, 793, 822, 862], 'cube453_cluster0': [30, 41, 65, 136, 143, 188, 288, 320, 524, 545, 561, 632, 793, 807, 862], 'cube454_cluster0': [136, 143, 149, 188, 288, 320, 433, 632, 807, 862, 894], 'cube455_cluster0': [66, 149, 165, 188, 288, 303, 307, 390, 433, 619, 781, 894, 955], 'cube456_cluster0': [66, 165, 277, 303, 307, 371, 390, 416, 433, 567, 619, 695, 746, 752, 781, 934, 955], 'cube457_cluster0': [66, 165, 185, 277, 371, 416, 567, 611, 619, 695, 724, 746, 752, 934, 955, 959], 'cube458_cluster0': [185, 277, 371, 490, 567, 611, 724, 761, 959], 'cube459_cluster0': [185, 490, 537, 575, 711, 724, 730, 758, 761, 923], 'cube460_cluster0': [121, 407, 490, 537, 575, 711, 730, 758, 761, 923], 'cube461_cluster0': [121, 367, 407, 537, 575, 704, 711, 730, 770], 'cube462_cluster0': [367, 407, 702, 704, 770], 'cube473_cluster0': [83, 202, 592, 691, 714], 'cube474_cluster0': [83, 202, 217, 592, 691], 'cube476_cluster0': [10, 35, 74, 217, 280, 322, 428, 451, 878], 'cube477_cluster0': [10, 35, 74, 198, 280, 322, 323, 428, 713, 878, 935, 974], 'cube478_cluster0': [74, 198, 226, 280, 323, 428, 550, 713, 878, 935, 974], 'cube479_cluster0': [226, 323, 550, 618, 713, 798, 935, 974], 'cube480_cluster0': [219, 226, 550, 618, 798], 'cube481_cluster0': [150, 219, 536, 798, 818, 914], 'cube482_cluster0': [133, 150, 219, 493, 536, 658, 708, 818, 914], 'cube483_cluster0': [91, 133, 150, 238, 493, 536, 658, 678, 708, 818], 'cube484_cluster0': [91, 133, 238, 375, 485, 493, 600, 658, 678, 706, 708], 'cube485_cluster0': [71, 72, 91, 106, 238, 276, 375, 485, 600, 602, 694, 706, 827], 'cube486_cluster0': [24, 71, 72, 106, 276, 381, 521, 600, 602, 673, 694, 822, 827, 929], 'cube487_cluster0': [24, 30, 41, 71, 72, 381, 521, 524, 545, 561, 673, 793, 822, 929], 'cube488_cluster0': [30, 41, 521, 524, 545, 561, 744, 793, 822], 'cube489_cluster0': [30, 41, 136, 143, 188, 320, 326, 524, 545, 561, 633, 744, 793], 'cube490_cluster0': [136, 143, 149, 188, 267, 320, 326, 433, 573, 633, 744, 800, 894], 'cube491_cluster0': [40, 66, 149, 165, 188, 267, 303, 307, 326, 433, 573, 619, 800, 847, 894, 955], 'cube492_cluster0': [40, 66, 165, 220, 303, 307, 371, 416, 433, 567, 619, 695, 752, 800, 847, 934, 955, 957], 'cube493_cluster0': [27, 66, 147, 165, 185, 220, 371, 416, 567, 619, 695, 724, 752, 847, 934, 955, 957, 959], 'cube494_cluster0': [27, 147, 185, 371, 567, 724, 957, 959], 'cube495_cluster0': [27, 147, 185, 537, 575, 724, 740, 758, 902, 923, 954], 'cube496_cluster0': [407, 537, 575, 589, 740, 758, 902, 923, 954], 'cube497_cluster0': [367, 407, 537, 575, 584, 589, 740, 770, 902], 'cube498_cluster0': [367, 407, 584, 589, 702, 770], 'cube499_cluster0': [113, 387, 584, 702, 770], 'cube516_cluster0': [217, 322, 388, 451, 908], 'cube517_cluster0': [35, 217, 322, 388, 428, 451, 878], 'cube518_cluster0': [35, 322, 403, 428, 713, 878, 935, 974], 'cube519_cluster0': [403, 428, 550, 713, 878, 909, 935, 974], 'cube520_cluster0': [403, 550, 713, 733, 796, 798, 909, 935, 974], 'cube521_cluster0': [123, 219, 550, 733, 796, 798, 909], 'cube522_cluster0': [123, 150, 197, 219, 617, 733, 796, 798, 814, 839], 'cube523_cluster0': [123, 133, 150, 197, 219, 442, 617, 708, 771, 814, 839, 988], 'cube524_cluster0': [25, 91, 107, 133, 150, 197, 238, 442, 617, 690, 708, 760, 771, 839, 988], 'cube525_cluster0': [25, 91, 107, 130, 133, 238, 375, 442, 485, 600, 690, 706, 708, 760, 771, 946], 'cube526_cluster0': [25, 71, 72, 91, 106, 107, 130, 238, 276, 333, 375, 485, 600, 602, 669, 694, 706, 827, 946], 'cube527_cluster0': [24, 71, 72, 106, 122, 130, 257, 276, 333, 381, 454, 521, 600, 602, 669, 694, 827, 929], 'cube528_cluster0': [24, 71, 72, 122, 257, 333, 381, 454, 521, 535, 545, 669, 889, 929], 'cube529_cluster0': [291, 310, 328, 459, 521, 527, 535, 545, 744, 773, 889], 'cube530_cluster0': [291, 310, 326, 328, 459, 492, 527, 545, 585, 633, 744, 773, 889], 'cube531_cluster0': [267, 291, 310, 326, 328, 389, 430, 492, 527, 573, 585, 633, 744, 800, 894], 'cube532_cluster0': [40, 66, 165, 267, 326, 389, 430, 507, 573, 619, 800, 847, 894], 'cube533_cluster0': [28, 40, 66, 165, 220, 351, 371, 389, 416, 420, 430, 507, 619, 651, 780, 800, 847, 957], 'cube534_cluster0': [27, 28, 66, 147, 165, 220, 242, 351, 371, 416, 420, 619, 651, 780, 847, 957, 959], 'cube535_cluster0': [27, 28, 139, 147, 242, 351, 371, 420, 651, 780, 828, 957, 959], 'cube536_cluster0': [27, 139, 147, 554, 740, 828, 902, 954], 'cube537_cluster0': [139, 538, 554, 579, 589, 740, 902, 948, 954], 'cube538_cluster0': [429, 538, 579, 584, 589, 712, 740, 770, 902, 937, 948], 'cube539_cluster0': [429, 538, 579, 584, 589, 689, 712, 770, 937], 'cube540_cluster0': [113, 387, 429, 441, 584, 689, 770, 937], 'cube541_cluster0': [113, 225, 387, 441, 689], 'cube558_cluster0': [35, 217, 322, 388, 428, 481, 878], 'cube559_cluster0': [35, 322, 403, 428, 481, 878, 974], 'cube560_cluster0': [403, 428, 481, 550, 878, 909, 974], 'cube561_cluster0': [253, 379, 403, 547, 550, 733, 796, 909, 974], 'cube562_cluster0': [120, 123, 253, 379, 547, 550, 733, 796, 909], 'cube563_cluster0': [120, 123, 197, 360, 379, 391, 617, 733, 796, 814, 839], 'cube564_cluster0': [123, 197, 360, 391, 442, 617, 771, 814, 839, 988], 'cube565_cluster0': [25, 107, 197, 360, 442, 617, 690, 760, 771, 839, 988], 'cube566_cluster0': [25, 107, 130, 154, 442, 485, 600, 690, 760, 771, 946], 'cube567_cluster0': [25, 71, 107, 130, 154, 333, 376, 485, 600, 669, 694, 872, 903, 946], 'cube568_cluster0': [70, 71, 122, 130, 257, 333, 376, 381, 454, 600, 669, 694, 872, 903, 929, 942], 'cube569_cluster0': [70, 71, 122, 177, 184, 257, 333, 381, 454, 535, 669, 872, 889, 903, 929, 942], 'cube570_cluster0': [70, 109, 177, 184, 291, 310, 328, 459, 527, 535, 707, 773, 889, 942], 'cube571_cluster0': [109, 177, 184, 291, 310, 326, 328, 342, 352, 419, 459, 492, 527, 559, 585, 633, 707, 773, 889], 'cube572_cluster0': [109, 267, 291, 310, 314, 316, 326, 328, 342, 352, 389, 419, 430, 492, 527, 559, 573, 585, 633, 707], 'cube573_cluster0': [267, 314, 316, 326, 342, 389, 430, 507, 559, 573, 630, 683], 'cube574_cluster0': [28, 220, 229, 316, 351, 389, 420, 430, 507, 630, 651, 683, 715, 780, 957], 'cube575_cluster0': [27, 28, 220, 229, 242, 287, 351, 420, 630, 651, 715, 780, 957], 'cube576_cluster0': [27, 28, 139, 229, 242, 287, 351, 420, 540, 572, 651, 663, 780, 828, 957], 'cube577_cluster0': [27, 139, 287, 540, 554, 572, 663, 828, 902, 954], 'cube578_cluster0': [139, 455, 471, 538, 554, 572, 579, 589, 663, 902, 948, 954], 'cube579_cluster0': [256, 315, 429, 455, 471, 538, 579, 589, 712, 902, 937, 948], 'cube580_cluster0': [256, 271, 315, 429, 538, 579, 589, 689, 712, 937], 'cube581_cluster0': [271, 315, 387, 429, 441, 689, 937], 'cube582_cluster0': [225, 387, 441, 486, 689], 'cube597_cluster0': [85, 141, 253, 379, 403, 547, 733, 796, 909, 915], 'cube598_cluster0': [54, 120, 123, 141, 253, 379, 547, 733, 796, 909, 915], 'cube599_cluster0': [54, 120, 123, 141, 152, 197, 285, 360, 379, 391, 733, 796, 839, 915], 'cube600_cluster0': [54, 123, 152, 197, 285, 337, 360, 391, 442, 771, 839, 988], 'cube601_cluster0': [107, 197, 337, 360, 442, 690, 760, 771, 839, 988], 'cube602_cluster0': [107, 130, 154, 442, 690, 760, 771], 'cube603_cluster0': [107, 130, 154, 376, 463, 588, 669, 872, 903], 'cube604_cluster0': [8, 70, 130, 257, 284, 376, 463, 549, 588, 669, 872, 903, 942], 'cube605_cluster0': [8, 70, 177, 184, 257, 284, 463, 499, 549, 588, 669, 872, 879, 889, 903, 942], 'cube606_cluster0': [8, 70, 109, 177, 184, 310, 459, 499, 549, 644, 707, 773, 879, 889, 942, 996], 'cube607_cluster0': [109, 177, 184, 310, 342, 352, 419, 459, 492, 499, 559, 585, 644, 707, 773, 889, 973, 977, 996], 'cube608_cluster0': [109, 160, 310, 314, 316, 342, 352, 389, 419, 492, 559, 585, 595, 707, 863, 973, 977], 'cube609_cluster0': [160, 300, 314, 316, 342, 389, 559, 595, 630, 683, 863, 973], 'cube610_cluster0': [95, 160, 229, 300, 316, 389, 420, 512, 569, 595, 630, 651, 683, 715, 858, 863], 'cube611_cluster0': [95, 222, 229, 242, 287, 339, 420, 512, 569, 630, 651, 715, 743, 750, 790, 829, 858], 'cube612_cluster0': [139, 222, 229, 242, 287, 339, 420, 478, 540, 572, 651, 663, 743, 750, 790, 828, 829, 858], 'cube613_cluster0': [139, 222, 287, 478, 500, 540, 572, 663, 790, 828, 829], 'cube614_cluster0': [139, 455, 471, 500, 538, 572, 663, 820, 948], 'cube615_cluster0': [256, 315, 429, 455, 471, 482, 500, 538, 712, 820, 948], 'cube616_cluster0': [256, 271, 315, 429, 482, 538, 689, 712], 'cube617_cluster0': [271, 315, 429, 441, 482, 689], 'cube618_cluster0': [93, 166, 225, 441, 486, 677, 689, 805], 'cube619_cluster0': [93, 166, 225, 486, 677, 797, 805, 869], 'cube620_cluster0': [93, 225, 668, 797, 823, 869, 887], 'cube621_cluster0': [311, 668, 797, 823, 860, 869, 887, 966], 'cube622_cluster0': [311, 349, 823, 860, 887, 966], 'cube629_cluster0': [85, 141, 379, 886, 915, 969, 986], 'cube630_cluster0': [54, 120, 141, 379, 886, 915, 969, 986], 'cube631_cluster0': [54, 120, 141, 152, 285, 360, 379, 391, 867, 886, 915, 969], 'cube632_cluster0': [54, 152, 285, 337, 360, 391, 720, 772, 867], 'cube633_cluster0': [337, 360, 720, 772, 867], 'cube635_cluster0': [55, 154, 245, 376, 453, 463, 588, 792, 903], 'cube636_cluster0': [8, 31, 55, 70, 245, 284, 376, 453, 463, 549, 563, 588, 792, 903, 942], 'cube637_cluster0': [8, 15, 31, 55, 70, 177, 184, 245, 284, 450, 453, 463, 499, 549, 563, 588, 879, 903, 942, 965], 'cube638_cluster0': [8, 15, 70, 177, 184, 450, 499, 549, 563, 644, 707, 879, 942, 965, 968, 996], 'cube639_cluster0': [15, 68, 177, 184, 342, 348, 419, 450, 499, 644, 707, 967, 968, 973, 977, 996], 'cube640_cluster0': [68, 160, 210, 314, 316, 342, 348, 419, 595, 707, 863, 967, 968, 973, 977], 'cube641_cluster0': [68, 160, 210, 215, 300, 314, 316, 342, 348, 595, 630, 683, 688, 799, 863, 973], 'cube642_cluster0': [95, 160, 186, 215, 229, 300, 316, 502, 512, 569, 595, 630, 683, 688, 715, 799, 858, 863], 'cube643_cluster0': [95, 186, 215, 222, 229, 287, 339, 432, 502, 512, 562, 569, 630, 642, 688, 715, 743, 750, 790, 829, 858], 'cube644_cluster0': [186, 222, 229, 287, 339, 432, 478, 502, 562, 642, 743, 750, 790, 829, 858], 'cube645_cluster0': [98, 222, 287, 385, 478, 500, 642, 790, 829], 'cube646_cluster0': [6, 98, 234, 385, 500, 820], 'cube647_cluster0': [6, 234, 256, 290, 315, 385, 482, 500, 820], 'cube648_cluster0': [6, 234, 256, 271, 290, 302, 315, 482, 741, 881], 'cube649_cluster0': [271, 290, 302, 315, 482, 601, 741, 881], 'cube650_cluster0': [87, 93, 166, 476, 486, 601, 677, 805], 'cube651_cluster0': [87, 93, 166, 476, 486, 601, 677, 797, 805], 'cube652_cluster0': [87, 93, 476, 797, 823, 887], 'cube653_cluster0': [797, 823, 860, 887, 966], 'cube654_cluster0': [349, 823, 860, 887, 966], 'cube663_cluster0': [85, 560, 885, 886, 915, 969, 986], 'cube664_cluster0': [54, 203, 885, 886, 915, 969, 986], 'cube665_cluster0': [54, 203, 285, 867, 886, 915, 969], 'cube666_cluster0': [17, 54, 285, 720, 772, 867, 875], 'cube667_cluster0': [17, 252, 571, 720, 772, 785, 867, 875], 'cube668_cluster0': [252, 571, 720, 772, 785, 875], 'cube669_cluster0': [55, 245, 252, 434, 453, 463, 508, 571, 588, 792], 'cube670_cluster0': [8, 31, 55, 245, 434, 453, 463, 508, 563, 588, 652, 792], 'cube671_cluster0': [8, 15, 31, 55, 245, 434, 450, 453, 463, 464, 499, 563, 588, 652, 879, 965], 'cube672_cluster0': [8, 15, 450, 464, 499, 563, 652, 685, 722, 879, 965, 968, 996], 'cube673_cluster0': [15, 68, 159, 346, 348, 450, 464, 499, 656, 685, 693, 722, 967, 968, 977, 996], 'cube674_cluster0': [60, 68, 159, 160, 210, 346, 348, 595, 656, 693, 779, 967, 968, 977], 'cube675_cluster0': [60, 68, 159, 160, 210, 215, 300, 348, 491, 595, 688, 693, 779, 799, 928], 'cube676_cluster0': [60, 95, 160, 186, 215, 300, 491, 502, 512, 595, 637, 688, 765, 779, 799, 858, 928], 'cube677_cluster0': [39, 95, 186, 215, 306, 339, 432, 491, 502, 512, 562, 637, 642, 688, 743, 750, 765, 790, 858, 928], 'cube678_cluster0': [39, 186, 306, 339, 432, 478, 502, 552, 562, 591, 613, 642, 743, 750, 765, 790, 858], 'cube679_cluster0': [98, 306, 385, 478, 500, 552, 591, 613, 642, 790], 'cube680_cluster0': [6, 98, 234, 385, 500, 591, 820], 'cube681_cluster0': [2, 6, 234, 290, 385, 500, 820], 'cube682_cluster0': [2, 6, 234, 290, 302, 383, 741, 881], 'cube683_cluster0': [290, 302, 383, 601, 741, 881], 'cube684_cluster0': [87, 93, 383, 476, 601, 805], 'cube685_cluster0': [87, 93, 476, 601, 805, 826], 'cube686_cluster0': [87, 93, 476, 826, 887], 'cube701_cluster0': [37, 114, 494, 560, 885], 'cube702_cluster0': [114, 494, 560, 885, 886], 'cube705_cluster0': [17, 832, 867, 875, 884], 'cube706_cluster0': [17, 252, 571, 785, 832, 867, 875, 884], 'cube707_cluster0': [144, 252, 571, 785, 875], 'cube708_cluster0': [55, 144, 245, 252, 434, 508, 571, 792], 'cube709_cluster0': [31, 55, 144, 170, 245, 292, 434, 483, 506, 508, 563, 652, 792], 'cube710_cluster0': [15, 31, 55, 170, 245, 292, 434, 464, 483, 506, 563, 598, 652, 965], 'cube711_cluster0': [15, 292, 304, 464, 483, 563, 598, 652, 685, 722, 965, 968, 981], 'cube712_cluster0': [15, 52, 68, 108, 159, 304, 346, 348, 464, 598, 656, 685, 693, 722, 919, 967, 968, 981], 'cube713_cluster0': [52, 60, 68, 108, 159, 210, 304, 346, 348, 656, 693, 779, 919, 967, 968, 981], 'cube714_cluster0': [52, 60, 68, 159, 210, 215, 348, 491, 688, 693, 779, 919, 928], 'cube715_cluster0': [60, 215, 278, 456, 491, 502, 637, 688, 749, 765, 779, 928, 945], 'cube716_cluster0': [39, 215, 278, 306, 354, 456, 491, 502, 562, 637, 642, 688, 749, 765, 803, 928, 945], 'cube717_cluster0': [39, 306, 354, 456, 502, 552, 562, 591, 613, 620, 642, 765, 803], 'cube718_cluster0': [98, 306, 552, 591, 613, 620, 642], 'cube721_cluster0': [2, 6, 290, 302, 383, 460, 741, 881], 'cube722_cluster0': [208, 290, 302, 383, 460, 601, 741, 881], 'cube723_cluster0': [87, 208, 383, 460, 601], 'cube738_cluster0': [37, 114, 494, 831, 885], 'cube743_cluster0': [48, 196, 216, 252, 571, 832, 868, 875, 884], 'cube744_cluster0': [48, 134, 144, 216, 252, 259, 571, 848, 868, 875], 'cube745_cluster0': [48, 134, 144, 153, 252, 259, 508, 571, 675, 848, 868], 'cube746_cluster0': [144, 153, 170, 259, 292, 483, 506, 508, 652, 675, 732, 898], 'cube747_cluster0': [170, 292, 355, 414, 464, 467, 483, 506, 598, 652, 732, 898, 921], 'cube748_cluster0': [292, 304, 355, 414, 464, 467, 483, 598, 652, 685, 722, 810, 898, 921, 981], 'cube749_cluster0': [52, 108, 159, 304, 346, 355, 414, 464, 467, 598, 656, 685, 693, 722, 810, 919, 981], 'cube750_cluster0': [52, 108, 159, 304, 346, 656, 687, 693, 779, 919, 981], 'cube751_cluster0': [52, 159, 491, 687, 693, 779, 919, 928, 940], 'cube752_cluster0': [278, 456, 491, 749, 779, 928, 940, 945], 'cube753_cluster0': [39, 92, 278, 354, 456, 491, 749, 803, 928, 940, 945], 'cube754_cluster0': [39, 92, 241, 354, 456, 613, 620, 803, 880], 'cube755_cluster0': [92, 241, 417, 613, 620, 880], 'cube756_cluster0': [241, 417, 614, 620, 880], 'cube760_cluster0': [208, 372, 383, 460, 922], 'cube762_cluster0': [250, 295, 826, 922, 983], 'cube763_cluster0': [237, 250, 295, 501, 983], 'cube764_cluster0': [42, 237, 295, 501, 983], 'cube778_cluster0': [12, 100, 196, 832, 884], 'cube779_cluster0': [12, 48, 100, 196, 216, 448, 604, 832, 868, 884, 997], 'cube780_cluster0': [12, 48, 134, 216, 259, 448, 604, 848, 868, 997], 'cube781_cluster0': [48, 134, 153, 258, 259, 448, 675, 686, 848, 868], 'cube782_cluster0': [153, 163, 199, 258, 259, 362, 410, 483, 506, 523, 675, 686, 732, 898], 'cube783_cluster0': [163, 199, 355, 362, 410, 414, 467, 483, 506, 523, 597, 598, 732, 898, 921], 'cube784_cluster0': [163, 199, 230, 355, 362, 414, 467, 483, 523, 597, 598, 810, 898, 921, 981], 'cube785_cluster0': [52, 200, 230, 355, 378, 414, 467, 597, 598, 810, 981], 'cube786_cluster0': [52, 200, 305, 378, 687, 981], 'cube787_cluster0': [52, 200, 305, 378, 687, 940], 'cube788_cluster0': [43, 59, 278, 305, 456, 912, 940], 'cube789_cluster0': [43, 59, 92, 278, 354, 456, 912, 940], 'cube790_cluster0': [43, 92, 241, 354, 456, 639, 705, 880], 'cube791_cluster0': [92, 124, 158, 241, 417, 639, 705, 880, 962], 'cube792_cluster0': [124, 158, 241, 417, 607, 614, 639, 705, 871, 880, 962], 'cube793_cluster0': [124, 158, 273, 607, 614, 871], 'cube796_cluster0': [208, 372, 460, 911, 922], 'cube799_cluster0': [237, 250, 295, 400, 983], 'cube800_cluster0': [42, 237, 295, 400, 816, 983], 'cube817_cluster0': [546, 697, 755, 767, 783], 'cube819_cluster0': [12, 100, 196, 395, 438, 697, 783], 'cube820_cluster0': [12, 48, 100, 196, 395, 438, 448, 604, 997], 'cube821_cluster0': [12, 48, 84, 134, 259, 395, 448, 604, 997], 'cube822_cluster0': [48, 84, 134, 153, 258, 259, 365, 448, 675, 686, 865], 'cube823_cluster0': [84, 153, 163, 199, 258, 259, 269, 362, 365, 410, 523, 675, 686, 865], 'cube824_cluster0': [163, 199, 269, 355, 362, 365, 410, 414, 523, 597, 891, 921], 'cube825_cluster0': [163, 199, 230, 269, 355, 362, 392, 414, 523, 597, 891, 921], 'cube826_cluster0': [94, 200, 230, 355, 378, 392, 414, 597, 849, 876, 891], 'cube827_cluster0': [94, 200, 305, 378, 670, 849, 876], 'cube828_cluster0': [94, 200, 305, 378, 670, 849], 'cube829_cluster0': [43, 59, 305, 670, 912], 'cube830_cluster0': [43, 59, 92, 608, 912], 'cube831_cluster0': [3, 43, 92, 241, 608, 639, 705], 'cube832_cluster0': [3, 92, 124, 158, 241, 608, 639, 705, 962], 'cube833_cluster0': [3, 124, 145, 158, 241, 607, 639, 705, 871, 962], 'cube834_cluster0': [124, 145, 158, 273, 607, 871], 'cube837_cluster0': [372, 393, 784, 911, 922], 'cube840_cluster0': [250, 255, 400, 680, 983], 'cube841_cluster0': [255, 400, 680, 816, 983], 'cube845_cluster0': [146, 396, 621, 873, 874, 943], 'cube857_cluster0': [546, 697, 755, 767, 783, 834], 'cube858_cluster0': [657, 697, 755, 767, 783, 834], 'cube859_cluster0': [12, 100, 395, 438, 657, 697, 783, 864], 'cube860_cluster0': [12, 100, 395, 438, 604, 864, 997], 'cube861_cluster0': [12, 84, 395, 604, 864, 997], 'cube862_cluster0': [84, 258, 365, 520, 531, 583, 686, 865], 'cube863_cluster0': [84, 163, 199, 258, 269, 362, 365, 410, 520, 531, 583, 686, 762, 865, 961], 'cube864_cluster0': [163, 199, 269, 362, 365, 410, 520, 583, 597, 762, 830, 891, 961], 'cube865_cluster0': [47, 58, 163, 199, 269, 362, 392, 597, 830, 891, 961], 'cube866_cluster0': [47, 58, 94, 200, 378, 392, 597, 830, 849, 876, 891], 'cube867_cluster0': [47, 58, 94, 119, 200, 378, 670, 849, 876], 'cube868_cluster0': [94, 119, 200, 378, 439, 670, 849], 'cube869_cluster0': [43, 59, 119, 439, 670, 703, 912], 'cube870_cluster0': [16, 43, 59, 439, 608, 703, 912], 'cube871_cluster0': [3, 16, 43, 260, 608, 639, 705], 'cube872_cluster0': [3, 129, 260, 608, 639, 705, 962], 'cube873_cluster0': [3, 129, 145, 607, 639, 698, 705, 791, 962], 'cube874_cluster0': [129, 145, 607, 698, 791], 'cube879_cluster0': [161, 255, 297, 356, 399, 953], 'cube880_cluster0': [161, 255, 297, 356, 400, 680, 978], 'cube881_cluster0': [140, 255, 297, 356, 400, 680, 816, 978], 'cube897_cluster0': [266, 697, 755, 783, 834], 'cube898_cluster0': [266, 657, 697, 755, 783, 834], 'cube899_cluster0': [232, 266, 395, 431, 657, 697, 783, 864, 952], 'cube900_cluster0': [221, 232, 395, 431, 864, 952], 'cube901_cluster0': [84, 221, 232, 395, 431, 864, 952], 'cube902_cluster0': [84, 221, 365, 520, 531, 583], 'cube903_cluster0': [84, 269, 365, 520, 531, 583, 762, 961], 'cube904_cluster0': [269, 365, 520, 583, 762, 830, 891, 961], 'cube905_cluster0': [47, 58, 249, 269, 392, 627, 725, 830, 891, 961], 'cube906_cluster0': [47, 58, 94, 249, 392, 627, 725, 830, 849, 891], 'cube907_cluster0': [47, 58, 94, 119, 131, 249, 627, 725, 849, 963], 'cube908_cluster0': [94, 119, 131, 439, 849, 963], 'cube909_cluster0': [119, 131, 345, 439, 703], 'cube910_cluster0': [16, 345, 439, 608, 703], 'cube911_cluster0': [3, 16, 260, 345, 608, 882], 'cube912_cluster0': [3, 129, 260, 608, 882], 'cube913_cluster0': [3, 129, 145, 698, 791, 882, 920], 'cube914_cluster0': [129, 145, 698, 791, 920], 'cube915_cluster0': [469, 578, 784, 791, 840, 920, 938], 'cube916_cluster0': [61, 469, 578, 784, 840, 842, 938], 'cube917_cluster0': [61, 299, 469, 566, 578, 623, 784, 842, 938], 'cube918_cluster0': [61, 161, 299, 399, 566, 623, 953], 'cube919_cluster0': [161, 297, 299, 356, 399, 566, 623, 953], 'cube920_cluster0': [161, 297, 356, 680, 978], 'cube921_cluster0': [140, 297, 356, 680, 978], 'cube935_cluster0': [232, 266, 431, 657, 864, 952], 'cube936_cluster0': [221, 232, 431, 864, 952], 'cube937_cluster0': [221, 232, 431, 487, 864, 952, 960], 'cube938_cluster0': [221, 487, 520, 531, 583, 960], 'cube943_cluster0': [119, 131, 249, 627, 725, 811, 963], 'cube944_cluster0': [119, 131, 439, 811, 963], 'cube945_cluster0': [119, 131, 325, 345, 439, 811], 'cube947_cluster0': [16, 260, 325, 345, 808, 882], 'cube951_cluster0': [469, 578, 648, 791, 813, 840, 920, 938], 'cube952_cluster0': [61, 469, 578, 813, 840, 842, 938], 'cube953_cluster0': [61, 80, 299, 380, 469, 566, 578, 623, 813, 842, 938], 'cube954_cluster0': [61, 80, 161, 299, 380, 399, 551, 566, 623, 953], 'cube955_cluster0': [80, 161, 299, 356, 380, 399, 551, 566, 623, 953], 'cube968_cluster0': [221, 232, 431, 622, 719, 952], 'cube969_cluster0': [221, 232, 431, 487, 622, 719, 952, 960], 'cube970_cluster0': [181, 221, 487, 719, 960], 'cube973_cluster0': [249, 565, 599, 627, 776], 'cube975_cluster0': [115, 131, 249, 599, 627, 811, 963], 'cube977_cluster0': [115, 131, 325, 345, 811], 'cube979_cluster0': [11, 325, 345, 808, 882], 'cube983_cluster0': [9, 469, 578, 648, 699, 813, 938], 'cube984_cluster0': [469, 578, 699, 787, 813, 842, 938], 'cube985_cluster0': [80, 299, 380, 469, 566, 578, 623, 787, 813, 842, 938], 'cube986_cluster0': [80, 299, 380, 551, 566, 623, 787], 'cube987_cluster0': [80, 299, 380, 551, 566, 623], 'cube995_cluster0': [487, 590, 622, 719, 751], 'cube996_cluster0': [181, 487, 590, 719, 751], 'cube1001_cluster0': [104, 115, 319, 599, 956], 'cube1026_cluster0': [128, 590, 622, 719, 751], 'cube1027_cluster0': [128, 181, 590, 719, 751], 'cube1032_cluster0': [104, 115, 319, 754, 812, 956], 'cube1033_cluster0': [115, 319, 415, 754, 936], 'cube1034_cluster0': [115, 319, 415, 754, 936], 'cube1038_cluster0': [9, 377, 421, 759, 809], 'cube1039_cluster0': [9, 377, 421, 582, 699, 759, 904], 'cube1040_cluster0': [9, 582, 699, 759, 904], 'cube1041_cluster0': [470, 582, 699, 768, 787, 904], 'cube1063_cluster0': [32, 405, 541, 812, 956], 'cube1064_cluster0': [32, 104, 541, 812, 956], 'cube1072_cluster0': [377, 421, 582, 759, 904], 'cube1074_cluster0': [466, 470, 582, 768, 904], 'cube1075_cluster0': [224, 466, 470, 539, 768], 'cube1077_cluster0': [13, 475, 539, 676, 775], 'cube1078_cluster0': [13, 162, 475, 676, 775]})\n",
            "\n",
            "links\n",
            "defaultdict(<class 'list'>, {'cube19_cluster0': ['cube20_cluster0', 'cube31_cluster0', 'cube32_cluster0', 'cube50_cluster0', 'cube51_cluster0', 'cube52_cluster0'], 'cube20_cluster0': ['cube31_cluster0', 'cube32_cluster0', 'cube50_cluster0', 'cube51_cluster0', 'cube52_cluster0'], 'cube31_cluster0': ['cube32_cluster0', 'cube50_cluster0', 'cube51_cluster0', 'cube52_cluster0'], 'cube32_cluster0': ['cube50_cluster0', 'cube51_cluster0', 'cube52_cluster0', 'cube53_cluster0', 'cube78_cluster0', 'cube79_cluster0'], 'cube45_cluster0': ['cube71_cluster0'], 'cube50_cluster0': ['cube51_cluster0', 'cube52_cluster0', 'cube74_cluster0', 'cube75_cluster0', 'cube76_cluster0', 'cube100_cluster0', 'cube101_cluster0', 'cube102_cluster0'], 'cube51_cluster0': ['cube52_cluster0', 'cube53_cluster0', 'cube78_cluster0', 'cube79_cluster0', 'cube104_cluster0', 'cube105_cluster0'], 'cube52_cluster0': ['cube53_cluster0', 'cube78_cluster0', 'cube79_cluster0', 'cube104_cluster0', 'cube105_cluster0'], 'cube53_cluster0': ['cube55_cluster0', 'cube78_cluster0', 'cube79_cluster0', 'cube104_cluster0', 'cube105_cluster0'], 'cube55_cluster0': ['cube56_cluster0', 'cube79_cluster0', 'cube82_cluster0', 'cube109_cluster0'], 'cube56_cluster0': ['cube82_cluster0', 'cube109_cluster0'], 'cube71_cluster0': ['cube126_cluster0'], 'cube74_cluster0': ['cube75_cluster0', 'cube76_cluster0', 'cube100_cluster0', 'cube101_cluster0', 'cube102_cluster0', 'cube130_cluster0', 'cube131_cluster0'], 'cube75_cluster0': ['cube76_cluster0', 'cube100_cluster0', 'cube101_cluster0', 'cube102_cluster0', 'cube130_cluster0', 'cube131_cluster0'], 'cube76_cluster0': ['cube100_cluster0', 'cube101_cluster0', 'cube102_cluster0', 'cube130_cluster0', 'cube131_cluster0'], 'cube78_cluster0': ['cube79_cluster0', 'cube104_cluster0', 'cube105_cluster0'], 'cube79_cluster0': ['cube104_cluster0', 'cube105_cluster0'], 'cube82_cluster0': ['cube109_cluster0', 'cube137_cluster0', 'cube138_cluster0', 'cube139_cluster0'], 'cube100_cluster0': ['cube101_cluster0', 'cube102_cluster0', 'cube130_cluster0', 'cube131_cluster0'], 'cube101_cluster0': ['cube102_cluster0', 'cube130_cluster0', 'cube131_cluster0', 'cube160_cluster0'], 'cube102_cluster0': ['cube130_cluster0', 'cube131_cluster0', 'cube160_cluster0', 'cube161_cluster0'], 'cube104_cluster0': ['cube105_cluster0', 'cube161_cluster0', 'cube162_cluster0', 'cube163_cluster0'], 'cube105_cluster0': ['cube136_cluster0', 'cube161_cluster0', 'cube162_cluster0', 'cube163_cluster0'], 'cube109_cluster0': ['cube136_cluster0', 'cube137_cluster0', 'cube138_cluster0', 'cube139_cluster0', 'cube140_cluster0', 'cube167_cluster0', 'cube168_cluster0', 'cube169_cluster0'], 'cube126_cluster0': ['cube155_cluster0', 'cube156_cluster0', 'cube190_cluster0', 'cube191_cluster0'], 'cube130_cluster0': ['cube131_cluster0', 'cube160_cluster0'], 'cube131_cluster0': ['cube160_cluster0', 'cube161_cluster0'], 'cube136_cluster0': ['cube137_cluster0', 'cube138_cluster0', 'cube163_cluster0', 'cube167_cluster0', 'cube199_cluster0', 'cube200_cluster0', 'cube201_cluster0'], 'cube137_cluster0': ['cube138_cluster0', 'cube139_cluster0', 'cube167_cluster0', 'cube168_cluster0', 'cube199_cluster0', 'cube200_cluster0', 'cube201_cluster0'], 'cube138_cluster0': ['cube139_cluster0', 'cube140_cluster0', 'cube167_cluster0', 'cube168_cluster0', 'cube169_cluster0', 'cube202_cluster0', 'cube203_cluster0', 'cube204_cluster0'], 'cube139_cluster0': ['cube140_cluster0', 'cube141_cluster0', 'cube167_cluster0', 'cube168_cluster0', 'cube169_cluster0', 'cube170_cluster0', 'cube202_cluster0', 'cube203_cluster0', 'cube204_cluster0'], 'cube140_cluster0': ['cube141_cluster0', 'cube167_cluster0', 'cube168_cluster0', 'cube169_cluster0', 'cube170_cluster0', 'cube171_cluster0', 'cube202_cluster0', 'cube203_cluster0', 'cube204_cluster0', 'cube205_cluster0', 'cube206_cluster0'], 'cube141_cluster0': ['cube168_cluster0', 'cube169_cluster0', 'cube170_cluster0', 'cube171_cluster0', 'cube204_cluster0', 'cube205_cluster0', 'cube206_cluster0', 'cube207_cluster0'], 'cube155_cluster0': ['cube156_cluster0', 'cube190_cluster0', 'cube191_cluster0', 'cube192_cluster0'], 'cube156_cluster0': ['cube190_cluster0', 'cube191_cluster0', 'cube192_cluster0', 'cube193_cluster0'], 'cube160_cluster0': ['cube161_cluster0', 'cube194_cluster0', 'cube195_cluster0', 'cube196_cluster0', 'cube227_cluster0', 'cube228_cluster0', 'cube229_cluster0'], 'cube161_cluster0': ['cube162_cluster0', 'cube163_cluster0', 'cube194_cluster0', 'cube195_cluster0', 'cube196_cluster0', 'cube197_cluster0', 'cube198_cluster0', 'cube227_cluster0', 'cube228_cluster0', 'cube229_cluster0', 'cube230_cluster0', 'cube231_cluster0'], 'cube162_cluster0': ['cube163_cluster0', 'cube196_cluster0', 'cube197_cluster0', 'cube198_cluster0', 'cube199_cluster0', 'cube229_cluster0', 'cube230_cluster0', 'cube231_cluster0', 'cube232_cluster0'], 'cube163_cluster0': ['cube196_cluster0', 'cube197_cluster0', 'cube198_cluster0', 'cube199_cluster0', 'cube229_cluster0', 'cube230_cluster0', 'cube231_cluster0', 'cube232_cluster0'], 'cube167_cluster0': ['cube168_cluster0', 'cube169_cluster0', 'cube202_cluster0', 'cube203_cluster0', 'cube204_cluster0', 'cube235_cluster0', 'cube236_cluster0', 'cube237_cluster0'], 'cube168_cluster0': ['cube169_cluster0', 'cube170_cluster0', 'cube202_cluster0', 'cube203_cluster0', 'cube204_cluster0', 'cube205_cluster0', 'cube235_cluster0', 'cube236_cluster0', 'cube237_cluster0', 'cube238_cluster0'], 'cube169_cluster0': ['cube170_cluster0', 'cube171_cluster0', 'cube202_cluster0', 'cube203_cluster0', 'cube204_cluster0', 'cube205_cluster0', 'cube206_cluster0', 'cube235_cluster0', 'cube236_cluster0', 'cube237_cluster0', 'cube238_cluster0'], 'cube170_cluster0': ['cube171_cluster0', 'cube203_cluster0', 'cube204_cluster0', 'cube205_cluster0', 'cube206_cluster0', 'cube207_cluster0', 'cube236_cluster0', 'cube237_cluster0', 'cube238_cluster0', 'cube240_cluster0'], 'cube171_cluster0': ['cube204_cluster0', 'cube205_cluster0', 'cube206_cluster0', 'cube207_cluster0', 'cube238_cluster0', 'cube240_cluster0'], 'cube175_cluster0': ['cube208_cluster0', 'cube210_cluster0', 'cube241_cluster0', 'cube242_cluster0', 'cube243_cluster0'], 'cube190_cluster0': ['cube191_cluster0', 'cube192_cluster0', 'cube224_cluster0', 'cube225_cluster0', 'cube256_cluster0', 'cube257_cluster0', 'cube258_cluster0', 'cube259_cluster0'], 'cube191_cluster0': ['cube192_cluster0', 'cube193_cluster0', 'cube224_cluster0', 'cube225_cluster0', 'cube256_cluster0', 'cube257_cluster0', 'cube258_cluster0', 'cube259_cluster0'], 'cube192_cluster0': ['cube193_cluster0', 'cube194_cluster0', 'cube224_cluster0', 'cube225_cluster0', 'cube226_cluster0', 'cube227_cluster0', 'cube257_cluster0', 'cube258_cluster0', 'cube259_cluster0', 'cube260_cluster0', 'cube261_cluster0'], 'cube193_cluster0': ['cube194_cluster0', 'cube195_cluster0', 'cube225_cluster0', 'cube226_cluster0', 'cube227_cluster0', 'cube228_cluster0', 'cube259_cluster0', 'cube260_cluster0', 'cube261_cluster0', 'cube262_cluster0'], 'cube194_cluster0': ['cube195_cluster0', 'cube196_cluster0', 'cube225_cluster0', 'cube226_cluster0', 'cube227_cluster0', 'cube228_cluster0', 'cube229_cluster0', 'cube259_cluster0', 'cube260_cluster0', 'cube261_cluster0', 'cube262_cluster0', 'cube263_cluster0'], 'cube195_cluster0': ['cube196_cluster0', 'cube197_cluster0', 'cube226_cluster0', 'cube227_cluster0', 'cube228_cluster0', 'cube229_cluster0', 'cube230_cluster0', 'cube260_cluster0', 'cube261_cluster0', 'cube262_cluster0', 'cube263_cluster0', 'cube264_cluster0'], 'cube196_cluster0': ['cube197_cluster0', 'cube198_cluster0', 'cube227_cluster0', 'cube228_cluster0', 'cube229_cluster0', 'cube230_cluster0', 'cube231_cluster0', 'cube261_cluster0', 'cube262_cluster0', 'cube263_cluster0', 'cube264_cluster0', 'cube265_cluster0'], 'cube197_cluster0': ['cube198_cluster0', 'cube199_cluster0', 'cube228_cluster0', 'cube229_cluster0', 'cube230_cluster0', 'cube231_cluster0', 'cube232_cluster0', 'cube262_cluster0', 'cube263_cluster0', 'cube264_cluster0', 'cube265_cluster0', 'cube266_cluster0'], 'cube198_cluster0': ['cube199_cluster0', 'cube200_cluster0', 'cube229_cluster0', 'cube230_cluster0', 'cube231_cluster0', 'cube232_cluster0', 'cube233_cluster0', 'cube263_cluster0', 'cube264_cluster0', 'cube265_cluster0', 'cube266_cluster0', 'cube267_cluster0'], 'cube199_cluster0': ['cube200_cluster0', 'cube201_cluster0', 'cube230_cluster0', 'cube231_cluster0', 'cube232_cluster0', 'cube233_cluster0', 'cube234_cluster0', 'cube264_cluster0', 'cube265_cluster0', 'cube266_cluster0', 'cube267_cluster0', 'cube268_cluster0'], 'cube200_cluster0': ['cube201_cluster0', 'cube202_cluster0', 'cube231_cluster0', 'cube232_cluster0', 'cube233_cluster0', 'cube234_cluster0', 'cube235_cluster0', 'cube265_cluster0', 'cube266_cluster0', 'cube267_cluster0', 'cube268_cluster0', 'cube269_cluster0'], 'cube201_cluster0': ['cube202_cluster0', 'cube232_cluster0', 'cube233_cluster0', 'cube234_cluster0', 'cube235_cluster0', 'cube266_cluster0', 'cube267_cluster0', 'cube268_cluster0', 'cube269_cluster0'], 'cube202_cluster0': ['cube203_cluster0', 'cube204_cluster0', 'cube233_cluster0', 'cube234_cluster0', 'cube235_cluster0', 'cube236_cluster0', 'cube237_cluster0', 'cube267_cluster0', 'cube268_cluster0', 'cube269_cluster0'], 'cube203_cluster0': ['cube204_cluster0', 'cube205_cluster0', 'cube235_cluster0', 'cube236_cluster0', 'cube237_cluster0', 'cube238_cluster0'], 'cube204_cluster0': ['cube205_cluster0', 'cube206_cluster0', 'cube235_cluster0', 'cube236_cluster0', 'cube237_cluster0', 'cube238_cluster0'], 'cube205_cluster0': ['cube206_cluster0', 'cube207_cluster0', 'cube236_cluster0', 'cube237_cluster0', 'cube238_cluster0', 'cube240_cluster0'], 'cube206_cluster0': ['cube207_cluster0', 'cube208_cluster0', 'cube238_cluster0', 'cube240_cluster0', 'cube241_cluster0'], 'cube207_cluster0': ['cube208_cluster0', 'cube238_cluster0', 'cube240_cluster0', 'cube241_cluster0'], 'cube208_cluster0': ['cube210_cluster0', 'cube240_cluster0', 'cube241_cluster0', 'cube242_cluster0', 'cube243_cluster0', 'cube276_cluster0'], 'cube210_cluster0': ['cube241_cluster0', 'cube242_cluster0', 'cube243_cluster0', 'cube276_cluster0'], 'cube220_cluster0': ['cube221_cluster0', 'cube255_cluster0', 'cube256_cluster0', 'cube283_cluster0', 'cube284_cluster0'], 'cube221_cluster0': ['cube255_cluster0', 'cube256_cluster0', 'cube283_cluster0', 'cube284_cluster0'], 'cube224_cluster0': ['cube225_cluster0', 'cube226_cluster0', 'cube256_cluster0', 'cube257_cluster0', 'cube258_cluster0', 'cube259_cluster0', 'cube260_cluster0', 'cube286_cluster0', 'cube287_cluster0', 'cube288_cluster0'], 'cube225_cluster0': ['cube226_cluster0', 'cube227_cluster0', 'cube257_cluster0', 'cube258_cluster0', 'cube259_cluster0', 'cube260_cluster0', 'cube261_cluster0', 'cube286_cluster0', 'cube287_cluster0', 'cube288_cluster0', 'cube289_cluster0'], 'cube226_cluster0': ['cube227_cluster0', 'cube228_cluster0', 'cube258_cluster0', 'cube259_cluster0', 'cube260_cluster0', 'cube261_cluster0', 'cube262_cluster0', 'cube286_cluster0', 'cube287_cluster0', 'cube288_cluster0', 'cube289_cluster0'], 'cube227_cluster0': ['cube228_cluster0', 'cube229_cluster0', 'cube259_cluster0', 'cube260_cluster0', 'cube261_cluster0', 'cube262_cluster0', 'cube263_cluster0', 'cube287_cluster0', 'cube288_cluster0', 'cube289_cluster0', 'cube290_cluster0', 'cube291_cluster0'], 'cube228_cluster0': ['cube229_cluster0', 'cube230_cluster0', 'cube260_cluster0', 'cube261_cluster0', 'cube262_cluster0', 'cube263_cluster0', 'cube264_cluster0', 'cube289_cluster0', 'cube290_cluster0', 'cube291_cluster0', 'cube292_cluster0'], 'cube229_cluster0': ['cube230_cluster0', 'cube231_cluster0', 'cube261_cluster0', 'cube262_cluster0', 'cube263_cluster0', 'cube264_cluster0', 'cube265_cluster0', 'cube289_cluster0', 'cube290_cluster0', 'cube291_cluster0', 'cube292_cluster0', 'cube293_cluster0'], 'cube230_cluster0': ['cube231_cluster0', 'cube232_cluster0', 'cube262_cluster0', 'cube263_cluster0', 'cube264_cluster0', 'cube265_cluster0', 'cube266_cluster0', 'cube290_cluster0', 'cube291_cluster0', 'cube292_cluster0', 'cube293_cluster0', 'cube294_cluster0'], 'cube231_cluster0': ['cube232_cluster0', 'cube233_cluster0', 'cube263_cluster0', 'cube264_cluster0', 'cube265_cluster0', 'cube266_cluster0', 'cube267_cluster0', 'cube291_cluster0', 'cube292_cluster0', 'cube293_cluster0', 'cube294_cluster0'], 'cube232_cluster0': ['cube233_cluster0', 'cube234_cluster0', 'cube264_cluster0', 'cube265_cluster0', 'cube266_cluster0', 'cube267_cluster0', 'cube268_cluster0', 'cube292_cluster0', 'cube293_cluster0', 'cube294_cluster0', 'cube295_cluster0', 'cube296_cluster0'], 'cube233_cluster0': ['cube234_cluster0', 'cube235_cluster0', 'cube265_cluster0', 'cube266_cluster0', 'cube267_cluster0', 'cube268_cluster0', 'cube269_cluster0', 'cube294_cluster0', 'cube295_cluster0', 'cube296_cluster0'], 'cube234_cluster0': ['cube235_cluster0', 'cube266_cluster0', 'cube267_cluster0', 'cube268_cluster0', 'cube269_cluster0', 'cube294_cluster0', 'cube295_cluster0', 'cube296_cluster0'], 'cube235_cluster0': ['cube236_cluster0', 'cube237_cluster0', 'cube267_cluster0', 'cube268_cluster0', 'cube269_cluster0', 'cube270_cluster0', 'cube271_cluster0', 'cube297_cluster0', 'cube298_cluster0', 'cube299_cluster0'], 'cube236_cluster0': ['cube237_cluster0', 'cube238_cluster0', 'cube269_cluster0', 'cube270_cluster0', 'cube271_cluster0', 'cube272_cluster0', 'cube297_cluster0', 'cube298_cluster0', 'cube299_cluster0', 'cube300_cluster0'], 'cube237_cluster0': ['cube238_cluster0', 'cube269_cluster0', 'cube270_cluster0', 'cube271_cluster0', 'cube272_cluster0', 'cube297_cluster0', 'cube298_cluster0', 'cube299_cluster0', 'cube300_cluster0'], 'cube238_cluster0': ['cube240_cluster0', 'cube270_cluster0', 'cube271_cluster0', 'cube272_cluster0', 'cube274_cluster0', 'cube298_cluster0', 'cube299_cluster0', 'cube300_cluster0'], 'cube240_cluster0': ['cube241_cluster0', 'cube242_cluster0', 'cube272_cluster0', 'cube274_cluster0', 'cube276_cluster0', 'cube302_cluster0', 'cube303_cluster0', 'cube304_cluster0'], 'cube241_cluster0': ['cube242_cluster0', 'cube243_cluster0', 'cube274_cluster0', 'cube276_cluster0', 'cube302_cluster0', 'cube303_cluster0', 'cube304_cluster0'], 'cube242_cluster0': ['cube243_cluster0', 'cube274_cluster0', 'cube276_cluster0', 'cube302_cluster0', 'cube303_cluster0', 'cube304_cluster0'], 'cube243_cluster0': ['cube276_cluster0'], 'cube255_cluster0': ['cube256_cluster0', 'cube283_cluster0', 'cube284_cluster0'], 'cube256_cluster0': ['cube257_cluster0', 'cube258_cluster0', 'cube283_cluster0', 'cube284_cluster0', 'cube285_cluster0', 'cube311_cluster0', 'cube312_cluster0'], 'cube257_cluster0': ['cube258_cluster0', 'cube259_cluster0', 'cube284_cluster0', 'cube285_cluster0', 'cube286_cluster0', 'cube287_cluster0', 'cube311_cluster0', 'cube312_cluster0', 'cube313_cluster0', 'cube314_cluster0'], 'cube258_cluster0': ['cube259_cluster0', 'cube260_cluster0', 'cube285_cluster0', 'cube286_cluster0', 'cube287_cluster0', 'cube288_cluster0', 'cube312_cluster0', 'cube313_cluster0', 'cube314_cluster0', 'cube315_cluster0'], 'cube259_cluster0': ['cube260_cluster0', 'cube261_cluster0', 'cube285_cluster0', 'cube286_cluster0', 'cube287_cluster0', 'cube288_cluster0', 'cube289_cluster0', 'cube312_cluster0', 'cube313_cluster0', 'cube314_cluster0', 'cube315_cluster0', 'cube316_cluster0'], 'cube260_cluster0': ['cube261_cluster0', 'cube262_cluster0', 'cube286_cluster0', 'cube287_cluster0', 'cube288_cluster0', 'cube289_cluster0', 'cube290_cluster0', 'cube313_cluster0', 'cube314_cluster0', 'cube315_cluster0', 'cube316_cluster0', 'cube317_cluster0'], 'cube261_cluster0': ['cube262_cluster0', 'cube263_cluster0', 'cube287_cluster0', 'cube288_cluster0', 'cube289_cluster0', 'cube290_cluster0', 'cube291_cluster0', 'cube314_cluster0', 'cube315_cluster0', 'cube316_cluster0', 'cube317_cluster0'], 'cube262_cluster0': ['cube263_cluster0', 'cube264_cluster0', 'cube288_cluster0', 'cube289_cluster0', 'cube290_cluster0', 'cube291_cluster0', 'cube292_cluster0', 'cube315_cluster0', 'cube316_cluster0', 'cube317_cluster0', 'cube318_cluster0', 'cube319_cluster0'], 'cube263_cluster0': ['cube264_cluster0', 'cube265_cluster0', 'cube289_cluster0', 'cube290_cluster0', 'cube291_cluster0', 'cube292_cluster0', 'cube293_cluster0', 'cube317_cluster0', 'cube318_cluster0', 'cube319_cluster0', 'cube320_cluster0'], 'cube264_cluster0': ['cube265_cluster0', 'cube266_cluster0', 'cube290_cluster0', 'cube291_cluster0', 'cube292_cluster0', 'cube293_cluster0', 'cube294_cluster0', 'cube317_cluster0', 'cube318_cluster0', 'cube319_cluster0', 'cube320_cluster0', 'cube321_cluster0'], 'cube265_cluster0': ['cube266_cluster0', 'cube267_cluster0', 'cube291_cluster0', 'cube292_cluster0', 'cube293_cluster0', 'cube294_cluster0', 'cube295_cluster0', 'cube318_cluster0', 'cube319_cluster0', 'cube320_cluster0', 'cube321_cluster0', 'cube322_cluster0'], 'cube266_cluster0': ['cube267_cluster0', 'cube268_cluster0', 'cube292_cluster0', 'cube293_cluster0', 'cube294_cluster0', 'cube295_cluster0', 'cube296_cluster0', 'cube319_cluster0', 'cube320_cluster0', 'cube321_cluster0', 'cube322_cluster0'], 'cube267_cluster0': ['cube268_cluster0', 'cube269_cluster0', 'cube293_cluster0', 'cube294_cluster0', 'cube295_cluster0', 'cube296_cluster0', 'cube297_cluster0', 'cube320_cluster0', 'cube321_cluster0', 'cube322_cluster0', 'cube323_cluster0', 'cube324_cluster0'], 'cube268_cluster0': ['cube269_cluster0', 'cube294_cluster0', 'cube295_cluster0', 'cube296_cluster0', 'cube297_cluster0', 'cube322_cluster0', 'cube323_cluster0', 'cube324_cluster0'], 'cube269_cluster0': ['cube270_cluster0', 'cube271_cluster0', 'cube295_cluster0', 'cube296_cluster0', 'cube297_cluster0', 'cube298_cluster0', 'cube299_cluster0', 'cube322_cluster0', 'cube323_cluster0', 'cube324_cluster0', 'cube325_cluster0'], 'cube270_cluster0': ['cube271_cluster0', 'cube272_cluster0', 'cube297_cluster0', 'cube298_cluster0', 'cube299_cluster0', 'cube300_cluster0', 'cube324_cluster0', 'cube325_cluster0'], 'cube271_cluster0': ['cube272_cluster0', 'cube297_cluster0', 'cube298_cluster0', 'cube299_cluster0', 'cube300_cluster0'], 'cube272_cluster0': ['cube274_cluster0', 'cube298_cluster0', 'cube299_cluster0', 'cube300_cluster0', 'cube301_cluster0', 'cube302_cluster0', 'cube327_cluster0', 'cube328_cluster0', 'cube329_cluster0'], 'cube274_cluster0': ['cube276_cluster0', 'cube300_cluster0', 'cube301_cluster0', 'cube302_cluster0', 'cube303_cluster0', 'cube304_cluster0', 'cube327_cluster0', 'cube328_cluster0', 'cube329_cluster0', 'cube330_cluster0', 'cube331_cluster0'], 'cube276_cluster0': ['cube302_cluster0', 'cube303_cluster0', 'cube304_cluster0', 'cube329_cluster0', 'cube330_cluster0', 'cube331_cluster0'], 'cube283_cluster0': ['cube284_cluster0', 'cube285_cluster0', 'cube311_cluster0', 'cube312_cluster0', 'cube339_cluster0', 'cube340_cluster0', 'cube341_cluster0'], 'cube284_cluster0': ['cube285_cluster0', 'cube311_cluster0', 'cube312_cluster0', 'cube339_cluster0', 'cube340_cluster0', 'cube341_cluster0'], 'cube285_cluster0': ['cube286_cluster0', 'cube287_cluster0', 'cube311_cluster0', 'cube312_cluster0', 'cube313_cluster0', 'cube314_cluster0', 'cube339_cluster0', 'cube340_cluster0', 'cube341_cluster0', 'cube342_cluster0', 'cube343_cluster0'], 'cube286_cluster0': ['cube287_cluster0', 'cube288_cluster0', 'cube312_cluster0', 'cube313_cluster0', 'cube314_cluster0', 'cube315_cluster0', 'cube341_cluster0', 'cube342_cluster0', 'cube343_cluster0', 'cube344_cluster0'], 'cube287_cluster0': ['cube288_cluster0', 'cube289_cluster0', 'cube312_cluster0', 'cube313_cluster0', 'cube314_cluster0', 'cube315_cluster0', 'cube316_cluster0', 'cube341_cluster0', 'cube342_cluster0', 'cube343_cluster0', 'cube344_cluster0', 'cube345_cluster0'], 'cube288_cluster0': ['cube289_cluster0', 'cube290_cluster0', 'cube313_cluster0', 'cube314_cluster0', 'cube315_cluster0', 'cube316_cluster0', 'cube317_cluster0', 'cube342_cluster0', 'cube343_cluster0', 'cube344_cluster0', 'cube345_cluster0', 'cube346_cluster0'], 'cube289_cluster0': ['cube290_cluster0', 'cube291_cluster0', 'cube314_cluster0', 'cube315_cluster0', 'cube316_cluster0', 'cube317_cluster0', 'cube318_cluster0', 'cube343_cluster0', 'cube344_cluster0', 'cube345_cluster0', 'cube346_cluster0', 'cube347_cluster0'], 'cube290_cluster0': ['cube291_cluster0', 'cube292_cluster0', 'cube315_cluster0', 'cube316_cluster0', 'cube317_cluster0', 'cube318_cluster0', 'cube319_cluster0', 'cube344_cluster0', 'cube345_cluster0', 'cube346_cluster0', 'cube347_cluster0'], 'cube291_cluster0': ['cube292_cluster0', 'cube293_cluster0', 'cube316_cluster0', 'cube317_cluster0', 'cube318_cluster0', 'cube319_cluster0', 'cube320_cluster0', 'cube345_cluster0', 'cube346_cluster0', 'cube347_cluster0'], 'cube292_cluster0': ['cube293_cluster0', 'cube294_cluster0', 'cube317_cluster0', 'cube318_cluster0', 'cube319_cluster0', 'cube320_cluster0', 'cube321_cluster0', 'cube348_cluster0', 'cube349_cluster0', 'cube350_cluster0'], 'cube293_cluster0': ['cube294_cluster0', 'cube295_cluster0', 'cube318_cluster0', 'cube319_cluster0', 'cube320_cluster0', 'cube321_cluster0', 'cube322_cluster0', 'cube348_cluster0', 'cube349_cluster0', 'cube350_cluster0', 'cube351_cluster0'], 'cube294_cluster0': ['cube295_cluster0', 'cube296_cluster0', 'cube319_cluster0', 'cube320_cluster0', 'cube321_cluster0', 'cube322_cluster0', 'cube323_cluster0', 'cube348_cluster0', 'cube349_cluster0', 'cube350_cluster0', 'cube351_cluster0', 'cube352_cluster0'], 'cube295_cluster0': ['cube296_cluster0', 'cube297_cluster0', 'cube320_cluster0', 'cube321_cluster0', 'cube322_cluster0', 'cube323_cluster0', 'cube324_cluster0', 'cube349_cluster0', 'cube350_cluster0', 'cube351_cluster0', 'cube352_cluster0'], 'cube296_cluster0': ['cube297_cluster0', 'cube298_cluster0', 'cube321_cluster0', 'cube322_cluster0', 'cube323_cluster0', 'cube324_cluster0', 'cube325_cluster0', 'cube350_cluster0', 'cube351_cluster0', 'cube352_cluster0', 'cube353_cluster0', 'cube354_cluster0'], 'cube297_cluster0': ['cube298_cluster0', 'cube299_cluster0', 'cube322_cluster0', 'cube323_cluster0', 'cube324_cluster0', 'cube325_cluster0', 'cube352_cluster0', 'cube353_cluster0', 'cube354_cluster0', 'cube355_cluster0'], 'cube298_cluster0': ['cube299_cluster0', 'cube300_cluster0', 'cube323_cluster0', 'cube324_cluster0', 'cube325_cluster0', 'cube352_cluster0', 'cube353_cluster0', 'cube354_cluster0', 'cube355_cluster0'], 'cube299_cluster0': ['cube300_cluster0', 'cube324_cluster0', 'cube325_cluster0', 'cube327_cluster0', 'cube353_cluster0', 'cube354_cluster0', 'cube355_cluster0', 'cube356_cluster0'], 'cube300_cluster0': ['cube301_cluster0', 'cube302_cluster0', 'cube327_cluster0', 'cube328_cluster0', 'cube329_cluster0', 'cube355_cluster0', 'cube356_cluster0', 'cube357_cluster0', 'cube358_cluster0'], 'cube301_cluster0': ['cube302_cluster0', 'cube327_cluster0', 'cube328_cluster0', 'cube329_cluster0', 'cube356_cluster0', 'cube357_cluster0', 'cube358_cluster0'], 'cube302_cluster0': ['cube303_cluster0', 'cube304_cluster0', 'cube327_cluster0', 'cube328_cluster0', 'cube329_cluster0', 'cube330_cluster0', 'cube331_cluster0', 'cube356_cluster0', 'cube357_cluster0', 'cube358_cluster0', 'cube359_cluster0', 'cube360_cluster0'], 'cube303_cluster0': ['cube304_cluster0', 'cube329_cluster0', 'cube330_cluster0', 'cube331_cluster0', 'cube358_cluster0', 'cube359_cluster0', 'cube360_cluster0'], 'cube304_cluster0': ['cube329_cluster0', 'cube330_cluster0', 'cube331_cluster0', 'cube332_cluster0', 'cube333_cluster0', 'cube358_cluster0', 'cube359_cluster0', 'cube360_cluster0', 'cube361_cluster0', 'cube362_cluster0'], 'cube311_cluster0': ['cube312_cluster0', 'cube313_cluster0', 'cube339_cluster0', 'cube340_cluster0', 'cube341_cluster0', 'cube342_cluster0'], 'cube312_cluster0': ['cube313_cluster0', 'cube314_cluster0', 'cube339_cluster0', 'cube340_cluster0', 'cube341_cluster0', 'cube342_cluster0', 'cube343_cluster0', 'cube372_cluster0', 'cube373_cluster0'], 'cube313_cluster0': ['cube314_cluster0', 'cube315_cluster0', 'cube340_cluster0', 'cube341_cluster0', 'cube342_cluster0', 'cube343_cluster0', 'cube344_cluster0', 'cube372_cluster0', 'cube373_cluster0'], 'cube314_cluster0': ['cube315_cluster0', 'cube316_cluster0', 'cube341_cluster0', 'cube342_cluster0', 'cube343_cluster0', 'cube344_cluster0', 'cube345_cluster0', 'cube374_cluster0', 'cube375_cluster0', 'cube376_cluster0'], 'cube315_cluster0': ['cube316_cluster0', 'cube317_cluster0', 'cube342_cluster0', 'cube343_cluster0', 'cube344_cluster0', 'cube345_cluster0', 'cube346_cluster0', 'cube374_cluster0', 'cube375_cluster0', 'cube376_cluster0', 'cube377_cluster0'], 'cube316_cluster0': ['cube317_cluster0', 'cube318_cluster0', 'cube343_cluster0', 'cube344_cluster0', 'cube345_cluster0', 'cube346_cluster0', 'cube347_cluster0', 'cube374_cluster0', 'cube375_cluster0', 'cube376_cluster0', 'cube377_cluster0'], 'cube317_cluster0': ['cube318_cluster0', 'cube319_cluster0', 'cube344_cluster0', 'cube345_cluster0', 'cube346_cluster0', 'cube347_cluster0', 'cube375_cluster0', 'cube376_cluster0', 'cube377_cluster0'], 'cube318_cluster0': ['cube319_cluster0', 'cube320_cluster0', 'cube345_cluster0', 'cube346_cluster0', 'cube347_cluster0'], 'cube319_cluster0': ['cube320_cluster0', 'cube321_cluster0', 'cube348_cluster0', 'cube349_cluster0', 'cube350_cluster0', 'cube379_cluster0', 'cube380_cluster0', 'cube381_cluster0'], 'cube320_cluster0': ['cube321_cluster0', 'cube322_cluster0', 'cube348_cluster0', 'cube349_cluster0', 'cube350_cluster0', 'cube351_cluster0', 'cube379_cluster0', 'cube380_cluster0', 'cube381_cluster0', 'cube382_cluster0'], 'cube321_cluster0': ['cube322_cluster0', 'cube323_cluster0', 'cube348_cluster0', 'cube349_cluster0', 'cube350_cluster0', 'cube351_cluster0', 'cube352_cluster0', 'cube379_cluster0', 'cube380_cluster0', 'cube381_cluster0', 'cube382_cluster0', 'cube383_cluster0'], 'cube322_cluster0': ['cube323_cluster0', 'cube324_cluster0', 'cube349_cluster0', 'cube350_cluster0', 'cube351_cluster0', 'cube352_cluster0', 'cube353_cluster0', 'cube380_cluster0', 'cube381_cluster0', 'cube382_cluster0', 'cube383_cluster0', 'cube384_cluster0'], 'cube323_cluster0': ['cube324_cluster0', 'cube325_cluster0', 'cube350_cluster0', 'cube351_cluster0', 'cube352_cluster0', 'cube353_cluster0', 'cube354_cluster0', 'cube381_cluster0', 'cube382_cluster0', 'cube383_cluster0', 'cube384_cluster0'], 'cube324_cluster0': ['cube325_cluster0', 'cube351_cluster0', 'cube352_cluster0', 'cube353_cluster0', 'cube354_cluster0', 'cube355_cluster0', 'cube382_cluster0', 'cube383_cluster0', 'cube384_cluster0', 'cube385_cluster0', 'cube386_cluster0'], 'cube325_cluster0': ['cube352_cluster0', 'cube353_cluster0', 'cube354_cluster0', 'cube355_cluster0', 'cube384_cluster0', 'cube385_cluster0', 'cube386_cluster0'], 'cube327_cluster0': ['cube328_cluster0', 'cube329_cluster0', 'cube355_cluster0', 'cube356_cluster0', 'cube357_cluster0', 'cube358_cluster0'], 'cube328_cluster0': ['cube329_cluster0', 'cube330_cluster0', 'cube356_cluster0', 'cube357_cluster0', 'cube358_cluster0', 'cube359_cluster0', 'cube388_cluster0', 'cube389_cluster0', 'cube390_cluster0'], 'cube329_cluster0': ['cube330_cluster0', 'cube331_cluster0', 'cube356_cluster0', 'cube357_cluster0', 'cube358_cluster0', 'cube359_cluster0', 'cube360_cluster0', 'cube388_cluster0', 'cube389_cluster0', 'cube390_cluster0'], 'cube330_cluster0': ['cube331_cluster0', 'cube357_cluster0', 'cube358_cluster0', 'cube359_cluster0', 'cube360_cluster0', 'cube388_cluster0', 'cube389_cluster0', 'cube390_cluster0'], 'cube331_cluster0': ['cube332_cluster0', 'cube333_cluster0', 'cube358_cluster0', 'cube359_cluster0', 'cube360_cluster0', 'cube361_cluster0', 'cube362_cluster0', 'cube391_cluster0', 'cube392_cluster0', 'cube393_cluster0'], 'cube332_cluster0': ['cube333_cluster0', 'cube360_cluster0', 'cube361_cluster0', 'cube362_cluster0', 'cube363_cluster0', 'cube391_cluster0', 'cube392_cluster0', 'cube393_cluster0', 'cube394_cluster0'], 'cube333_cluster0': ['cube360_cluster0', 'cube361_cluster0', 'cube362_cluster0', 'cube363_cluster0', 'cube391_cluster0', 'cube392_cluster0', 'cube393_cluster0', 'cube394_cluster0'], 'cube339_cluster0': ['cube340_cluster0', 'cube341_cluster0', 'cube372_cluster0', 'cube403_cluster0', 'cube404_cluster0'], 'cube340_cluster0': ['cube341_cluster0', 'cube342_cluster0', 'cube372_cluster0', 'cube403_cluster0', 'cube404_cluster0'], 'cube341_cluster0': ['cube342_cluster0', 'cube343_cluster0', 'cube372_cluster0', 'cube373_cluster0', 'cube403_cluster0', 'cube404_cluster0'], 'cube342_cluster0': ['cube343_cluster0', 'cube344_cluster0', 'cube372_cluster0', 'cube373_cluster0', 'cube374_cluster0', 'cube375_cluster0', 'cube405_cluster0', 'cube406_cluster0', 'cube407_cluster0'], 'cube343_cluster0': ['cube344_cluster0', 'cube345_cluster0', 'cube373_cluster0', 'cube374_cluster0', 'cube375_cluster0', 'cube376_cluster0', 'cube405_cluster0', 'cube406_cluster0', 'cube407_cluster0'], 'cube344_cluster0': ['cube345_cluster0', 'cube346_cluster0', 'cube373_cluster0', 'cube374_cluster0', 'cube375_cluster0', 'cube376_cluster0', 'cube377_cluster0', 'cube405_cluster0', 'cube406_cluster0', 'cube407_cluster0', 'cube408_cluster0', 'cube409_cluster0'], 'cube345_cluster0': ['cube346_cluster0', 'cube347_cluster0', 'cube374_cluster0', 'cube375_cluster0', 'cube376_cluster0', 'cube377_cluster0', 'cube378_cluster0', 'cube407_cluster0', 'cube408_cluster0', 'cube409_cluster0', 'cube410_cluster0'], 'cube346_cluster0': ['cube347_cluster0', 'cube348_cluster0', 'cube375_cluster0', 'cube376_cluster0', 'cube377_cluster0', 'cube378_cluster0', 'cube379_cluster0', 'cube407_cluster0', 'cube408_cluster0', 'cube409_cluster0', 'cube410_cluster0', 'cube411_cluster0'], 'cube347_cluster0': ['cube348_cluster0', 'cube349_cluster0', 'cube376_cluster0', 'cube377_cluster0', 'cube378_cluster0', 'cube379_cluster0', 'cube380_cluster0', 'cube408_cluster0', 'cube409_cluster0', 'cube410_cluster0', 'cube411_cluster0'], 'cube348_cluster0': ['cube349_cluster0', 'cube350_cluster0', 'cube377_cluster0', 'cube378_cluster0', 'cube379_cluster0', 'cube380_cluster0', 'cube381_cluster0', 'cube409_cluster0', 'cube410_cluster0', 'cube411_cluster0', 'cube412_cluster0', 'cube413_cluster0'], 'cube349_cluster0': ['cube350_cluster0', 'cube351_cluster0', 'cube378_cluster0', 'cube379_cluster0', 'cube380_cluster0', 'cube381_cluster0', 'cube382_cluster0', 'cube411_cluster0', 'cube412_cluster0', 'cube413_cluster0'], 'cube350_cluster0': ['cube351_cluster0', 'cube352_cluster0', 'cube379_cluster0', 'cube380_cluster0', 'cube381_cluster0', 'cube382_cluster0', 'cube383_cluster0', 'cube411_cluster0', 'cube412_cluster0', 'cube413_cluster0', 'cube414_cluster0', 'cube415_cluster0'], 'cube351_cluster0': ['cube352_cluster0', 'cube353_cluster0', 'cube380_cluster0', 'cube381_cluster0', 'cube382_cluster0', 'cube383_cluster0', 'cube384_cluster0', 'cube413_cluster0', 'cube414_cluster0', 'cube415_cluster0', 'cube416_cluster0'], 'cube352_cluster0': ['cube353_cluster0', 'cube354_cluster0', 'cube381_cluster0', 'cube382_cluster0', 'cube383_cluster0', 'cube384_cluster0', 'cube385_cluster0', 'cube413_cluster0', 'cube414_cluster0', 'cube415_cluster0', 'cube416_cluster0'], 'cube353_cluster0': ['cube354_cluster0', 'cube355_cluster0', 'cube382_cluster0', 'cube383_cluster0', 'cube384_cluster0', 'cube385_cluster0', 'cube386_cluster0', 'cube414_cluster0', 'cube415_cluster0', 'cube416_cluster0'], 'cube354_cluster0': ['cube355_cluster0', 'cube356_cluster0', 'cube383_cluster0', 'cube384_cluster0', 'cube385_cluster0', 'cube386_cluster0', 'cube387_cluster0'], 'cube355_cluster0': ['cube356_cluster0', 'cube384_cluster0', 'cube385_cluster0', 'cube386_cluster0', 'cube387_cluster0'], 'cube356_cluster0': ['cube357_cluster0', 'cube358_cluster0', 'cube385_cluster0', 'cube386_cluster0', 'cube387_cluster0', 'cube388_cluster0', 'cube419_cluster0', 'cube420_cluster0'], 'cube357_cluster0': ['cube358_cluster0', 'cube359_cluster0', 'cube387_cluster0', 'cube388_cluster0', 'cube389_cluster0', 'cube390_cluster0', 'cube419_cluster0', 'cube420_cluster0', 'cube421_cluster0', 'cube422_cluster0'], 'cube358_cluster0': ['cube359_cluster0', 'cube360_cluster0', 'cube388_cluster0', 'cube389_cluster0', 'cube390_cluster0', 'cube391_cluster0', 'cube420_cluster0', 'cube421_cluster0', 'cube422_cluster0', 'cube423_cluster0'], 'cube359_cluster0': ['cube360_cluster0', 'cube361_cluster0', 'cube388_cluster0', 'cube389_cluster0', 'cube390_cluster0', 'cube391_cluster0', 'cube392_cluster0', 'cube420_cluster0', 'cube421_cluster0', 'cube422_cluster0', 'cube423_cluster0'], 'cube360_cluster0': ['cube361_cluster0', 'cube362_cluster0', 'cube389_cluster0', 'cube390_cluster0', 'cube391_cluster0', 'cube392_cluster0', 'cube393_cluster0', 'cube421_cluster0', 'cube422_cluster0', 'cube423_cluster0', 'cube424_cluster0'], 'cube361_cluster0': ['cube362_cluster0', 'cube363_cluster0', 'cube390_cluster0', 'cube391_cluster0', 'cube392_cluster0', 'cube393_cluster0', 'cube394_cluster0', 'cube423_cluster0', 'cube424_cluster0'], 'cube362_cluster0': ['cube363_cluster0', 'cube391_cluster0', 'cube392_cluster0', 'cube393_cluster0', 'cube394_cluster0', 'cube423_cluster0', 'cube424_cluster0'], 'cube363_cluster0': ['cube392_cluster0', 'cube393_cluster0', 'cube394_cluster0'], 'cube372_cluster0': ['cube373_cluster0', 'cube403_cluster0', 'cube404_cluster0'], 'cube373_cluster0': ['cube374_cluster0', 'cube375_cluster0', 'cube405_cluster0', 'cube406_cluster0', 'cube407_cluster0'], 'cube374_cluster0': ['cube375_cluster0', 'cube376_cluster0', 'cube405_cluster0', 'cube406_cluster0', 'cube407_cluster0', 'cube408_cluster0', 'cube444_cluster0', 'cube445_cluster0', 'cube446_cluster0'], 'cube375_cluster0': ['cube376_cluster0', 'cube377_cluster0', 'cube405_cluster0', 'cube406_cluster0', 'cube407_cluster0', 'cube408_cluster0', 'cube409_cluster0', 'cube444_cluster0', 'cube445_cluster0', 'cube446_cluster0'], 'cube376_cluster0': ['cube377_cluster0', 'cube378_cluster0', 'cube406_cluster0', 'cube407_cluster0', 'cube408_cluster0', 'cube409_cluster0', 'cube410_cluster0', 'cube444_cluster0', 'cube445_cluster0', 'cube446_cluster0', 'cube447_cluster0', 'cube448_cluster0'], 'cube377_cluster0': ['cube378_cluster0', 'cube379_cluster0', 'cube407_cluster0', 'cube408_cluster0', 'cube409_cluster0', 'cube410_cluster0', 'cube411_cluster0', 'cube446_cluster0', 'cube447_cluster0', 'cube448_cluster0', 'cube449_cluster0'], 'cube378_cluster0': ['cube379_cluster0', 'cube380_cluster0', 'cube408_cluster0', 'cube409_cluster0', 'cube410_cluster0', 'cube411_cluster0', 'cube412_cluster0', 'cube446_cluster0', 'cube447_cluster0', 'cube448_cluster0', 'cube449_cluster0', 'cube450_cluster0'], 'cube379_cluster0': ['cube380_cluster0', 'cube381_cluster0', 'cube409_cluster0', 'cube410_cluster0', 'cube411_cluster0', 'cube412_cluster0', 'cube413_cluster0', 'cube447_cluster0', 'cube448_cluster0', 'cube449_cluster0', 'cube450_cluster0', 'cube451_cluster0'], 'cube380_cluster0': ['cube381_cluster0', 'cube382_cluster0', 'cube410_cluster0', 'cube411_cluster0', 'cube412_cluster0', 'cube413_cluster0', 'cube414_cluster0', 'cube448_cluster0', 'cube449_cluster0', 'cube450_cluster0', 'cube451_cluster0', 'cube452_cluster0'], 'cube381_cluster0': ['cube382_cluster0', 'cube383_cluster0', 'cube411_cluster0', 'cube412_cluster0', 'cube413_cluster0', 'cube414_cluster0', 'cube415_cluster0', 'cube449_cluster0', 'cube450_cluster0', 'cube451_cluster0', 'cube452_cluster0', 'cube453_cluster0'], 'cube382_cluster0': ['cube383_cluster0', 'cube384_cluster0', 'cube412_cluster0', 'cube413_cluster0', 'cube414_cluster0', 'cube415_cluster0', 'cube416_cluster0', 'cube450_cluster0', 'cube451_cluster0', 'cube452_cluster0', 'cube453_cluster0', 'cube454_cluster0'], 'cube383_cluster0': ['cube384_cluster0', 'cube385_cluster0', 'cube413_cluster0', 'cube414_cluster0', 'cube415_cluster0', 'cube416_cluster0', 'cube451_cluster0', 'cube452_cluster0', 'cube453_cluster0', 'cube454_cluster0'], 'cube384_cluster0': ['cube385_cluster0', 'cube386_cluster0', 'cube414_cluster0', 'cube415_cluster0', 'cube416_cluster0', 'cube417_cluster0', 'cube418_cluster0', 'cube452_cluster0', 'cube453_cluster0', 'cube454_cluster0'], 'cube385_cluster0': ['cube386_cluster0', 'cube387_cluster0', 'cube416_cluster0', 'cube417_cluster0', 'cube418_cluster0', 'cube419_cluster0', 'cube455_cluster0', 'cube456_cluster0'], 'cube386_cluster0': ['cube387_cluster0', 'cube388_cluster0', 'cube416_cluster0', 'cube417_cluster0', 'cube418_cluster0', 'cube419_cluster0', 'cube420_cluster0', 'cube455_cluster0', 'cube456_cluster0', 'cube457_cluster0', 'cube458_cluster0'], 'cube387_cluster0': ['cube388_cluster0', 'cube417_cluster0', 'cube418_cluster0', 'cube419_cluster0', 'cube420_cluster0', 'cube456_cluster0', 'cube457_cluster0', 'cube458_cluster0'], 'cube388_cluster0': ['cube389_cluster0', 'cube390_cluster0', 'cube418_cluster0', 'cube419_cluster0', 'cube420_cluster0', 'cube421_cluster0', 'cube422_cluster0', 'cube456_cluster0', 'cube457_cluster0', 'cube458_cluster0', 'cube459_cluster0', 'cube460_cluster0'], 'cube389_cluster0': ['cube390_cluster0', 'cube391_cluster0', 'cube420_cluster0', 'cube421_cluster0', 'cube422_cluster0', 'cube423_cluster0', 'cube458_cluster0', 'cube459_cluster0', 'cube460_cluster0', 'cube461_cluster0'], 'cube390_cluster0': ['cube391_cluster0', 'cube392_cluster0', 'cube420_cluster0', 'cube421_cluster0', 'cube422_cluster0', 'cube423_cluster0', 'cube424_cluster0', 'cube458_cluster0', 'cube459_cluster0', 'cube460_cluster0', 'cube461_cluster0'], 'cube391_cluster0': ['cube392_cluster0', 'cube393_cluster0', 'cube421_cluster0', 'cube422_cluster0', 'cube423_cluster0', 'cube424_cluster0', 'cube459_cluster0', 'cube460_cluster0', 'cube461_cluster0'], 'cube392_cluster0': ['cube393_cluster0', 'cube394_cluster0', 'cube422_cluster0', 'cube423_cluster0', 'cube424_cluster0'], 'cube393_cluster0': ['cube394_cluster0', 'cube423_cluster0', 'cube424_cluster0'], 'cube403_cluster0': ['cube404_cluster0', 'cube405_cluster0', 'cube440_cluster0', 'cube441_cluster0', 'cube442_cluster0', 'cube443_cluster0', 'cube476_cluster0', 'cube477_cluster0', 'cube478_cluster0', 'cube479_cluster0'], 'cube404_cluster0': ['cube405_cluster0', 'cube440_cluster0', 'cube441_cluster0', 'cube442_cluster0', 'cube443_cluster0', 'cube476_cluster0', 'cube477_cluster0', 'cube478_cluster0', 'cube479_cluster0'], 'cube405_cluster0': ['cube406_cluster0', 'cube407_cluster0', 'cube441_cluster0', 'cube442_cluster0', 'cube443_cluster0', 'cube444_cluster0', 'cube477_cluster0', 'cube478_cluster0', 'cube479_cluster0', 'cube480_cluster0'], 'cube406_cluster0': ['cube407_cluster0', 'cube408_cluster0', 'cube443_cluster0', 'cube444_cluster0', 'cube445_cluster0', 'cube446_cluster0', 'cube479_cluster0', 'cube480_cluster0'], 'cube407_cluster0': ['cube408_cluster0', 'cube409_cluster0', 'cube444_cluster0', 'cube445_cluster0', 'cube446_cluster0', 'cube447_cluster0', 'cube481_cluster0', 'cube482_cluster0', 'cube483_cluster0'], 'cube408_cluster0': ['cube409_cluster0', 'cube410_cluster0', 'cube444_cluster0', 'cube445_cluster0', 'cube446_cluster0', 'cube447_cluster0', 'cube448_cluster0', 'cube481_cluster0', 'cube482_cluster0', 'cube483_cluster0', 'cube484_cluster0'], 'cube409_cluster0': ['cube410_cluster0', 'cube411_cluster0', 'cube445_cluster0', 'cube446_cluster0', 'cube447_cluster0', 'cube448_cluster0', 'cube449_cluster0', 'cube481_cluster0', 'cube482_cluster0', 'cube483_cluster0', 'cube484_cluster0'], 'cube410_cluster0': ['cube411_cluster0', 'cube412_cluster0', 'cube446_cluster0', 'cube447_cluster0', 'cube448_cluster0', 'cube449_cluster0', 'cube450_cluster0', 'cube482_cluster0', 'cube483_cluster0', 'cube484_cluster0'], 'cube411_cluster0': ['cube412_cluster0', 'cube413_cluster0', 'cube447_cluster0', 'cube448_cluster0', 'cube449_cluster0', 'cube450_cluster0', 'cube451_cluster0'], 'cube412_cluster0': ['cube413_cluster0', 'cube414_cluster0', 'cube448_cluster0', 'cube449_cluster0', 'cube450_cluster0', 'cube451_cluster0', 'cube452_cluster0', 'cube486_cluster0', 'cube487_cluster0'], 'cube413_cluster0': ['cube414_cluster0', 'cube415_cluster0', 'cube449_cluster0', 'cube450_cluster0', 'cube451_cluster0', 'cube452_cluster0', 'cube453_cluster0', 'cube486_cluster0', 'cube487_cluster0', 'cube488_cluster0', 'cube489_cluster0'], 'cube414_cluster0': ['cube415_cluster0', 'cube416_cluster0', 'cube450_cluster0', 'cube451_cluster0', 'cube452_cluster0', 'cube453_cluster0', 'cube454_cluster0', 'cube487_cluster0', 'cube488_cluster0', 'cube489_cluster0'], 'cube415_cluster0': ['cube416_cluster0', 'cube417_cluster0', 'cube451_cluster0', 'cube452_cluster0', 'cube453_cluster0', 'cube454_cluster0', 'cube455_cluster0', 'cube487_cluster0', 'cube488_cluster0', 'cube489_cluster0', 'cube490_cluster0', 'cube491_cluster0'], 'cube416_cluster0': ['cube417_cluster0', 'cube418_cluster0', 'cube452_cluster0', 'cube453_cluster0', 'cube454_cluster0', 'cube455_cluster0', 'cube489_cluster0', 'cube490_cluster0', 'cube491_cluster0'], 'cube417_cluster0': ['cube418_cluster0', 'cube419_cluster0', 'cube453_cluster0', 'cube454_cluster0', 'cube455_cluster0', 'cube456_cluster0', 'cube489_cluster0', 'cube490_cluster0', 'cube491_cluster0', 'cube492_cluster0'], 'cube418_cluster0': ['cube419_cluster0', 'cube420_cluster0', 'cube455_cluster0', 'cube456_cluster0', 'cube457_cluster0', 'cube458_cluster0', 'cube491_cluster0', 'cube492_cluster0', 'cube493_cluster0', 'cube494_cluster0'], 'cube419_cluster0': ['cube420_cluster0', 'cube421_cluster0', 'cube456_cluster0', 'cube457_cluster0', 'cube458_cluster0', 'cube459_cluster0', 'cube492_cluster0', 'cube493_cluster0', 'cube494_cluster0', 'cube495_cluster0'], 'cube420_cluster0': ['cube421_cluster0', 'cube422_cluster0', 'cube456_cluster0', 'cube457_cluster0', 'cube458_cluster0', 'cube459_cluster0', 'cube460_cluster0', 'cube492_cluster0', 'cube493_cluster0', 'cube494_cluster0', 'cube495_cluster0'], 'cube421_cluster0': ['cube422_cluster0', 'cube423_cluster0', 'cube457_cluster0', 'cube458_cluster0', 'cube459_cluster0', 'cube460_cluster0', 'cube461_cluster0', 'cube493_cluster0', 'cube494_cluster0', 'cube495_cluster0', 'cube496_cluster0', 'cube497_cluster0'], 'cube422_cluster0': ['cube423_cluster0', 'cube424_cluster0', 'cube458_cluster0', 'cube459_cluster0', 'cube460_cluster0', 'cube461_cluster0', 'cube462_cluster0', 'cube495_cluster0', 'cube496_cluster0', 'cube497_cluster0', 'cube498_cluster0'], 'cube423_cluster0': ['cube424_cluster0', 'cube459_cluster0', 'cube460_cluster0', 'cube461_cluster0', 'cube462_cluster0', 'cube495_cluster0', 'cube496_cluster0', 'cube497_cluster0', 'cube498_cluster0'], 'cube424_cluster0': ['cube460_cluster0', 'cube461_cluster0', 'cube462_cluster0', 'cube496_cluster0', 'cube497_cluster0', 'cube498_cluster0', 'cube499_cluster0'], 'cube440_cluster0': ['cube441_cluster0', 'cube442_cluster0', 'cube476_cluster0', 'cube477_cluster0', 'cube478_cluster0', 'cube516_cluster0', 'cube517_cluster0'], 'cube441_cluster0': ['cube442_cluster0', 'cube443_cluster0', 'cube476_cluster0', 'cube477_cluster0', 'cube478_cluster0', 'cube479_cluster0', 'cube518_cluster0', 'cube519_cluster0', 'cube520_cluster0'], 'cube442_cluster0': ['cube443_cluster0', 'cube444_cluster0', 'cube476_cluster0', 'cube477_cluster0', 'cube478_cluster0', 'cube479_cluster0', 'cube480_cluster0', 'cube518_cluster0', 'cube519_cluster0', 'cube520_cluster0'], 'cube443_cluster0': ['cube444_cluster0', 'cube445_cluster0', 'cube477_cluster0', 'cube478_cluster0', 'cube479_cluster0', 'cube480_cluster0', 'cube481_cluster0', 'cube518_cluster0', 'cube519_cluster0', 'cube520_cluster0', 'cube521_cluster0', 'cube522_cluster0'], 'cube444_cluster0': ['cube445_cluster0', 'cube446_cluster0', 'cube478_cluster0', 'cube479_cluster0', 'cube480_cluster0', 'cube481_cluster0', 'cube482_cluster0', 'cube520_cluster0', 'cube521_cluster0', 'cube522_cluster0', 'cube523_cluster0'], 'cube445_cluster0': ['cube446_cluster0', 'cube447_cluster0', 'cube479_cluster0', 'cube480_cluster0', 'cube481_cluster0', 'cube482_cluster0', 'cube483_cluster0', 'cube520_cluster0', 'cube521_cluster0', 'cube522_cluster0', 'cube523_cluster0', 'cube524_cluster0'], 'cube446_cluster0': ['cube447_cluster0', 'cube448_cluster0', 'cube480_cluster0', 'cube481_cluster0', 'cube482_cluster0', 'cube483_cluster0', 'cube484_cluster0', 'cube521_cluster0', 'cube522_cluster0', 'cube523_cluster0', 'cube524_cluster0', 'cube525_cluster0'], 'cube447_cluster0': ['cube448_cluster0', 'cube449_cluster0', 'cube481_cluster0', 'cube482_cluster0', 'cube483_cluster0', 'cube484_cluster0', 'cube485_cluster0', 'cube522_cluster0', 'cube523_cluster0', 'cube524_cluster0', 'cube525_cluster0', 'cube526_cluster0'], 'cube448_cluster0': ['cube449_cluster0', 'cube450_cluster0', 'cube482_cluster0', 'cube483_cluster0', 'cube484_cluster0', 'cube485_cluster0', 'cube523_cluster0', 'cube524_cluster0', 'cube525_cluster0', 'cube526_cluster0'], 'cube449_cluster0': ['cube450_cluster0', 'cube451_cluster0', 'cube483_cluster0', 'cube484_cluster0', 'cube485_cluster0', 'cube486_cluster0', 'cube524_cluster0', 'cube525_cluster0', 'cube526_cluster0', 'cube527_cluster0'], 'cube450_cluster0': ['cube451_cluster0', 'cube452_cluster0', 'cube485_cluster0', 'cube486_cluster0', 'cube487_cluster0', 'cube488_cluster0', 'cube526_cluster0', 'cube527_cluster0'], 'cube451_cluster0': ['cube452_cluster0', 'cube453_cluster0', 'cube486_cluster0', 'cube487_cluster0', 'cube488_cluster0', 'cube489_cluster0', 'cube528_cluster0', 'cube529_cluster0', 'cube530_cluster0'], 'cube452_cluster0': ['cube453_cluster0', 'cube454_cluster0', 'cube486_cluster0', 'cube487_cluster0', 'cube488_cluster0', 'cube489_cluster0', 'cube528_cluster0', 'cube529_cluster0', 'cube530_cluster0'], 'cube453_cluster0': ['cube454_cluster0', 'cube455_cluster0', 'cube487_cluster0', 'cube488_cluster0', 'cube489_cluster0', 'cube490_cluster0', 'cube491_cluster0', 'cube528_cluster0', 'cube529_cluster0', 'cube530_cluster0'], 'cube454_cluster0': ['cube455_cluster0', 'cube456_cluster0', 'cube489_cluster0', 'cube490_cluster0', 'cube491_cluster0', 'cube492_cluster0', 'cube531_cluster0', 'cube532_cluster0'], 'cube455_cluster0': ['cube456_cluster0', 'cube457_cluster0', 'cube489_cluster0', 'cube490_cluster0', 'cube491_cluster0', 'cube492_cluster0', 'cube493_cluster0', 'cube531_cluster0', 'cube532_cluster0', 'cube533_cluster0', 'cube534_cluster0'], 'cube456_cluster0': ['cube457_cluster0', 'cube458_cluster0', 'cube490_cluster0', 'cube491_cluster0', 'cube492_cluster0', 'cube493_cluster0', 'cube494_cluster0', 'cube532_cluster0', 'cube533_cluster0', 'cube534_cluster0', 'cube535_cluster0'], 'cube457_cluster0': ['cube458_cluster0', 'cube459_cluster0', 'cube491_cluster0', 'cube492_cluster0', 'cube493_cluster0', 'cube494_cluster0', 'cube495_cluster0', 'cube532_cluster0', 'cube533_cluster0', 'cube534_cluster0', 'cube535_cluster0'], 'cube458_cluster0': ['cube459_cluster0', 'cube460_cluster0', 'cube492_cluster0', 'cube493_cluster0', 'cube494_cluster0', 'cube495_cluster0', 'cube533_cluster0', 'cube534_cluster0', 'cube535_cluster0'], 'cube459_cluster0': ['cube460_cluster0', 'cube461_cluster0', 'cube493_cluster0', 'cube494_cluster0', 'cube495_cluster0', 'cube496_cluster0', 'cube497_cluster0'], 'cube460_cluster0': ['cube461_cluster0', 'cube462_cluster0', 'cube495_cluster0', 'cube496_cluster0', 'cube497_cluster0', 'cube498_cluster0'], 'cube461_cluster0': ['cube462_cluster0', 'cube495_cluster0', 'cube496_cluster0', 'cube497_cluster0', 'cube498_cluster0', 'cube499_cluster0', 'cube538_cluster0', 'cube539_cluster0', 'cube540_cluster0'], 'cube462_cluster0': ['cube496_cluster0', 'cube497_cluster0', 'cube498_cluster0', 'cube499_cluster0', 'cube538_cluster0', 'cube539_cluster0', 'cube540_cluster0'], 'cube473_cluster0': ['cube474_cluster0'], 'cube474_cluster0': ['cube476_cluster0', 'cube516_cluster0', 'cube517_cluster0', 'cube558_cluster0'], 'cube476_cluster0': ['cube477_cluster0', 'cube478_cluster0', 'cube516_cluster0', 'cube517_cluster0', 'cube518_cluster0', 'cube519_cluster0', 'cube558_cluster0', 'cube559_cluster0', 'cube560_cluster0'], 'cube477_cluster0': ['cube478_cluster0', 'cube479_cluster0', 'cube516_cluster0', 'cube517_cluster0', 'cube518_cluster0', 'cube519_cluster0', 'cube520_cluster0', 'cube558_cluster0', 'cube559_cluster0', 'cube560_cluster0', 'cube561_cluster0'], 'cube478_cluster0': ['cube479_cluster0', 'cube480_cluster0', 'cube517_cluster0', 'cube518_cluster0', 'cube519_cluster0', 'cube520_cluster0', 'cube521_cluster0', 'cube558_cluster0', 'cube559_cluster0', 'cube560_cluster0', 'cube561_cluster0', 'cube562_cluster0'], 'cube479_cluster0': ['cube480_cluster0', 'cube481_cluster0', 'cube518_cluster0', 'cube519_cluster0', 'cube520_cluster0', 'cube521_cluster0', 'cube522_cluster0', 'cube559_cluster0', 'cube560_cluster0', 'cube561_cluster0', 'cube562_cluster0'], 'cube480_cluster0': ['cube481_cluster0', 'cube482_cluster0', 'cube519_cluster0', 'cube520_cluster0', 'cube521_cluster0', 'cube522_cluster0', 'cube523_cluster0', 'cube560_cluster0', 'cube561_cluster0', 'cube562_cluster0'], 'cube481_cluster0': ['cube482_cluster0', 'cube483_cluster0', 'cube520_cluster0', 'cube521_cluster0', 'cube522_cluster0', 'cube523_cluster0', 'cube524_cluster0'], 'cube482_cluster0': ['cube483_cluster0', 'cube484_cluster0', 'cube521_cluster0', 'cube522_cluster0', 'cube523_cluster0', 'cube524_cluster0', 'cube525_cluster0'], 'cube483_cluster0': ['cube484_cluster0', 'cube485_cluster0', 'cube522_cluster0', 'cube523_cluster0', 'cube524_cluster0', 'cube525_cluster0', 'cube526_cluster0'], 'cube484_cluster0': ['cube485_cluster0', 'cube486_cluster0', 'cube523_cluster0', 'cube524_cluster0', 'cube525_cluster0', 'cube526_cluster0', 'cube527_cluster0', 'cube566_cluster0', 'cube567_cluster0', 'cube568_cluster0'], 'cube485_cluster0': ['cube486_cluster0', 'cube487_cluster0', 'cube524_cluster0', 'cube525_cluster0', 'cube526_cluster0', 'cube527_cluster0', 'cube528_cluster0', 'cube566_cluster0', 'cube567_cluster0', 'cube568_cluster0', 'cube569_cluster0'], 'cube486_cluster0': ['cube487_cluster0', 'cube488_cluster0', 'cube525_cluster0', 'cube526_cluster0', 'cube527_cluster0', 'cube528_cluster0', 'cube529_cluster0', 'cube566_cluster0', 'cube567_cluster0', 'cube568_cluster0', 'cube569_cluster0'], 'cube487_cluster0': ['cube488_cluster0', 'cube489_cluster0', 'cube526_cluster0', 'cube527_cluster0', 'cube528_cluster0', 'cube529_cluster0', 'cube530_cluster0', 'cube567_cluster0', 'cube568_cluster0', 'cube569_cluster0'], 'cube488_cluster0': ['cube489_cluster0', 'cube490_cluster0', 'cube527_cluster0', 'cube528_cluster0', 'cube529_cluster0', 'cube530_cluster0', 'cube531_cluster0'], 'cube489_cluster0': ['cube490_cluster0', 'cube491_cluster0', 'cube528_cluster0', 'cube529_cluster0', 'cube530_cluster0', 'cube531_cluster0', 'cube532_cluster0', 'cube571_cluster0', 'cube572_cluster0', 'cube573_cluster0'], 'cube490_cluster0': ['cube491_cluster0', 'cube492_cluster0', 'cube529_cluster0', 'cube530_cluster0', 'cube531_cluster0', 'cube532_cluster0', 'cube533_cluster0', 'cube571_cluster0', 'cube572_cluster0', 'cube573_cluster0'], 'cube491_cluster0': ['cube492_cluster0', 'cube493_cluster0', 'cube530_cluster0', 'cube531_cluster0', 'cube532_cluster0', 'cube533_cluster0', 'cube534_cluster0', 'cube571_cluster0', 'cube572_cluster0', 'cube573_cluster0'], 'cube492_cluster0': ['cube493_cluster0', 'cube494_cluster0', 'cube531_cluster0', 'cube532_cluster0', 'cube533_cluster0', 'cube534_cluster0', 'cube535_cluster0', 'cube574_cluster0', 'cube575_cluster0', 'cube576_cluster0'], 'cube493_cluster0': ['cube494_cluster0', 'cube495_cluster0', 'cube532_cluster0', 'cube533_cluster0', 'cube534_cluster0', 'cube535_cluster0', 'cube536_cluster0', 'cube574_cluster0', 'cube575_cluster0', 'cube576_cluster0', 'cube577_cluster0'], 'cube494_cluster0': ['cube495_cluster0', 'cube533_cluster0', 'cube534_cluster0', 'cube535_cluster0', 'cube536_cluster0', 'cube574_cluster0', 'cube575_cluster0', 'cube576_cluster0', 'cube577_cluster0'], 'cube495_cluster0': ['cube496_cluster0', 'cube497_cluster0', 'cube534_cluster0', 'cube535_cluster0', 'cube536_cluster0', 'cube537_cluster0', 'cube538_cluster0', 'cube575_cluster0', 'cube576_cluster0', 'cube577_cluster0', 'cube578_cluster0', 'cube579_cluster0'], 'cube496_cluster0': ['cube497_cluster0', 'cube498_cluster0', 'cube536_cluster0', 'cube537_cluster0', 'cube538_cluster0', 'cube539_cluster0', 'cube577_cluster0', 'cube578_cluster0', 'cube579_cluster0', 'cube580_cluster0'], 'cube497_cluster0': ['cube498_cluster0', 'cube499_cluster0', 'cube536_cluster0', 'cube537_cluster0', 'cube538_cluster0', 'cube539_cluster0', 'cube540_cluster0', 'cube577_cluster0', 'cube578_cluster0', 'cube579_cluster0', 'cube580_cluster0'], 'cube498_cluster0': ['cube499_cluster0', 'cube537_cluster0', 'cube538_cluster0', 'cube539_cluster0', 'cube540_cluster0', 'cube578_cluster0', 'cube579_cluster0', 'cube580_cluster0'], 'cube499_cluster0': ['cube538_cluster0', 'cube539_cluster0', 'cube540_cluster0', 'cube541_cluster0', 'cube581_cluster0', 'cube582_cluster0'], 'cube516_cluster0': ['cube517_cluster0', 'cube518_cluster0', 'cube558_cluster0', 'cube559_cluster0'], 'cube517_cluster0': ['cube518_cluster0', 'cube519_cluster0', 'cube558_cluster0', 'cube559_cluster0', 'cube560_cluster0'], 'cube518_cluster0': ['cube519_cluster0', 'cube520_cluster0', 'cube558_cluster0', 'cube559_cluster0', 'cube560_cluster0', 'cube561_cluster0', 'cube597_cluster0'], 'cube519_cluster0': ['cube520_cluster0', 'cube521_cluster0', 'cube558_cluster0', 'cube559_cluster0', 'cube560_cluster0', 'cube561_cluster0', 'cube562_cluster0', 'cube597_cluster0', 'cube598_cluster0'], 'cube520_cluster0': ['cube521_cluster0', 'cube522_cluster0', 'cube559_cluster0', 'cube560_cluster0', 'cube561_cluster0', 'cube562_cluster0', 'cube563_cluster0', 'cube597_cluster0', 'cube598_cluster0', 'cube599_cluster0'], 'cube521_cluster0': ['cube522_cluster0', 'cube523_cluster0', 'cube560_cluster0', 'cube561_cluster0', 'cube562_cluster0', 'cube563_cluster0', 'cube564_cluster0', 'cube597_cluster0', 'cube598_cluster0', 'cube599_cluster0', 'cube600_cluster0'], 'cube522_cluster0': ['cube523_cluster0', 'cube524_cluster0', 'cube561_cluster0', 'cube562_cluster0', 'cube563_cluster0', 'cube564_cluster0', 'cube565_cluster0', 'cube597_cluster0', 'cube598_cluster0', 'cube599_cluster0', 'cube600_cluster0', 'cube601_cluster0'], 'cube523_cluster0': ['cube524_cluster0', 'cube525_cluster0', 'cube562_cluster0', 'cube563_cluster0', 'cube564_cluster0', 'cube565_cluster0', 'cube566_cluster0', 'cube598_cluster0', 'cube599_cluster0', 'cube600_cluster0', 'cube601_cluster0', 'cube602_cluster0'], 'cube524_cluster0': ['cube525_cluster0', 'cube526_cluster0', 'cube563_cluster0', 'cube564_cluster0', 'cube565_cluster0', 'cube566_cluster0', 'cube567_cluster0', 'cube599_cluster0', 'cube600_cluster0', 'cube601_cluster0', 'cube602_cluster0', 'cube603_cluster0'], 'cube525_cluster0': ['cube526_cluster0', 'cube527_cluster0', 'cube564_cluster0', 'cube565_cluster0', 'cube566_cluster0', 'cube567_cluster0', 'cube568_cluster0', 'cube600_cluster0', 'cube601_cluster0', 'cube602_cluster0', 'cube603_cluster0', 'cube604_cluster0'], 'cube526_cluster0': ['cube527_cluster0', 'cube528_cluster0', 'cube565_cluster0', 'cube566_cluster0', 'cube567_cluster0', 'cube568_cluster0', 'cube569_cluster0', 'cube601_cluster0', 'cube602_cluster0', 'cube603_cluster0', 'cube604_cluster0', 'cube605_cluster0'], 'cube527_cluster0': ['cube528_cluster0', 'cube529_cluster0', 'cube566_cluster0', 'cube567_cluster0', 'cube568_cluster0', 'cube569_cluster0', 'cube602_cluster0', 'cube603_cluster0', 'cube604_cluster0', 'cube605_cluster0'], 'cube528_cluster0': ['cube529_cluster0', 'cube530_cluster0', 'cube567_cluster0', 'cube568_cluster0', 'cube569_cluster0', 'cube570_cluster0', 'cube571_cluster0', 'cube603_cluster0', 'cube604_cluster0', 'cube605_cluster0', 'cube606_cluster0', 'cube607_cluster0'], 'cube529_cluster0': ['cube530_cluster0', 'cube531_cluster0', 'cube569_cluster0', 'cube570_cluster0', 'cube571_cluster0', 'cube572_cluster0', 'cube605_cluster0', 'cube606_cluster0', 'cube607_cluster0', 'cube608_cluster0'], 'cube530_cluster0': ['cube531_cluster0', 'cube532_cluster0', 'cube569_cluster0', 'cube570_cluster0', 'cube571_cluster0', 'cube572_cluster0', 'cube573_cluster0', 'cube605_cluster0', 'cube606_cluster0', 'cube607_cluster0', 'cube608_cluster0'], 'cube531_cluster0': ['cube532_cluster0', 'cube533_cluster0', 'cube570_cluster0', 'cube571_cluster0', 'cube572_cluster0', 'cube573_cluster0', 'cube574_cluster0', 'cube606_cluster0', 'cube607_cluster0', 'cube608_cluster0', 'cube609_cluster0', 'cube610_cluster0'], 'cube532_cluster0': ['cube533_cluster0', 'cube534_cluster0', 'cube571_cluster0', 'cube572_cluster0', 'cube573_cluster0', 'cube574_cluster0', 'cube608_cluster0', 'cube609_cluster0', 'cube610_cluster0'], 'cube533_cluster0': ['cube534_cluster0', 'cube535_cluster0', 'cube572_cluster0', 'cube573_cluster0', 'cube574_cluster0', 'cube575_cluster0', 'cube576_cluster0', 'cube608_cluster0', 'cube609_cluster0', 'cube610_cluster0', 'cube611_cluster0', 'cube612_cluster0'], 'cube534_cluster0': ['cube535_cluster0', 'cube536_cluster0', 'cube574_cluster0', 'cube575_cluster0', 'cube576_cluster0', 'cube577_cluster0', 'cube610_cluster0', 'cube611_cluster0', 'cube612_cluster0'], 'cube535_cluster0': ['cube536_cluster0', 'cube537_cluster0', 'cube574_cluster0', 'cube575_cluster0', 'cube576_cluster0', 'cube577_cluster0', 'cube578_cluster0', 'cube610_cluster0', 'cube611_cluster0', 'cube612_cluster0', 'cube613_cluster0', 'cube614_cluster0'], 'cube536_cluster0': ['cube537_cluster0', 'cube538_cluster0', 'cube575_cluster0', 'cube576_cluster0', 'cube577_cluster0', 'cube578_cluster0', 'cube579_cluster0', 'cube612_cluster0', 'cube613_cluster0', 'cube614_cluster0'], 'cube537_cluster0': ['cube538_cluster0', 'cube539_cluster0', 'cube576_cluster0', 'cube577_cluster0', 'cube578_cluster0', 'cube579_cluster0', 'cube580_cluster0', 'cube612_cluster0', 'cube613_cluster0', 'cube614_cluster0', 'cube615_cluster0', 'cube616_cluster0'], 'cube538_cluster0': ['cube539_cluster0', 'cube540_cluster0', 'cube577_cluster0', 'cube578_cluster0', 'cube579_cluster0', 'cube580_cluster0', 'cube581_cluster0', 'cube614_cluster0', 'cube615_cluster0', 'cube616_cluster0', 'cube617_cluster0'], 'cube539_cluster0': ['cube540_cluster0', 'cube541_cluster0', 'cube578_cluster0', 'cube579_cluster0', 'cube580_cluster0', 'cube581_cluster0', 'cube582_cluster0', 'cube614_cluster0', 'cube615_cluster0', 'cube616_cluster0', 'cube617_cluster0', 'cube618_cluster0'], 'cube540_cluster0': ['cube541_cluster0', 'cube579_cluster0', 'cube580_cluster0', 'cube581_cluster0', 'cube582_cluster0', 'cube615_cluster0', 'cube616_cluster0', 'cube617_cluster0', 'cube618_cluster0'], 'cube541_cluster0': ['cube580_cluster0', 'cube581_cluster0', 'cube582_cluster0', 'cube616_cluster0', 'cube617_cluster0', 'cube618_cluster0', 'cube619_cluster0', 'cube620_cluster0'], 'cube558_cluster0': ['cube559_cluster0', 'cube560_cluster0'], 'cube559_cluster0': ['cube560_cluster0', 'cube561_cluster0', 'cube597_cluster0'], 'cube560_cluster0': ['cube561_cluster0', 'cube562_cluster0', 'cube597_cluster0', 'cube598_cluster0'], 'cube561_cluster0': ['cube562_cluster0', 'cube563_cluster0', 'cube597_cluster0', 'cube598_cluster0', 'cube599_cluster0', 'cube629_cluster0', 'cube630_cluster0', 'cube631_cluster0'], 'cube562_cluster0': ['cube563_cluster0', 'cube564_cluster0', 'cube597_cluster0', 'cube598_cluster0', 'cube599_cluster0', 'cube600_cluster0', 'cube629_cluster0', 'cube630_cluster0', 'cube631_cluster0'], 'cube563_cluster0': ['cube564_cluster0', 'cube565_cluster0', 'cube597_cluster0', 'cube598_cluster0', 'cube599_cluster0', 'cube600_cluster0', 'cube601_cluster0', 'cube629_cluster0', 'cube630_cluster0', 'cube631_cluster0', 'cube632_cluster0', 'cube633_cluster0'], 'cube564_cluster0': ['cube565_cluster0', 'cube566_cluster0', 'cube598_cluster0', 'cube599_cluster0', 'cube600_cluster0', 'cube601_cluster0', 'cube602_cluster0', 'cube631_cluster0', 'cube632_cluster0', 'cube633_cluster0'], 'cube565_cluster0': ['cube566_cluster0', 'cube567_cluster0', 'cube599_cluster0', 'cube600_cluster0', 'cube601_cluster0', 'cube602_cluster0', 'cube603_cluster0', 'cube631_cluster0', 'cube632_cluster0', 'cube633_cluster0'], 'cube566_cluster0': ['cube567_cluster0', 'cube568_cluster0', 'cube600_cluster0', 'cube601_cluster0', 'cube602_cluster0', 'cube603_cluster0', 'cube604_cluster0', 'cube635_cluster0'], 'cube567_cluster0': ['cube568_cluster0', 'cube569_cluster0', 'cube601_cluster0', 'cube602_cluster0', 'cube603_cluster0', 'cube604_cluster0', 'cube605_cluster0', 'cube635_cluster0', 'cube636_cluster0', 'cube637_cluster0'], 'cube568_cluster0': ['cube569_cluster0', 'cube570_cluster0', 'cube602_cluster0', 'cube603_cluster0', 'cube604_cluster0', 'cube605_cluster0', 'cube606_cluster0', 'cube635_cluster0', 'cube636_cluster0', 'cube637_cluster0', 'cube638_cluster0'], 'cube569_cluster0': ['cube570_cluster0', 'cube571_cluster0', 'cube603_cluster0', 'cube604_cluster0', 'cube605_cluster0', 'cube606_cluster0', 'cube607_cluster0', 'cube635_cluster0', 'cube636_cluster0', 'cube637_cluster0', 'cube638_cluster0', 'cube639_cluster0'], 'cube570_cluster0': ['cube571_cluster0', 'cube572_cluster0', 'cube604_cluster0', 'cube605_cluster0', 'cube606_cluster0', 'cube607_cluster0', 'cube608_cluster0', 'cube636_cluster0', 'cube637_cluster0', 'cube638_cluster0', 'cube639_cluster0', 'cube640_cluster0'], 'cube571_cluster0': ['cube572_cluster0', 'cube573_cluster0', 'cube605_cluster0', 'cube606_cluster0', 'cube607_cluster0', 'cube608_cluster0', 'cube609_cluster0', 'cube637_cluster0', 'cube638_cluster0', 'cube639_cluster0', 'cube640_cluster0', 'cube641_cluster0'], 'cube572_cluster0': ['cube573_cluster0', 'cube574_cluster0', 'cube606_cluster0', 'cube607_cluster0', 'cube608_cluster0', 'cube609_cluster0', 'cube610_cluster0', 'cube638_cluster0', 'cube639_cluster0', 'cube640_cluster0', 'cube641_cluster0', 'cube642_cluster0'], 'cube573_cluster0': ['cube574_cluster0', 'cube575_cluster0', 'cube607_cluster0', 'cube608_cluster0', 'cube609_cluster0', 'cube610_cluster0', 'cube611_cluster0', 'cube639_cluster0', 'cube640_cluster0', 'cube641_cluster0', 'cube642_cluster0', 'cube643_cluster0'], 'cube574_cluster0': ['cube575_cluster0', 'cube576_cluster0', 'cube608_cluster0', 'cube609_cluster0', 'cube610_cluster0', 'cube611_cluster0', 'cube612_cluster0', 'cube640_cluster0', 'cube641_cluster0', 'cube642_cluster0', 'cube643_cluster0', 'cube644_cluster0'], 'cube575_cluster0': ['cube576_cluster0', 'cube577_cluster0', 'cube609_cluster0', 'cube610_cluster0', 'cube611_cluster0', 'cube612_cluster0', 'cube613_cluster0', 'cube641_cluster0', 'cube642_cluster0', 'cube643_cluster0', 'cube644_cluster0', 'cube645_cluster0'], 'cube576_cluster0': ['cube577_cluster0', 'cube578_cluster0', 'cube610_cluster0', 'cube611_cluster0', 'cube612_cluster0', 'cube613_cluster0', 'cube614_cluster0', 'cube642_cluster0', 'cube643_cluster0', 'cube644_cluster0', 'cube645_cluster0'], 'cube577_cluster0': ['cube578_cluster0', 'cube579_cluster0', 'cube611_cluster0', 'cube612_cluster0', 'cube613_cluster0', 'cube614_cluster0', 'cube643_cluster0', 'cube644_cluster0', 'cube645_cluster0'], 'cube578_cluster0': ['cube579_cluster0', 'cube580_cluster0', 'cube612_cluster0', 'cube613_cluster0', 'cube614_cluster0', 'cube615_cluster0', 'cube616_cluster0'], 'cube579_cluster0': ['cube580_cluster0', 'cube581_cluster0', 'cube614_cluster0', 'cube615_cluster0', 'cube616_cluster0', 'cube617_cluster0', 'cube647_cluster0', 'cube648_cluster0', 'cube649_cluster0'], 'cube580_cluster0': ['cube581_cluster0', 'cube582_cluster0', 'cube614_cluster0', 'cube615_cluster0', 'cube616_cluster0', 'cube617_cluster0', 'cube618_cluster0', 'cube647_cluster0', 'cube648_cluster0', 'cube649_cluster0'], 'cube581_cluster0': ['cube582_cluster0', 'cube615_cluster0', 'cube616_cluster0', 'cube617_cluster0', 'cube618_cluster0', 'cube647_cluster0', 'cube648_cluster0', 'cube649_cluster0'], 'cube582_cluster0': ['cube616_cluster0', 'cube617_cluster0', 'cube618_cluster0', 'cube619_cluster0', 'cube620_cluster0', 'cube650_cluster0', 'cube651_cluster0'], 'cube597_cluster0': ['cube598_cluster0', 'cube599_cluster0', 'cube629_cluster0', 'cube630_cluster0', 'cube631_cluster0', 'cube663_cluster0', 'cube664_cluster0', 'cube665_cluster0'], 'cube598_cluster0': ['cube599_cluster0', 'cube600_cluster0', 'cube629_cluster0', 'cube630_cluster0', 'cube631_cluster0', 'cube632_cluster0', 'cube663_cluster0', 'cube664_cluster0', 'cube665_cluster0', 'cube666_cluster0'], 'cube599_cluster0': ['cube600_cluster0', 'cube601_cluster0', 'cube629_cluster0', 'cube630_cluster0', 'cube631_cluster0', 'cube632_cluster0', 'cube633_cluster0', 'cube663_cluster0', 'cube664_cluster0', 'cube665_cluster0', 'cube666_cluster0'], 'cube600_cluster0': ['cube601_cluster0', 'cube602_cluster0', 'cube630_cluster0', 'cube631_cluster0', 'cube632_cluster0', 'cube633_cluster0', 'cube664_cluster0', 'cube665_cluster0', 'cube666_cluster0'], 'cube601_cluster0': ['cube602_cluster0', 'cube603_cluster0', 'cube631_cluster0', 'cube632_cluster0', 'cube633_cluster0'], 'cube602_cluster0': ['cube603_cluster0', 'cube604_cluster0', 'cube635_cluster0'], 'cube603_cluster0': ['cube604_cluster0', 'cube605_cluster0', 'cube635_cluster0', 'cube636_cluster0', 'cube637_cluster0', 'cube669_cluster0', 'cube670_cluster0', 'cube671_cluster0'], 'cube604_cluster0': ['cube605_cluster0', 'cube606_cluster0', 'cube635_cluster0', 'cube636_cluster0', 'cube637_cluster0', 'cube638_cluster0', 'cube669_cluster0', 'cube670_cluster0', 'cube671_cluster0', 'cube672_cluster0'], 'cube605_cluster0': ['cube606_cluster0', 'cube607_cluster0', 'cube635_cluster0', 'cube636_cluster0', 'cube637_cluster0', 'cube638_cluster0', 'cube639_cluster0', 'cube669_cluster0', 'cube670_cluster0', 'cube671_cluster0', 'cube672_cluster0', 'cube673_cluster0'], 'cube606_cluster0': ['cube607_cluster0', 'cube608_cluster0', 'cube636_cluster0', 'cube637_cluster0', 'cube638_cluster0', 'cube639_cluster0', 'cube640_cluster0', 'cube670_cluster0', 'cube671_cluster0', 'cube672_cluster0', 'cube673_cluster0'], 'cube607_cluster0': ['cube608_cluster0', 'cube609_cluster0', 'cube637_cluster0', 'cube638_cluster0', 'cube639_cluster0', 'cube640_cluster0', 'cube641_cluster0', 'cube671_cluster0', 'cube672_cluster0', 'cube673_cluster0', 'cube674_cluster0'], 'cube608_cluster0': ['cube609_cluster0', 'cube610_cluster0', 'cube638_cluster0', 'cube639_cluster0', 'cube640_cluster0', 'cube641_cluster0', 'cube642_cluster0', 'cube673_cluster0', 'cube674_cluster0', 'cube675_cluster0', 'cube676_cluster0'], 'cube609_cluster0': ['cube610_cluster0', 'cube611_cluster0', 'cube639_cluster0', 'cube640_cluster0', 'cube641_cluster0', 'cube642_cluster0', 'cube643_cluster0', 'cube674_cluster0', 'cube675_cluster0', 'cube676_cluster0'], 'cube610_cluster0': ['cube611_cluster0', 'cube612_cluster0', 'cube640_cluster0', 'cube641_cluster0', 'cube642_cluster0', 'cube643_cluster0', 'cube644_cluster0', 'cube674_cluster0', 'cube675_cluster0', 'cube676_cluster0', 'cube677_cluster0', 'cube678_cluster0'], 'cube611_cluster0': ['cube612_cluster0', 'cube613_cluster0', 'cube641_cluster0', 'cube642_cluster0', 'cube643_cluster0', 'cube644_cluster0', 'cube645_cluster0', 'cube676_cluster0', 'cube677_cluster0', 'cube678_cluster0', 'cube679_cluster0'], 'cube612_cluster0': ['cube613_cluster0', 'cube614_cluster0', 'cube642_cluster0', 'cube643_cluster0', 'cube644_cluster0', 'cube645_cluster0', 'cube676_cluster0', 'cube677_cluster0', 'cube678_cluster0', 'cube679_cluster0'], 'cube613_cluster0': ['cube614_cluster0', 'cube615_cluster0', 'cube643_cluster0', 'cube644_cluster0', 'cube645_cluster0', 'cube646_cluster0', 'cube647_cluster0', 'cube677_cluster0', 'cube678_cluster0', 'cube679_cluster0', 'cube680_cluster0', 'cube681_cluster0'], 'cube614_cluster0': ['cube615_cluster0', 'cube616_cluster0', 'cube645_cluster0', 'cube646_cluster0', 'cube647_cluster0', 'cube679_cluster0', 'cube680_cluster0', 'cube681_cluster0'], 'cube615_cluster0': ['cube616_cluster0', 'cube617_cluster0', 'cube645_cluster0', 'cube646_cluster0', 'cube647_cluster0', 'cube648_cluster0', 'cube649_cluster0', 'cube679_cluster0', 'cube680_cluster0', 'cube681_cluster0'], 'cube616_cluster0': ['cube617_cluster0', 'cube618_cluster0', 'cube647_cluster0', 'cube648_cluster0', 'cube649_cluster0'], 'cube617_cluster0': ['cube618_cluster0', 'cube647_cluster0', 'cube648_cluster0', 'cube649_cluster0'], 'cube618_cluster0': ['cube619_cluster0', 'cube620_cluster0', 'cube650_cluster0', 'cube651_cluster0', 'cube652_cluster0', 'cube684_cluster0', 'cube685_cluster0', 'cube686_cluster0'], 'cube619_cluster0': ['cube620_cluster0', 'cube621_cluster0', 'cube650_cluster0', 'cube651_cluster0', 'cube652_cluster0', 'cube653_cluster0', 'cube684_cluster0', 'cube685_cluster0', 'cube686_cluster0'], 'cube620_cluster0': ['cube621_cluster0', 'cube622_cluster0', 'cube650_cluster0', 'cube651_cluster0', 'cube652_cluster0', 'cube653_cluster0', 'cube654_cluster0', 'cube684_cluster0', 'cube685_cluster0', 'cube686_cluster0'], 'cube621_cluster0': ['cube622_cluster0', 'cube651_cluster0', 'cube652_cluster0', 'cube653_cluster0', 'cube654_cluster0', 'cube686_cluster0'], 'cube622_cluster0': ['cube652_cluster0', 'cube653_cluster0', 'cube654_cluster0', 'cube686_cluster0'], 'cube629_cluster0': ['cube630_cluster0', 'cube631_cluster0', 'cube663_cluster0', 'cube664_cluster0', 'cube665_cluster0', 'cube702_cluster0'], 'cube630_cluster0': ['cube631_cluster0', 'cube632_cluster0', 'cube663_cluster0', 'cube664_cluster0', 'cube665_cluster0', 'cube666_cluster0', 'cube702_cluster0'], 'cube631_cluster0': ['cube632_cluster0', 'cube633_cluster0', 'cube663_cluster0', 'cube664_cluster0', 'cube665_cluster0', 'cube666_cluster0', 'cube667_cluster0', 'cube702_cluster0', 'cube705_cluster0', 'cube706_cluster0'], 'cube632_cluster0': ['cube633_cluster0', 'cube664_cluster0', 'cube665_cluster0', 'cube666_cluster0', 'cube667_cluster0', 'cube668_cluster0', 'cube705_cluster0', 'cube706_cluster0'], 'cube633_cluster0': ['cube665_cluster0', 'cube666_cluster0', 'cube667_cluster0', 'cube668_cluster0', 'cube705_cluster0', 'cube706_cluster0'], 'cube635_cluster0': ['cube636_cluster0', 'cube637_cluster0', 'cube669_cluster0', 'cube670_cluster0', 'cube671_cluster0', 'cube708_cluster0', 'cube709_cluster0', 'cube710_cluster0'], 'cube636_cluster0': ['cube637_cluster0', 'cube638_cluster0', 'cube669_cluster0', 'cube670_cluster0', 'cube671_cluster0', 'cube672_cluster0', 'cube708_cluster0', 'cube709_cluster0', 'cube710_cluster0', 'cube711_cluster0'], 'cube637_cluster0': ['cube638_cluster0', 'cube639_cluster0', 'cube669_cluster0', 'cube670_cluster0', 'cube671_cluster0', 'cube672_cluster0', 'cube673_cluster0', 'cube708_cluster0', 'cube709_cluster0', 'cube710_cluster0', 'cube711_cluster0', 'cube712_cluster0'], 'cube638_cluster0': ['cube639_cluster0', 'cube640_cluster0', 'cube670_cluster0', 'cube671_cluster0', 'cube672_cluster0', 'cube673_cluster0', 'cube674_cluster0', 'cube709_cluster0', 'cube710_cluster0', 'cube711_cluster0', 'cube712_cluster0', 'cube713_cluster0'], 'cube639_cluster0': ['cube640_cluster0', 'cube641_cluster0', 'cube671_cluster0', 'cube672_cluster0', 'cube673_cluster0', 'cube674_cluster0', 'cube675_cluster0', 'cube710_cluster0', 'cube711_cluster0', 'cube712_cluster0', 'cube713_cluster0', 'cube714_cluster0'], 'cube640_cluster0': ['cube641_cluster0', 'cube642_cluster0', 'cube672_cluster0', 'cube673_cluster0', 'cube674_cluster0', 'cube675_cluster0', 'cube676_cluster0', 'cube711_cluster0', 'cube712_cluster0', 'cube713_cluster0', 'cube714_cluster0'], 'cube641_cluster0': ['cube642_cluster0', 'cube643_cluster0', 'cube673_cluster0', 'cube674_cluster0', 'cube675_cluster0', 'cube676_cluster0', 'cube677_cluster0', 'cube712_cluster0', 'cube713_cluster0', 'cube714_cluster0', 'cube715_cluster0', 'cube716_cluster0'], 'cube642_cluster0': ['cube643_cluster0', 'cube644_cluster0', 'cube674_cluster0', 'cube675_cluster0', 'cube676_cluster0', 'cube677_cluster0', 'cube678_cluster0', 'cube714_cluster0', 'cube715_cluster0', 'cube716_cluster0', 'cube717_cluster0'], 'cube643_cluster0': ['cube644_cluster0', 'cube645_cluster0', 'cube675_cluster0', 'cube676_cluster0', 'cube677_cluster0', 'cube678_cluster0', 'cube679_cluster0', 'cube714_cluster0', 'cube715_cluster0', 'cube716_cluster0', 'cube717_cluster0', 'cube718_cluster0'], 'cube644_cluster0': ['cube645_cluster0', 'cube676_cluster0', 'cube677_cluster0', 'cube678_cluster0', 'cube679_cluster0', 'cube715_cluster0', 'cube716_cluster0', 'cube717_cluster0', 'cube718_cluster0'], 'cube645_cluster0': ['cube646_cluster0', 'cube647_cluster0', 'cube677_cluster0', 'cube678_cluster0', 'cube679_cluster0', 'cube680_cluster0', 'cube681_cluster0', 'cube716_cluster0', 'cube717_cluster0', 'cube718_cluster0'], 'cube646_cluster0': ['cube647_cluster0', 'cube648_cluster0', 'cube679_cluster0', 'cube680_cluster0', 'cube681_cluster0', 'cube682_cluster0', 'cube718_cluster0', 'cube721_cluster0'], 'cube647_cluster0': ['cube648_cluster0', 'cube649_cluster0', 'cube679_cluster0', 'cube680_cluster0', 'cube681_cluster0', 'cube682_cluster0', 'cube683_cluster0', 'cube721_cluster0', 'cube722_cluster0'], 'cube648_cluster0': ['cube649_cluster0', 'cube680_cluster0', 'cube681_cluster0', 'cube682_cluster0', 'cube683_cluster0', 'cube721_cluster0', 'cube722_cluster0'], 'cube649_cluster0': ['cube650_cluster0', 'cube651_cluster0', 'cube681_cluster0', 'cube682_cluster0', 'cube683_cluster0', 'cube684_cluster0', 'cube685_cluster0', 'cube721_cluster0', 'cube722_cluster0', 'cube723_cluster0'], 'cube650_cluster0': ['cube651_cluster0', 'cube652_cluster0', 'cube683_cluster0', 'cube684_cluster0', 'cube685_cluster0', 'cube686_cluster0', 'cube722_cluster0', 'cube723_cluster0'], 'cube651_cluster0': ['cube652_cluster0', 'cube653_cluster0', 'cube683_cluster0', 'cube684_cluster0', 'cube685_cluster0', 'cube686_cluster0', 'cube722_cluster0', 'cube723_cluster0'], 'cube652_cluster0': ['cube653_cluster0', 'cube654_cluster0', 'cube684_cluster0', 'cube685_cluster0', 'cube686_cluster0', 'cube723_cluster0'], 'cube653_cluster0': ['cube654_cluster0', 'cube686_cluster0'], 'cube654_cluster0': ['cube686_cluster0'], 'cube663_cluster0': ['cube664_cluster0', 'cube665_cluster0', 'cube701_cluster0', 'cube702_cluster0', 'cube738_cluster0'], 'cube664_cluster0': ['cube665_cluster0', 'cube666_cluster0', 'cube701_cluster0', 'cube702_cluster0', 'cube738_cluster0'], 'cube665_cluster0': ['cube666_cluster0', 'cube667_cluster0', 'cube702_cluster0', 'cube705_cluster0', 'cube706_cluster0'], 'cube666_cluster0': ['cube667_cluster0', 'cube668_cluster0', 'cube705_cluster0', 'cube706_cluster0', 'cube707_cluster0', 'cube743_cluster0', 'cube744_cluster0'], 'cube667_cluster0': ['cube668_cluster0', 'cube669_cluster0', 'cube705_cluster0', 'cube706_cluster0', 'cube707_cluster0', 'cube708_cluster0', 'cube743_cluster0', 'cube744_cluster0', 'cube745_cluster0'], 'cube668_cluster0': ['cube669_cluster0', 'cube705_cluster0', 'cube706_cluster0', 'cube707_cluster0', 'cube708_cluster0', 'cube743_cluster0', 'cube744_cluster0', 'cube745_cluster0'], 'cube669_cluster0': ['cube670_cluster0', 'cube671_cluster0', 'cube706_cluster0', 'cube707_cluster0', 'cube708_cluster0', 'cube709_cluster0', 'cube710_cluster0', 'cube743_cluster0', 'cube744_cluster0', 'cube745_cluster0', 'cube746_cluster0'], 'cube670_cluster0': ['cube671_cluster0', 'cube672_cluster0', 'cube708_cluster0', 'cube709_cluster0', 'cube710_cluster0', 'cube711_cluster0', 'cube745_cluster0', 'cube746_cluster0', 'cube747_cluster0', 'cube748_cluster0'], 'cube671_cluster0': ['cube672_cluster0', 'cube673_cluster0', 'cube708_cluster0', 'cube709_cluster0', 'cube710_cluster0', 'cube711_cluster0', 'cube712_cluster0', 'cube746_cluster0', 'cube747_cluster0', 'cube748_cluster0', 'cube749_cluster0'], 'cube672_cluster0': ['cube673_cluster0', 'cube674_cluster0', 'cube709_cluster0', 'cube710_cluster0', 'cube711_cluster0', 'cube712_cluster0', 'cube713_cluster0', 'cube746_cluster0', 'cube747_cluster0', 'cube748_cluster0', 'cube749_cluster0'], 'cube673_cluster0': ['cube674_cluster0', 'cube675_cluster0', 'cube710_cluster0', 'cube711_cluster0', 'cube712_cluster0', 'cube713_cluster0', 'cube714_cluster0', 'cube747_cluster0', 'cube748_cluster0', 'cube749_cluster0', 'cube750_cluster0', 'cube751_cluster0'], 'cube674_cluster0': ['cube675_cluster0', 'cube676_cluster0', 'cube711_cluster0', 'cube712_cluster0', 'cube713_cluster0', 'cube714_cluster0', 'cube715_cluster0', 'cube749_cluster0', 'cube750_cluster0', 'cube751_cluster0', 'cube752_cluster0'], 'cube675_cluster0': ['cube676_cluster0', 'cube677_cluster0', 'cube712_cluster0', 'cube713_cluster0', 'cube714_cluster0', 'cube715_cluster0', 'cube716_cluster0', 'cube749_cluster0', 'cube750_cluster0', 'cube751_cluster0', 'cube752_cluster0', 'cube753_cluster0'], 'cube676_cluster0': ['cube677_cluster0', 'cube678_cluster0', 'cube713_cluster0', 'cube714_cluster0', 'cube715_cluster0', 'cube716_cluster0', 'cube717_cluster0', 'cube750_cluster0', 'cube751_cluster0', 'cube752_cluster0', 'cube753_cluster0'], 'cube677_cluster0': ['cube678_cluster0', 'cube679_cluster0', 'cube714_cluster0', 'cube715_cluster0', 'cube716_cluster0', 'cube717_cluster0', 'cube718_cluster0', 'cube751_cluster0', 'cube752_cluster0', 'cube753_cluster0', 'cube754_cluster0'], 'cube678_cluster0': ['cube679_cluster0', 'cube680_cluster0', 'cube715_cluster0', 'cube716_cluster0', 'cube717_cluster0', 'cube718_cluster0', 'cube753_cluster0', 'cube754_cluster0', 'cube755_cluster0'], 'cube679_cluster0': ['cube680_cluster0', 'cube681_cluster0', 'cube716_cluster0', 'cube717_cluster0', 'cube718_cluster0', 'cube754_cluster0', 'cube755_cluster0'], 'cube680_cluster0': ['cube681_cluster0', 'cube682_cluster0', 'cube717_cluster0', 'cube718_cluster0', 'cube721_cluster0'], 'cube681_cluster0': ['cube682_cluster0', 'cube683_cluster0', 'cube721_cluster0', 'cube722_cluster0'], 'cube682_cluster0': ['cube683_cluster0', 'cube684_cluster0', 'cube721_cluster0', 'cube722_cluster0', 'cube723_cluster0', 'cube760_cluster0'], 'cube683_cluster0': ['cube684_cluster0', 'cube685_cluster0', 'cube721_cluster0', 'cube722_cluster0', 'cube723_cluster0', 'cube760_cluster0'], 'cube684_cluster0': ['cube685_cluster0', 'cube686_cluster0', 'cube721_cluster0', 'cube722_cluster0', 'cube723_cluster0', 'cube760_cluster0'], 'cube685_cluster0': ['cube686_cluster0', 'cube722_cluster0', 'cube723_cluster0', 'cube762_cluster0'], 'cube686_cluster0': ['cube723_cluster0', 'cube762_cluster0'], 'cube701_cluster0': ['cube702_cluster0', 'cube738_cluster0'], 'cube702_cluster0': ['cube738_cluster0'], 'cube705_cluster0': ['cube706_cluster0', 'cube707_cluster0', 'cube743_cluster0', 'cube744_cluster0', 'cube778_cluster0', 'cube779_cluster0'], 'cube706_cluster0': ['cube707_cluster0', 'cube708_cluster0', 'cube743_cluster0', 'cube744_cluster0', 'cube745_cluster0', 'cube778_cluster0', 'cube779_cluster0'], 'cube707_cluster0': ['cube708_cluster0', 'cube709_cluster0', 'cube743_cluster0', 'cube744_cluster0', 'cube745_cluster0', 'cube746_cluster0'], 'cube708_cluster0': ['cube709_cluster0', 'cube710_cluster0', 'cube743_cluster0', 'cube744_cluster0', 'cube745_cluster0', 'cube746_cluster0'], 'cube709_cluster0': ['cube710_cluster0', 'cube711_cluster0', 'cube744_cluster0', 'cube745_cluster0', 'cube746_cluster0', 'cube747_cluster0', 'cube748_cluster0', 'cube782_cluster0', 'cube783_cluster0', 'cube784_cluster0'], 'cube710_cluster0': ['cube711_cluster0', 'cube712_cluster0', 'cube746_cluster0', 'cube747_cluster0', 'cube748_cluster0', 'cube749_cluster0', 'cube782_cluster0', 'cube783_cluster0', 'cube784_cluster0', 'cube785_cluster0'], 'cube711_cluster0': ['cube712_cluster0', 'cube713_cluster0', 'cube746_cluster0', 'cube747_cluster0', 'cube748_cluster0', 'cube749_cluster0', 'cube750_cluster0', 'cube782_cluster0', 'cube783_cluster0', 'cube784_cluster0', 'cube785_cluster0', 'cube786_cluster0'], 'cube712_cluster0': ['cube713_cluster0', 'cube714_cluster0', 'cube747_cluster0', 'cube748_cluster0', 'cube749_cluster0', 'cube750_cluster0', 'cube751_cluster0', 'cube783_cluster0', 'cube784_cluster0', 'cube785_cluster0', 'cube786_cluster0', 'cube787_cluster0'], 'cube713_cluster0': ['cube714_cluster0', 'cube715_cluster0', 'cube748_cluster0', 'cube749_cluster0', 'cube750_cluster0', 'cube751_cluster0', 'cube752_cluster0', 'cube784_cluster0', 'cube785_cluster0', 'cube786_cluster0', 'cube787_cluster0'], 'cube714_cluster0': ['cube715_cluster0', 'cube716_cluster0', 'cube749_cluster0', 'cube750_cluster0', 'cube751_cluster0', 'cube752_cluster0', 'cube753_cluster0', 'cube785_cluster0', 'cube786_cluster0', 'cube787_cluster0'], 'cube715_cluster0': ['cube716_cluster0', 'cube717_cluster0', 'cube750_cluster0', 'cube751_cluster0', 'cube752_cluster0', 'cube753_cluster0', 'cube754_cluster0', 'cube788_cluster0', 'cube789_cluster0', 'cube790_cluster0'], 'cube716_cluster0': ['cube717_cluster0', 'cube718_cluster0', 'cube751_cluster0', 'cube752_cluster0', 'cube753_cluster0', 'cube754_cluster0', 'cube788_cluster0', 'cube789_cluster0', 'cube790_cluster0'], 'cube717_cluster0': ['cube718_cluster0', 'cube752_cluster0', 'cube753_cluster0', 'cube754_cluster0', 'cube755_cluster0', 'cube756_cluster0', 'cube788_cluster0', 'cube789_cluster0', 'cube790_cluster0'], 'cube718_cluster0': ['cube754_cluster0', 'cube755_cluster0', 'cube756_cluster0'], 'cube721_cluster0': ['cube722_cluster0', 'cube723_cluster0', 'cube760_cluster0', 'cube796_cluster0'], 'cube722_cluster0': ['cube723_cluster0', 'cube760_cluster0', 'cube796_cluster0'], 'cube723_cluster0': ['cube760_cluster0', 'cube796_cluster0'], 'cube743_cluster0': ['cube744_cluster0', 'cube745_cluster0', 'cube778_cluster0', 'cube779_cluster0', 'cube780_cluster0', 'cube781_cluster0', 'cube819_cluster0', 'cube820_cluster0', 'cube821_cluster0', 'cube822_cluster0'], 'cube744_cluster0': ['cube745_cluster0', 'cube746_cluster0', 'cube779_cluster0', 'cube780_cluster0', 'cube781_cluster0', 'cube782_cluster0', 'cube820_cluster0', 'cube821_cluster0', 'cube822_cluster0', 'cube823_cluster0'], 'cube745_cluster0': ['cube746_cluster0', 'cube779_cluster0', 'cube780_cluster0', 'cube781_cluster0', 'cube782_cluster0', 'cube820_cluster0', 'cube821_cluster0', 'cube822_cluster0', 'cube823_cluster0'], 'cube746_cluster0': ['cube747_cluster0', 'cube748_cluster0', 'cube780_cluster0', 'cube781_cluster0', 'cube782_cluster0', 'cube783_cluster0', 'cube784_cluster0', 'cube821_cluster0', 'cube822_cluster0', 'cube823_cluster0'], 'cube747_cluster0': ['cube748_cluster0', 'cube749_cluster0', 'cube782_cluster0', 'cube783_cluster0', 'cube784_cluster0', 'cube785_cluster0', 'cube824_cluster0', 'cube825_cluster0', 'cube826_cluster0'], 'cube748_cluster0': ['cube749_cluster0', 'cube750_cluster0', 'cube782_cluster0', 'cube783_cluster0', 'cube784_cluster0', 'cube785_cluster0', 'cube786_cluster0', 'cube824_cluster0', 'cube825_cluster0', 'cube826_cluster0'], 'cube749_cluster0': ['cube750_cluster0', 'cube751_cluster0', 'cube783_cluster0', 'cube784_cluster0', 'cube785_cluster0', 'cube786_cluster0', 'cube787_cluster0', 'cube824_cluster0', 'cube825_cluster0', 'cube826_cluster0'], 'cube750_cluster0': ['cube751_cluster0', 'cube752_cluster0', 'cube784_cluster0', 'cube785_cluster0', 'cube786_cluster0', 'cube787_cluster0'], 'cube751_cluster0': ['cube752_cluster0', 'cube753_cluster0', 'cube785_cluster0', 'cube786_cluster0', 'cube787_cluster0', 'cube788_cluster0', 'cube789_cluster0'], 'cube752_cluster0': ['cube753_cluster0', 'cube754_cluster0', 'cube787_cluster0', 'cube788_cluster0', 'cube789_cluster0', 'cube790_cluster0'], 'cube753_cluster0': ['cube754_cluster0', 'cube755_cluster0', 'cube787_cluster0', 'cube788_cluster0', 'cube789_cluster0', 'cube790_cluster0', 'cube791_cluster0', 'cube830_cluster0', 'cube831_cluster0', 'cube832_cluster0'], 'cube754_cluster0': ['cube755_cluster0', 'cube756_cluster0', 'cube788_cluster0', 'cube789_cluster0', 'cube790_cluster0', 'cube791_cluster0', 'cube792_cluster0', 'cube830_cluster0', 'cube831_cluster0', 'cube832_cluster0', 'cube833_cluster0'], 'cube755_cluster0': ['cube756_cluster0', 'cube789_cluster0', 'cube790_cluster0', 'cube791_cluster0', 'cube792_cluster0', 'cube830_cluster0', 'cube831_cluster0', 'cube832_cluster0', 'cube833_cluster0'], 'cube756_cluster0': ['cube790_cluster0', 'cube791_cluster0', 'cube792_cluster0', 'cube793_cluster0', 'cube831_cluster0', 'cube832_cluster0', 'cube833_cluster0'], 'cube760_cluster0': ['cube762_cluster0', 'cube796_cluster0', 'cube837_cluster0'], 'cube762_cluster0': ['cube763_cluster0', 'cube764_cluster0', 'cube796_cluster0', 'cube799_cluster0', 'cube800_cluster0', 'cube837_cluster0', 'cube840_cluster0', 'cube841_cluster0'], 'cube763_cluster0': ['cube764_cluster0', 'cube799_cluster0', 'cube800_cluster0', 'cube840_cluster0', 'cube841_cluster0'], 'cube764_cluster0': ['cube799_cluster0', 'cube800_cluster0', 'cube840_cluster0', 'cube841_cluster0'], 'cube778_cluster0': ['cube779_cluster0', 'cube780_cluster0', 'cube819_cluster0', 'cube820_cluster0', 'cube821_cluster0', 'cube859_cluster0', 'cube860_cluster0', 'cube861_cluster0'], 'cube779_cluster0': ['cube780_cluster0', 'cube781_cluster0', 'cube819_cluster0', 'cube820_cluster0', 'cube821_cluster0', 'cube822_cluster0', 'cube859_cluster0', 'cube860_cluster0', 'cube861_cluster0'], 'cube780_cluster0': ['cube781_cluster0', 'cube782_cluster0', 'cube819_cluster0', 'cube820_cluster0', 'cube821_cluster0', 'cube822_cluster0', 'cube823_cluster0', 'cube859_cluster0', 'cube860_cluster0', 'cube861_cluster0'], 'cube781_cluster0': ['cube782_cluster0', 'cube820_cluster0', 'cube821_cluster0', 'cube822_cluster0', 'cube823_cluster0', 'cube862_cluster0', 'cube863_cluster0'], 'cube782_cluster0': ['cube783_cluster0', 'cube784_cluster0', 'cube821_cluster0', 'cube822_cluster0', 'cube823_cluster0', 'cube824_cluster0', 'cube825_cluster0', 'cube862_cluster0', 'cube863_cluster0', 'cube864_cluster0', 'cube865_cluster0'], 'cube783_cluster0': ['cube784_cluster0', 'cube785_cluster0', 'cube823_cluster0', 'cube824_cluster0', 'cube825_cluster0', 'cube826_cluster0', 'cube863_cluster0', 'cube864_cluster0', 'cube865_cluster0', 'cube866_cluster0'], 'cube784_cluster0': ['cube785_cluster0', 'cube786_cluster0', 'cube823_cluster0', 'cube824_cluster0', 'cube825_cluster0', 'cube826_cluster0', 'cube863_cluster0', 'cube864_cluster0', 'cube865_cluster0', 'cube866_cluster0'], 'cube785_cluster0': ['cube786_cluster0', 'cube787_cluster0', 'cube824_cluster0', 'cube825_cluster0', 'cube826_cluster0', 'cube827_cluster0', 'cube828_cluster0', 'cube864_cluster0', 'cube865_cluster0', 'cube866_cluster0', 'cube867_cluster0', 'cube868_cluster0'], 'cube786_cluster0': ['cube787_cluster0', 'cube788_cluster0', 'cube826_cluster0', 'cube827_cluster0', 'cube828_cluster0', 'cube829_cluster0', 'cube866_cluster0', 'cube867_cluster0', 'cube868_cluster0'], 'cube787_cluster0': ['cube788_cluster0', 'cube789_cluster0', 'cube826_cluster0', 'cube827_cluster0', 'cube828_cluster0', 'cube829_cluster0', 'cube866_cluster0', 'cube867_cluster0', 'cube868_cluster0'], 'cube788_cluster0': ['cube789_cluster0', 'cube790_cluster0', 'cube827_cluster0', 'cube828_cluster0', 'cube829_cluster0', 'cube830_cluster0', 'cube831_cluster0', 'cube869_cluster0', 'cube870_cluster0', 'cube871_cluster0'], 'cube789_cluster0': ['cube790_cluster0', 'cube791_cluster0', 'cube829_cluster0', 'cube830_cluster0', 'cube831_cluster0', 'cube832_cluster0', 'cube869_cluster0', 'cube870_cluster0', 'cube871_cluster0'], 'cube790_cluster0': ['cube791_cluster0', 'cube792_cluster0', 'cube829_cluster0', 'cube830_cluster0', 'cube831_cluster0', 'cube832_cluster0', 'cube833_cluster0', 'cube869_cluster0', 'cube870_cluster0', 'cube871_cluster0', 'cube872_cluster0', 'cube873_cluster0'], 'cube791_cluster0': ['cube792_cluster0', 'cube793_cluster0', 'cube830_cluster0', 'cube831_cluster0', 'cube832_cluster0', 'cube833_cluster0', 'cube834_cluster0', 'cube871_cluster0', 'cube872_cluster0', 'cube873_cluster0'], 'cube792_cluster0': ['cube793_cluster0', 'cube831_cluster0', 'cube832_cluster0', 'cube833_cluster0', 'cube834_cluster0', 'cube871_cluster0', 'cube872_cluster0', 'cube873_cluster0', 'cube874_cluster0'], 'cube793_cluster0': ['cube832_cluster0', 'cube833_cluster0', 'cube834_cluster0', 'cube873_cluster0', 'cube874_cluster0'], 'cube796_cluster0': ['cube837_cluster0'], 'cube799_cluster0': ['cube800_cluster0', 'cube840_cluster0', 'cube841_cluster0', 'cube880_cluster0', 'cube881_cluster0'], 'cube800_cluster0': ['cube840_cluster0', 'cube841_cluster0', 'cube880_cluster0', 'cube881_cluster0'], 'cube817_cluster0': ['cube819_cluster0', 'cube857_cluster0', 'cube858_cluster0', 'cube859_cluster0', 'cube897_cluster0', 'cube898_cluster0', 'cube899_cluster0'], 'cube819_cluster0': ['cube820_cluster0', 'cube821_cluster0', 'cube857_cluster0', 'cube858_cluster0', 'cube859_cluster0', 'cube860_cluster0', 'cube861_cluster0', 'cube897_cluster0', 'cube898_cluster0', 'cube899_cluster0', 'cube900_cluster0', 'cube901_cluster0'], 'cube820_cluster0': ['cube821_cluster0', 'cube822_cluster0', 'cube859_cluster0', 'cube860_cluster0', 'cube861_cluster0', 'cube899_cluster0', 'cube900_cluster0', 'cube901_cluster0'], 'cube821_cluster0': ['cube822_cluster0', 'cube823_cluster0', 'cube859_cluster0', 'cube860_cluster0', 'cube861_cluster0', 'cube862_cluster0', 'cube863_cluster0', 'cube899_cluster0', 'cube900_cluster0', 'cube901_cluster0', 'cube902_cluster0', 'cube903_cluster0'], 'cube822_cluster0': ['cube823_cluster0', 'cube824_cluster0', 'cube861_cluster0', 'cube862_cluster0', 'cube863_cluster0', 'cube864_cluster0', 'cube901_cluster0', 'cube902_cluster0', 'cube903_cluster0', 'cube904_cluster0'], 'cube823_cluster0': ['cube824_cluster0', 'cube825_cluster0', 'cube861_cluster0', 'cube862_cluster0', 'cube863_cluster0', 'cube864_cluster0', 'cube865_cluster0', 'cube901_cluster0', 'cube902_cluster0', 'cube903_cluster0', 'cube904_cluster0', 'cube905_cluster0'], 'cube824_cluster0': ['cube825_cluster0', 'cube826_cluster0', 'cube862_cluster0', 'cube863_cluster0', 'cube864_cluster0', 'cube865_cluster0', 'cube866_cluster0', 'cube902_cluster0', 'cube903_cluster0', 'cube904_cluster0', 'cube905_cluster0', 'cube906_cluster0'], 'cube825_cluster0': ['cube826_cluster0', 'cube863_cluster0', 'cube864_cluster0', 'cube865_cluster0', 'cube866_cluster0', 'cube903_cluster0', 'cube904_cluster0', 'cube905_cluster0', 'cube906_cluster0'], 'cube826_cluster0': ['cube827_cluster0', 'cube828_cluster0', 'cube864_cluster0', 'cube865_cluster0', 'cube866_cluster0', 'cube867_cluster0', 'cube868_cluster0', 'cube904_cluster0', 'cube905_cluster0', 'cube906_cluster0', 'cube907_cluster0', 'cube908_cluster0'], 'cube827_cluster0': ['cube828_cluster0', 'cube829_cluster0', 'cube866_cluster0', 'cube867_cluster0', 'cube868_cluster0', 'cube869_cluster0', 'cube906_cluster0', 'cube907_cluster0', 'cube908_cluster0'], 'cube828_cluster0': ['cube829_cluster0', 'cube866_cluster0', 'cube867_cluster0', 'cube868_cluster0', 'cube869_cluster0', 'cube906_cluster0', 'cube907_cluster0', 'cube908_cluster0'], 'cube829_cluster0': ['cube830_cluster0', 'cube831_cluster0', 'cube867_cluster0', 'cube868_cluster0', 'cube869_cluster0', 'cube870_cluster0', 'cube871_cluster0'], 'cube830_cluster0': ['cube831_cluster0', 'cube832_cluster0', 'cube869_cluster0', 'cube870_cluster0', 'cube871_cluster0', 'cube872_cluster0', 'cube910_cluster0', 'cube911_cluster0', 'cube912_cluster0'], 'cube831_cluster0': ['cube832_cluster0', 'cube833_cluster0', 'cube869_cluster0', 'cube870_cluster0', 'cube871_cluster0', 'cube872_cluster0', 'cube873_cluster0', 'cube910_cluster0', 'cube911_cluster0', 'cube912_cluster0', 'cube913_cluster0'], 'cube832_cluster0': ['cube833_cluster0', 'cube834_cluster0', 'cube870_cluster0', 'cube871_cluster0', 'cube872_cluster0', 'cube873_cluster0', 'cube910_cluster0', 'cube911_cluster0', 'cube912_cluster0', 'cube913_cluster0'], 'cube833_cluster0': ['cube834_cluster0', 'cube871_cluster0', 'cube872_cluster0', 'cube873_cluster0', 'cube874_cluster0', 'cube911_cluster0', 'cube912_cluster0', 'cube913_cluster0', 'cube914_cluster0'], 'cube834_cluster0': ['cube873_cluster0', 'cube874_cluster0', 'cube913_cluster0', 'cube914_cluster0'], 'cube837_cluster0': ['cube915_cluster0', 'cube916_cluster0', 'cube917_cluster0'], 'cube840_cluster0': ['cube841_cluster0', 'cube879_cluster0', 'cube880_cluster0', 'cube881_cluster0', 'cube920_cluster0', 'cube921_cluster0'], 'cube841_cluster0': ['cube879_cluster0', 'cube880_cluster0', 'cube881_cluster0', 'cube920_cluster0', 'cube921_cluster0'], 'cube857_cluster0': ['cube858_cluster0', 'cube859_cluster0', 'cube897_cluster0', 'cube898_cluster0', 'cube899_cluster0'], 'cube858_cluster0': ['cube859_cluster0', 'cube897_cluster0', 'cube898_cluster0', 'cube899_cluster0', 'cube935_cluster0'], 'cube859_cluster0': ['cube860_cluster0', 'cube861_cluster0', 'cube897_cluster0', 'cube898_cluster0', 'cube899_cluster0', 'cube900_cluster0', 'cube901_cluster0', 'cube935_cluster0', 'cube936_cluster0', 'cube937_cluster0'], 'cube860_cluster0': ['cube861_cluster0', 'cube899_cluster0', 'cube900_cluster0', 'cube901_cluster0', 'cube935_cluster0', 'cube936_cluster0', 'cube937_cluster0'], 'cube861_cluster0': ['cube862_cluster0', 'cube863_cluster0', 'cube899_cluster0', 'cube900_cluster0', 'cube901_cluster0', 'cube902_cluster0', 'cube903_cluster0', 'cube935_cluster0', 'cube936_cluster0', 'cube937_cluster0'], 'cube862_cluster0': ['cube863_cluster0', 'cube864_cluster0', 'cube901_cluster0', 'cube902_cluster0', 'cube903_cluster0', 'cube904_cluster0', 'cube938_cluster0'], 'cube863_cluster0': ['cube864_cluster0', 'cube865_cluster0', 'cube901_cluster0', 'cube902_cluster0', 'cube903_cluster0', 'cube904_cluster0', 'cube905_cluster0', 'cube938_cluster0'], 'cube864_cluster0': ['cube865_cluster0', 'cube866_cluster0', 'cube902_cluster0', 'cube903_cluster0', 'cube904_cluster0', 'cube905_cluster0', 'cube906_cluster0', 'cube938_cluster0'], 'cube865_cluster0': ['cube866_cluster0', 'cube867_cluster0', 'cube903_cluster0', 'cube904_cluster0', 'cube905_cluster0', 'cube906_cluster0', 'cube907_cluster0'], 'cube866_cluster0': ['cube867_cluster0', 'cube868_cluster0', 'cube904_cluster0', 'cube905_cluster0', 'cube906_cluster0', 'cube907_cluster0', 'cube908_cluster0'], 'cube867_cluster0': ['cube868_cluster0', 'cube869_cluster0', 'cube905_cluster0', 'cube906_cluster0', 'cube907_cluster0', 'cube908_cluster0', 'cube909_cluster0', 'cube943_cluster0', 'cube944_cluster0', 'cube945_cluster0'], 'cube868_cluster0': ['cube869_cluster0', 'cube870_cluster0', 'cube906_cluster0', 'cube907_cluster0', 'cube908_cluster0', 'cube909_cluster0', 'cube910_cluster0', 'cube943_cluster0', 'cube944_cluster0', 'cube945_cluster0'], 'cube869_cluster0': ['cube870_cluster0', 'cube871_cluster0', 'cube907_cluster0', 'cube908_cluster0', 'cube909_cluster0', 'cube910_cluster0', 'cube943_cluster0', 'cube944_cluster0', 'cube945_cluster0'], 'cube870_cluster0': ['cube871_cluster0', 'cube872_cluster0', 'cube908_cluster0', 'cube909_cluster0', 'cube910_cluster0', 'cube911_cluster0', 'cube912_cluster0', 'cube944_cluster0', 'cube945_cluster0', 'cube947_cluster0'], 'cube871_cluster0': ['cube872_cluster0', 'cube873_cluster0', 'cube910_cluster0', 'cube911_cluster0', 'cube912_cluster0', 'cube913_cluster0', 'cube947_cluster0'], 'cube872_cluster0': ['cube873_cluster0', 'cube874_cluster0', 'cube910_cluster0', 'cube911_cluster0', 'cube912_cluster0', 'cube913_cluster0', 'cube914_cluster0', 'cube947_cluster0'], 'cube873_cluster0': ['cube874_cluster0', 'cube911_cluster0', 'cube912_cluster0', 'cube913_cluster0', 'cube914_cluster0', 'cube915_cluster0', 'cube951_cluster0'], 'cube874_cluster0': ['cube912_cluster0', 'cube913_cluster0', 'cube914_cluster0', 'cube915_cluster0', 'cube951_cluster0'], 'cube879_cluster0': ['cube880_cluster0', 'cube881_cluster0', 'cube918_cluster0', 'cube919_cluster0', 'cube920_cluster0', 'cube921_cluster0', 'cube954_cluster0', 'cube955_cluster0'], 'cube880_cluster0': ['cube881_cluster0', 'cube918_cluster0', 'cube919_cluster0', 'cube920_cluster0', 'cube921_cluster0', 'cube954_cluster0', 'cube955_cluster0'], 'cube881_cluster0': ['cube919_cluster0', 'cube920_cluster0', 'cube921_cluster0', 'cube955_cluster0'], 'cube897_cluster0': ['cube898_cluster0', 'cube899_cluster0', 'cube935_cluster0'], 'cube898_cluster0': ['cube899_cluster0', 'cube935_cluster0'], 'cube899_cluster0': ['cube900_cluster0', 'cube901_cluster0', 'cube935_cluster0', 'cube936_cluster0', 'cube937_cluster0', 'cube968_cluster0', 'cube969_cluster0'], 'cube900_cluster0': ['cube901_cluster0', 'cube902_cluster0', 'cube935_cluster0', 'cube936_cluster0', 'cube937_cluster0', 'cube938_cluster0', 'cube968_cluster0', 'cube969_cluster0', 'cube970_cluster0'], 'cube901_cluster0': ['cube902_cluster0', 'cube903_cluster0', 'cube935_cluster0', 'cube936_cluster0', 'cube937_cluster0', 'cube938_cluster0', 'cube968_cluster0', 'cube969_cluster0', 'cube970_cluster0'], 'cube902_cluster0': ['cube903_cluster0', 'cube904_cluster0', 'cube936_cluster0', 'cube937_cluster0', 'cube938_cluster0', 'cube968_cluster0', 'cube969_cluster0', 'cube970_cluster0'], 'cube903_cluster0': ['cube904_cluster0', 'cube905_cluster0', 'cube938_cluster0'], 'cube904_cluster0': ['cube905_cluster0', 'cube906_cluster0', 'cube938_cluster0'], 'cube905_cluster0': ['cube906_cluster0', 'cube907_cluster0', 'cube943_cluster0', 'cube973_cluster0', 'cube975_cluster0'], 'cube906_cluster0': ['cube907_cluster0', 'cube908_cluster0', 'cube943_cluster0', 'cube973_cluster0', 'cube975_cluster0'], 'cube907_cluster0': ['cube908_cluster0', 'cube909_cluster0', 'cube943_cluster0', 'cube944_cluster0', 'cube945_cluster0', 'cube973_cluster0', 'cube975_cluster0', 'cube977_cluster0'], 'cube908_cluster0': ['cube909_cluster0', 'cube910_cluster0', 'cube943_cluster0', 'cube944_cluster0', 'cube945_cluster0', 'cube975_cluster0', 'cube977_cluster0'], 'cube909_cluster0': ['cube910_cluster0', 'cube911_cluster0', 'cube943_cluster0', 'cube944_cluster0', 'cube945_cluster0', 'cube947_cluster0', 'cube975_cluster0', 'cube977_cluster0', 'cube979_cluster0'], 'cube910_cluster0': ['cube911_cluster0', 'cube912_cluster0', 'cube944_cluster0', 'cube945_cluster0', 'cube947_cluster0', 'cube977_cluster0', 'cube979_cluster0'], 'cube911_cluster0': ['cube912_cluster0', 'cube913_cluster0', 'cube945_cluster0', 'cube947_cluster0', 'cube977_cluster0', 'cube979_cluster0'], 'cube912_cluster0': ['cube913_cluster0', 'cube914_cluster0', 'cube947_cluster0', 'cube979_cluster0'], 'cube913_cluster0': ['cube914_cluster0', 'cube915_cluster0', 'cube947_cluster0', 'cube951_cluster0', 'cube979_cluster0'], 'cube914_cluster0': ['cube915_cluster0', 'cube951_cluster0'], 'cube915_cluster0': ['cube916_cluster0', 'cube917_cluster0', 'cube951_cluster0', 'cube952_cluster0', 'cube953_cluster0', 'cube983_cluster0', 'cube984_cluster0', 'cube985_cluster0'], 'cube916_cluster0': ['cube917_cluster0', 'cube918_cluster0', 'cube951_cluster0', 'cube952_cluster0', 'cube953_cluster0', 'cube954_cluster0', 'cube983_cluster0', 'cube984_cluster0', 'cube985_cluster0'], 'cube917_cluster0': ['cube918_cluster0', 'cube919_cluster0', 'cube951_cluster0', 'cube952_cluster0', 'cube953_cluster0', 'cube954_cluster0', 'cube955_cluster0', 'cube983_cluster0', 'cube984_cluster0', 'cube985_cluster0', 'cube986_cluster0', 'cube987_cluster0'], 'cube918_cluster0': ['cube919_cluster0', 'cube920_cluster0', 'cube952_cluster0', 'cube953_cluster0', 'cube954_cluster0', 'cube955_cluster0', 'cube985_cluster0', 'cube986_cluster0', 'cube987_cluster0'], 'cube919_cluster0': ['cube920_cluster0', 'cube921_cluster0', 'cube953_cluster0', 'cube954_cluster0', 'cube955_cluster0', 'cube985_cluster0', 'cube986_cluster0', 'cube987_cluster0'], 'cube920_cluster0': ['cube921_cluster0', 'cube954_cluster0', 'cube955_cluster0'], 'cube921_cluster0': ['cube955_cluster0'], 'cube935_cluster0': ['cube936_cluster0', 'cube937_cluster0', 'cube968_cluster0', 'cube969_cluster0'], 'cube936_cluster0': ['cube937_cluster0', 'cube938_cluster0', 'cube968_cluster0', 'cube969_cluster0', 'cube970_cluster0'], 'cube937_cluster0': ['cube938_cluster0', 'cube968_cluster0', 'cube969_cluster0', 'cube970_cluster0', 'cube995_cluster0', 'cube996_cluster0'], 'cube938_cluster0': ['cube968_cluster0', 'cube969_cluster0', 'cube970_cluster0', 'cube995_cluster0', 'cube996_cluster0'], 'cube943_cluster0': ['cube944_cluster0', 'cube945_cluster0', 'cube973_cluster0', 'cube975_cluster0', 'cube977_cluster0'], 'cube944_cluster0': ['cube945_cluster0', 'cube975_cluster0', 'cube977_cluster0'], 'cube945_cluster0': ['cube947_cluster0', 'cube975_cluster0', 'cube977_cluster0', 'cube979_cluster0'], 'cube947_cluster0': ['cube977_cluster0', 'cube979_cluster0'], 'cube951_cluster0': ['cube952_cluster0', 'cube953_cluster0', 'cube983_cluster0', 'cube984_cluster0', 'cube985_cluster0'], 'cube952_cluster0': ['cube953_cluster0', 'cube954_cluster0', 'cube983_cluster0', 'cube984_cluster0', 'cube985_cluster0'], 'cube953_cluster0': ['cube954_cluster0', 'cube955_cluster0', 'cube983_cluster0', 'cube984_cluster0', 'cube985_cluster0', 'cube986_cluster0', 'cube987_cluster0'], 'cube954_cluster0': ['cube955_cluster0', 'cube985_cluster0', 'cube986_cluster0', 'cube987_cluster0'], 'cube955_cluster0': ['cube985_cluster0', 'cube986_cluster0', 'cube987_cluster0'], 'cube968_cluster0': ['cube969_cluster0', 'cube970_cluster0', 'cube995_cluster0', 'cube996_cluster0', 'cube1026_cluster0', 'cube1027_cluster0'], 'cube969_cluster0': ['cube970_cluster0', 'cube995_cluster0', 'cube996_cluster0', 'cube1026_cluster0', 'cube1027_cluster0'], 'cube970_cluster0': ['cube995_cluster0', 'cube996_cluster0', 'cube1026_cluster0', 'cube1027_cluster0'], 'cube973_cluster0': ['cube975_cluster0', 'cube1001_cluster0'], 'cube975_cluster0': ['cube977_cluster0', 'cube1001_cluster0', 'cube1032_cluster0', 'cube1033_cluster0', 'cube1034_cluster0'], 'cube977_cluster0': ['cube979_cluster0', 'cube1001_cluster0', 'cube1032_cluster0', 'cube1033_cluster0', 'cube1034_cluster0'], 'cube983_cluster0': ['cube984_cluster0', 'cube985_cluster0', 'cube1038_cluster0', 'cube1039_cluster0', 'cube1040_cluster0', 'cube1041_cluster0'], 'cube984_cluster0': ['cube985_cluster0', 'cube986_cluster0', 'cube1039_cluster0', 'cube1040_cluster0', 'cube1041_cluster0'], 'cube985_cluster0': ['cube986_cluster0', 'cube987_cluster0', 'cube1041_cluster0'], 'cube986_cluster0': ['cube987_cluster0', 'cube1041_cluster0'], 'cube995_cluster0': ['cube996_cluster0', 'cube1026_cluster0', 'cube1027_cluster0'], 'cube996_cluster0': ['cube1026_cluster0', 'cube1027_cluster0'], 'cube1001_cluster0': ['cube1032_cluster0', 'cube1033_cluster0', 'cube1034_cluster0', 'cube1063_cluster0', 'cube1064_cluster0'], 'cube1026_cluster0': ['cube1027_cluster0'], 'cube1032_cluster0': ['cube1033_cluster0', 'cube1034_cluster0', 'cube1063_cluster0', 'cube1064_cluster0'], 'cube1033_cluster0': ['cube1034_cluster0'], 'cube1038_cluster0': ['cube1039_cluster0', 'cube1040_cluster0', 'cube1072_cluster0'], 'cube1039_cluster0': ['cube1040_cluster0', 'cube1041_cluster0', 'cube1072_cluster0', 'cube1074_cluster0'], 'cube1040_cluster0': ['cube1041_cluster0', 'cube1072_cluster0', 'cube1074_cluster0'], 'cube1041_cluster0': ['cube1072_cluster0', 'cube1074_cluster0', 'cube1075_cluster0'], 'cube1063_cluster0': ['cube1064_cluster0'], 'cube1072_cluster0': ['cube1074_cluster0'], 'cube1074_cluster0': ['cube1075_cluster0'], 'cube1075_cluster0': ['cube1077_cluster0'], 'cube1077_cluster0': ['cube1078_cluster0']})\n",
            "\n",
            "simplices\n",
            "[['cube19_cluster0'], ['cube20_cluster0'], ['cube31_cluster0'], ['cube32_cluster0'], ['cube45_cluster0'], ['cube50_cluster0'], ['cube51_cluster0'], ['cube52_cluster0'], ['cube53_cluster0'], ['cube55_cluster0'], ['cube56_cluster0'], ['cube71_cluster0'], ['cube74_cluster0'], ['cube75_cluster0'], ['cube76_cluster0'], ['cube78_cluster0'], ['cube79_cluster0'], ['cube82_cluster0'], ['cube100_cluster0'], ['cube101_cluster0'], ['cube102_cluster0'], ['cube104_cluster0'], ['cube105_cluster0'], ['cube109_cluster0'], ['cube126_cluster0'], ['cube130_cluster0'], ['cube131_cluster0'], ['cube136_cluster0'], ['cube137_cluster0'], ['cube138_cluster0'], ['cube139_cluster0'], ['cube140_cluster0'], ['cube141_cluster0'], ['cube155_cluster0'], ['cube156_cluster0'], ['cube160_cluster0'], ['cube161_cluster0'], ['cube162_cluster0'], ['cube163_cluster0'], ['cube167_cluster0'], ['cube168_cluster0'], ['cube169_cluster0'], ['cube170_cluster0'], ['cube171_cluster0'], ['cube175_cluster0'], ['cube190_cluster0'], ['cube191_cluster0'], ['cube192_cluster0'], ['cube193_cluster0'], ['cube194_cluster0'], ['cube195_cluster0'], ['cube196_cluster0'], ['cube197_cluster0'], ['cube198_cluster0'], ['cube199_cluster0'], ['cube200_cluster0'], ['cube201_cluster0'], ['cube202_cluster0'], ['cube203_cluster0'], ['cube204_cluster0'], ['cube205_cluster0'], ['cube206_cluster0'], ['cube207_cluster0'], ['cube208_cluster0'], ['cube210_cluster0'], ['cube220_cluster0'], ['cube221_cluster0'], ['cube224_cluster0'], ['cube225_cluster0'], ['cube226_cluster0'], ['cube227_cluster0'], ['cube228_cluster0'], ['cube229_cluster0'], ['cube230_cluster0'], ['cube231_cluster0'], ['cube232_cluster0'], ['cube233_cluster0'], ['cube234_cluster0'], ['cube235_cluster0'], ['cube236_cluster0'], ['cube237_cluster0'], ['cube238_cluster0'], ['cube240_cluster0'], ['cube241_cluster0'], ['cube242_cluster0'], ['cube243_cluster0'], ['cube255_cluster0'], ['cube256_cluster0'], ['cube257_cluster0'], ['cube258_cluster0'], ['cube259_cluster0'], ['cube260_cluster0'], ['cube261_cluster0'], ['cube262_cluster0'], ['cube263_cluster0'], ['cube264_cluster0'], ['cube265_cluster0'], ['cube266_cluster0'], ['cube267_cluster0'], ['cube268_cluster0'], ['cube269_cluster0'], ['cube270_cluster0'], ['cube271_cluster0'], ['cube272_cluster0'], ['cube274_cluster0'], ['cube276_cluster0'], ['cube283_cluster0'], ['cube284_cluster0'], ['cube285_cluster0'], ['cube286_cluster0'], ['cube287_cluster0'], ['cube288_cluster0'], ['cube289_cluster0'], ['cube290_cluster0'], ['cube291_cluster0'], ['cube292_cluster0'], ['cube293_cluster0'], ['cube294_cluster0'], ['cube295_cluster0'], ['cube296_cluster0'], ['cube297_cluster0'], ['cube298_cluster0'], ['cube299_cluster0'], ['cube300_cluster0'], ['cube301_cluster0'], ['cube302_cluster0'], ['cube303_cluster0'], ['cube304_cluster0'], ['cube311_cluster0'], ['cube312_cluster0'], ['cube313_cluster0'], ['cube314_cluster0'], ['cube315_cluster0'], ['cube316_cluster0'], ['cube317_cluster0'], ['cube318_cluster0'], ['cube319_cluster0'], ['cube320_cluster0'], ['cube321_cluster0'], ['cube322_cluster0'], ['cube323_cluster0'], ['cube324_cluster0'], ['cube325_cluster0'], ['cube327_cluster0'], ['cube328_cluster0'], ['cube329_cluster0'], ['cube330_cluster0'], ['cube331_cluster0'], ['cube332_cluster0'], ['cube333_cluster0'], ['cube339_cluster0'], ['cube340_cluster0'], ['cube341_cluster0'], ['cube342_cluster0'], ['cube343_cluster0'], ['cube344_cluster0'], ['cube345_cluster0'], ['cube346_cluster0'], ['cube347_cluster0'], ['cube348_cluster0'], ['cube349_cluster0'], ['cube350_cluster0'], ['cube351_cluster0'], ['cube352_cluster0'], ['cube353_cluster0'], ['cube354_cluster0'], ['cube355_cluster0'], ['cube356_cluster0'], ['cube357_cluster0'], ['cube358_cluster0'], ['cube359_cluster0'], ['cube360_cluster0'], ['cube361_cluster0'], ['cube362_cluster0'], ['cube363_cluster0'], ['cube372_cluster0'], ['cube373_cluster0'], ['cube374_cluster0'], ['cube375_cluster0'], ['cube376_cluster0'], ['cube377_cluster0'], ['cube378_cluster0'], ['cube379_cluster0'], ['cube380_cluster0'], ['cube381_cluster0'], ['cube382_cluster0'], ['cube383_cluster0'], ['cube384_cluster0'], ['cube385_cluster0'], ['cube386_cluster0'], ['cube387_cluster0'], ['cube388_cluster0'], ['cube389_cluster0'], ['cube390_cluster0'], ['cube391_cluster0'], ['cube392_cluster0'], ['cube393_cluster0'], ['cube394_cluster0'], ['cube403_cluster0'], ['cube404_cluster0'], ['cube405_cluster0'], ['cube406_cluster0'], ['cube407_cluster0'], ['cube408_cluster0'], ['cube409_cluster0'], ['cube410_cluster0'], ['cube411_cluster0'], ['cube412_cluster0'], ['cube413_cluster0'], ['cube414_cluster0'], ['cube415_cluster0'], ['cube416_cluster0'], ['cube417_cluster0'], ['cube418_cluster0'], ['cube419_cluster0'], ['cube420_cluster0'], ['cube421_cluster0'], ['cube422_cluster0'], ['cube423_cluster0'], ['cube424_cluster0'], ['cube440_cluster0'], ['cube441_cluster0'], ['cube442_cluster0'], ['cube443_cluster0'], ['cube444_cluster0'], ['cube445_cluster0'], ['cube446_cluster0'], ['cube447_cluster0'], ['cube448_cluster0'], ['cube449_cluster0'], ['cube450_cluster0'], ['cube451_cluster0'], ['cube452_cluster0'], ['cube453_cluster0'], ['cube454_cluster0'], ['cube455_cluster0'], ['cube456_cluster0'], ['cube457_cluster0'], ['cube458_cluster0'], ['cube459_cluster0'], ['cube460_cluster0'], ['cube461_cluster0'], ['cube462_cluster0'], ['cube473_cluster0'], ['cube474_cluster0'], ['cube476_cluster0'], ['cube477_cluster0'], ['cube478_cluster0'], ['cube479_cluster0'], ['cube480_cluster0'], ['cube481_cluster0'], ['cube482_cluster0'], ['cube483_cluster0'], ['cube484_cluster0'], ['cube485_cluster0'], ['cube486_cluster0'], ['cube487_cluster0'], ['cube488_cluster0'], ['cube489_cluster0'], ['cube490_cluster0'], ['cube491_cluster0'], ['cube492_cluster0'], ['cube493_cluster0'], ['cube494_cluster0'], ['cube495_cluster0'], ['cube496_cluster0'], ['cube497_cluster0'], ['cube498_cluster0'], ['cube499_cluster0'], ['cube516_cluster0'], ['cube517_cluster0'], ['cube518_cluster0'], ['cube519_cluster0'], ['cube520_cluster0'], ['cube521_cluster0'], ['cube522_cluster0'], ['cube523_cluster0'], ['cube524_cluster0'], ['cube525_cluster0'], ['cube526_cluster0'], ['cube527_cluster0'], ['cube528_cluster0'], ['cube529_cluster0'], ['cube530_cluster0'], ['cube531_cluster0'], ['cube532_cluster0'], ['cube533_cluster0'], ['cube534_cluster0'], ['cube535_cluster0'], ['cube536_cluster0'], ['cube537_cluster0'], ['cube538_cluster0'], ['cube539_cluster0'], ['cube540_cluster0'], ['cube541_cluster0'], ['cube558_cluster0'], ['cube559_cluster0'], ['cube560_cluster0'], ['cube561_cluster0'], ['cube562_cluster0'], ['cube563_cluster0'], ['cube564_cluster0'], ['cube565_cluster0'], ['cube566_cluster0'], ['cube567_cluster0'], ['cube568_cluster0'], ['cube569_cluster0'], ['cube570_cluster0'], ['cube571_cluster0'], ['cube572_cluster0'], ['cube573_cluster0'], ['cube574_cluster0'], ['cube575_cluster0'], ['cube576_cluster0'], ['cube577_cluster0'], ['cube578_cluster0'], ['cube579_cluster0'], ['cube580_cluster0'], ['cube581_cluster0'], ['cube582_cluster0'], ['cube597_cluster0'], ['cube598_cluster0'], ['cube599_cluster0'], ['cube600_cluster0'], ['cube601_cluster0'], ['cube602_cluster0'], ['cube603_cluster0'], ['cube604_cluster0'], ['cube605_cluster0'], ['cube606_cluster0'], ['cube607_cluster0'], ['cube608_cluster0'], ['cube609_cluster0'], ['cube610_cluster0'], ['cube611_cluster0'], ['cube612_cluster0'], ['cube613_cluster0'], ['cube614_cluster0'], ['cube615_cluster0'], ['cube616_cluster0'], ['cube617_cluster0'], ['cube618_cluster0'], ['cube619_cluster0'], ['cube620_cluster0'], ['cube621_cluster0'], ['cube622_cluster0'], ['cube629_cluster0'], ['cube630_cluster0'], ['cube631_cluster0'], ['cube632_cluster0'], ['cube633_cluster0'], ['cube635_cluster0'], ['cube636_cluster0'], ['cube637_cluster0'], ['cube638_cluster0'], ['cube639_cluster0'], ['cube640_cluster0'], ['cube641_cluster0'], ['cube642_cluster0'], ['cube643_cluster0'], ['cube644_cluster0'], ['cube645_cluster0'], ['cube646_cluster0'], ['cube647_cluster0'], ['cube648_cluster0'], ['cube649_cluster0'], ['cube650_cluster0'], ['cube651_cluster0'], ['cube652_cluster0'], ['cube653_cluster0'], ['cube654_cluster0'], ['cube663_cluster0'], ['cube664_cluster0'], ['cube665_cluster0'], ['cube666_cluster0'], ['cube667_cluster0'], ['cube668_cluster0'], ['cube669_cluster0'], ['cube670_cluster0'], ['cube671_cluster0'], ['cube672_cluster0'], ['cube673_cluster0'], ['cube674_cluster0'], ['cube675_cluster0'], ['cube676_cluster0'], ['cube677_cluster0'], ['cube678_cluster0'], ['cube679_cluster0'], ['cube680_cluster0'], ['cube681_cluster0'], ['cube682_cluster0'], ['cube683_cluster0'], ['cube684_cluster0'], ['cube685_cluster0'], ['cube686_cluster0'], ['cube701_cluster0'], ['cube702_cluster0'], ['cube705_cluster0'], ['cube706_cluster0'], ['cube707_cluster0'], ['cube708_cluster0'], ['cube709_cluster0'], ['cube710_cluster0'], ['cube711_cluster0'], ['cube712_cluster0'], ['cube713_cluster0'], ['cube714_cluster0'], ['cube715_cluster0'], ['cube716_cluster0'], ['cube717_cluster0'], ['cube718_cluster0'], ['cube721_cluster0'], ['cube722_cluster0'], ['cube723_cluster0'], ['cube738_cluster0'], ['cube743_cluster0'], ['cube744_cluster0'], ['cube745_cluster0'], ['cube746_cluster0'], ['cube747_cluster0'], ['cube748_cluster0'], ['cube749_cluster0'], ['cube750_cluster0'], ['cube751_cluster0'], ['cube752_cluster0'], ['cube753_cluster0'], ['cube754_cluster0'], ['cube755_cluster0'], ['cube756_cluster0'], ['cube760_cluster0'], ['cube762_cluster0'], ['cube763_cluster0'], ['cube764_cluster0'], ['cube778_cluster0'], ['cube779_cluster0'], ['cube780_cluster0'], ['cube781_cluster0'], ['cube782_cluster0'], ['cube783_cluster0'], ['cube784_cluster0'], ['cube785_cluster0'], ['cube786_cluster0'], ['cube787_cluster0'], ['cube788_cluster0'], ['cube789_cluster0'], ['cube790_cluster0'], ['cube791_cluster0'], ['cube792_cluster0'], ['cube793_cluster0'], ['cube796_cluster0'], ['cube799_cluster0'], ['cube800_cluster0'], ['cube817_cluster0'], ['cube819_cluster0'], ['cube820_cluster0'], ['cube821_cluster0'], ['cube822_cluster0'], ['cube823_cluster0'], ['cube824_cluster0'], ['cube825_cluster0'], ['cube826_cluster0'], ['cube827_cluster0'], ['cube828_cluster0'], ['cube829_cluster0'], ['cube830_cluster0'], ['cube831_cluster0'], ['cube832_cluster0'], ['cube833_cluster0'], ['cube834_cluster0'], ['cube837_cluster0'], ['cube840_cluster0'], ['cube841_cluster0'], ['cube845_cluster0'], ['cube857_cluster0'], ['cube858_cluster0'], ['cube859_cluster0'], ['cube860_cluster0'], ['cube861_cluster0'], ['cube862_cluster0'], ['cube863_cluster0'], ['cube864_cluster0'], ['cube865_cluster0'], ['cube866_cluster0'], ['cube867_cluster0'], ['cube868_cluster0'], ['cube869_cluster0'], ['cube870_cluster0'], ['cube871_cluster0'], ['cube872_cluster0'], ['cube873_cluster0'], ['cube874_cluster0'], ['cube879_cluster0'], ['cube880_cluster0'], ['cube881_cluster0'], ['cube897_cluster0'], ['cube898_cluster0'], ['cube899_cluster0'], ['cube900_cluster0'], ['cube901_cluster0'], ['cube902_cluster0'], ['cube903_cluster0'], ['cube904_cluster0'], ['cube905_cluster0'], ['cube906_cluster0'], ['cube907_cluster0'], ['cube908_cluster0'], ['cube909_cluster0'], ['cube910_cluster0'], ['cube911_cluster0'], ['cube912_cluster0'], ['cube913_cluster0'], ['cube914_cluster0'], ['cube915_cluster0'], ['cube916_cluster0'], ['cube917_cluster0'], ['cube918_cluster0'], ['cube919_cluster0'], ['cube920_cluster0'], ['cube921_cluster0'], ['cube935_cluster0'], ['cube936_cluster0'], ['cube937_cluster0'], ['cube938_cluster0'], ['cube943_cluster0'], ['cube944_cluster0'], ['cube945_cluster0'], ['cube947_cluster0'], ['cube951_cluster0'], ['cube952_cluster0'], ['cube953_cluster0'], ['cube954_cluster0'], ['cube955_cluster0'], ['cube968_cluster0'], ['cube969_cluster0'], ['cube970_cluster0'], ['cube973_cluster0'], ['cube975_cluster0'], ['cube977_cluster0'], ['cube979_cluster0'], ['cube983_cluster0'], ['cube984_cluster0'], ['cube985_cluster0'], ['cube986_cluster0'], ['cube987_cluster0'], ['cube995_cluster0'], ['cube996_cluster0'], ['cube1001_cluster0'], ['cube1026_cluster0'], ['cube1027_cluster0'], ['cube1032_cluster0'], ['cube1033_cluster0'], ['cube1034_cluster0'], ['cube1038_cluster0'], ['cube1039_cluster0'], ['cube1040_cluster0'], ['cube1041_cluster0'], ['cube1063_cluster0'], ['cube1064_cluster0'], ['cube1072_cluster0'], ['cube1074_cluster0'], ['cube1075_cluster0'], ['cube1077_cluster0'], ['cube1078_cluster0'], ['cube19_cluster0', 'cube20_cluster0'], ['cube19_cluster0', 'cube31_cluster0'], ['cube19_cluster0', 'cube32_cluster0'], ['cube19_cluster0', 'cube50_cluster0'], ['cube19_cluster0', 'cube51_cluster0'], ['cube19_cluster0', 'cube52_cluster0'], ['cube20_cluster0', 'cube31_cluster0'], ['cube20_cluster0', 'cube32_cluster0'], ['cube20_cluster0', 'cube50_cluster0'], ['cube20_cluster0', 'cube51_cluster0'], ['cube20_cluster0', 'cube52_cluster0'], ['cube31_cluster0', 'cube32_cluster0'], ['cube31_cluster0', 'cube50_cluster0'], ['cube31_cluster0', 'cube51_cluster0'], ['cube31_cluster0', 'cube52_cluster0'], ['cube32_cluster0', 'cube50_cluster0'], ['cube32_cluster0', 'cube51_cluster0'], ['cube32_cluster0', 'cube52_cluster0'], ['cube32_cluster0', 'cube53_cluster0'], ['cube32_cluster0', 'cube78_cluster0'], ['cube32_cluster0', 'cube79_cluster0'], ['cube45_cluster0', 'cube71_cluster0'], ['cube50_cluster0', 'cube51_cluster0'], ['cube50_cluster0', 'cube52_cluster0'], ['cube50_cluster0', 'cube74_cluster0'], ['cube50_cluster0', 'cube75_cluster0'], ['cube50_cluster0', 'cube76_cluster0'], ['cube50_cluster0', 'cube100_cluster0'], ['cube50_cluster0', 'cube101_cluster0'], ['cube50_cluster0', 'cube102_cluster0'], ['cube51_cluster0', 'cube52_cluster0'], ['cube51_cluster0', 'cube53_cluster0'], ['cube51_cluster0', 'cube78_cluster0'], ['cube51_cluster0', 'cube79_cluster0'], ['cube51_cluster0', 'cube104_cluster0'], ['cube51_cluster0', 'cube105_cluster0'], ['cube52_cluster0', 'cube53_cluster0'], ['cube52_cluster0', 'cube78_cluster0'], ['cube52_cluster0', 'cube79_cluster0'], ['cube52_cluster0', 'cube104_cluster0'], ['cube52_cluster0', 'cube105_cluster0'], ['cube53_cluster0', 'cube55_cluster0'], ['cube53_cluster0', 'cube78_cluster0'], ['cube53_cluster0', 'cube79_cluster0'], ['cube53_cluster0', 'cube104_cluster0'], ['cube53_cluster0', 'cube105_cluster0'], ['cube55_cluster0', 'cube56_cluster0'], ['cube55_cluster0', 'cube79_cluster0'], ['cube55_cluster0', 'cube82_cluster0'], ['cube55_cluster0', 'cube109_cluster0'], ['cube56_cluster0', 'cube82_cluster0'], ['cube56_cluster0', 'cube109_cluster0'], ['cube71_cluster0', 'cube126_cluster0'], ['cube74_cluster0', 'cube75_cluster0'], ['cube74_cluster0', 'cube76_cluster0'], ['cube74_cluster0', 'cube100_cluster0'], ['cube74_cluster0', 'cube101_cluster0'], ['cube74_cluster0', 'cube102_cluster0'], ['cube74_cluster0', 'cube130_cluster0'], ['cube74_cluster0', 'cube131_cluster0'], ['cube75_cluster0', 'cube76_cluster0'], ['cube75_cluster0', 'cube100_cluster0'], ['cube75_cluster0', 'cube101_cluster0'], ['cube75_cluster0', 'cube102_cluster0'], ['cube75_cluster0', 'cube130_cluster0'], ['cube75_cluster0', 'cube131_cluster0'], ['cube76_cluster0', 'cube100_cluster0'], ['cube76_cluster0', 'cube101_cluster0'], ['cube76_cluster0', 'cube102_cluster0'], ['cube76_cluster0', 'cube130_cluster0'], ['cube76_cluster0', 'cube131_cluster0'], ['cube78_cluster0', 'cube79_cluster0'], ['cube78_cluster0', 'cube104_cluster0'], ['cube78_cluster0', 'cube105_cluster0'], ['cube79_cluster0', 'cube104_cluster0'], ['cube79_cluster0', 'cube105_cluster0'], ['cube82_cluster0', 'cube109_cluster0'], ['cube82_cluster0', 'cube137_cluster0'], ['cube82_cluster0', 'cube138_cluster0'], ['cube82_cluster0', 'cube139_cluster0'], ['cube100_cluster0', 'cube101_cluster0'], ['cube100_cluster0', 'cube102_cluster0'], ['cube100_cluster0', 'cube130_cluster0'], ['cube100_cluster0', 'cube131_cluster0'], ['cube101_cluster0', 'cube102_cluster0'], ['cube101_cluster0', 'cube130_cluster0'], ['cube101_cluster0', 'cube131_cluster0'], ['cube101_cluster0', 'cube160_cluster0'], ['cube102_cluster0', 'cube130_cluster0'], ['cube102_cluster0', 'cube131_cluster0'], ['cube102_cluster0', 'cube160_cluster0'], ['cube102_cluster0', 'cube161_cluster0'], ['cube104_cluster0', 'cube105_cluster0'], ['cube104_cluster0', 'cube161_cluster0'], ['cube104_cluster0', 'cube162_cluster0'], ['cube104_cluster0', 'cube163_cluster0'], ['cube105_cluster0', 'cube136_cluster0'], ['cube105_cluster0', 'cube161_cluster0'], ['cube105_cluster0', 'cube162_cluster0'], ['cube105_cluster0', 'cube163_cluster0'], ['cube109_cluster0', 'cube136_cluster0'], ['cube109_cluster0', 'cube137_cluster0'], ['cube109_cluster0', 'cube138_cluster0'], ['cube109_cluster0', 'cube139_cluster0'], ['cube109_cluster0', 'cube140_cluster0'], ['cube109_cluster0', 'cube167_cluster0'], ['cube109_cluster0', 'cube168_cluster0'], ['cube109_cluster0', 'cube169_cluster0'], ['cube126_cluster0', 'cube155_cluster0'], ['cube126_cluster0', 'cube156_cluster0'], ['cube126_cluster0', 'cube190_cluster0'], ['cube126_cluster0', 'cube191_cluster0'], ['cube130_cluster0', 'cube131_cluster0'], ['cube130_cluster0', 'cube160_cluster0'], ['cube131_cluster0', 'cube160_cluster0'], ['cube131_cluster0', 'cube161_cluster0'], ['cube136_cluster0', 'cube137_cluster0'], ['cube136_cluster0', 'cube138_cluster0'], ['cube136_cluster0', 'cube163_cluster0'], ['cube136_cluster0', 'cube167_cluster0'], ['cube136_cluster0', 'cube199_cluster0'], ['cube136_cluster0', 'cube200_cluster0'], ['cube136_cluster0', 'cube201_cluster0'], ['cube137_cluster0', 'cube138_cluster0'], ['cube137_cluster0', 'cube139_cluster0'], ['cube137_cluster0', 'cube167_cluster0'], ['cube137_cluster0', 'cube168_cluster0'], ['cube137_cluster0', 'cube199_cluster0'], ['cube137_cluster0', 'cube200_cluster0'], ['cube137_cluster0', 'cube201_cluster0'], ['cube138_cluster0', 'cube139_cluster0'], ['cube138_cluster0', 'cube140_cluster0'], ['cube138_cluster0', 'cube167_cluster0'], ['cube138_cluster0', 'cube168_cluster0'], ['cube138_cluster0', 'cube169_cluster0'], ['cube138_cluster0', 'cube202_cluster0'], ['cube138_cluster0', 'cube203_cluster0'], ['cube138_cluster0', 'cube204_cluster0'], ['cube139_cluster0', 'cube140_cluster0'], ['cube139_cluster0', 'cube141_cluster0'], ['cube139_cluster0', 'cube167_cluster0'], ['cube139_cluster0', 'cube168_cluster0'], ['cube139_cluster0', 'cube169_cluster0'], ['cube139_cluster0', 'cube170_cluster0'], ['cube139_cluster0', 'cube202_cluster0'], ['cube139_cluster0', 'cube203_cluster0'], ['cube139_cluster0', 'cube204_cluster0'], ['cube140_cluster0', 'cube141_cluster0'], ['cube140_cluster0', 'cube167_cluster0'], ['cube140_cluster0', 'cube168_cluster0'], ['cube140_cluster0', 'cube169_cluster0'], ['cube140_cluster0', 'cube170_cluster0'], ['cube140_cluster0', 'cube171_cluster0'], ['cube140_cluster0', 'cube202_cluster0'], ['cube140_cluster0', 'cube203_cluster0'], ['cube140_cluster0', 'cube204_cluster0'], ['cube140_cluster0', 'cube205_cluster0'], ['cube140_cluster0', 'cube206_cluster0'], ['cube141_cluster0', 'cube168_cluster0'], ['cube141_cluster0', 'cube169_cluster0'], ['cube141_cluster0', 'cube170_cluster0'], ['cube141_cluster0', 'cube171_cluster0'], ['cube141_cluster0', 'cube204_cluster0'], ['cube141_cluster0', 'cube205_cluster0'], ['cube141_cluster0', 'cube206_cluster0'], ['cube141_cluster0', 'cube207_cluster0'], ['cube155_cluster0', 'cube156_cluster0'], ['cube155_cluster0', 'cube190_cluster0'], ['cube155_cluster0', 'cube191_cluster0'], ['cube155_cluster0', 'cube192_cluster0'], ['cube156_cluster0', 'cube190_cluster0'], ['cube156_cluster0', 'cube191_cluster0'], ['cube156_cluster0', 'cube192_cluster0'], ['cube156_cluster0', 'cube193_cluster0'], ['cube160_cluster0', 'cube161_cluster0'], ['cube160_cluster0', 'cube194_cluster0'], ['cube160_cluster0', 'cube195_cluster0'], ['cube160_cluster0', 'cube196_cluster0'], ['cube160_cluster0', 'cube227_cluster0'], ['cube160_cluster0', 'cube228_cluster0'], ['cube160_cluster0', 'cube229_cluster0'], ['cube161_cluster0', 'cube162_cluster0'], ['cube161_cluster0', 'cube163_cluster0'], ['cube161_cluster0', 'cube194_cluster0'], ['cube161_cluster0', 'cube195_cluster0'], ['cube161_cluster0', 'cube196_cluster0'], ['cube161_cluster0', 'cube197_cluster0'], ['cube161_cluster0', 'cube198_cluster0'], ['cube161_cluster0', 'cube227_cluster0'], ['cube161_cluster0', 'cube228_cluster0'], ['cube161_cluster0', 'cube229_cluster0'], ['cube161_cluster0', 'cube230_cluster0'], ['cube161_cluster0', 'cube231_cluster0'], ['cube162_cluster0', 'cube163_cluster0'], ['cube162_cluster0', 'cube196_cluster0'], ['cube162_cluster0', 'cube197_cluster0'], ['cube162_cluster0', 'cube198_cluster0'], ['cube162_cluster0', 'cube199_cluster0'], ['cube162_cluster0', 'cube229_cluster0'], ['cube162_cluster0', 'cube230_cluster0'], ['cube162_cluster0', 'cube231_cluster0'], ['cube162_cluster0', 'cube232_cluster0'], ['cube163_cluster0', 'cube196_cluster0'], ['cube163_cluster0', 'cube197_cluster0'], ['cube163_cluster0', 'cube198_cluster0'], ['cube163_cluster0', 'cube199_cluster0'], ['cube163_cluster0', 'cube229_cluster0'], ['cube163_cluster0', 'cube230_cluster0'], ['cube163_cluster0', 'cube231_cluster0'], ['cube163_cluster0', 'cube232_cluster0'], ['cube167_cluster0', 'cube168_cluster0'], ['cube167_cluster0', 'cube169_cluster0'], ['cube167_cluster0', 'cube202_cluster0'], ['cube167_cluster0', 'cube203_cluster0'], ['cube167_cluster0', 'cube204_cluster0'], ['cube167_cluster0', 'cube235_cluster0'], ['cube167_cluster0', 'cube236_cluster0'], ['cube167_cluster0', 'cube237_cluster0'], ['cube168_cluster0', 'cube169_cluster0'], ['cube168_cluster0', 'cube170_cluster0'], ['cube168_cluster0', 'cube202_cluster0'], ['cube168_cluster0', 'cube203_cluster0'], ['cube168_cluster0', 'cube204_cluster0'], ['cube168_cluster0', 'cube205_cluster0'], ['cube168_cluster0', 'cube235_cluster0'], ['cube168_cluster0', 'cube236_cluster0'], ['cube168_cluster0', 'cube237_cluster0'], ['cube168_cluster0', 'cube238_cluster0'], ['cube169_cluster0', 'cube170_cluster0'], ['cube169_cluster0', 'cube171_cluster0'], ['cube169_cluster0', 'cube202_cluster0'], ['cube169_cluster0', 'cube203_cluster0'], ['cube169_cluster0', 'cube204_cluster0'], ['cube169_cluster0', 'cube205_cluster0'], ['cube169_cluster0', 'cube206_cluster0'], ['cube169_cluster0', 'cube235_cluster0'], ['cube169_cluster0', 'cube236_cluster0'], ['cube169_cluster0', 'cube237_cluster0'], ['cube169_cluster0', 'cube238_cluster0'], ['cube170_cluster0', 'cube171_cluster0'], ['cube170_cluster0', 'cube203_cluster0'], ['cube170_cluster0', 'cube204_cluster0'], ['cube170_cluster0', 'cube205_cluster0'], ['cube170_cluster0', 'cube206_cluster0'], ['cube170_cluster0', 'cube207_cluster0'], ['cube170_cluster0', 'cube236_cluster0'], ['cube170_cluster0', 'cube237_cluster0'], ['cube170_cluster0', 'cube238_cluster0'], ['cube170_cluster0', 'cube240_cluster0'], ['cube171_cluster0', 'cube204_cluster0'], ['cube171_cluster0', 'cube205_cluster0'], ['cube171_cluster0', 'cube206_cluster0'], ['cube171_cluster0', 'cube207_cluster0'], ['cube171_cluster0', 'cube238_cluster0'], ['cube171_cluster0', 'cube240_cluster0'], ['cube175_cluster0', 'cube208_cluster0'], ['cube175_cluster0', 'cube210_cluster0'], ['cube175_cluster0', 'cube241_cluster0'], ['cube175_cluster0', 'cube242_cluster0'], ['cube175_cluster0', 'cube243_cluster0'], ['cube190_cluster0', 'cube191_cluster0'], ['cube190_cluster0', 'cube192_cluster0'], ['cube190_cluster0', 'cube224_cluster0'], ['cube190_cluster0', 'cube225_cluster0'], ['cube190_cluster0', 'cube256_cluster0'], ['cube190_cluster0', 'cube257_cluster0'], ['cube190_cluster0', 'cube258_cluster0'], ['cube190_cluster0', 'cube259_cluster0'], ['cube191_cluster0', 'cube192_cluster0'], ['cube191_cluster0', 'cube193_cluster0'], ['cube191_cluster0', 'cube224_cluster0'], ['cube191_cluster0', 'cube225_cluster0'], ['cube191_cluster0', 'cube256_cluster0'], ['cube191_cluster0', 'cube257_cluster0'], ['cube191_cluster0', 'cube258_cluster0'], ['cube191_cluster0', 'cube259_cluster0'], ['cube192_cluster0', 'cube193_cluster0'], ['cube192_cluster0', 'cube194_cluster0'], ['cube192_cluster0', 'cube224_cluster0'], ['cube192_cluster0', 'cube225_cluster0'], ['cube192_cluster0', 'cube226_cluster0'], ['cube192_cluster0', 'cube227_cluster0'], ['cube192_cluster0', 'cube257_cluster0'], ['cube192_cluster0', 'cube258_cluster0'], ['cube192_cluster0', 'cube259_cluster0'], ['cube192_cluster0', 'cube260_cluster0'], ['cube192_cluster0', 'cube261_cluster0'], ['cube193_cluster0', 'cube194_cluster0'], ['cube193_cluster0', 'cube195_cluster0'], ['cube193_cluster0', 'cube225_cluster0'], ['cube193_cluster0', 'cube226_cluster0'], ['cube193_cluster0', 'cube227_cluster0'], ['cube193_cluster0', 'cube228_cluster0'], ['cube193_cluster0', 'cube259_cluster0'], ['cube193_cluster0', 'cube260_cluster0'], ['cube193_cluster0', 'cube261_cluster0'], ['cube193_cluster0', 'cube262_cluster0'], ['cube194_cluster0', 'cube195_cluster0'], ['cube194_cluster0', 'cube196_cluster0'], ['cube194_cluster0', 'cube225_cluster0'], ['cube194_cluster0', 'cube226_cluster0'], ['cube194_cluster0', 'cube227_cluster0'], ['cube194_cluster0', 'cube228_cluster0'], ['cube194_cluster0', 'cube229_cluster0'], ['cube194_cluster0', 'cube259_cluster0'], ['cube194_cluster0', 'cube260_cluster0'], ['cube194_cluster0', 'cube261_cluster0'], ['cube194_cluster0', 'cube262_cluster0'], ['cube194_cluster0', 'cube263_cluster0'], ['cube195_cluster0', 'cube196_cluster0'], ['cube195_cluster0', 'cube197_cluster0'], ['cube195_cluster0', 'cube226_cluster0'], ['cube195_cluster0', 'cube227_cluster0'], ['cube195_cluster0', 'cube228_cluster0'], ['cube195_cluster0', 'cube229_cluster0'], ['cube195_cluster0', 'cube230_cluster0'], ['cube195_cluster0', 'cube260_cluster0'], ['cube195_cluster0', 'cube261_cluster0'], ['cube195_cluster0', 'cube262_cluster0'], ['cube195_cluster0', 'cube263_cluster0'], ['cube195_cluster0', 'cube264_cluster0'], ['cube196_cluster0', 'cube197_cluster0'], ['cube196_cluster0', 'cube198_cluster0'], ['cube196_cluster0', 'cube227_cluster0'], ['cube196_cluster0', 'cube228_cluster0'], ['cube196_cluster0', 'cube229_cluster0'], ['cube196_cluster0', 'cube230_cluster0'], ['cube196_cluster0', 'cube231_cluster0'], ['cube196_cluster0', 'cube261_cluster0'], ['cube196_cluster0', 'cube262_cluster0'], ['cube196_cluster0', 'cube263_cluster0'], ['cube196_cluster0', 'cube264_cluster0'], ['cube196_cluster0', 'cube265_cluster0'], ['cube197_cluster0', 'cube198_cluster0'], ['cube197_cluster0', 'cube199_cluster0'], ['cube197_cluster0', 'cube228_cluster0'], ['cube197_cluster0', 'cube229_cluster0'], ['cube197_cluster0', 'cube230_cluster0'], ['cube197_cluster0', 'cube231_cluster0'], ['cube197_cluster0', 'cube232_cluster0'], ['cube197_cluster0', 'cube262_cluster0'], ['cube197_cluster0', 'cube263_cluster0'], ['cube197_cluster0', 'cube264_cluster0'], ['cube197_cluster0', 'cube265_cluster0'], ['cube197_cluster0', 'cube266_cluster0'], ['cube198_cluster0', 'cube199_cluster0'], ['cube198_cluster0', 'cube200_cluster0'], ['cube198_cluster0', 'cube229_cluster0'], ['cube198_cluster0', 'cube230_cluster0'], ['cube198_cluster0', 'cube231_cluster0'], ['cube198_cluster0', 'cube232_cluster0'], ['cube198_cluster0', 'cube233_cluster0'], ['cube198_cluster0', 'cube263_cluster0'], ['cube198_cluster0', 'cube264_cluster0'], ['cube198_cluster0', 'cube265_cluster0'], ['cube198_cluster0', 'cube266_cluster0'], ['cube198_cluster0', 'cube267_cluster0'], ['cube199_cluster0', 'cube200_cluster0'], ['cube199_cluster0', 'cube201_cluster0'], ['cube199_cluster0', 'cube230_cluster0'], ['cube199_cluster0', 'cube231_cluster0'], ['cube199_cluster0', 'cube232_cluster0'], ['cube199_cluster0', 'cube233_cluster0'], ['cube199_cluster0', 'cube234_cluster0'], ['cube199_cluster0', 'cube264_cluster0'], ['cube199_cluster0', 'cube265_cluster0'], ['cube199_cluster0', 'cube266_cluster0'], ['cube199_cluster0', 'cube267_cluster0'], ['cube199_cluster0', 'cube268_cluster0'], ['cube200_cluster0', 'cube201_cluster0'], ['cube200_cluster0', 'cube202_cluster0'], ['cube200_cluster0', 'cube231_cluster0'], ['cube200_cluster0', 'cube232_cluster0'], ['cube200_cluster0', 'cube233_cluster0'], ['cube200_cluster0', 'cube234_cluster0'], ['cube200_cluster0', 'cube235_cluster0'], ['cube200_cluster0', 'cube265_cluster0'], ['cube200_cluster0', 'cube266_cluster0'], ['cube200_cluster0', 'cube267_cluster0'], ['cube200_cluster0', 'cube268_cluster0'], ['cube200_cluster0', 'cube269_cluster0'], ['cube201_cluster0', 'cube202_cluster0'], ['cube201_cluster0', 'cube232_cluster0'], ['cube201_cluster0', 'cube233_cluster0'], ['cube201_cluster0', 'cube234_cluster0'], ['cube201_cluster0', 'cube235_cluster0'], ['cube201_cluster0', 'cube266_cluster0'], ['cube201_cluster0', 'cube267_cluster0'], ['cube201_cluster0', 'cube268_cluster0'], ['cube201_cluster0', 'cube269_cluster0'], ['cube202_cluster0', 'cube203_cluster0'], ['cube202_cluster0', 'cube204_cluster0'], ['cube202_cluster0', 'cube233_cluster0'], ['cube202_cluster0', 'cube234_cluster0'], ['cube202_cluster0', 'cube235_cluster0'], ['cube202_cluster0', 'cube236_cluster0'], ['cube202_cluster0', 'cube237_cluster0'], ['cube202_cluster0', 'cube267_cluster0'], ['cube202_cluster0', 'cube268_cluster0'], ['cube202_cluster0', 'cube269_cluster0'], ['cube203_cluster0', 'cube204_cluster0'], ['cube203_cluster0', 'cube205_cluster0'], ['cube203_cluster0', 'cube235_cluster0'], ['cube203_cluster0', 'cube236_cluster0'], ['cube203_cluster0', 'cube237_cluster0'], ['cube203_cluster0', 'cube238_cluster0'], ['cube204_cluster0', 'cube205_cluster0'], ['cube204_cluster0', 'cube206_cluster0'], ['cube204_cluster0', 'cube235_cluster0'], ['cube204_cluster0', 'cube236_cluster0'], ['cube204_cluster0', 'cube237_cluster0'], ['cube204_cluster0', 'cube238_cluster0'], ['cube205_cluster0', 'cube206_cluster0'], ['cube205_cluster0', 'cube207_cluster0'], ['cube205_cluster0', 'cube236_cluster0'], ['cube205_cluster0', 'cube237_cluster0'], ['cube205_cluster0', 'cube238_cluster0'], ['cube205_cluster0', 'cube240_cluster0'], ['cube206_cluster0', 'cube207_cluster0'], ['cube206_cluster0', 'cube208_cluster0'], ['cube206_cluster0', 'cube238_cluster0'], ['cube206_cluster0', 'cube240_cluster0'], ['cube206_cluster0', 'cube241_cluster0'], ['cube207_cluster0', 'cube208_cluster0'], ['cube207_cluster0', 'cube238_cluster0'], ['cube207_cluster0', 'cube240_cluster0'], ['cube207_cluster0', 'cube241_cluster0'], ['cube208_cluster0', 'cube210_cluster0'], ['cube208_cluster0', 'cube240_cluster0'], ['cube208_cluster0', 'cube241_cluster0'], ['cube208_cluster0', 'cube242_cluster0'], ['cube208_cluster0', 'cube243_cluster0'], ['cube208_cluster0', 'cube276_cluster0'], ['cube210_cluster0', 'cube241_cluster0'], ['cube210_cluster0', 'cube242_cluster0'], ['cube210_cluster0', 'cube243_cluster0'], ['cube210_cluster0', 'cube276_cluster0'], ['cube220_cluster0', 'cube221_cluster0'], ['cube220_cluster0', 'cube255_cluster0'], ['cube220_cluster0', 'cube256_cluster0'], ['cube220_cluster0', 'cube283_cluster0'], ['cube220_cluster0', 'cube284_cluster0'], ['cube221_cluster0', 'cube255_cluster0'], ['cube221_cluster0', 'cube256_cluster0'], ['cube221_cluster0', 'cube283_cluster0'], ['cube221_cluster0', 'cube284_cluster0'], ['cube224_cluster0', 'cube225_cluster0'], ['cube224_cluster0', 'cube226_cluster0'], ['cube224_cluster0', 'cube256_cluster0'], ['cube224_cluster0', 'cube257_cluster0'], ['cube224_cluster0', 'cube258_cluster0'], ['cube224_cluster0', 'cube259_cluster0'], ['cube224_cluster0', 'cube260_cluster0'], ['cube224_cluster0', 'cube286_cluster0'], ['cube224_cluster0', 'cube287_cluster0'], ['cube224_cluster0', 'cube288_cluster0'], ['cube225_cluster0', 'cube226_cluster0'], ['cube225_cluster0', 'cube227_cluster0'], ['cube225_cluster0', 'cube257_cluster0'], ['cube225_cluster0', 'cube258_cluster0'], ['cube225_cluster0', 'cube259_cluster0'], ['cube225_cluster0', 'cube260_cluster0'], ['cube225_cluster0', 'cube261_cluster0'], ['cube225_cluster0', 'cube286_cluster0'], ['cube225_cluster0', 'cube287_cluster0'], ['cube225_cluster0', 'cube288_cluster0'], ['cube225_cluster0', 'cube289_cluster0'], ['cube226_cluster0', 'cube227_cluster0'], ['cube226_cluster0', 'cube228_cluster0'], ['cube226_cluster0', 'cube258_cluster0'], ['cube226_cluster0', 'cube259_cluster0'], ['cube226_cluster0', 'cube260_cluster0'], ['cube226_cluster0', 'cube261_cluster0'], ['cube226_cluster0', 'cube262_cluster0'], ['cube226_cluster0', 'cube286_cluster0'], ['cube226_cluster0', 'cube287_cluster0'], ['cube226_cluster0', 'cube288_cluster0'], ['cube226_cluster0', 'cube289_cluster0'], ['cube227_cluster0', 'cube228_cluster0'], ['cube227_cluster0', 'cube229_cluster0'], ['cube227_cluster0', 'cube259_cluster0'], ['cube227_cluster0', 'cube260_cluster0'], ['cube227_cluster0', 'cube261_cluster0'], ['cube227_cluster0', 'cube262_cluster0'], ['cube227_cluster0', 'cube263_cluster0'], ['cube227_cluster0', 'cube287_cluster0'], ['cube227_cluster0', 'cube288_cluster0'], ['cube227_cluster0', 'cube289_cluster0'], ['cube227_cluster0', 'cube290_cluster0'], ['cube227_cluster0', 'cube291_cluster0'], ['cube228_cluster0', 'cube229_cluster0'], ['cube228_cluster0', 'cube230_cluster0'], ['cube228_cluster0', 'cube260_cluster0'], ['cube228_cluster0', 'cube261_cluster0'], ['cube228_cluster0', 'cube262_cluster0'], ['cube228_cluster0', 'cube263_cluster0'], ['cube228_cluster0', 'cube264_cluster0'], ['cube228_cluster0', 'cube289_cluster0'], ['cube228_cluster0', 'cube290_cluster0'], ['cube228_cluster0', 'cube291_cluster0'], ['cube228_cluster0', 'cube292_cluster0'], ['cube229_cluster0', 'cube230_cluster0'], ['cube229_cluster0', 'cube231_cluster0'], ['cube229_cluster0', 'cube261_cluster0'], ['cube229_cluster0', 'cube262_cluster0'], ['cube229_cluster0', 'cube263_cluster0'], ['cube229_cluster0', 'cube264_cluster0'], ['cube229_cluster0', 'cube265_cluster0'], ['cube229_cluster0', 'cube289_cluster0'], ['cube229_cluster0', 'cube290_cluster0'], ['cube229_cluster0', 'cube291_cluster0'], ['cube229_cluster0', 'cube292_cluster0'], ['cube229_cluster0', 'cube293_cluster0'], ['cube230_cluster0', 'cube231_cluster0'], ['cube230_cluster0', 'cube232_cluster0'], ['cube230_cluster0', 'cube262_cluster0'], ['cube230_cluster0', 'cube263_cluster0'], ['cube230_cluster0', 'cube264_cluster0'], ['cube230_cluster0', 'cube265_cluster0'], ['cube230_cluster0', 'cube266_cluster0'], ['cube230_cluster0', 'cube290_cluster0'], ['cube230_cluster0', 'cube291_cluster0'], ['cube230_cluster0', 'cube292_cluster0'], ['cube230_cluster0', 'cube293_cluster0'], ['cube230_cluster0', 'cube294_cluster0'], ['cube231_cluster0', 'cube232_cluster0'], ['cube231_cluster0', 'cube233_cluster0'], ['cube231_cluster0', 'cube263_cluster0'], ['cube231_cluster0', 'cube264_cluster0'], ['cube231_cluster0', 'cube265_cluster0'], ['cube231_cluster0', 'cube266_cluster0'], ['cube231_cluster0', 'cube267_cluster0'], ['cube231_cluster0', 'cube291_cluster0'], ['cube231_cluster0', 'cube292_cluster0'], ['cube231_cluster0', 'cube293_cluster0'], ['cube231_cluster0', 'cube294_cluster0'], ['cube232_cluster0', 'cube233_cluster0'], ['cube232_cluster0', 'cube234_cluster0'], ['cube232_cluster0', 'cube264_cluster0'], ['cube232_cluster0', 'cube265_cluster0'], ['cube232_cluster0', 'cube266_cluster0'], ['cube232_cluster0', 'cube267_cluster0'], ['cube232_cluster0', 'cube268_cluster0'], ['cube232_cluster0', 'cube292_cluster0'], ['cube232_cluster0', 'cube293_cluster0'], ['cube232_cluster0', 'cube294_cluster0'], ['cube232_cluster0', 'cube295_cluster0'], ['cube232_cluster0', 'cube296_cluster0'], ['cube233_cluster0', 'cube234_cluster0'], ['cube233_cluster0', 'cube235_cluster0'], ['cube233_cluster0', 'cube265_cluster0'], ['cube233_cluster0', 'cube266_cluster0'], ['cube233_cluster0', 'cube267_cluster0'], ['cube233_cluster0', 'cube268_cluster0'], ['cube233_cluster0', 'cube269_cluster0'], ['cube233_cluster0', 'cube294_cluster0'], ['cube233_cluster0', 'cube295_cluster0'], ['cube233_cluster0', 'cube296_cluster0'], ['cube234_cluster0', 'cube235_cluster0'], ['cube234_cluster0', 'cube266_cluster0'], ['cube234_cluster0', 'cube267_cluster0'], ['cube234_cluster0', 'cube268_cluster0'], ['cube234_cluster0', 'cube269_cluster0'], ['cube234_cluster0', 'cube294_cluster0'], ['cube234_cluster0', 'cube295_cluster0'], ['cube234_cluster0', 'cube296_cluster0'], ['cube235_cluster0', 'cube236_cluster0'], ['cube235_cluster0', 'cube237_cluster0'], ['cube235_cluster0', 'cube267_cluster0'], ['cube235_cluster0', 'cube268_cluster0'], ['cube235_cluster0', 'cube269_cluster0'], ['cube235_cluster0', 'cube270_cluster0'], ['cube235_cluster0', 'cube271_cluster0'], ['cube235_cluster0', 'cube297_cluster0'], ['cube235_cluster0', 'cube298_cluster0'], ['cube235_cluster0', 'cube299_cluster0'], ['cube236_cluster0', 'cube237_cluster0'], ['cube236_cluster0', 'cube238_cluster0'], ['cube236_cluster0', 'cube269_cluster0'], ['cube236_cluster0', 'cube270_cluster0'], ['cube236_cluster0', 'cube271_cluster0'], ['cube236_cluster0', 'cube272_cluster0'], ['cube236_cluster0', 'cube297_cluster0'], ['cube236_cluster0', 'cube298_cluster0'], ['cube236_cluster0', 'cube299_cluster0'], ['cube236_cluster0', 'cube300_cluster0'], ['cube237_cluster0', 'cube238_cluster0'], ['cube237_cluster0', 'cube269_cluster0'], ['cube237_cluster0', 'cube270_cluster0'], ['cube237_cluster0', 'cube271_cluster0'], ['cube237_cluster0', 'cube272_cluster0'], ['cube237_cluster0', 'cube297_cluster0'], ['cube237_cluster0', 'cube298_cluster0'], ['cube237_cluster0', 'cube299_cluster0'], ['cube237_cluster0', 'cube300_cluster0'], ['cube238_cluster0', 'cube240_cluster0'], ['cube238_cluster0', 'cube270_cluster0'], ['cube238_cluster0', 'cube271_cluster0'], ['cube238_cluster0', 'cube272_cluster0'], ['cube238_cluster0', 'cube274_cluster0'], ['cube238_cluster0', 'cube298_cluster0'], ['cube238_cluster0', 'cube299_cluster0'], ['cube238_cluster0', 'cube300_cluster0'], ['cube240_cluster0', 'cube241_cluster0'], ['cube240_cluster0', 'cube242_cluster0'], ['cube240_cluster0', 'cube272_cluster0'], ['cube240_cluster0', 'cube274_cluster0'], ['cube240_cluster0', 'cube276_cluster0'], ['cube240_cluster0', 'cube302_cluster0'], ['cube240_cluster0', 'cube303_cluster0'], ['cube240_cluster0', 'cube304_cluster0'], ['cube241_cluster0', 'cube242_cluster0'], ['cube241_cluster0', 'cube243_cluster0'], ['cube241_cluster0', 'cube274_cluster0'], ['cube241_cluster0', 'cube276_cluster0'], ['cube241_cluster0', 'cube302_cluster0'], ['cube241_cluster0', 'cube303_cluster0'], ['cube241_cluster0', 'cube304_cluster0'], ['cube242_cluster0', 'cube243_cluster0'], ['cube242_cluster0', 'cube274_cluster0'], ['cube242_cluster0', 'cube276_cluster0'], ['cube242_cluster0', 'cube302_cluster0'], ['cube242_cluster0', 'cube303_cluster0'], ['cube242_cluster0', 'cube304_cluster0'], ['cube243_cluster0', 'cube276_cluster0'], ['cube255_cluster0', 'cube256_cluster0'], ['cube255_cluster0', 'cube283_cluster0'], ['cube255_cluster0', 'cube284_cluster0'], ['cube256_cluster0', 'cube257_cluster0'], ['cube256_cluster0', 'cube258_cluster0'], ['cube256_cluster0', 'cube283_cluster0'], ['cube256_cluster0', 'cube284_cluster0'], ['cube256_cluster0', 'cube285_cluster0'], ['cube256_cluster0', 'cube311_cluster0'], ['cube256_cluster0', 'cube312_cluster0'], ['cube257_cluster0', 'cube258_cluster0'], ['cube257_cluster0', 'cube259_cluster0'], ['cube257_cluster0', 'cube284_cluster0'], ['cube257_cluster0', 'cube285_cluster0'], ['cube257_cluster0', 'cube286_cluster0'], ['cube257_cluster0', 'cube287_cluster0'], ['cube257_cluster0', 'cube311_cluster0'], ['cube257_cluster0', 'cube312_cluster0'], ['cube257_cluster0', 'cube313_cluster0'], ['cube257_cluster0', 'cube314_cluster0'], ['cube258_cluster0', 'cube259_cluster0'], ['cube258_cluster0', 'cube260_cluster0'], ['cube258_cluster0', 'cube285_cluster0'], ['cube258_cluster0', 'cube286_cluster0'], ['cube258_cluster0', 'cube287_cluster0'], ['cube258_cluster0', 'cube288_cluster0'], ['cube258_cluster0', 'cube312_cluster0'], ['cube258_cluster0', 'cube313_cluster0'], ['cube258_cluster0', 'cube314_cluster0'], ['cube258_cluster0', 'cube315_cluster0'], ['cube259_cluster0', 'cube260_cluster0'], ['cube259_cluster0', 'cube261_cluster0'], ['cube259_cluster0', 'cube285_cluster0'], ['cube259_cluster0', 'cube286_cluster0'], ['cube259_cluster0', 'cube287_cluster0'], ['cube259_cluster0', 'cube288_cluster0'], ['cube259_cluster0', 'cube289_cluster0'], ['cube259_cluster0', 'cube312_cluster0'], ['cube259_cluster0', 'cube313_cluster0'], ['cube259_cluster0', 'cube314_cluster0'], ['cube259_cluster0', 'cube315_cluster0'], ['cube259_cluster0', 'cube316_cluster0'], ['cube260_cluster0', 'cube261_cluster0'], ['cube260_cluster0', 'cube262_cluster0'], ['cube260_cluster0', 'cube286_cluster0'], ['cube260_cluster0', 'cube287_cluster0'], ['cube260_cluster0', 'cube288_cluster0'], ['cube260_cluster0', 'cube289_cluster0'], ['cube260_cluster0', 'cube290_cluster0'], ['cube260_cluster0', 'cube313_cluster0'], ['cube260_cluster0', 'cube314_cluster0'], ['cube260_cluster0', 'cube315_cluster0'], ['cube260_cluster0', 'cube316_cluster0'], ['cube260_cluster0', 'cube317_cluster0'], ['cube261_cluster0', 'cube262_cluster0'], ['cube261_cluster0', 'cube263_cluster0'], ['cube261_cluster0', 'cube287_cluster0'], ['cube261_cluster0', 'cube288_cluster0'], ['cube261_cluster0', 'cube289_cluster0'], ['cube261_cluster0', 'cube290_cluster0'], ['cube261_cluster0', 'cube291_cluster0'], ['cube261_cluster0', 'cube314_cluster0'], ['cube261_cluster0', 'cube315_cluster0'], ['cube261_cluster0', 'cube316_cluster0'], ['cube261_cluster0', 'cube317_cluster0'], ['cube262_cluster0', 'cube263_cluster0'], ['cube262_cluster0', 'cube264_cluster0'], ['cube262_cluster0', 'cube288_cluster0'], ['cube262_cluster0', 'cube289_cluster0'], ['cube262_cluster0', 'cube290_cluster0'], ['cube262_cluster0', 'cube291_cluster0'], ['cube262_cluster0', 'cube292_cluster0'], ['cube262_cluster0', 'cube315_cluster0'], ['cube262_cluster0', 'cube316_cluster0'], ['cube262_cluster0', 'cube317_cluster0'], ['cube262_cluster0', 'cube318_cluster0'], ['cube262_cluster0', 'cube319_cluster0'], ['cube263_cluster0', 'cube264_cluster0'], ['cube263_cluster0', 'cube265_cluster0'], ['cube263_cluster0', 'cube289_cluster0'], ['cube263_cluster0', 'cube290_cluster0'], ['cube263_cluster0', 'cube291_cluster0'], ['cube263_cluster0', 'cube292_cluster0'], ['cube263_cluster0', 'cube293_cluster0'], ['cube263_cluster0', 'cube317_cluster0'], ['cube263_cluster0', 'cube318_cluster0'], ['cube263_cluster0', 'cube319_cluster0'], ['cube263_cluster0', 'cube320_cluster0'], ['cube264_cluster0', 'cube265_cluster0'], ['cube264_cluster0', 'cube266_cluster0'], ['cube264_cluster0', 'cube290_cluster0'], ['cube264_cluster0', 'cube291_cluster0'], ['cube264_cluster0', 'cube292_cluster0'], ['cube264_cluster0', 'cube293_cluster0'], ['cube264_cluster0', 'cube294_cluster0'], ['cube264_cluster0', 'cube317_cluster0'], ['cube264_cluster0', 'cube318_cluster0'], ['cube264_cluster0', 'cube319_cluster0'], ['cube264_cluster0', 'cube320_cluster0'], ['cube264_cluster0', 'cube321_cluster0'], ['cube265_cluster0', 'cube266_cluster0'], ['cube265_cluster0', 'cube267_cluster0'], ['cube265_cluster0', 'cube291_cluster0'], ['cube265_cluster0', 'cube292_cluster0'], ['cube265_cluster0', 'cube293_cluster0'], ['cube265_cluster0', 'cube294_cluster0'], ['cube265_cluster0', 'cube295_cluster0'], ['cube265_cluster0', 'cube318_cluster0'], ['cube265_cluster0', 'cube319_cluster0'], ['cube265_cluster0', 'cube320_cluster0'], ['cube265_cluster0', 'cube321_cluster0'], ['cube265_cluster0', 'cube322_cluster0'], ['cube266_cluster0', 'cube267_cluster0'], ['cube266_cluster0', 'cube268_cluster0'], ['cube266_cluster0', 'cube292_cluster0'], ['cube266_cluster0', 'cube293_cluster0'], ['cube266_cluster0', 'cube294_cluster0'], ['cube266_cluster0', 'cube295_cluster0'], ['cube266_cluster0', 'cube296_cluster0'], ['cube266_cluster0', 'cube319_cluster0'], ['cube266_cluster0', 'cube320_cluster0'], ['cube266_cluster0', 'cube321_cluster0'], ['cube266_cluster0', 'cube322_cluster0'], ['cube267_cluster0', 'cube268_cluster0'], ['cube267_cluster0', 'cube269_cluster0'], ['cube267_cluster0', 'cube293_cluster0'], ['cube267_cluster0', 'cube294_cluster0'], ['cube267_cluster0', 'cube295_cluster0'], ['cube267_cluster0', 'cube296_cluster0'], ['cube267_cluster0', 'cube297_cluster0'], ['cube267_cluster0', 'cube320_cluster0'], ['cube267_cluster0', 'cube321_cluster0'], ['cube267_cluster0', 'cube322_cluster0'], ['cube267_cluster0', 'cube323_cluster0'], ['cube267_cluster0', 'cube324_cluster0'], ['cube268_cluster0', 'cube269_cluster0'], ['cube268_cluster0', 'cube294_cluster0'], ['cube268_cluster0', 'cube295_cluster0'], ['cube268_cluster0', 'cube296_cluster0'], ['cube268_cluster0', 'cube297_cluster0'], ['cube268_cluster0', 'cube322_cluster0'], ['cube268_cluster0', 'cube323_cluster0'], ['cube268_cluster0', 'cube324_cluster0'], ['cube269_cluster0', 'cube270_cluster0'], ['cube269_cluster0', 'cube271_cluster0'], ['cube269_cluster0', 'cube295_cluster0'], ['cube269_cluster0', 'cube296_cluster0'], ['cube269_cluster0', 'cube297_cluster0'], ['cube269_cluster0', 'cube298_cluster0'], ['cube269_cluster0', 'cube299_cluster0'], ['cube269_cluster0', 'cube322_cluster0'], ['cube269_cluster0', 'cube323_cluster0'], ['cube269_cluster0', 'cube324_cluster0'], ['cube269_cluster0', 'cube325_cluster0'], ['cube270_cluster0', 'cube271_cluster0'], ['cube270_cluster0', 'cube272_cluster0'], ['cube270_cluster0', 'cube297_cluster0'], ['cube270_cluster0', 'cube298_cluster0'], ['cube270_cluster0', 'cube299_cluster0'], ['cube270_cluster0', 'cube300_cluster0'], ['cube270_cluster0', 'cube324_cluster0'], ['cube270_cluster0', 'cube325_cluster0'], ['cube271_cluster0', 'cube272_cluster0'], ['cube271_cluster0', 'cube297_cluster0'], ['cube271_cluster0', 'cube298_cluster0'], ['cube271_cluster0', 'cube299_cluster0'], ['cube271_cluster0', 'cube300_cluster0'], ['cube272_cluster0', 'cube274_cluster0'], ['cube272_cluster0', 'cube298_cluster0'], ['cube272_cluster0', 'cube299_cluster0'], ['cube272_cluster0', 'cube300_cluster0'], ['cube272_cluster0', 'cube301_cluster0'], ['cube272_cluster0', 'cube302_cluster0'], ['cube272_cluster0', 'cube327_cluster0'], ['cube272_cluster0', 'cube328_cluster0'], ['cube272_cluster0', 'cube329_cluster0'], ['cube274_cluster0', 'cube276_cluster0'], ['cube274_cluster0', 'cube300_cluster0'], ['cube274_cluster0', 'cube301_cluster0'], ['cube274_cluster0', 'cube302_cluster0'], ['cube274_cluster0', 'cube303_cluster0'], ['cube274_cluster0', 'cube304_cluster0'], ['cube274_cluster0', 'cube327_cluster0'], ['cube274_cluster0', 'cube328_cluster0'], ['cube274_cluster0', 'cube329_cluster0'], ['cube274_cluster0', 'cube330_cluster0'], ['cube274_cluster0', 'cube331_cluster0'], ['cube276_cluster0', 'cube302_cluster0'], ['cube276_cluster0', 'cube303_cluster0'], ['cube276_cluster0', 'cube304_cluster0'], ['cube276_cluster0', 'cube329_cluster0'], ['cube276_cluster0', 'cube330_cluster0'], ['cube276_cluster0', 'cube331_cluster0'], ['cube283_cluster0', 'cube284_cluster0'], ['cube283_cluster0', 'cube285_cluster0'], ['cube283_cluster0', 'cube311_cluster0'], ['cube283_cluster0', 'cube312_cluster0'], ['cube283_cluster0', 'cube339_cluster0'], ['cube283_cluster0', 'cube340_cluster0'], ['cube283_cluster0', 'cube341_cluster0'], ['cube284_cluster0', 'cube285_cluster0'], ['cube284_cluster0', 'cube311_cluster0'], ['cube284_cluster0', 'cube312_cluster0'], ['cube284_cluster0', 'cube339_cluster0'], ['cube284_cluster0', 'cube340_cluster0'], ['cube284_cluster0', 'cube341_cluster0'], ['cube285_cluster0', 'cube286_cluster0'], ['cube285_cluster0', 'cube287_cluster0'], ['cube285_cluster0', 'cube311_cluster0'], ['cube285_cluster0', 'cube312_cluster0'], ['cube285_cluster0', 'cube313_cluster0'], ['cube285_cluster0', 'cube314_cluster0'], ['cube285_cluster0', 'cube339_cluster0'], ['cube285_cluster0', 'cube340_cluster0'], ['cube285_cluster0', 'cube341_cluster0'], ['cube285_cluster0', 'cube342_cluster0'], ['cube285_cluster0', 'cube343_cluster0'], ['cube286_cluster0', 'cube287_cluster0'], ['cube286_cluster0', 'cube288_cluster0'], ['cube286_cluster0', 'cube312_cluster0'], ['cube286_cluster0', 'cube313_cluster0'], ['cube286_cluster0', 'cube314_cluster0'], ['cube286_cluster0', 'cube315_cluster0'], ['cube286_cluster0', 'cube341_cluster0'], ['cube286_cluster0', 'cube342_cluster0'], ['cube286_cluster0', 'cube343_cluster0'], ['cube286_cluster0', 'cube344_cluster0'], ['cube287_cluster0', 'cube288_cluster0'], ['cube287_cluster0', 'cube289_cluster0'], ['cube287_cluster0', 'cube312_cluster0'], ['cube287_cluster0', 'cube313_cluster0'], ['cube287_cluster0', 'cube314_cluster0'], ['cube287_cluster0', 'cube315_cluster0'], ['cube287_cluster0', 'cube316_cluster0'], ['cube287_cluster0', 'cube341_cluster0'], ['cube287_cluster0', 'cube342_cluster0'], ['cube287_cluster0', 'cube343_cluster0'], ['cube287_cluster0', 'cube344_cluster0'], ['cube287_cluster0', 'cube345_cluster0'], ['cube288_cluster0', 'cube289_cluster0'], ['cube288_cluster0', 'cube290_cluster0'], ['cube288_cluster0', 'cube313_cluster0'], ['cube288_cluster0', 'cube314_cluster0'], ['cube288_cluster0', 'cube315_cluster0'], ['cube288_cluster0', 'cube316_cluster0'], ['cube288_cluster0', 'cube317_cluster0'], ['cube288_cluster0', 'cube342_cluster0'], ['cube288_cluster0', 'cube343_cluster0'], ['cube288_cluster0', 'cube344_cluster0'], ['cube288_cluster0', 'cube345_cluster0'], ['cube288_cluster0', 'cube346_cluster0'], ['cube289_cluster0', 'cube290_cluster0'], ['cube289_cluster0', 'cube291_cluster0'], ['cube289_cluster0', 'cube314_cluster0'], ['cube289_cluster0', 'cube315_cluster0'], ['cube289_cluster0', 'cube316_cluster0'], ['cube289_cluster0', 'cube317_cluster0'], ['cube289_cluster0', 'cube318_cluster0'], ['cube289_cluster0', 'cube343_cluster0'], ['cube289_cluster0', 'cube344_cluster0'], ['cube289_cluster0', 'cube345_cluster0'], ['cube289_cluster0', 'cube346_cluster0'], ['cube289_cluster0', 'cube347_cluster0'], ['cube290_cluster0', 'cube291_cluster0'], ['cube290_cluster0', 'cube292_cluster0'], ['cube290_cluster0', 'cube315_cluster0'], ['cube290_cluster0', 'cube316_cluster0'], ['cube290_cluster0', 'cube317_cluster0'], ['cube290_cluster0', 'cube318_cluster0'], ['cube290_cluster0', 'cube319_cluster0'], ['cube290_cluster0', 'cube344_cluster0'], ['cube290_cluster0', 'cube345_cluster0'], ['cube290_cluster0', 'cube346_cluster0'], ['cube290_cluster0', 'cube347_cluster0'], ['cube291_cluster0', 'cube292_cluster0'], ['cube291_cluster0', 'cube293_cluster0'], ['cube291_cluster0', 'cube316_cluster0'], ['cube291_cluster0', 'cube317_cluster0'], ['cube291_cluster0', 'cube318_cluster0'], ['cube291_cluster0', 'cube319_cluster0'], ['cube291_cluster0', 'cube320_cluster0'], ['cube291_cluster0', 'cube345_cluster0'], ['cube291_cluster0', 'cube346_cluster0'], ['cube291_cluster0', 'cube347_cluster0'], ['cube292_cluster0', 'cube293_cluster0'], ['cube292_cluster0', 'cube294_cluster0'], ['cube292_cluster0', 'cube317_cluster0'], ['cube292_cluster0', 'cube318_cluster0'], ['cube292_cluster0', 'cube319_cluster0'], ['cube292_cluster0', 'cube320_cluster0'], ['cube292_cluster0', 'cube321_cluster0'], ['cube292_cluster0', 'cube348_cluster0'], ['cube292_cluster0', 'cube349_cluster0'], ['cube292_cluster0', 'cube350_cluster0'], ['cube293_cluster0', 'cube294_cluster0'], ['cube293_cluster0', 'cube295_cluster0'], ['cube293_cluster0', 'cube318_cluster0'], ['cube293_cluster0', 'cube319_cluster0'], ['cube293_cluster0', 'cube320_cluster0'], ['cube293_cluster0', 'cube321_cluster0'], ['cube293_cluster0', 'cube322_cluster0'], ['cube293_cluster0', 'cube348_cluster0'], ['cube293_cluster0', 'cube349_cluster0'], ['cube293_cluster0', 'cube350_cluster0'], ['cube293_cluster0', 'cube351_cluster0'], ['cube294_cluster0', 'cube295_cluster0'], ['cube294_cluster0', 'cube296_cluster0'], ['cube294_cluster0', 'cube319_cluster0'], ['cube294_cluster0', 'cube320_cluster0'], ['cube294_cluster0', 'cube321_cluster0'], ['cube294_cluster0', 'cube322_cluster0'], ['cube294_cluster0', 'cube323_cluster0'], ['cube294_cluster0', 'cube348_cluster0'], ['cube294_cluster0', 'cube349_cluster0'], ['cube294_cluster0', 'cube350_cluster0'], ['cube294_cluster0', 'cube351_cluster0'], ['cube294_cluster0', 'cube352_cluster0'], ['cube295_cluster0', 'cube296_cluster0'], ['cube295_cluster0', 'cube297_cluster0'], ['cube295_cluster0', 'cube320_cluster0'], ['cube295_cluster0', 'cube321_cluster0'], ['cube295_cluster0', 'cube322_cluster0'], ['cube295_cluster0', 'cube323_cluster0'], ['cube295_cluster0', 'cube324_cluster0'], ['cube295_cluster0', 'cube349_cluster0'], ['cube295_cluster0', 'cube350_cluster0'], ['cube295_cluster0', 'cube351_cluster0'], ['cube295_cluster0', 'cube352_cluster0'], ['cube296_cluster0', 'cube297_cluster0'], ['cube296_cluster0', 'cube298_cluster0'], ['cube296_cluster0', 'cube321_cluster0'], ['cube296_cluster0', 'cube322_cluster0'], ['cube296_cluster0', 'cube323_cluster0'], ['cube296_cluster0', 'cube324_cluster0'], ['cube296_cluster0', 'cube325_cluster0'], ['cube296_cluster0', 'cube350_cluster0'], ['cube296_cluster0', 'cube351_cluster0'], ['cube296_cluster0', 'cube352_cluster0'], ['cube296_cluster0', 'cube353_cluster0'], ['cube296_cluster0', 'cube354_cluster0'], ['cube297_cluster0', 'cube298_cluster0'], ['cube297_cluster0', 'cube299_cluster0'], ['cube297_cluster0', 'cube322_cluster0'], ['cube297_cluster0', 'cube323_cluster0'], ['cube297_cluster0', 'cube324_cluster0'], ['cube297_cluster0', 'cube325_cluster0'], ['cube297_cluster0', 'cube352_cluster0'], ['cube297_cluster0', 'cube353_cluster0'], ['cube297_cluster0', 'cube354_cluster0'], ['cube297_cluster0', 'cube355_cluster0'], ['cube298_cluster0', 'cube299_cluster0'], ['cube298_cluster0', 'cube300_cluster0'], ['cube298_cluster0', 'cube323_cluster0'], ['cube298_cluster0', 'cube324_cluster0'], ['cube298_cluster0', 'cube325_cluster0'], ['cube298_cluster0', 'cube352_cluster0'], ['cube298_cluster0', 'cube353_cluster0'], ['cube298_cluster0', 'cube354_cluster0'], ['cube298_cluster0', 'cube355_cluster0'], ['cube299_cluster0', 'cube300_cluster0'], ['cube299_cluster0', 'cube324_cluster0'], ['cube299_cluster0', 'cube325_cluster0'], ['cube299_cluster0', 'cube327_cluster0'], ['cube299_cluster0', 'cube353_cluster0'], ['cube299_cluster0', 'cube354_cluster0'], ['cube299_cluster0', 'cube355_cluster0'], ['cube299_cluster0', 'cube356_cluster0'], ['cube300_cluster0', 'cube301_cluster0'], ['cube300_cluster0', 'cube302_cluster0'], ['cube300_cluster0', 'cube327_cluster0'], ['cube300_cluster0', 'cube328_cluster0'], ['cube300_cluster0', 'cube329_cluster0'], ['cube300_cluster0', 'cube355_cluster0'], ['cube300_cluster0', 'cube356_cluster0'], ['cube300_cluster0', 'cube357_cluster0'], ['cube300_cluster0', 'cube358_cluster0'], ['cube301_cluster0', 'cube302_cluster0'], ['cube301_cluster0', 'cube327_cluster0'], ['cube301_cluster0', 'cube328_cluster0'], ['cube301_cluster0', 'cube329_cluster0'], ['cube301_cluster0', 'cube356_cluster0'], ['cube301_cluster0', 'cube357_cluster0'], ['cube301_cluster0', 'cube358_cluster0'], ['cube302_cluster0', 'cube303_cluster0'], ['cube302_cluster0', 'cube304_cluster0'], ['cube302_cluster0', 'cube327_cluster0'], ['cube302_cluster0', 'cube328_cluster0'], ['cube302_cluster0', 'cube329_cluster0'], ['cube302_cluster0', 'cube330_cluster0'], ['cube302_cluster0', 'cube331_cluster0'], ['cube302_cluster0', 'cube356_cluster0'], ['cube302_cluster0', 'cube357_cluster0'], ['cube302_cluster0', 'cube358_cluster0'], ['cube302_cluster0', 'cube359_cluster0'], ['cube302_cluster0', 'cube360_cluster0'], ['cube303_cluster0', 'cube304_cluster0'], ['cube303_cluster0', 'cube329_cluster0'], ['cube303_cluster0', 'cube330_cluster0'], ['cube303_cluster0', 'cube331_cluster0'], ['cube303_cluster0', 'cube358_cluster0'], ['cube303_cluster0', 'cube359_cluster0'], ['cube303_cluster0', 'cube360_cluster0'], ['cube304_cluster0', 'cube329_cluster0'], ['cube304_cluster0', 'cube330_cluster0'], ['cube304_cluster0', 'cube331_cluster0'], ['cube304_cluster0', 'cube332_cluster0'], ['cube304_cluster0', 'cube333_cluster0'], ['cube304_cluster0', 'cube358_cluster0'], ['cube304_cluster0', 'cube359_cluster0'], ['cube304_cluster0', 'cube360_cluster0'], ['cube304_cluster0', 'cube361_cluster0'], ['cube304_cluster0', 'cube362_cluster0'], ['cube311_cluster0', 'cube312_cluster0'], ['cube311_cluster0', 'cube313_cluster0'], ['cube311_cluster0', 'cube339_cluster0'], ['cube311_cluster0', 'cube340_cluster0'], ['cube311_cluster0', 'cube341_cluster0'], ['cube311_cluster0', 'cube342_cluster0'], ['cube312_cluster0', 'cube313_cluster0'], ['cube312_cluster0', 'cube314_cluster0'], ['cube312_cluster0', 'cube339_cluster0'], ['cube312_cluster0', 'cube340_cluster0'], ['cube312_cluster0', 'cube341_cluster0'], ['cube312_cluster0', 'cube342_cluster0'], ['cube312_cluster0', 'cube343_cluster0'], ['cube312_cluster0', 'cube372_cluster0'], ['cube312_cluster0', 'cube373_cluster0'], ['cube313_cluster0', 'cube314_cluster0'], ['cube313_cluster0', 'cube315_cluster0'], ['cube313_cluster0', 'cube340_cluster0'], ['cube313_cluster0', 'cube341_cluster0'], ['cube313_cluster0', 'cube342_cluster0'], ['cube313_cluster0', 'cube343_cluster0'], ['cube313_cluster0', 'cube344_cluster0'], ['cube313_cluster0', 'cube372_cluster0'], ['cube313_cluster0', 'cube373_cluster0'], ['cube314_cluster0', 'cube315_cluster0'], ['cube314_cluster0', 'cube316_cluster0'], ['cube314_cluster0', 'cube341_cluster0'], ['cube314_cluster0', 'cube342_cluster0'], ['cube314_cluster0', 'cube343_cluster0'], ['cube314_cluster0', 'cube344_cluster0'], ['cube314_cluster0', 'cube345_cluster0'], ['cube314_cluster0', 'cube374_cluster0'], ['cube314_cluster0', 'cube375_cluster0'], ['cube314_cluster0', 'cube376_cluster0'], ['cube315_cluster0', 'cube316_cluster0'], ['cube315_cluster0', 'cube317_cluster0'], ['cube315_cluster0', 'cube342_cluster0'], ['cube315_cluster0', 'cube343_cluster0'], ['cube315_cluster0', 'cube344_cluster0'], ['cube315_cluster0', 'cube345_cluster0'], ['cube315_cluster0', 'cube346_cluster0'], ['cube315_cluster0', 'cube374_cluster0'], ['cube315_cluster0', 'cube375_cluster0'], ['cube315_cluster0', 'cube376_cluster0'], ['cube315_cluster0', 'cube377_cluster0'], ['cube316_cluster0', 'cube317_cluster0'], ['cube316_cluster0', 'cube318_cluster0'], ['cube316_cluster0', 'cube343_cluster0'], ['cube316_cluster0', 'cube344_cluster0'], ['cube316_cluster0', 'cube345_cluster0'], ['cube316_cluster0', 'cube346_cluster0'], ['cube316_cluster0', 'cube347_cluster0'], ['cube316_cluster0', 'cube374_cluster0'], ['cube316_cluster0', 'cube375_cluster0'], ['cube316_cluster0', 'cube376_cluster0'], ['cube316_cluster0', 'cube377_cluster0'], ['cube317_cluster0', 'cube318_cluster0'], ['cube317_cluster0', 'cube319_cluster0'], ['cube317_cluster0', 'cube344_cluster0'], ['cube317_cluster0', 'cube345_cluster0'], ['cube317_cluster0', 'cube346_cluster0'], ['cube317_cluster0', 'cube347_cluster0'], ['cube317_cluster0', 'cube375_cluster0'], ['cube317_cluster0', 'cube376_cluster0'], ['cube317_cluster0', 'cube377_cluster0'], ['cube318_cluster0', 'cube319_cluster0'], ['cube318_cluster0', 'cube320_cluster0'], ['cube318_cluster0', 'cube345_cluster0'], ['cube318_cluster0', 'cube346_cluster0'], ['cube318_cluster0', 'cube347_cluster0'], ['cube319_cluster0', 'cube320_cluster0'], ['cube319_cluster0', 'cube321_cluster0'], ['cube319_cluster0', 'cube348_cluster0'], ['cube319_cluster0', 'cube349_cluster0'], ['cube319_cluster0', 'cube350_cluster0'], ['cube319_cluster0', 'cube379_cluster0'], ['cube319_cluster0', 'cube380_cluster0'], ['cube319_cluster0', 'cube381_cluster0'], ['cube320_cluster0', 'cube321_cluster0'], ['cube320_cluster0', 'cube322_cluster0'], ['cube320_cluster0', 'cube348_cluster0'], ['cube320_cluster0', 'cube349_cluster0'], ['cube320_cluster0', 'cube350_cluster0'], ['cube320_cluster0', 'cube351_cluster0'], ['cube320_cluster0', 'cube379_cluster0'], ['cube320_cluster0', 'cube380_cluster0'], ['cube320_cluster0', 'cube381_cluster0'], ['cube320_cluster0', 'cube382_cluster0'], ['cube321_cluster0', 'cube322_cluster0'], ['cube321_cluster0', 'cube323_cluster0'], ['cube321_cluster0', 'cube348_cluster0'], ['cube321_cluster0', 'cube349_cluster0'], ['cube321_cluster0', 'cube350_cluster0'], ['cube321_cluster0', 'cube351_cluster0'], ['cube321_cluster0', 'cube352_cluster0'], ['cube321_cluster0', 'cube379_cluster0'], ['cube321_cluster0', 'cube380_cluster0'], ['cube321_cluster0', 'cube381_cluster0'], ['cube321_cluster0', 'cube382_cluster0'], ['cube321_cluster0', 'cube383_cluster0'], ['cube322_cluster0', 'cube323_cluster0'], ['cube322_cluster0', 'cube324_cluster0'], ['cube322_cluster0', 'cube349_cluster0'], ['cube322_cluster0', 'cube350_cluster0'], ['cube322_cluster0', 'cube351_cluster0'], ['cube322_cluster0', 'cube352_cluster0'], ['cube322_cluster0', 'cube353_cluster0'], ['cube322_cluster0', 'cube380_cluster0'], ['cube322_cluster0', 'cube381_cluster0'], ['cube322_cluster0', 'cube382_cluster0'], ['cube322_cluster0', 'cube383_cluster0'], ['cube322_cluster0', 'cube384_cluster0'], ['cube323_cluster0', 'cube324_cluster0'], ['cube323_cluster0', 'cube325_cluster0'], ['cube323_cluster0', 'cube350_cluster0'], ['cube323_cluster0', 'cube351_cluster0'], ['cube323_cluster0', 'cube352_cluster0'], ['cube323_cluster0', 'cube353_cluster0'], ['cube323_cluster0', 'cube354_cluster0'], ['cube323_cluster0', 'cube381_cluster0'], ['cube323_cluster0', 'cube382_cluster0'], ['cube323_cluster0', 'cube383_cluster0'], ['cube323_cluster0', 'cube384_cluster0'], ['cube324_cluster0', 'cube325_cluster0'], ['cube324_cluster0', 'cube351_cluster0'], ['cube324_cluster0', 'cube352_cluster0'], ['cube324_cluster0', 'cube353_cluster0'], ['cube324_cluster0', 'cube354_cluster0'], ['cube324_cluster0', 'cube355_cluster0'], ['cube324_cluster0', 'cube382_cluster0'], ['cube324_cluster0', 'cube383_cluster0'], ['cube324_cluster0', 'cube384_cluster0'], ['cube324_cluster0', 'cube385_cluster0'], ['cube324_cluster0', 'cube386_cluster0'], ['cube325_cluster0', 'cube352_cluster0'], ['cube325_cluster0', 'cube353_cluster0'], ['cube325_cluster0', 'cube354_cluster0'], ['cube325_cluster0', 'cube355_cluster0'], ['cube325_cluster0', 'cube384_cluster0'], ['cube325_cluster0', 'cube385_cluster0'], ['cube325_cluster0', 'cube386_cluster0'], ['cube327_cluster0', 'cube328_cluster0'], ['cube327_cluster0', 'cube329_cluster0'], ['cube327_cluster0', 'cube355_cluster0'], ['cube327_cluster0', 'cube356_cluster0'], ['cube327_cluster0', 'cube357_cluster0'], ['cube327_cluster0', 'cube358_cluster0'], ['cube328_cluster0', 'cube329_cluster0'], ['cube328_cluster0', 'cube330_cluster0'], ['cube328_cluster0', 'cube356_cluster0'], ['cube328_cluster0', 'cube357_cluster0'], ['cube328_cluster0', 'cube358_cluster0'], ['cube328_cluster0', 'cube359_cluster0'], ['cube328_cluster0', 'cube388_cluster0'], ['cube328_cluster0', 'cube389_cluster0'], ['cube328_cluster0', 'cube390_cluster0'], ['cube329_cluster0', 'cube330_cluster0'], ['cube329_cluster0', 'cube331_cluster0'], ['cube329_cluster0', 'cube356_cluster0'], ['cube329_cluster0', 'cube357_cluster0'], ['cube329_cluster0', 'cube358_cluster0'], ['cube329_cluster0', 'cube359_cluster0'], ['cube329_cluster0', 'cube360_cluster0'], ['cube329_cluster0', 'cube388_cluster0'], ['cube329_cluster0', 'cube389_cluster0'], ['cube329_cluster0', 'cube390_cluster0'], ['cube330_cluster0', 'cube331_cluster0'], ['cube330_cluster0', 'cube357_cluster0'], ['cube330_cluster0', 'cube358_cluster0'], ['cube330_cluster0', 'cube359_cluster0'], ['cube330_cluster0', 'cube360_cluster0'], ['cube330_cluster0', 'cube388_cluster0'], ['cube330_cluster0', 'cube389_cluster0'], ['cube330_cluster0', 'cube390_cluster0'], ['cube331_cluster0', 'cube332_cluster0'], ['cube331_cluster0', 'cube333_cluster0'], ['cube331_cluster0', 'cube358_cluster0'], ['cube331_cluster0', 'cube359_cluster0'], ['cube331_cluster0', 'cube360_cluster0'], ['cube331_cluster0', 'cube361_cluster0'], ['cube331_cluster0', 'cube362_cluster0'], ['cube331_cluster0', 'cube391_cluster0'], ['cube331_cluster0', 'cube392_cluster0'], ['cube331_cluster0', 'cube393_cluster0'], ['cube332_cluster0', 'cube333_cluster0'], ['cube332_cluster0', 'cube360_cluster0'], ['cube332_cluster0', 'cube361_cluster0'], ['cube332_cluster0', 'cube362_cluster0'], ['cube332_cluster0', 'cube363_cluster0'], ['cube332_cluster0', 'cube391_cluster0'], ['cube332_cluster0', 'cube392_cluster0'], ['cube332_cluster0', 'cube393_cluster0'], ['cube332_cluster0', 'cube394_cluster0'], ['cube333_cluster0', 'cube360_cluster0'], ['cube333_cluster0', 'cube361_cluster0'], ['cube333_cluster0', 'cube362_cluster0'], ['cube333_cluster0', 'cube363_cluster0'], ['cube333_cluster0', 'cube391_cluster0'], ['cube333_cluster0', 'cube392_cluster0'], ['cube333_cluster0', 'cube393_cluster0'], ['cube333_cluster0', 'cube394_cluster0'], ['cube339_cluster0', 'cube340_cluster0'], ['cube339_cluster0', 'cube341_cluster0'], ['cube339_cluster0', 'cube372_cluster0'], ['cube339_cluster0', 'cube403_cluster0'], ['cube339_cluster0', 'cube404_cluster0'], ['cube340_cluster0', 'cube341_cluster0'], ['cube340_cluster0', 'cube342_cluster0'], ['cube340_cluster0', 'cube372_cluster0'], ['cube340_cluster0', 'cube403_cluster0'], ['cube340_cluster0', 'cube404_cluster0'], ['cube341_cluster0', 'cube342_cluster0'], ['cube341_cluster0', 'cube343_cluster0'], ['cube341_cluster0', 'cube372_cluster0'], ['cube341_cluster0', 'cube373_cluster0'], ['cube341_cluster0', 'cube403_cluster0'], ['cube341_cluster0', 'cube404_cluster0'], ['cube342_cluster0', 'cube343_cluster0'], ['cube342_cluster0', 'cube344_cluster0'], ['cube342_cluster0', 'cube372_cluster0'], ['cube342_cluster0', 'cube373_cluster0'], ['cube342_cluster0', 'cube374_cluster0'], ['cube342_cluster0', 'cube375_cluster0'], ['cube342_cluster0', 'cube405_cluster0'], ['cube342_cluster0', 'cube406_cluster0'], ['cube342_cluster0', 'cube407_cluster0'], ['cube343_cluster0', 'cube344_cluster0'], ['cube343_cluster0', 'cube345_cluster0'], ['cube343_cluster0', 'cube373_cluster0'], ['cube343_cluster0', 'cube374_cluster0'], ['cube343_cluster0', 'cube375_cluster0'], ['cube343_cluster0', 'cube376_cluster0'], ['cube343_cluster0', 'cube405_cluster0'], ['cube343_cluster0', 'cube406_cluster0'], ['cube343_cluster0', 'cube407_cluster0'], ['cube344_cluster0', 'cube345_cluster0'], ['cube344_cluster0', 'cube346_cluster0'], ['cube344_cluster0', 'cube373_cluster0'], ['cube344_cluster0', 'cube374_cluster0'], ['cube344_cluster0', 'cube375_cluster0'], ['cube344_cluster0', 'cube376_cluster0'], ['cube344_cluster0', 'cube377_cluster0'], ['cube344_cluster0', 'cube405_cluster0'], ['cube344_cluster0', 'cube406_cluster0'], ['cube344_cluster0', 'cube407_cluster0'], ['cube344_cluster0', 'cube408_cluster0'], ['cube344_cluster0', 'cube409_cluster0'], ['cube345_cluster0', 'cube346_cluster0'], ['cube345_cluster0', 'cube347_cluster0'], ['cube345_cluster0', 'cube374_cluster0'], ['cube345_cluster0', 'cube375_cluster0'], ['cube345_cluster0', 'cube376_cluster0'], ['cube345_cluster0', 'cube377_cluster0'], ['cube345_cluster0', 'cube378_cluster0'], ['cube345_cluster0', 'cube407_cluster0'], ['cube345_cluster0', 'cube408_cluster0'], ['cube345_cluster0', 'cube409_cluster0'], ['cube345_cluster0', 'cube410_cluster0'], ['cube346_cluster0', 'cube347_cluster0'], ['cube346_cluster0', 'cube348_cluster0'], ['cube346_cluster0', 'cube375_cluster0'], ['cube346_cluster0', 'cube376_cluster0'], ['cube346_cluster0', 'cube377_cluster0'], ['cube346_cluster0', 'cube378_cluster0'], ['cube346_cluster0', 'cube379_cluster0'], ['cube346_cluster0', 'cube407_cluster0'], ['cube346_cluster0', 'cube408_cluster0'], ['cube346_cluster0', 'cube409_cluster0'], ['cube346_cluster0', 'cube410_cluster0'], ['cube346_cluster0', 'cube411_cluster0'], ['cube347_cluster0', 'cube348_cluster0'], ['cube347_cluster0', 'cube349_cluster0'], ['cube347_cluster0', 'cube376_cluster0'], ['cube347_cluster0', 'cube377_cluster0'], ['cube347_cluster0', 'cube378_cluster0'], ['cube347_cluster0', 'cube379_cluster0'], ['cube347_cluster0', 'cube380_cluster0'], ['cube347_cluster0', 'cube408_cluster0'], ['cube347_cluster0', 'cube409_cluster0'], ['cube347_cluster0', 'cube410_cluster0'], ['cube347_cluster0', 'cube411_cluster0'], ['cube348_cluster0', 'cube349_cluster0'], ['cube348_cluster0', 'cube350_cluster0'], ['cube348_cluster0', 'cube377_cluster0'], ['cube348_cluster0', 'cube378_cluster0'], ['cube348_cluster0', 'cube379_cluster0'], ['cube348_cluster0', 'cube380_cluster0'], ['cube348_cluster0', 'cube381_cluster0'], ['cube348_cluster0', 'cube409_cluster0'], ['cube348_cluster0', 'cube410_cluster0'], ['cube348_cluster0', 'cube411_cluster0'], ['cube348_cluster0', 'cube412_cluster0'], ['cube348_cluster0', 'cube413_cluster0'], ['cube349_cluster0', 'cube350_cluster0'], ['cube349_cluster0', 'cube351_cluster0'], ['cube349_cluster0', 'cube378_cluster0'], ['cube349_cluster0', 'cube379_cluster0'], ['cube349_cluster0', 'cube380_cluster0'], ['cube349_cluster0', 'cube381_cluster0'], ['cube349_cluster0', 'cube382_cluster0'], ['cube349_cluster0', 'cube411_cluster0'], ['cube349_cluster0', 'cube412_cluster0'], ['cube349_cluster0', 'cube413_cluster0'], ['cube350_cluster0', 'cube351_cluster0'], ['cube350_cluster0', 'cube352_cluster0'], ['cube350_cluster0', 'cube379_cluster0'], ['cube350_cluster0', 'cube380_cluster0'], ['cube350_cluster0', 'cube381_cluster0'], ['cube350_cluster0', 'cube382_cluster0'], ['cube350_cluster0', 'cube383_cluster0'], ['cube350_cluster0', 'cube411_cluster0'], ['cube350_cluster0', 'cube412_cluster0'], ['cube350_cluster0', 'cube413_cluster0'], ['cube350_cluster0', 'cube414_cluster0'], ['cube350_cluster0', 'cube415_cluster0'], ['cube351_cluster0', 'cube352_cluster0'], ['cube351_cluster0', 'cube353_cluster0'], ['cube351_cluster0', 'cube380_cluster0'], ['cube351_cluster0', 'cube381_cluster0'], ['cube351_cluster0', 'cube382_cluster0'], ['cube351_cluster0', 'cube383_cluster0'], ['cube351_cluster0', 'cube384_cluster0'], ['cube351_cluster0', 'cube413_cluster0'], ['cube351_cluster0', 'cube414_cluster0'], ['cube351_cluster0', 'cube415_cluster0'], ['cube351_cluster0', 'cube416_cluster0'], ['cube352_cluster0', 'cube353_cluster0'], ['cube352_cluster0', 'cube354_cluster0'], ['cube352_cluster0', 'cube381_cluster0'], ['cube352_cluster0', 'cube382_cluster0'], ['cube352_cluster0', 'cube383_cluster0'], ['cube352_cluster0', 'cube384_cluster0'], ['cube352_cluster0', 'cube385_cluster0'], ['cube352_cluster0', 'cube413_cluster0'], ['cube352_cluster0', 'cube414_cluster0'], ['cube352_cluster0', 'cube415_cluster0'], ['cube352_cluster0', 'cube416_cluster0'], ['cube353_cluster0', 'cube354_cluster0'], ['cube353_cluster0', 'cube355_cluster0'], ['cube353_cluster0', 'cube382_cluster0'], ['cube353_cluster0', 'cube383_cluster0'], ['cube353_cluster0', 'cube384_cluster0'], ['cube353_cluster0', 'cube385_cluster0'], ['cube353_cluster0', 'cube386_cluster0'], ['cube353_cluster0', 'cube414_cluster0'], ['cube353_cluster0', 'cube415_cluster0'], ['cube353_cluster0', 'cube416_cluster0'], ['cube354_cluster0', 'cube355_cluster0'], ['cube354_cluster0', 'cube356_cluster0'], ['cube354_cluster0', 'cube383_cluster0'], ['cube354_cluster0', 'cube384_cluster0'], ['cube354_cluster0', 'cube385_cluster0'], ['cube354_cluster0', 'cube386_cluster0'], ['cube354_cluster0', 'cube387_cluster0'], ['cube355_cluster0', 'cube356_cluster0'], ['cube355_cluster0', 'cube384_cluster0'], ['cube355_cluster0', 'cube385_cluster0'], ['cube355_cluster0', 'cube386_cluster0'], ['cube355_cluster0', 'cube387_cluster0'], ['cube356_cluster0', 'cube357_cluster0'], ['cube356_cluster0', 'cube358_cluster0'], ['cube356_cluster0', 'cube385_cluster0'], ['cube356_cluster0', 'cube386_cluster0'], ['cube356_cluster0', 'cube387_cluster0'], ['cube356_cluster0', 'cube388_cluster0'], ['cube356_cluster0', 'cube419_cluster0'], ['cube356_cluster0', 'cube420_cluster0'], ['cube357_cluster0', 'cube358_cluster0'], ['cube357_cluster0', 'cube359_cluster0'], ['cube357_cluster0', 'cube387_cluster0'], ['cube357_cluster0', 'cube388_cluster0'], ['cube357_cluster0', 'cube389_cluster0'], ['cube357_cluster0', 'cube390_cluster0'], ['cube357_cluster0', 'cube419_cluster0'], ['cube357_cluster0', 'cube420_cluster0'], ['cube357_cluster0', 'cube421_cluster0'], ['cube357_cluster0', 'cube422_cluster0'], ['cube358_cluster0', 'cube359_cluster0'], ['cube358_cluster0', 'cube360_cluster0'], ['cube358_cluster0', 'cube388_cluster0'], ['cube358_cluster0', 'cube389_cluster0'], ['cube358_cluster0', 'cube390_cluster0'], ['cube358_cluster0', 'cube391_cluster0'], ['cube358_cluster0', 'cube420_cluster0'], ['cube358_cluster0', 'cube421_cluster0'], ['cube358_cluster0', 'cube422_cluster0'], ['cube358_cluster0', 'cube423_cluster0'], ['cube359_cluster0', 'cube360_cluster0'], ['cube359_cluster0', 'cube361_cluster0'], ['cube359_cluster0', 'cube388_cluster0'], ['cube359_cluster0', 'cube389_cluster0'], ['cube359_cluster0', 'cube390_cluster0'], ['cube359_cluster0', 'cube391_cluster0'], ['cube359_cluster0', 'cube392_cluster0'], ['cube359_cluster0', 'cube420_cluster0'], ['cube359_cluster0', 'cube421_cluster0'], ['cube359_cluster0', 'cube422_cluster0'], ['cube359_cluster0', 'cube423_cluster0'], ['cube360_cluster0', 'cube361_cluster0'], ['cube360_cluster0', 'cube362_cluster0'], ['cube360_cluster0', 'cube389_cluster0'], ['cube360_cluster0', 'cube390_cluster0'], ['cube360_cluster0', 'cube391_cluster0'], ['cube360_cluster0', 'cube392_cluster0'], ['cube360_cluster0', 'cube393_cluster0'], ['cube360_cluster0', 'cube421_cluster0'], ['cube360_cluster0', 'cube422_cluster0'], ['cube360_cluster0', 'cube423_cluster0'], ['cube360_cluster0', 'cube424_cluster0'], ['cube361_cluster0', 'cube362_cluster0'], ['cube361_cluster0', 'cube363_cluster0'], ['cube361_cluster0', 'cube390_cluster0'], ['cube361_cluster0', 'cube391_cluster0'], ['cube361_cluster0', 'cube392_cluster0'], ['cube361_cluster0', 'cube393_cluster0'], ['cube361_cluster0', 'cube394_cluster0'], ['cube361_cluster0', 'cube423_cluster0'], ['cube361_cluster0', 'cube424_cluster0'], ['cube362_cluster0', 'cube363_cluster0'], ['cube362_cluster0', 'cube391_cluster0'], ['cube362_cluster0', 'cube392_cluster0'], ['cube362_cluster0', 'cube393_cluster0'], ['cube362_cluster0', 'cube394_cluster0'], ['cube362_cluster0', 'cube423_cluster0'], ['cube362_cluster0', 'cube424_cluster0'], ['cube363_cluster0', 'cube392_cluster0'], ['cube363_cluster0', 'cube393_cluster0'], ['cube363_cluster0', 'cube394_cluster0'], ['cube372_cluster0', 'cube373_cluster0'], ['cube372_cluster0', 'cube403_cluster0'], ['cube372_cluster0', 'cube404_cluster0'], ['cube373_cluster0', 'cube374_cluster0'], ['cube373_cluster0', 'cube375_cluster0'], ['cube373_cluster0', 'cube405_cluster0'], ['cube373_cluster0', 'cube406_cluster0'], ['cube373_cluster0', 'cube407_cluster0'], ['cube374_cluster0', 'cube375_cluster0'], ['cube374_cluster0', 'cube376_cluster0'], ['cube374_cluster0', 'cube405_cluster0'], ['cube374_cluster0', 'cube406_cluster0'], ['cube374_cluster0', 'cube407_cluster0'], ['cube374_cluster0', 'cube408_cluster0'], ['cube374_cluster0', 'cube444_cluster0'], ['cube374_cluster0', 'cube445_cluster0'], ['cube374_cluster0', 'cube446_cluster0'], ['cube375_cluster0', 'cube376_cluster0'], ['cube375_cluster0', 'cube377_cluster0'], ['cube375_cluster0', 'cube405_cluster0'], ['cube375_cluster0', 'cube406_cluster0'], ['cube375_cluster0', 'cube407_cluster0'], ['cube375_cluster0', 'cube408_cluster0'], ['cube375_cluster0', 'cube409_cluster0'], ['cube375_cluster0', 'cube444_cluster0'], ['cube375_cluster0', 'cube445_cluster0'], ['cube375_cluster0', 'cube446_cluster0'], ['cube376_cluster0', 'cube377_cluster0'], ['cube376_cluster0', 'cube378_cluster0'], ['cube376_cluster0', 'cube406_cluster0'], ['cube376_cluster0', 'cube407_cluster0'], ['cube376_cluster0', 'cube408_cluster0'], ['cube376_cluster0', 'cube409_cluster0'], ['cube376_cluster0', 'cube410_cluster0'], ['cube376_cluster0', 'cube444_cluster0'], ['cube376_cluster0', 'cube445_cluster0'], ['cube376_cluster0', 'cube446_cluster0'], ['cube376_cluster0', 'cube447_cluster0'], ['cube376_cluster0', 'cube448_cluster0'], ['cube377_cluster0', 'cube378_cluster0'], ['cube377_cluster0', 'cube379_cluster0'], ['cube377_cluster0', 'cube407_cluster0'], ['cube377_cluster0', 'cube408_cluster0'], ['cube377_cluster0', 'cube409_cluster0'], ['cube377_cluster0', 'cube410_cluster0'], ['cube377_cluster0', 'cube411_cluster0'], ['cube377_cluster0', 'cube446_cluster0'], ['cube377_cluster0', 'cube447_cluster0'], ['cube377_cluster0', 'cube448_cluster0'], ['cube377_cluster0', 'cube449_cluster0'], ['cube378_cluster0', 'cube379_cluster0'], ['cube378_cluster0', 'cube380_cluster0'], ['cube378_cluster0', 'cube408_cluster0'], ['cube378_cluster0', 'cube409_cluster0'], ['cube378_cluster0', 'cube410_cluster0'], ['cube378_cluster0', 'cube411_cluster0'], ['cube378_cluster0', 'cube412_cluster0'], ['cube378_cluster0', 'cube446_cluster0'], ['cube378_cluster0', 'cube447_cluster0'], ['cube378_cluster0', 'cube448_cluster0'], ['cube378_cluster0', 'cube449_cluster0'], ['cube378_cluster0', 'cube450_cluster0'], ['cube379_cluster0', 'cube380_cluster0'], ['cube379_cluster0', 'cube381_cluster0'], ['cube379_cluster0', 'cube409_cluster0'], ['cube379_cluster0', 'cube410_cluster0'], ['cube379_cluster0', 'cube411_cluster0'], ['cube379_cluster0', 'cube412_cluster0'], ['cube379_cluster0', 'cube413_cluster0'], ['cube379_cluster0', 'cube447_cluster0'], ['cube379_cluster0', 'cube448_cluster0'], ['cube379_cluster0', 'cube449_cluster0'], ['cube379_cluster0', 'cube450_cluster0'], ['cube379_cluster0', 'cube451_cluster0'], ['cube380_cluster0', 'cube381_cluster0'], ['cube380_cluster0', 'cube382_cluster0'], ['cube380_cluster0', 'cube410_cluster0'], ['cube380_cluster0', 'cube411_cluster0'], ['cube380_cluster0', 'cube412_cluster0'], ['cube380_cluster0', 'cube413_cluster0'], ['cube380_cluster0', 'cube414_cluster0'], ['cube380_cluster0', 'cube448_cluster0'], ['cube380_cluster0', 'cube449_cluster0'], ['cube380_cluster0', 'cube450_cluster0'], ['cube380_cluster0', 'cube451_cluster0'], ['cube380_cluster0', 'cube452_cluster0'], ['cube381_cluster0', 'cube382_cluster0'], ['cube381_cluster0', 'cube383_cluster0'], ['cube381_cluster0', 'cube411_cluster0'], ['cube381_cluster0', 'cube412_cluster0'], ['cube381_cluster0', 'cube413_cluster0'], ['cube381_cluster0', 'cube414_cluster0'], ['cube381_cluster0', 'cube415_cluster0'], ['cube381_cluster0', 'cube449_cluster0'], ['cube381_cluster0', 'cube450_cluster0'], ['cube381_cluster0', 'cube451_cluster0'], ['cube381_cluster0', 'cube452_cluster0'], ['cube381_cluster0', 'cube453_cluster0'], ['cube382_cluster0', 'cube383_cluster0'], ['cube382_cluster0', 'cube384_cluster0'], ['cube382_cluster0', 'cube412_cluster0'], ['cube382_cluster0', 'cube413_cluster0'], ['cube382_cluster0', 'cube414_cluster0'], ['cube382_cluster0', 'cube415_cluster0'], ['cube382_cluster0', 'cube416_cluster0'], ['cube382_cluster0', 'cube450_cluster0'], ['cube382_cluster0', 'cube451_cluster0'], ['cube382_cluster0', 'cube452_cluster0'], ['cube382_cluster0', 'cube453_cluster0'], ['cube382_cluster0', 'cube454_cluster0'], ['cube383_cluster0', 'cube384_cluster0'], ['cube383_cluster0', 'cube385_cluster0'], ['cube383_cluster0', 'cube413_cluster0'], ['cube383_cluster0', 'cube414_cluster0'], ['cube383_cluster0', 'cube415_cluster0'], ['cube383_cluster0', 'cube416_cluster0'], ['cube383_cluster0', 'cube451_cluster0'], ['cube383_cluster0', 'cube452_cluster0'], ['cube383_cluster0', 'cube453_cluster0'], ['cube383_cluster0', 'cube454_cluster0'], ['cube384_cluster0', 'cube385_cluster0'], ['cube384_cluster0', 'cube386_cluster0'], ['cube384_cluster0', 'cube414_cluster0'], ['cube384_cluster0', 'cube415_cluster0'], ['cube384_cluster0', 'cube416_cluster0'], ['cube384_cluster0', 'cube417_cluster0'], ['cube384_cluster0', 'cube418_cluster0'], ['cube384_cluster0', 'cube452_cluster0'], ['cube384_cluster0', 'cube453_cluster0'], ['cube384_cluster0', 'cube454_cluster0'], ['cube385_cluster0', 'cube386_cluster0'], ['cube385_cluster0', 'cube387_cluster0'], ['cube385_cluster0', 'cube416_cluster0'], ['cube385_cluster0', 'cube417_cluster0'], ['cube385_cluster0', 'cube418_cluster0'], ['cube385_cluster0', 'cube419_cluster0'], ['cube385_cluster0', 'cube455_cluster0'], ['cube385_cluster0', 'cube456_cluster0'], ['cube386_cluster0', 'cube387_cluster0'], ['cube386_cluster0', 'cube388_cluster0'], ['cube386_cluster0', 'cube416_cluster0'], ['cube386_cluster0', 'cube417_cluster0'], ['cube386_cluster0', 'cube418_cluster0'], ['cube386_cluster0', 'cube419_cluster0'], ['cube386_cluster0', 'cube420_cluster0'], ['cube386_cluster0', 'cube455_cluster0'], ['cube386_cluster0', 'cube456_cluster0'], ['cube386_cluster0', 'cube457_cluster0'], ['cube386_cluster0', 'cube458_cluster0'], ['cube387_cluster0', 'cube388_cluster0'], ['cube387_cluster0', 'cube417_cluster0'], ['cube387_cluster0', 'cube418_cluster0'], ['cube387_cluster0', 'cube419_cluster0'], ['cube387_cluster0', 'cube420_cluster0'], ['cube387_cluster0', 'cube456_cluster0'], ['cube387_cluster0', 'cube457_cluster0'], ['cube387_cluster0', 'cube458_cluster0'], ['cube388_cluster0', 'cube389_cluster0'], ['cube388_cluster0', 'cube390_cluster0'], ['cube388_cluster0', 'cube418_cluster0'], ['cube388_cluster0', 'cube419_cluster0'], ['cube388_cluster0', 'cube420_cluster0'], ['cube388_cluster0', 'cube421_cluster0'], ['cube388_cluster0', 'cube422_cluster0'], ['cube388_cluster0', 'cube456_cluster0'], ['cube388_cluster0', 'cube457_cluster0'], ['cube388_cluster0', 'cube458_cluster0'], ['cube388_cluster0', 'cube459_cluster0'], ['cube388_cluster0', 'cube460_cluster0'], ['cube389_cluster0', 'cube390_cluster0'], ['cube389_cluster0', 'cube391_cluster0'], ['cube389_cluster0', 'cube420_cluster0'], ['cube389_cluster0', 'cube421_cluster0'], ['cube389_cluster0', 'cube422_cluster0'], ['cube389_cluster0', 'cube423_cluster0'], ['cube389_cluster0', 'cube458_cluster0'], ['cube389_cluster0', 'cube459_cluster0'], ['cube389_cluster0', 'cube460_cluster0'], ['cube389_cluster0', 'cube461_cluster0'], ['cube390_cluster0', 'cube391_cluster0'], ['cube390_cluster0', 'cube392_cluster0'], ['cube390_cluster0', 'cube420_cluster0'], ['cube390_cluster0', 'cube421_cluster0'], ['cube390_cluster0', 'cube422_cluster0'], ['cube390_cluster0', 'cube423_cluster0'], ['cube390_cluster0', 'cube424_cluster0'], ['cube390_cluster0', 'cube458_cluster0'], ['cube390_cluster0', 'cube459_cluster0'], ['cube390_cluster0', 'cube460_cluster0'], ['cube390_cluster0', 'cube461_cluster0'], ['cube391_cluster0', 'cube392_cluster0'], ['cube391_cluster0', 'cube393_cluster0'], ['cube391_cluster0', 'cube421_cluster0'], ['cube391_cluster0', 'cube422_cluster0'], ['cube391_cluster0', 'cube423_cluster0'], ['cube391_cluster0', 'cube424_cluster0'], ['cube391_cluster0', 'cube459_cluster0'], ['cube391_cluster0', 'cube460_cluster0'], ['cube391_cluster0', 'cube461_cluster0'], ['cube392_cluster0', 'cube393_cluster0'], ['cube392_cluster0', 'cube394_cluster0'], ['cube392_cluster0', 'cube422_cluster0'], ['cube392_cluster0', 'cube423_cluster0'], ['cube392_cluster0', 'cube424_cluster0'], ['cube393_cluster0', 'cube394_cluster0'], ['cube393_cluster0', 'cube423_cluster0'], ['cube393_cluster0', 'cube424_cluster0'], ['cube403_cluster0', 'cube404_cluster0'], ['cube403_cluster0', 'cube405_cluster0'], ['cube403_cluster0', 'cube440_cluster0'], ['cube403_cluster0', 'cube441_cluster0'], ['cube403_cluster0', 'cube442_cluster0'], ['cube403_cluster0', 'cube443_cluster0'], ['cube403_cluster0', 'cube476_cluster0'], ['cube403_cluster0', 'cube477_cluster0'], ['cube403_cluster0', 'cube478_cluster0'], ['cube403_cluster0', 'cube479_cluster0'], ['cube404_cluster0', 'cube405_cluster0'], ['cube404_cluster0', 'cube440_cluster0'], ['cube404_cluster0', 'cube441_cluster0'], ['cube404_cluster0', 'cube442_cluster0'], ['cube404_cluster0', 'cube443_cluster0'], ['cube404_cluster0', 'cube476_cluster0'], ['cube404_cluster0', 'cube477_cluster0'], ['cube404_cluster0', 'cube478_cluster0'], ['cube404_cluster0', 'cube479_cluster0'], ['cube405_cluster0', 'cube406_cluster0'], ['cube405_cluster0', 'cube407_cluster0'], ['cube405_cluster0', 'cube441_cluster0'], ['cube405_cluster0', 'cube442_cluster0'], ['cube405_cluster0', 'cube443_cluster0'], ['cube405_cluster0', 'cube444_cluster0'], ['cube405_cluster0', 'cube477_cluster0'], ['cube405_cluster0', 'cube478_cluster0'], ['cube405_cluster0', 'cube479_cluster0'], ['cube405_cluster0', 'cube480_cluster0'], ['cube406_cluster0', 'cube407_cluster0'], ['cube406_cluster0', 'cube408_cluster0'], ['cube406_cluster0', 'cube443_cluster0'], ['cube406_cluster0', 'cube444_cluster0'], ['cube406_cluster0', 'cube445_cluster0'], ['cube406_cluster0', 'cube446_cluster0'], ['cube406_cluster0', 'cube479_cluster0'], ['cube406_cluster0', 'cube480_cluster0'], ['cube407_cluster0', 'cube408_cluster0'], ['cube407_cluster0', 'cube409_cluster0'], ['cube407_cluster0', 'cube444_cluster0'], ['cube407_cluster0', 'cube445_cluster0'], ['cube407_cluster0', 'cube446_cluster0'], ['cube407_cluster0', 'cube447_cluster0'], ['cube407_cluster0', 'cube481_cluster0'], ['cube407_cluster0', 'cube482_cluster0'], ['cube407_cluster0', 'cube483_cluster0'], ['cube408_cluster0', 'cube409_cluster0'], ['cube408_cluster0', 'cube410_cluster0'], ['cube408_cluster0', 'cube444_cluster0'], ['cube408_cluster0', 'cube445_cluster0'], ['cube408_cluster0', 'cube446_cluster0'], ['cube408_cluster0', 'cube447_cluster0'], ['cube408_cluster0', 'cube448_cluster0'], ['cube408_cluster0', 'cube481_cluster0'], ['cube408_cluster0', 'cube482_cluster0'], ['cube408_cluster0', 'cube483_cluster0'], ['cube408_cluster0', 'cube484_cluster0'], ['cube409_cluster0', 'cube410_cluster0'], ['cube409_cluster0', 'cube411_cluster0'], ['cube409_cluster0', 'cube445_cluster0'], ['cube409_cluster0', 'cube446_cluster0'], ['cube409_cluster0', 'cube447_cluster0'], ['cube409_cluster0', 'cube448_cluster0'], ['cube409_cluster0', 'cube449_cluster0'], ['cube409_cluster0', 'cube481_cluster0'], ['cube409_cluster0', 'cube482_cluster0'], ['cube409_cluster0', 'cube483_cluster0'], ['cube409_cluster0', 'cube484_cluster0'], ['cube410_cluster0', 'cube411_cluster0'], ['cube410_cluster0', 'cube412_cluster0'], ['cube410_cluster0', 'cube446_cluster0'], ['cube410_cluster0', 'cube447_cluster0'], ['cube410_cluster0', 'cube448_cluster0'], ['cube410_cluster0', 'cube449_cluster0'], ['cube410_cluster0', 'cube450_cluster0'], ['cube410_cluster0', 'cube482_cluster0'], ['cube410_cluster0', 'cube483_cluster0'], ['cube410_cluster0', 'cube484_cluster0'], ['cube411_cluster0', 'cube412_cluster0'], ['cube411_cluster0', 'cube413_cluster0'], ['cube411_cluster0', 'cube447_cluster0'], ['cube411_cluster0', 'cube448_cluster0'], ['cube411_cluster0', 'cube449_cluster0'], ['cube411_cluster0', 'cube450_cluster0'], ['cube411_cluster0', 'cube451_cluster0'], ['cube412_cluster0', 'cube413_cluster0'], ['cube412_cluster0', 'cube414_cluster0'], ['cube412_cluster0', 'cube448_cluster0'], ['cube412_cluster0', 'cube449_cluster0'], ['cube412_cluster0', 'cube450_cluster0'], ['cube412_cluster0', 'cube451_cluster0'], ['cube412_cluster0', 'cube452_cluster0'], ['cube412_cluster0', 'cube486_cluster0'], ['cube412_cluster0', 'cube487_cluster0'], ['cube413_cluster0', 'cube414_cluster0'], ['cube413_cluster0', 'cube415_cluster0'], ['cube413_cluster0', 'cube449_cluster0'], ['cube413_cluster0', 'cube450_cluster0'], ['cube413_cluster0', 'cube451_cluster0'], ['cube413_cluster0', 'cube452_cluster0'], ['cube413_cluster0', 'cube453_cluster0'], ['cube413_cluster0', 'cube486_cluster0'], ['cube413_cluster0', 'cube487_cluster0'], ['cube413_cluster0', 'cube488_cluster0'], ['cube413_cluster0', 'cube489_cluster0'], ['cube414_cluster0', 'cube415_cluster0'], ['cube414_cluster0', 'cube416_cluster0'], ['cube414_cluster0', 'cube450_cluster0'], ['cube414_cluster0', 'cube451_cluster0'], ['cube414_cluster0', 'cube452_cluster0'], ['cube414_cluster0', 'cube453_cluster0'], ['cube414_cluster0', 'cube454_cluster0'], ['cube414_cluster0', 'cube487_cluster0'], ['cube414_cluster0', 'cube488_cluster0'], ['cube414_cluster0', 'cube489_cluster0'], ['cube415_cluster0', 'cube416_cluster0'], ['cube415_cluster0', 'cube417_cluster0'], ['cube415_cluster0', 'cube451_cluster0'], ['cube415_cluster0', 'cube452_cluster0'], ['cube415_cluster0', 'cube453_cluster0'], ['cube415_cluster0', 'cube454_cluster0'], ['cube415_cluster0', 'cube455_cluster0'], ['cube415_cluster0', 'cube487_cluster0'], ['cube415_cluster0', 'cube488_cluster0'], ['cube415_cluster0', 'cube489_cluster0'], ['cube415_cluster0', 'cube490_cluster0'], ['cube415_cluster0', 'cube491_cluster0'], ['cube416_cluster0', 'cube417_cluster0'], ['cube416_cluster0', 'cube418_cluster0'], ['cube416_cluster0', 'cube452_cluster0'], ['cube416_cluster0', 'cube453_cluster0'], ['cube416_cluster0', 'cube454_cluster0'], ['cube416_cluster0', 'cube455_cluster0'], ['cube416_cluster0', 'cube489_cluster0'], ['cube416_cluster0', 'cube490_cluster0'], ['cube416_cluster0', 'cube491_cluster0'], ['cube417_cluster0', 'cube418_cluster0'], ['cube417_cluster0', 'cube419_cluster0'], ['cube417_cluster0', 'cube453_cluster0'], ['cube417_cluster0', 'cube454_cluster0'], ['cube417_cluster0', 'cube455_cluster0'], ['cube417_cluster0', 'cube456_cluster0'], ['cube417_cluster0', 'cube489_cluster0'], ['cube417_cluster0', 'cube490_cluster0'], ['cube417_cluster0', 'cube491_cluster0'], ['cube417_cluster0', 'cube492_cluster0'], ['cube418_cluster0', 'cube419_cluster0'], ['cube418_cluster0', 'cube420_cluster0'], ['cube418_cluster0', 'cube455_cluster0'], ['cube418_cluster0', 'cube456_cluster0'], ['cube418_cluster0', 'cube457_cluster0'], ['cube418_cluster0', 'cube458_cluster0'], ['cube418_cluster0', 'cube491_cluster0'], ['cube418_cluster0', 'cube492_cluster0'], ['cube418_cluster0', 'cube493_cluster0'], ['cube418_cluster0', 'cube494_cluster0'], ['cube419_cluster0', 'cube420_cluster0'], ['cube419_cluster0', 'cube421_cluster0'], ['cube419_cluster0', 'cube456_cluster0'], ['cube419_cluster0', 'cube457_cluster0'], ['cube419_cluster0', 'cube458_cluster0'], ['cube419_cluster0', 'cube459_cluster0'], ['cube419_cluster0', 'cube492_cluster0'], ['cube419_cluster0', 'cube493_cluster0'], ['cube419_cluster0', 'cube494_cluster0'], ['cube419_cluster0', 'cube495_cluster0'], ['cube420_cluster0', 'cube421_cluster0'], ['cube420_cluster0', 'cube422_cluster0'], ['cube420_cluster0', 'cube456_cluster0'], ['cube420_cluster0', 'cube457_cluster0'], ['cube420_cluster0', 'cube458_cluster0'], ['cube420_cluster0', 'cube459_cluster0'], ['cube420_cluster0', 'cube460_cluster0'], ['cube420_cluster0', 'cube492_cluster0'], ['cube420_cluster0', 'cube493_cluster0'], ['cube420_cluster0', 'cube494_cluster0'], ['cube420_cluster0', 'cube495_cluster0'], ['cube421_cluster0', 'cube422_cluster0'], ['cube421_cluster0', 'cube423_cluster0'], ['cube421_cluster0', 'cube457_cluster0'], ['cube421_cluster0', 'cube458_cluster0'], ['cube421_cluster0', 'cube459_cluster0'], ['cube421_cluster0', 'cube460_cluster0'], ['cube421_cluster0', 'cube461_cluster0'], ['cube421_cluster0', 'cube493_cluster0'], ['cube421_cluster0', 'cube494_cluster0'], ['cube421_cluster0', 'cube495_cluster0'], ['cube421_cluster0', 'cube496_cluster0'], ['cube421_cluster0', 'cube497_cluster0'], ['cube422_cluster0', 'cube423_cluster0'], ['cube422_cluster0', 'cube424_cluster0'], ['cube422_cluster0', 'cube458_cluster0'], ['cube422_cluster0', 'cube459_cluster0'], ['cube422_cluster0', 'cube460_cluster0'], ['cube422_cluster0', 'cube461_cluster0'], ['cube422_cluster0', 'cube462_cluster0'], ['cube422_cluster0', 'cube495_cluster0'], ['cube422_cluster0', 'cube496_cluster0'], ['cube422_cluster0', 'cube497_cluster0'], ['cube422_cluster0', 'cube498_cluster0'], ['cube423_cluster0', 'cube424_cluster0'], ['cube423_cluster0', 'cube459_cluster0'], ['cube423_cluster0', 'cube460_cluster0'], ['cube423_cluster0', 'cube461_cluster0'], ['cube423_cluster0', 'cube462_cluster0'], ['cube423_cluster0', 'cube495_cluster0'], ['cube423_cluster0', 'cube496_cluster0'], ['cube423_cluster0', 'cube497_cluster0'], ['cube423_cluster0', 'cube498_cluster0'], ['cube424_cluster0', 'cube460_cluster0'], ['cube424_cluster0', 'cube461_cluster0'], ['cube424_cluster0', 'cube462_cluster0'], ['cube424_cluster0', 'cube496_cluster0'], ['cube424_cluster0', 'cube497_cluster0'], ['cube424_cluster0', 'cube498_cluster0'], ['cube424_cluster0', 'cube499_cluster0'], ['cube440_cluster0', 'cube441_cluster0'], ['cube440_cluster0', 'cube442_cluster0'], ['cube440_cluster0', 'cube476_cluster0'], ['cube440_cluster0', 'cube477_cluster0'], ['cube440_cluster0', 'cube478_cluster0'], ['cube440_cluster0', 'cube516_cluster0'], ['cube440_cluster0', 'cube517_cluster0'], ['cube441_cluster0', 'cube442_cluster0'], ['cube441_cluster0', 'cube443_cluster0'], ['cube441_cluster0', 'cube476_cluster0'], ['cube441_cluster0', 'cube477_cluster0'], ['cube441_cluster0', 'cube478_cluster0'], ['cube441_cluster0', 'cube479_cluster0'], ['cube441_cluster0', 'cube518_cluster0'], ['cube441_cluster0', 'cube519_cluster0'], ['cube441_cluster0', 'cube520_cluster0'], ['cube442_cluster0', 'cube443_cluster0'], ['cube442_cluster0', 'cube444_cluster0'], ['cube442_cluster0', 'cube476_cluster0'], ['cube442_cluster0', 'cube477_cluster0'], ['cube442_cluster0', 'cube478_cluster0'], ['cube442_cluster0', 'cube479_cluster0'], ['cube442_cluster0', 'cube480_cluster0'], ['cube442_cluster0', 'cube518_cluster0'], ['cube442_cluster0', 'cube519_cluster0'], ['cube442_cluster0', 'cube520_cluster0'], ['cube443_cluster0', 'cube444_cluster0'], ['cube443_cluster0', 'cube445_cluster0'], ['cube443_cluster0', 'cube477_cluster0'], ['cube443_cluster0', 'cube478_cluster0'], ['cube443_cluster0', 'cube479_cluster0'], ['cube443_cluster0', 'cube480_cluster0'], ['cube443_cluster0', 'cube481_cluster0'], ['cube443_cluster0', 'cube518_cluster0'], ['cube443_cluster0', 'cube519_cluster0'], ['cube443_cluster0', 'cube520_cluster0'], ['cube443_cluster0', 'cube521_cluster0'], ['cube443_cluster0', 'cube522_cluster0'], ['cube444_cluster0', 'cube445_cluster0'], ['cube444_cluster0', 'cube446_cluster0'], ['cube444_cluster0', 'cube478_cluster0'], ['cube444_cluster0', 'cube479_cluster0'], ['cube444_cluster0', 'cube480_cluster0'], ['cube444_cluster0', 'cube481_cluster0'], ['cube444_cluster0', 'cube482_cluster0'], ['cube444_cluster0', 'cube520_cluster0'], ['cube444_cluster0', 'cube521_cluster0'], ['cube444_cluster0', 'cube522_cluster0'], ['cube444_cluster0', 'cube523_cluster0'], ['cube445_cluster0', 'cube446_cluster0'], ['cube445_cluster0', 'cube447_cluster0'], ['cube445_cluster0', 'cube479_cluster0'], ['cube445_cluster0', 'cube480_cluster0'], ['cube445_cluster0', 'cube481_cluster0'], ['cube445_cluster0', 'cube482_cluster0'], ['cube445_cluster0', 'cube483_cluster0'], ['cube445_cluster0', 'cube520_cluster0'], ['cube445_cluster0', 'cube521_cluster0'], ['cube445_cluster0', 'cube522_cluster0'], ['cube445_cluster0', 'cube523_cluster0'], ['cube445_cluster0', 'cube524_cluster0'], ['cube446_cluster0', 'cube447_cluster0'], ['cube446_cluster0', 'cube448_cluster0'], ['cube446_cluster0', 'cube480_cluster0'], ['cube446_cluster0', 'cube481_cluster0'], ['cube446_cluster0', 'cube482_cluster0'], ['cube446_cluster0', 'cube483_cluster0'], ['cube446_cluster0', 'cube484_cluster0'], ['cube446_cluster0', 'cube521_cluster0'], ['cube446_cluster0', 'cube522_cluster0'], ['cube446_cluster0', 'cube523_cluster0'], ['cube446_cluster0', 'cube524_cluster0'], ['cube446_cluster0', 'cube525_cluster0'], ['cube447_cluster0', 'cube448_cluster0'], ['cube447_cluster0', 'cube449_cluster0'], ['cube447_cluster0', 'cube481_cluster0'], ['cube447_cluster0', 'cube482_cluster0'], ['cube447_cluster0', 'cube483_cluster0'], ['cube447_cluster0', 'cube484_cluster0'], ['cube447_cluster0', 'cube485_cluster0'], ['cube447_cluster0', 'cube522_cluster0'], ['cube447_cluster0', 'cube523_cluster0'], ['cube447_cluster0', 'cube524_cluster0'], ['cube447_cluster0', 'cube525_cluster0'], ['cube447_cluster0', 'cube526_cluster0'], ['cube448_cluster0', 'cube449_cluster0'], ['cube448_cluster0', 'cube450_cluster0'], ['cube448_cluster0', 'cube482_cluster0'], ['cube448_cluster0', 'cube483_cluster0'], ['cube448_cluster0', 'cube484_cluster0'], ['cube448_cluster0', 'cube485_cluster0'], ['cube448_cluster0', 'cube523_cluster0'], ['cube448_cluster0', 'cube524_cluster0'], ['cube448_cluster0', 'cube525_cluster0'], ['cube448_cluster0', 'cube526_cluster0'], ['cube449_cluster0', 'cube450_cluster0'], ['cube449_cluster0', 'cube451_cluster0'], ['cube449_cluster0', 'cube483_cluster0'], ['cube449_cluster0', 'cube484_cluster0'], ['cube449_cluster0', 'cube485_cluster0'], ['cube449_cluster0', 'cube486_cluster0'], ['cube449_cluster0', 'cube524_cluster0'], ['cube449_cluster0', 'cube525_cluster0'], ['cube449_cluster0', 'cube526_cluster0'], ['cube449_cluster0', 'cube527_cluster0'], ['cube450_cluster0', 'cube451_cluster0'], ['cube450_cluster0', 'cube452_cluster0'], ['cube450_cluster0', 'cube485_cluster0'], ['cube450_cluster0', 'cube486_cluster0'], ['cube450_cluster0', 'cube487_cluster0'], ['cube450_cluster0', 'cube488_cluster0'], ['cube450_cluster0', 'cube526_cluster0'], ['cube450_cluster0', 'cube527_cluster0'], ['cube451_cluster0', 'cube452_cluster0'], ['cube451_cluster0', 'cube453_cluster0'], ['cube451_cluster0', 'cube486_cluster0'], ['cube451_cluster0', 'cube487_cluster0'], ['cube451_cluster0', 'cube488_cluster0'], ['cube451_cluster0', 'cube489_cluster0'], ['cube451_cluster0', 'cube528_cluster0'], ['cube451_cluster0', 'cube529_cluster0'], ['cube451_cluster0', 'cube530_cluster0'], ['cube452_cluster0', 'cube453_cluster0'], ['cube452_cluster0', 'cube454_cluster0'], ['cube452_cluster0', 'cube486_cluster0'], ['cube452_cluster0', 'cube487_cluster0'], ['cube452_cluster0', 'cube488_cluster0'], ['cube452_cluster0', 'cube489_cluster0'], ['cube452_cluster0', 'cube528_cluster0'], ['cube452_cluster0', 'cube529_cluster0'], ['cube452_cluster0', 'cube530_cluster0'], ['cube453_cluster0', 'cube454_cluster0'], ['cube453_cluster0', 'cube455_cluster0'], ['cube453_cluster0', 'cube487_cluster0'], ['cube453_cluster0', 'cube488_cluster0'], ['cube453_cluster0', 'cube489_cluster0'], ['cube453_cluster0', 'cube490_cluster0'], ['cube453_cluster0', 'cube491_cluster0'], ['cube453_cluster0', 'cube528_cluster0'], ['cube453_cluster0', 'cube529_cluster0'], ['cube453_cluster0', 'cube530_cluster0'], ['cube454_cluster0', 'cube455_cluster0'], ['cube454_cluster0', 'cube456_cluster0'], ['cube454_cluster0', 'cube489_cluster0'], ['cube454_cluster0', 'cube490_cluster0'], ['cube454_cluster0', 'cube491_cluster0'], ['cube454_cluster0', 'cube492_cluster0'], ['cube454_cluster0', 'cube531_cluster0'], ['cube454_cluster0', 'cube532_cluster0'], ['cube455_cluster0', 'cube456_cluster0'], ['cube455_cluster0', 'cube457_cluster0'], ['cube455_cluster0', 'cube489_cluster0'], ['cube455_cluster0', 'cube490_cluster0'], ['cube455_cluster0', 'cube491_cluster0'], ['cube455_cluster0', 'cube492_cluster0'], ['cube455_cluster0', 'cube493_cluster0'], ['cube455_cluster0', 'cube531_cluster0'], ['cube455_cluster0', 'cube532_cluster0'], ['cube455_cluster0', 'cube533_cluster0'], ['cube455_cluster0', 'cube534_cluster0'], ['cube456_cluster0', 'cube457_cluster0'], ['cube456_cluster0', 'cube458_cluster0'], ['cube456_cluster0', 'cube490_cluster0'], ['cube456_cluster0', 'cube491_cluster0'], ['cube456_cluster0', 'cube492_cluster0'], ['cube456_cluster0', 'cube493_cluster0'], ['cube456_cluster0', 'cube494_cluster0'], ['cube456_cluster0', 'cube532_cluster0'], ['cube456_cluster0', 'cube533_cluster0'], ['cube456_cluster0', 'cube534_cluster0'], ['cube456_cluster0', 'cube535_cluster0'], ['cube457_cluster0', 'cube458_cluster0'], ['cube457_cluster0', 'cube459_cluster0'], ['cube457_cluster0', 'cube491_cluster0'], ['cube457_cluster0', 'cube492_cluster0'], ['cube457_cluster0', 'cube493_cluster0'], ['cube457_cluster0', 'cube494_cluster0'], ['cube457_cluster0', 'cube495_cluster0'], ['cube457_cluster0', 'cube532_cluster0'], ['cube457_cluster0', 'cube533_cluster0'], ['cube457_cluster0', 'cube534_cluster0'], ['cube457_cluster0', 'cube535_cluster0'], ['cube458_cluster0', 'cube459_cluster0'], ['cube458_cluster0', 'cube460_cluster0'], ['cube458_cluster0', 'cube492_cluster0'], ['cube458_cluster0', 'cube493_cluster0'], ['cube458_cluster0', 'cube494_cluster0'], ['cube458_cluster0', 'cube495_cluster0'], ['cube458_cluster0', 'cube533_cluster0'], ['cube458_cluster0', 'cube534_cluster0'], ['cube458_cluster0', 'cube535_cluster0'], ['cube459_cluster0', 'cube460_cluster0'], ['cube459_cluster0', 'cube461_cluster0'], ['cube459_cluster0', 'cube493_cluster0'], ['cube459_cluster0', 'cube494_cluster0'], ['cube459_cluster0', 'cube495_cluster0'], ['cube459_cluster0', 'cube496_cluster0'], ['cube459_cluster0', 'cube497_cluster0'], ['cube460_cluster0', 'cube461_cluster0'], ['cube460_cluster0', 'cube462_cluster0'], ['cube460_cluster0', 'cube495_cluster0'], ['cube460_cluster0', 'cube496_cluster0'], ['cube460_cluster0', 'cube497_cluster0'], ['cube460_cluster0', 'cube498_cluster0'], ['cube461_cluster0', 'cube462_cluster0'], ['cube461_cluster0', 'cube495_cluster0'], ['cube461_cluster0', 'cube496_cluster0'], ['cube461_cluster0', 'cube497_cluster0'], ['cube461_cluster0', 'cube498_cluster0'], ['cube461_cluster0', 'cube499_cluster0'], ['cube461_cluster0', 'cube538_cluster0'], ['cube461_cluster0', 'cube539_cluster0'], ['cube461_cluster0', 'cube540_cluster0'], ['cube462_cluster0', 'cube496_cluster0'], ['cube462_cluster0', 'cube497_cluster0'], ['cube462_cluster0', 'cube498_cluster0'], ['cube462_cluster0', 'cube499_cluster0'], ['cube462_cluster0', 'cube538_cluster0'], ['cube462_cluster0', 'cube539_cluster0'], ['cube462_cluster0', 'cube540_cluster0'], ['cube473_cluster0', 'cube474_cluster0'], ['cube474_cluster0', 'cube476_cluster0'], ['cube474_cluster0', 'cube516_cluster0'], ['cube474_cluster0', 'cube517_cluster0'], ['cube474_cluster0', 'cube558_cluster0'], ['cube476_cluster0', 'cube477_cluster0'], ['cube476_cluster0', 'cube478_cluster0'], ['cube476_cluster0', 'cube516_cluster0'], ['cube476_cluster0', 'cube517_cluster0'], ['cube476_cluster0', 'cube518_cluster0'], ['cube476_cluster0', 'cube519_cluster0'], ['cube476_cluster0', 'cube558_cluster0'], ['cube476_cluster0', 'cube559_cluster0'], ['cube476_cluster0', 'cube560_cluster0'], ['cube477_cluster0', 'cube478_cluster0'], ['cube477_cluster0', 'cube479_cluster0'], ['cube477_cluster0', 'cube516_cluster0'], ['cube477_cluster0', 'cube517_cluster0'], ['cube477_cluster0', 'cube518_cluster0'], ['cube477_cluster0', 'cube519_cluster0'], ['cube477_cluster0', 'cube520_cluster0'], ['cube477_cluster0', 'cube558_cluster0'], ['cube477_cluster0', 'cube559_cluster0'], ['cube477_cluster0', 'cube560_cluster0'], ['cube477_cluster0', 'cube561_cluster0'], ['cube478_cluster0', 'cube479_cluster0'], ['cube478_cluster0', 'cube480_cluster0'], ['cube478_cluster0', 'cube517_cluster0'], ['cube478_cluster0', 'cube518_cluster0'], ['cube478_cluster0', 'cube519_cluster0'], ['cube478_cluster0', 'cube520_cluster0'], ['cube478_cluster0', 'cube521_cluster0'], ['cube478_cluster0', 'cube558_cluster0'], ['cube478_cluster0', 'cube559_cluster0'], ['cube478_cluster0', 'cube560_cluster0'], ['cube478_cluster0', 'cube561_cluster0'], ['cube478_cluster0', 'cube562_cluster0'], ['cube479_cluster0', 'cube480_cluster0'], ['cube479_cluster0', 'cube481_cluster0'], ['cube479_cluster0', 'cube518_cluster0'], ['cube479_cluster0', 'cube519_cluster0'], ['cube479_cluster0', 'cube520_cluster0'], ['cube479_cluster0', 'cube521_cluster0'], ['cube479_cluster0', 'cube522_cluster0'], ['cube479_cluster0', 'cube559_cluster0'], ['cube479_cluster0', 'cube560_cluster0'], ['cube479_cluster0', 'cube561_cluster0'], ['cube479_cluster0', 'cube562_cluster0'], ['cube480_cluster0', 'cube481_cluster0'], ['cube480_cluster0', 'cube482_cluster0'], ['cube480_cluster0', 'cube519_cluster0'], ['cube480_cluster0', 'cube520_cluster0'], ['cube480_cluster0', 'cube521_cluster0'], ['cube480_cluster0', 'cube522_cluster0'], ['cube480_cluster0', 'cube523_cluster0'], ['cube480_cluster0', 'cube560_cluster0'], ['cube480_cluster0', 'cube561_cluster0'], ['cube480_cluster0', 'cube562_cluster0'], ['cube481_cluster0', 'cube482_cluster0'], ['cube481_cluster0', 'cube483_cluster0'], ['cube481_cluster0', 'cube520_cluster0'], ['cube481_cluster0', 'cube521_cluster0'], ['cube481_cluster0', 'cube522_cluster0'], ['cube481_cluster0', 'cube523_cluster0'], ['cube481_cluster0', 'cube524_cluster0'], ['cube482_cluster0', 'cube483_cluster0'], ['cube482_cluster0', 'cube484_cluster0'], ['cube482_cluster0', 'cube521_cluster0'], ['cube482_cluster0', 'cube522_cluster0'], ['cube482_cluster0', 'cube523_cluster0'], ['cube482_cluster0', 'cube524_cluster0'], ['cube482_cluster0', 'cube525_cluster0'], ['cube483_cluster0', 'cube484_cluster0'], ['cube483_cluster0', 'cube485_cluster0'], ['cube483_cluster0', 'cube522_cluster0'], ['cube483_cluster0', 'cube523_cluster0'], ['cube483_cluster0', 'cube524_cluster0'], ['cube483_cluster0', 'cube525_cluster0'], ['cube483_cluster0', 'cube526_cluster0'], ['cube484_cluster0', 'cube485_cluster0'], ['cube484_cluster0', 'cube486_cluster0'], ['cube484_cluster0', 'cube523_cluster0'], ['cube484_cluster0', 'cube524_cluster0'], ['cube484_cluster0', 'cube525_cluster0'], ['cube484_cluster0', 'cube526_cluster0'], ['cube484_cluster0', 'cube527_cluster0'], ['cube484_cluster0', 'cube566_cluster0'], ['cube484_cluster0', 'cube567_cluster0'], ['cube484_cluster0', 'cube568_cluster0'], ['cube485_cluster0', 'cube486_cluster0'], ['cube485_cluster0', 'cube487_cluster0'], ['cube485_cluster0', 'cube524_cluster0'], ['cube485_cluster0', 'cube525_cluster0'], ['cube485_cluster0', 'cube526_cluster0'], ['cube485_cluster0', 'cube527_cluster0'], ['cube485_cluster0', 'cube528_cluster0'], ['cube485_cluster0', 'cube566_cluster0'], ['cube485_cluster0', 'cube567_cluster0'], ['cube485_cluster0', 'cube568_cluster0'], ['cube485_cluster0', 'cube569_cluster0'], ['cube486_cluster0', 'cube487_cluster0'], ['cube486_cluster0', 'cube488_cluster0'], ['cube486_cluster0', 'cube525_cluster0'], ['cube486_cluster0', 'cube526_cluster0'], ['cube486_cluster0', 'cube527_cluster0'], ['cube486_cluster0', 'cube528_cluster0'], ['cube486_cluster0', 'cube529_cluster0'], ['cube486_cluster0', 'cube566_cluster0'], ['cube486_cluster0', 'cube567_cluster0'], ['cube486_cluster0', 'cube568_cluster0'], ['cube486_cluster0', 'cube569_cluster0'], ['cube487_cluster0', 'cube488_cluster0'], ['cube487_cluster0', 'cube489_cluster0'], ['cube487_cluster0', 'cube526_cluster0'], ['cube487_cluster0', 'cube527_cluster0'], ['cube487_cluster0', 'cube528_cluster0'], ['cube487_cluster0', 'cube529_cluster0'], ['cube487_cluster0', 'cube530_cluster0'], ['cube487_cluster0', 'cube567_cluster0'], ['cube487_cluster0', 'cube568_cluster0'], ['cube487_cluster0', 'cube569_cluster0'], ['cube488_cluster0', 'cube489_cluster0'], ['cube488_cluster0', 'cube490_cluster0'], ['cube488_cluster0', 'cube527_cluster0'], ['cube488_cluster0', 'cube528_cluster0'], ['cube488_cluster0', 'cube529_cluster0'], ['cube488_cluster0', 'cube530_cluster0'], ['cube488_cluster0', 'cube531_cluster0'], ['cube489_cluster0', 'cube490_cluster0'], ['cube489_cluster0', 'cube491_cluster0'], ['cube489_cluster0', 'cube528_cluster0'], ['cube489_cluster0', 'cube529_cluster0'], ['cube489_cluster0', 'cube530_cluster0'], ['cube489_cluster0', 'cube531_cluster0'], ['cube489_cluster0', 'cube532_cluster0'], ['cube489_cluster0', 'cube571_cluster0'], ['cube489_cluster0', 'cube572_cluster0'], ['cube489_cluster0', 'cube573_cluster0'], ['cube490_cluster0', 'cube491_cluster0'], ['cube490_cluster0', 'cube492_cluster0'], ['cube490_cluster0', 'cube529_cluster0'], ['cube490_cluster0', 'cube530_cluster0'], ['cube490_cluster0', 'cube531_cluster0'], ['cube490_cluster0', 'cube532_cluster0'], ['cube490_cluster0', 'cube533_cluster0'], ['cube490_cluster0', 'cube571_cluster0'], ['cube490_cluster0', 'cube572_cluster0'], ['cube490_cluster0', 'cube573_cluster0'], ['cube491_cluster0', 'cube492_cluster0'], ['cube491_cluster0', 'cube493_cluster0'], ['cube491_cluster0', 'cube530_cluster0'], ['cube491_cluster0', 'cube531_cluster0'], ['cube491_cluster0', 'cube532_cluster0'], ['cube491_cluster0', 'cube533_cluster0'], ['cube491_cluster0', 'cube534_cluster0'], ['cube491_cluster0', 'cube571_cluster0'], ['cube491_cluster0', 'cube572_cluster0'], ['cube491_cluster0', 'cube573_cluster0'], ['cube492_cluster0', 'cube493_cluster0'], ['cube492_cluster0', 'cube494_cluster0'], ['cube492_cluster0', 'cube531_cluster0'], ['cube492_cluster0', 'cube532_cluster0'], ['cube492_cluster0', 'cube533_cluster0'], ['cube492_cluster0', 'cube534_cluster0'], ['cube492_cluster0', 'cube535_cluster0'], ['cube492_cluster0', 'cube574_cluster0'], ['cube492_cluster0', 'cube575_cluster0'], ['cube492_cluster0', 'cube576_cluster0'], ['cube493_cluster0', 'cube494_cluster0'], ['cube493_cluster0', 'cube495_cluster0'], ['cube493_cluster0', 'cube532_cluster0'], ['cube493_cluster0', 'cube533_cluster0'], ['cube493_cluster0', 'cube534_cluster0'], ['cube493_cluster0', 'cube535_cluster0'], ['cube493_cluster0', 'cube536_cluster0'], ['cube493_cluster0', 'cube574_cluster0'], ['cube493_cluster0', 'cube575_cluster0'], ['cube493_cluster0', 'cube576_cluster0'], ['cube493_cluster0', 'cube577_cluster0'], ['cube494_cluster0', 'cube495_cluster0'], ['cube494_cluster0', 'cube533_cluster0'], ['cube494_cluster0', 'cube534_cluster0'], ['cube494_cluster0', 'cube535_cluster0'], ['cube494_cluster0', 'cube536_cluster0'], ['cube494_cluster0', 'cube574_cluster0'], ['cube494_cluster0', 'cube575_cluster0'], ['cube494_cluster0', 'cube576_cluster0'], ['cube494_cluster0', 'cube577_cluster0'], ['cube495_cluster0', 'cube496_cluster0'], ['cube495_cluster0', 'cube497_cluster0'], ['cube495_cluster0', 'cube534_cluster0'], ['cube495_cluster0', 'cube535_cluster0'], ['cube495_cluster0', 'cube536_cluster0'], ['cube495_cluster0', 'cube537_cluster0'], ['cube495_cluster0', 'cube538_cluster0'], ['cube495_cluster0', 'cube575_cluster0'], ['cube495_cluster0', 'cube576_cluster0'], ['cube495_cluster0', 'cube577_cluster0'], ['cube495_cluster0', 'cube578_cluster0'], ['cube495_cluster0', 'cube579_cluster0'], ['cube496_cluster0', 'cube497_cluster0'], ['cube496_cluster0', 'cube498_cluster0'], ['cube496_cluster0', 'cube536_cluster0'], ['cube496_cluster0', 'cube537_cluster0'], ['cube496_cluster0', 'cube538_cluster0'], ['cube496_cluster0', 'cube539_cluster0'], ['cube496_cluster0', 'cube577_cluster0'], ['cube496_cluster0', 'cube578_cluster0'], ['cube496_cluster0', 'cube579_cluster0'], ['cube496_cluster0', 'cube580_cluster0'], ['cube497_cluster0', 'cube498_cluster0'], ['cube497_cluster0', 'cube499_cluster0'], ['cube497_cluster0', 'cube536_cluster0'], ['cube497_cluster0', 'cube537_cluster0'], ['cube497_cluster0', 'cube538_cluster0'], ['cube497_cluster0', 'cube539_cluster0'], ['cube497_cluster0', 'cube540_cluster0'], ['cube497_cluster0', 'cube577_cluster0'], ['cube497_cluster0', 'cube578_cluster0'], ['cube497_cluster0', 'cube579_cluster0'], ['cube497_cluster0', 'cube580_cluster0'], ['cube498_cluster0', 'cube499_cluster0'], ['cube498_cluster0', 'cube537_cluster0'], ['cube498_cluster0', 'cube538_cluster0'], ['cube498_cluster0', 'cube539_cluster0'], ['cube498_cluster0', 'cube540_cluster0'], ['cube498_cluster0', 'cube578_cluster0'], ['cube498_cluster0', 'cube579_cluster0'], ['cube498_cluster0', 'cube580_cluster0'], ['cube499_cluster0', 'cube538_cluster0'], ['cube499_cluster0', 'cube539_cluster0'], ['cube499_cluster0', 'cube540_cluster0'], ['cube499_cluster0', 'cube541_cluster0'], ['cube499_cluster0', 'cube581_cluster0'], ['cube499_cluster0', 'cube582_cluster0'], ['cube516_cluster0', 'cube517_cluster0'], ['cube516_cluster0', 'cube518_cluster0'], ['cube516_cluster0', 'cube558_cluster0'], ['cube516_cluster0', 'cube559_cluster0'], ['cube517_cluster0', 'cube518_cluster0'], ['cube517_cluster0', 'cube519_cluster0'], ['cube517_cluster0', 'cube558_cluster0'], ['cube517_cluster0', 'cube559_cluster0'], ['cube517_cluster0', 'cube560_cluster0'], ['cube518_cluster0', 'cube519_cluster0'], ['cube518_cluster0', 'cube520_cluster0'], ['cube518_cluster0', 'cube558_cluster0'], ['cube518_cluster0', 'cube559_cluster0'], ['cube518_cluster0', 'cube560_cluster0'], ['cube518_cluster0', 'cube561_cluster0'], ['cube518_cluster0', 'cube597_cluster0'], ['cube519_cluster0', 'cube520_cluster0'], ['cube519_cluster0', 'cube521_cluster0'], ['cube519_cluster0', 'cube558_cluster0'], ['cube519_cluster0', 'cube559_cluster0'], ['cube519_cluster0', 'cube560_cluster0'], ['cube519_cluster0', 'cube561_cluster0'], ['cube519_cluster0', 'cube562_cluster0'], ['cube519_cluster0', 'cube597_cluster0'], ['cube519_cluster0', 'cube598_cluster0'], ['cube520_cluster0', 'cube521_cluster0'], ['cube520_cluster0', 'cube522_cluster0'], ['cube520_cluster0', 'cube559_cluster0'], ['cube520_cluster0', 'cube560_cluster0'], ['cube520_cluster0', 'cube561_cluster0'], ['cube520_cluster0', 'cube562_cluster0'], ['cube520_cluster0', 'cube563_cluster0'], ['cube520_cluster0', 'cube597_cluster0'], ['cube520_cluster0', 'cube598_cluster0'], ['cube520_cluster0', 'cube599_cluster0'], ['cube521_cluster0', 'cube522_cluster0'], ['cube521_cluster0', 'cube523_cluster0'], ['cube521_cluster0', 'cube560_cluster0'], ['cube521_cluster0', 'cube561_cluster0'], ['cube521_cluster0', 'cube562_cluster0'], ['cube521_cluster0', 'cube563_cluster0'], ['cube521_cluster0', 'cube564_cluster0'], ['cube521_cluster0', 'cube597_cluster0'], ['cube521_cluster0', 'cube598_cluster0'], ['cube521_cluster0', 'cube599_cluster0'], ['cube521_cluster0', 'cube600_cluster0'], ['cube522_cluster0', 'cube523_cluster0'], ['cube522_cluster0', 'cube524_cluster0'], ['cube522_cluster0', 'cube561_cluster0'], ['cube522_cluster0', 'cube562_cluster0'], ['cube522_cluster0', 'cube563_cluster0'], ['cube522_cluster0', 'cube564_cluster0'], ['cube522_cluster0', 'cube565_cluster0'], ['cube522_cluster0', 'cube597_cluster0'], ['cube522_cluster0', 'cube598_cluster0'], ['cube522_cluster0', 'cube599_cluster0'], ['cube522_cluster0', 'cube600_cluster0'], ['cube522_cluster0', 'cube601_cluster0'], ['cube523_cluster0', 'cube524_cluster0'], ['cube523_cluster0', 'cube525_cluster0'], ['cube523_cluster0', 'cube562_cluster0'], ['cube523_cluster0', 'cube563_cluster0'], ['cube523_cluster0', 'cube564_cluster0'], ['cube523_cluster0', 'cube565_cluster0'], ['cube523_cluster0', 'cube566_cluster0'], ['cube523_cluster0', 'cube598_cluster0'], ['cube523_cluster0', 'cube599_cluster0'], ['cube523_cluster0', 'cube600_cluster0'], ['cube523_cluster0', 'cube601_cluster0'], ['cube523_cluster0', 'cube602_cluster0'], ['cube524_cluster0', 'cube525_cluster0'], ['cube524_cluster0', 'cube526_cluster0'], ['cube524_cluster0', 'cube563_cluster0'], ['cube524_cluster0', 'cube564_cluster0'], ['cube524_cluster0', 'cube565_cluster0'], ['cube524_cluster0', 'cube566_cluster0'], ['cube524_cluster0', 'cube567_cluster0'], ['cube524_cluster0', 'cube599_cluster0'], ['cube524_cluster0', 'cube600_cluster0'], ['cube524_cluster0', 'cube601_cluster0'], ['cube524_cluster0', 'cube602_cluster0'], ['cube524_cluster0', 'cube603_cluster0'], ['cube525_cluster0', 'cube526_cluster0'], ['cube525_cluster0', 'cube527_cluster0'], ['cube525_cluster0', 'cube564_cluster0'], ['cube525_cluster0', 'cube565_cluster0'], ['cube525_cluster0', 'cube566_cluster0'], ['cube525_cluster0', 'cube567_cluster0'], ['cube525_cluster0', 'cube568_cluster0'], ['cube525_cluster0', 'cube600_cluster0'], ['cube525_cluster0', 'cube601_cluster0'], ['cube525_cluster0', 'cube602_cluster0'], ['cube525_cluster0', 'cube603_cluster0'], ['cube525_cluster0', 'cube604_cluster0'], ['cube526_cluster0', 'cube527_cluster0'], ['cube526_cluster0', 'cube528_cluster0'], ['cube526_cluster0', 'cube565_cluster0'], ['cube526_cluster0', 'cube566_cluster0'], ['cube526_cluster0', 'cube567_cluster0'], ['cube526_cluster0', 'cube568_cluster0'], ['cube526_cluster0', 'cube569_cluster0'], ['cube526_cluster0', 'cube601_cluster0'], ['cube526_cluster0', 'cube602_cluster0'], ['cube526_cluster0', 'cube603_cluster0'], ['cube526_cluster0', 'cube604_cluster0'], ['cube526_cluster0', 'cube605_cluster0'], ['cube527_cluster0', 'cube528_cluster0'], ['cube527_cluster0', 'cube529_cluster0'], ['cube527_cluster0', 'cube566_cluster0'], ['cube527_cluster0', 'cube567_cluster0'], ['cube527_cluster0', 'cube568_cluster0'], ['cube527_cluster0', 'cube569_cluster0'], ['cube527_cluster0', 'cube602_cluster0'], ['cube527_cluster0', 'cube603_cluster0'], ['cube527_cluster0', 'cube604_cluster0'], ['cube527_cluster0', 'cube605_cluster0'], ['cube528_cluster0', 'cube529_cluster0'], ['cube528_cluster0', 'cube530_cluster0'], ['cube528_cluster0', 'cube567_cluster0'], ['cube528_cluster0', 'cube568_cluster0'], ['cube528_cluster0', 'cube569_cluster0'], ['cube528_cluster0', 'cube570_cluster0'], ['cube528_cluster0', 'cube571_cluster0'], ['cube528_cluster0', 'cube603_cluster0'], ['cube528_cluster0', 'cube604_cluster0'], ['cube528_cluster0', 'cube605_cluster0'], ['cube528_cluster0', 'cube606_cluster0'], ['cube528_cluster0', 'cube607_cluster0'], ['cube529_cluster0', 'cube530_cluster0'], ['cube529_cluster0', 'cube531_cluster0'], ['cube529_cluster0', 'cube569_cluster0'], ['cube529_cluster0', 'cube570_cluster0'], ['cube529_cluster0', 'cube571_cluster0'], ['cube529_cluster0', 'cube572_cluster0'], ['cube529_cluster0', 'cube605_cluster0'], ['cube529_cluster0', 'cube606_cluster0'], ['cube529_cluster0', 'cube607_cluster0'], ['cube529_cluster0', 'cube608_cluster0'], ['cube530_cluster0', 'cube531_cluster0'], ['cube530_cluster0', 'cube532_cluster0'], ['cube530_cluster0', 'cube569_cluster0'], ['cube530_cluster0', 'cube570_cluster0'], ['cube530_cluster0', 'cube571_cluster0'], ['cube530_cluster0', 'cube572_cluster0'], ['cube530_cluster0', 'cube573_cluster0'], ['cube530_cluster0', 'cube605_cluster0'], ['cube530_cluster0', 'cube606_cluster0'], ['cube530_cluster0', 'cube607_cluster0'], ['cube530_cluster0', 'cube608_cluster0'], ['cube531_cluster0', 'cube532_cluster0'], ['cube531_cluster0', 'cube533_cluster0'], ['cube531_cluster0', 'cube570_cluster0'], ['cube531_cluster0', 'cube571_cluster0'], ['cube531_cluster0', 'cube572_cluster0'], ['cube531_cluster0', 'cube573_cluster0'], ['cube531_cluster0', 'cube574_cluster0'], ['cube531_cluster0', 'cube606_cluster0'], ['cube531_cluster0', 'cube607_cluster0'], ['cube531_cluster0', 'cube608_cluster0'], ['cube531_cluster0', 'cube609_cluster0'], ['cube531_cluster0', 'cube610_cluster0'], ['cube532_cluster0', 'cube533_cluster0'], ['cube532_cluster0', 'cube534_cluster0'], ['cube532_cluster0', 'cube571_cluster0'], ['cube532_cluster0', 'cube572_cluster0'], ['cube532_cluster0', 'cube573_cluster0'], ['cube532_cluster0', 'cube574_cluster0'], ['cube532_cluster0', 'cube608_cluster0'], ['cube532_cluster0', 'cube609_cluster0'], ['cube532_cluster0', 'cube610_cluster0'], ['cube533_cluster0', 'cube534_cluster0'], ['cube533_cluster0', 'cube535_cluster0'], ['cube533_cluster0', 'cube572_cluster0'], ['cube533_cluster0', 'cube573_cluster0'], ['cube533_cluster0', 'cube574_cluster0'], ['cube533_cluster0', 'cube575_cluster0'], ['cube533_cluster0', 'cube576_cluster0'], ['cube533_cluster0', 'cube608_cluster0'], ['cube533_cluster0', 'cube609_cluster0'], ['cube533_cluster0', 'cube610_cluster0'], ['cube533_cluster0', 'cube611_cluster0'], ['cube533_cluster0', 'cube612_cluster0'], ['cube534_cluster0', 'cube535_cluster0'], ['cube534_cluster0', 'cube536_cluster0'], ['cube534_cluster0', 'cube574_cluster0'], ['cube534_cluster0', 'cube575_cluster0'], ['cube534_cluster0', 'cube576_cluster0'], ['cube534_cluster0', 'cube577_cluster0'], ['cube534_cluster0', 'cube610_cluster0'], ['cube534_cluster0', 'cube611_cluster0'], ['cube534_cluster0', 'cube612_cluster0'], ['cube535_cluster0', 'cube536_cluster0'], ['cube535_cluster0', 'cube537_cluster0'], ['cube535_cluster0', 'cube574_cluster0'], ['cube535_cluster0', 'cube575_cluster0'], ['cube535_cluster0', 'cube576_cluster0'], ['cube535_cluster0', 'cube577_cluster0'], ['cube535_cluster0', 'cube578_cluster0'], ['cube535_cluster0', 'cube610_cluster0'], ['cube535_cluster0', 'cube611_cluster0'], ['cube535_cluster0', 'cube612_cluster0'], ['cube535_cluster0', 'cube613_cluster0'], ['cube535_cluster0', 'cube614_cluster0'], ['cube536_cluster0', 'cube537_cluster0'], ['cube536_cluster0', 'cube538_cluster0'], ['cube536_cluster0', 'cube575_cluster0'], ['cube536_cluster0', 'cube576_cluster0'], ['cube536_cluster0', 'cube577_cluster0'], ['cube536_cluster0', 'cube578_cluster0'], ['cube536_cluster0', 'cube579_cluster0'], ['cube536_cluster0', 'cube612_cluster0'], ['cube536_cluster0', 'cube613_cluster0'], ['cube536_cluster0', 'cube614_cluster0'], ['cube537_cluster0', 'cube538_cluster0'], ['cube537_cluster0', 'cube539_cluster0'], ['cube537_cluster0', 'cube576_cluster0'], ['cube537_cluster0', 'cube577_cluster0'], ['cube537_cluster0', 'cube578_cluster0'], ['cube537_cluster0', 'cube579_cluster0'], ['cube537_cluster0', 'cube580_cluster0'], ['cube537_cluster0', 'cube612_cluster0'], ['cube537_cluster0', 'cube613_cluster0'], ['cube537_cluster0', 'cube614_cluster0'], ['cube537_cluster0', 'cube615_cluster0'], ['cube537_cluster0', 'cube616_cluster0'], ['cube538_cluster0', 'cube539_cluster0'], ['cube538_cluster0', 'cube540_cluster0'], ['cube538_cluster0', 'cube577_cluster0'], ['cube538_cluster0', 'cube578_cluster0'], ['cube538_cluster0', 'cube579_cluster0'], ['cube538_cluster0', 'cube580_cluster0'], ['cube538_cluster0', 'cube581_cluster0'], ['cube538_cluster0', 'cube614_cluster0'], ['cube538_cluster0', 'cube615_cluster0'], ['cube538_cluster0', 'cube616_cluster0'], ['cube538_cluster0', 'cube617_cluster0'], ['cube539_cluster0', 'cube540_cluster0'], ['cube539_cluster0', 'cube541_cluster0'], ['cube539_cluster0', 'cube578_cluster0'], ['cube539_cluster0', 'cube579_cluster0'], ['cube539_cluster0', 'cube580_cluster0'], ['cube539_cluster0', 'cube581_cluster0'], ['cube539_cluster0', 'cube582_cluster0'], ['cube539_cluster0', 'cube614_cluster0'], ['cube539_cluster0', 'cube615_cluster0'], ['cube539_cluster0', 'cube616_cluster0'], ['cube539_cluster0', 'cube617_cluster0'], ['cube539_cluster0', 'cube618_cluster0'], ['cube540_cluster0', 'cube541_cluster0'], ['cube540_cluster0', 'cube579_cluster0'], ['cube540_cluster0', 'cube580_cluster0'], ['cube540_cluster0', 'cube581_cluster0'], ['cube540_cluster0', 'cube582_cluster0'], ['cube540_cluster0', 'cube615_cluster0'], ['cube540_cluster0', 'cube616_cluster0'], ['cube540_cluster0', 'cube617_cluster0'], ['cube540_cluster0', 'cube618_cluster0'], ['cube541_cluster0', 'cube580_cluster0'], ['cube541_cluster0', 'cube581_cluster0'], ['cube541_cluster0', 'cube582_cluster0'], ['cube541_cluster0', 'cube616_cluster0'], ['cube541_cluster0', 'cube617_cluster0'], ['cube541_cluster0', 'cube618_cluster0'], ['cube541_cluster0', 'cube619_cluster0'], ['cube541_cluster0', 'cube620_cluster0'], ['cube558_cluster0', 'cube559_cluster0'], ['cube558_cluster0', 'cube560_cluster0'], ['cube559_cluster0', 'cube560_cluster0'], ['cube559_cluster0', 'cube561_cluster0'], ['cube559_cluster0', 'cube597_cluster0'], ['cube560_cluster0', 'cube561_cluster0'], ['cube560_cluster0', 'cube562_cluster0'], ['cube560_cluster0', 'cube597_cluster0'], ['cube560_cluster0', 'cube598_cluster0'], ['cube561_cluster0', 'cube562_cluster0'], ['cube561_cluster0', 'cube563_cluster0'], ['cube561_cluster0', 'cube597_cluster0'], ['cube561_cluster0', 'cube598_cluster0'], ['cube561_cluster0', 'cube599_cluster0'], ['cube561_cluster0', 'cube629_cluster0'], ['cube561_cluster0', 'cube630_cluster0'], ['cube561_cluster0', 'cube631_cluster0'], ['cube562_cluster0', 'cube563_cluster0'], ['cube562_cluster0', 'cube564_cluster0'], ['cube562_cluster0', 'cube597_cluster0'], ['cube562_cluster0', 'cube598_cluster0'], ['cube562_cluster0', 'cube599_cluster0'], ['cube562_cluster0', 'cube600_cluster0'], ['cube562_cluster0', 'cube629_cluster0'], ['cube562_cluster0', 'cube630_cluster0'], ['cube562_cluster0', 'cube631_cluster0'], ['cube563_cluster0', 'cube564_cluster0'], ['cube563_cluster0', 'cube565_cluster0'], ['cube563_cluster0', 'cube597_cluster0'], ['cube563_cluster0', 'cube598_cluster0'], ['cube563_cluster0', 'cube599_cluster0'], ['cube563_cluster0', 'cube600_cluster0'], ['cube563_cluster0', 'cube601_cluster0'], ['cube563_cluster0', 'cube629_cluster0'], ['cube563_cluster0', 'cube630_cluster0'], ['cube563_cluster0', 'cube631_cluster0'], ['cube563_cluster0', 'cube632_cluster0'], ['cube563_cluster0', 'cube633_cluster0'], ['cube564_cluster0', 'cube565_cluster0'], ['cube564_cluster0', 'cube566_cluster0'], ['cube564_cluster0', 'cube598_cluster0'], ['cube564_cluster0', 'cube599_cluster0'], ['cube564_cluster0', 'cube600_cluster0'], ['cube564_cluster0', 'cube601_cluster0'], ['cube564_cluster0', 'cube602_cluster0'], ['cube564_cluster0', 'cube631_cluster0'], ['cube564_cluster0', 'cube632_cluster0'], ['cube564_cluster0', 'cube633_cluster0'], ['cube565_cluster0', 'cube566_cluster0'], ['cube565_cluster0', 'cube567_cluster0'], ['cube565_cluster0', 'cube599_cluster0'], ['cube565_cluster0', 'cube600_cluster0'], ['cube565_cluster0', 'cube601_cluster0'], ['cube565_cluster0', 'cube602_cluster0'], ['cube565_cluster0', 'cube603_cluster0'], ['cube565_cluster0', 'cube631_cluster0'], ['cube565_cluster0', 'cube632_cluster0'], ['cube565_cluster0', 'cube633_cluster0'], ['cube566_cluster0', 'cube567_cluster0'], ['cube566_cluster0', 'cube568_cluster0'], ['cube566_cluster0', 'cube600_cluster0'], ['cube566_cluster0', 'cube601_cluster0'], ['cube566_cluster0', 'cube602_cluster0'], ['cube566_cluster0', 'cube603_cluster0'], ['cube566_cluster0', 'cube604_cluster0'], ['cube566_cluster0', 'cube635_cluster0'], ['cube567_cluster0', 'cube568_cluster0'], ['cube567_cluster0', 'cube569_cluster0'], ['cube567_cluster0', 'cube601_cluster0'], ['cube567_cluster0', 'cube602_cluster0'], ['cube567_cluster0', 'cube603_cluster0'], ['cube567_cluster0', 'cube604_cluster0'], ['cube567_cluster0', 'cube605_cluster0'], ['cube567_cluster0', 'cube635_cluster0'], ['cube567_cluster0', 'cube636_cluster0'], ['cube567_cluster0', 'cube637_cluster0'], ['cube568_cluster0', 'cube569_cluster0'], ['cube568_cluster0', 'cube570_cluster0'], ['cube568_cluster0', 'cube602_cluster0'], ['cube568_cluster0', 'cube603_cluster0'], ['cube568_cluster0', 'cube604_cluster0'], ['cube568_cluster0', 'cube605_cluster0'], ['cube568_cluster0', 'cube606_cluster0'], ['cube568_cluster0', 'cube635_cluster0'], ['cube568_cluster0', 'cube636_cluster0'], ['cube568_cluster0', 'cube637_cluster0'], ['cube568_cluster0', 'cube638_cluster0'], ['cube569_cluster0', 'cube570_cluster0'], ['cube569_cluster0', 'cube571_cluster0'], ['cube569_cluster0', 'cube603_cluster0'], ['cube569_cluster0', 'cube604_cluster0'], ['cube569_cluster0', 'cube605_cluster0'], ['cube569_cluster0', 'cube606_cluster0'], ['cube569_cluster0', 'cube607_cluster0'], ['cube569_cluster0', 'cube635_cluster0'], ['cube569_cluster0', 'cube636_cluster0'], ['cube569_cluster0', 'cube637_cluster0'], ['cube569_cluster0', 'cube638_cluster0'], ['cube569_cluster0', 'cube639_cluster0'], ['cube570_cluster0', 'cube571_cluster0'], ['cube570_cluster0', 'cube572_cluster0'], ['cube570_cluster0', 'cube604_cluster0'], ['cube570_cluster0', 'cube605_cluster0'], ['cube570_cluster0', 'cube606_cluster0'], ['cube570_cluster0', 'cube607_cluster0'], ['cube570_cluster0', 'cube608_cluster0'], ['cube570_cluster0', 'cube636_cluster0'], ['cube570_cluster0', 'cube637_cluster0'], ['cube570_cluster0', 'cube638_cluster0'], ['cube570_cluster0', 'cube639_cluster0'], ['cube570_cluster0', 'cube640_cluster0'], ['cube571_cluster0', 'cube572_cluster0'], ['cube571_cluster0', 'cube573_cluster0'], ['cube571_cluster0', 'cube605_cluster0'], ['cube571_cluster0', 'cube606_cluster0'], ['cube571_cluster0', 'cube607_cluster0'], ['cube571_cluster0', 'cube608_cluster0'], ['cube571_cluster0', 'cube609_cluster0'], ['cube571_cluster0', 'cube637_cluster0'], ['cube571_cluster0', 'cube638_cluster0'], ['cube571_cluster0', 'cube639_cluster0'], ['cube571_cluster0', 'cube640_cluster0'], ['cube571_cluster0', 'cube641_cluster0'], ['cube572_cluster0', 'cube573_cluster0'], ['cube572_cluster0', 'cube574_cluster0'], ['cube572_cluster0', 'cube606_cluster0'], ['cube572_cluster0', 'cube607_cluster0'], ['cube572_cluster0', 'cube608_cluster0'], ['cube572_cluster0', 'cube609_cluster0'], ['cube572_cluster0', 'cube610_cluster0'], ['cube572_cluster0', 'cube638_cluster0'], ['cube572_cluster0', 'cube639_cluster0'], ['cube572_cluster0', 'cube640_cluster0'], ['cube572_cluster0', 'cube641_cluster0'], ['cube572_cluster0', 'cube642_cluster0'], ['cube573_cluster0', 'cube574_cluster0'], ['cube573_cluster0', 'cube575_cluster0'], ['cube573_cluster0', 'cube607_cluster0'], ['cube573_cluster0', 'cube608_cluster0'], ['cube573_cluster0', 'cube609_cluster0'], ['cube573_cluster0', 'cube610_cluster0'], ['cube573_cluster0', 'cube611_cluster0'], ['cube573_cluster0', 'cube639_cluster0'], ['cube573_cluster0', 'cube640_cluster0'], ['cube573_cluster0', 'cube641_cluster0'], ['cube573_cluster0', 'cube642_cluster0'], ['cube573_cluster0', 'cube643_cluster0'], ['cube574_cluster0', 'cube575_cluster0'], ['cube574_cluster0', 'cube576_cluster0'], ['cube574_cluster0', 'cube608_cluster0'], ['cube574_cluster0', 'cube609_cluster0'], ['cube574_cluster0', 'cube610_cluster0'], ['cube574_cluster0', 'cube611_cluster0'], ['cube574_cluster0', 'cube612_cluster0'], ['cube574_cluster0', 'cube640_cluster0'], ['cube574_cluster0', 'cube641_cluster0'], ['cube574_cluster0', 'cube642_cluster0'], ['cube574_cluster0', 'cube643_cluster0'], ['cube574_cluster0', 'cube644_cluster0'], ['cube575_cluster0', 'cube576_cluster0'], ['cube575_cluster0', 'cube577_cluster0'], ['cube575_cluster0', 'cube609_cluster0'], ['cube575_cluster0', 'cube610_cluster0'], ['cube575_cluster0', 'cube611_cluster0'], ['cube575_cluster0', 'cube612_cluster0'], ['cube575_cluster0', 'cube613_cluster0'], ['cube575_cluster0', 'cube641_cluster0'], ['cube575_cluster0', 'cube642_cluster0'], ['cube575_cluster0', 'cube643_cluster0'], ['cube575_cluster0', 'cube644_cluster0'], ['cube575_cluster0', 'cube645_cluster0'], ['cube576_cluster0', 'cube577_cluster0'], ['cube576_cluster0', 'cube578_cluster0'], ['cube576_cluster0', 'cube610_cluster0'], ['cube576_cluster0', 'cube611_cluster0'], ['cube576_cluster0', 'cube612_cluster0'], ['cube576_cluster0', 'cube613_cluster0'], ['cube576_cluster0', 'cube614_cluster0'], ['cube576_cluster0', 'cube642_cluster0'], ['cube576_cluster0', 'cube643_cluster0'], ['cube576_cluster0', 'cube644_cluster0'], ['cube576_cluster0', 'cube645_cluster0'], ['cube577_cluster0', 'cube578_cluster0'], ['cube577_cluster0', 'cube579_cluster0'], ['cube577_cluster0', 'cube611_cluster0'], ['cube577_cluster0', 'cube612_cluster0'], ['cube577_cluster0', 'cube613_cluster0'], ['cube577_cluster0', 'cube614_cluster0'], ['cube577_cluster0', 'cube643_cluster0'], ['cube577_cluster0', 'cube644_cluster0'], ['cube577_cluster0', 'cube645_cluster0'], ['cube578_cluster0', 'cube579_cluster0'], ['cube578_cluster0', 'cube580_cluster0'], ['cube578_cluster0', 'cube612_cluster0'], ['cube578_cluster0', 'cube613_cluster0'], ['cube578_cluster0', 'cube614_cluster0'], ['cube578_cluster0', 'cube615_cluster0'], ['cube578_cluster0', 'cube616_cluster0'], ['cube579_cluster0', 'cube580_cluster0'], ['cube579_cluster0', 'cube581_cluster0'], ['cube579_cluster0', 'cube614_cluster0'], ['cube579_cluster0', 'cube615_cluster0'], ['cube579_cluster0', 'cube616_cluster0'], ['cube579_cluster0', 'cube617_cluster0'], ['cube579_cluster0', 'cube647_cluster0'], ['cube579_cluster0', 'cube648_cluster0'], ['cube579_cluster0', 'cube649_cluster0'], ['cube580_cluster0', 'cube581_cluster0'], ['cube580_cluster0', 'cube582_cluster0'], ['cube580_cluster0', 'cube614_cluster0'], ['cube580_cluster0', 'cube615_cluster0'], ['cube580_cluster0', 'cube616_cluster0'], ['cube580_cluster0', 'cube617_cluster0'], ['cube580_cluster0', 'cube618_cluster0'], ['cube580_cluster0', 'cube647_cluster0'], ['cube580_cluster0', 'cube648_cluster0'], ['cube580_cluster0', 'cube649_cluster0'], ['cube581_cluster0', 'cube582_cluster0'], ['cube581_cluster0', 'cube615_cluster0'], ['cube581_cluster0', 'cube616_cluster0'], ['cube581_cluster0', 'cube617_cluster0'], ['cube581_cluster0', 'cube618_cluster0'], ['cube581_cluster0', 'cube647_cluster0'], ['cube581_cluster0', 'cube648_cluster0'], ['cube581_cluster0', 'cube649_cluster0'], ['cube582_cluster0', 'cube616_cluster0'], ['cube582_cluster0', 'cube617_cluster0'], ['cube582_cluster0', 'cube618_cluster0'], ['cube582_cluster0', 'cube619_cluster0'], ['cube582_cluster0', 'cube620_cluster0'], ['cube582_cluster0', 'cube650_cluster0'], ['cube582_cluster0', 'cube651_cluster0'], ['cube597_cluster0', 'cube598_cluster0'], ['cube597_cluster0', 'cube599_cluster0'], ['cube597_cluster0', 'cube629_cluster0'], ['cube597_cluster0', 'cube630_cluster0'], ['cube597_cluster0', 'cube631_cluster0'], ['cube597_cluster0', 'cube663_cluster0'], ['cube597_cluster0', 'cube664_cluster0'], ['cube597_cluster0', 'cube665_cluster0'], ['cube598_cluster0', 'cube599_cluster0'], ['cube598_cluster0', 'cube600_cluster0'], ['cube598_cluster0', 'cube629_cluster0'], ['cube598_cluster0', 'cube630_cluster0'], ['cube598_cluster0', 'cube631_cluster0'], ['cube598_cluster0', 'cube632_cluster0'], ['cube598_cluster0', 'cube663_cluster0'], ['cube598_cluster0', 'cube664_cluster0'], ['cube598_cluster0', 'cube665_cluster0'], ['cube598_cluster0', 'cube666_cluster0'], ['cube599_cluster0', 'cube600_cluster0'], ['cube599_cluster0', 'cube601_cluster0'], ['cube599_cluster0', 'cube629_cluster0'], ['cube599_cluster0', 'cube630_cluster0'], ['cube599_cluster0', 'cube631_cluster0'], ['cube599_cluster0', 'cube632_cluster0'], ['cube599_cluster0', 'cube633_cluster0'], ['cube599_cluster0', 'cube663_cluster0'], ['cube599_cluster0', 'cube664_cluster0'], ['cube599_cluster0', 'cube665_cluster0'], ['cube599_cluster0', 'cube666_cluster0'], ['cube600_cluster0', 'cube601_cluster0'], ['cube600_cluster0', 'cube602_cluster0'], ['cube600_cluster0', 'cube630_cluster0'], ['cube600_cluster0', 'cube631_cluster0'], ['cube600_cluster0', 'cube632_cluster0'], ['cube600_cluster0', 'cube633_cluster0'], ['cube600_cluster0', 'cube664_cluster0'], ['cube600_cluster0', 'cube665_cluster0'], ['cube600_cluster0', 'cube666_cluster0'], ['cube601_cluster0', 'cube602_cluster0'], ['cube601_cluster0', 'cube603_cluster0'], ['cube601_cluster0', 'cube631_cluster0'], ['cube601_cluster0', 'cube632_cluster0'], ['cube601_cluster0', 'cube633_cluster0'], ['cube602_cluster0', 'cube603_cluster0'], ['cube602_cluster0', 'cube604_cluster0'], ['cube602_cluster0', 'cube635_cluster0'], ['cube603_cluster0', 'cube604_cluster0'], ['cube603_cluster0', 'cube605_cluster0'], ['cube603_cluster0', 'cube635_cluster0'], ['cube603_cluster0', 'cube636_cluster0'], ['cube603_cluster0', 'cube637_cluster0'], ['cube603_cluster0', 'cube669_cluster0'], ['cube603_cluster0', 'cube670_cluster0'], ['cube603_cluster0', 'cube671_cluster0'], ['cube604_cluster0', 'cube605_cluster0'], ['cube604_cluster0', 'cube606_cluster0'], ['cube604_cluster0', 'cube635_cluster0'], ['cube604_cluster0', 'cube636_cluster0'], ['cube604_cluster0', 'cube637_cluster0'], ['cube604_cluster0', 'cube638_cluster0'], ['cube604_cluster0', 'cube669_cluster0'], ['cube604_cluster0', 'cube670_cluster0'], ['cube604_cluster0', 'cube671_cluster0'], ['cube604_cluster0', 'cube672_cluster0'], ['cube605_cluster0', 'cube606_cluster0'], ['cube605_cluster0', 'cube607_cluster0'], ['cube605_cluster0', 'cube635_cluster0'], ['cube605_cluster0', 'cube636_cluster0'], ['cube605_cluster0', 'cube637_cluster0'], ['cube605_cluster0', 'cube638_cluster0'], ['cube605_cluster0', 'cube639_cluster0'], ['cube605_cluster0', 'cube669_cluster0'], ['cube605_cluster0', 'cube670_cluster0'], ['cube605_cluster0', 'cube671_cluster0'], ['cube605_cluster0', 'cube672_cluster0'], ['cube605_cluster0', 'cube673_cluster0'], ['cube606_cluster0', 'cube607_cluster0'], ['cube606_cluster0', 'cube608_cluster0'], ['cube606_cluster0', 'cube636_cluster0'], ['cube606_cluster0', 'cube637_cluster0'], ['cube606_cluster0', 'cube638_cluster0'], ['cube606_cluster0', 'cube639_cluster0'], ['cube606_cluster0', 'cube640_cluster0'], ['cube606_cluster0', 'cube670_cluster0'], ['cube606_cluster0', 'cube671_cluster0'], ['cube606_cluster0', 'cube672_cluster0'], ['cube606_cluster0', 'cube673_cluster0'], ['cube607_cluster0', 'cube608_cluster0'], ['cube607_cluster0', 'cube609_cluster0'], ['cube607_cluster0', 'cube637_cluster0'], ['cube607_cluster0', 'cube638_cluster0'], ['cube607_cluster0', 'cube639_cluster0'], ['cube607_cluster0', 'cube640_cluster0'], ['cube607_cluster0', 'cube641_cluster0'], ['cube607_cluster0', 'cube671_cluster0'], ['cube607_cluster0', 'cube672_cluster0'], ['cube607_cluster0', 'cube673_cluster0'], ['cube607_cluster0', 'cube674_cluster0'], ['cube608_cluster0', 'cube609_cluster0'], ['cube608_cluster0', 'cube610_cluster0'], ['cube608_cluster0', 'cube638_cluster0'], ['cube608_cluster0', 'cube639_cluster0'], ['cube608_cluster0', 'cube640_cluster0'], ['cube608_cluster0', 'cube641_cluster0'], ['cube608_cluster0', 'cube642_cluster0'], ['cube608_cluster0', 'cube673_cluster0'], ['cube608_cluster0', 'cube674_cluster0'], ['cube608_cluster0', 'cube675_cluster0'], ['cube608_cluster0', 'cube676_cluster0'], ['cube609_cluster0', 'cube610_cluster0'], ['cube609_cluster0', 'cube611_cluster0'], ['cube609_cluster0', 'cube639_cluster0'], ['cube609_cluster0', 'cube640_cluster0'], ['cube609_cluster0', 'cube641_cluster0'], ['cube609_cluster0', 'cube642_cluster0'], ['cube609_cluster0', 'cube643_cluster0'], ['cube609_cluster0', 'cube674_cluster0'], ['cube609_cluster0', 'cube675_cluster0'], ['cube609_cluster0', 'cube676_cluster0'], ['cube610_cluster0', 'cube611_cluster0'], ['cube610_cluster0', 'cube612_cluster0'], ['cube610_cluster0', 'cube640_cluster0'], ['cube610_cluster0', 'cube641_cluster0'], ['cube610_cluster0', 'cube642_cluster0'], ['cube610_cluster0', 'cube643_cluster0'], ['cube610_cluster0', 'cube644_cluster0'], ['cube610_cluster0', 'cube674_cluster0'], ['cube610_cluster0', 'cube675_cluster0'], ['cube610_cluster0', 'cube676_cluster0'], ['cube610_cluster0', 'cube677_cluster0'], ['cube610_cluster0', 'cube678_cluster0'], ['cube611_cluster0', 'cube612_cluster0'], ['cube611_cluster0', 'cube613_cluster0'], ['cube611_cluster0', 'cube641_cluster0'], ['cube611_cluster0', 'cube642_cluster0'], ['cube611_cluster0', 'cube643_cluster0'], ['cube611_cluster0', 'cube644_cluster0'], ['cube611_cluster0', 'cube645_cluster0'], ['cube611_cluster0', 'cube676_cluster0'], ['cube611_cluster0', 'cube677_cluster0'], ['cube611_cluster0', 'cube678_cluster0'], ['cube611_cluster0', 'cube679_cluster0'], ['cube612_cluster0', 'cube613_cluster0'], ['cube612_cluster0', 'cube614_cluster0'], ['cube612_cluster0', 'cube642_cluster0'], ['cube612_cluster0', 'cube643_cluster0'], ['cube612_cluster0', 'cube644_cluster0'], ['cube612_cluster0', 'cube645_cluster0'], ['cube612_cluster0', 'cube676_cluster0'], ['cube612_cluster0', 'cube677_cluster0'], ['cube612_cluster0', 'cube678_cluster0'], ['cube612_cluster0', 'cube679_cluster0'], ['cube613_cluster0', 'cube614_cluster0'], ['cube613_cluster0', 'cube615_cluster0'], ['cube613_cluster0', 'cube643_cluster0'], ['cube613_cluster0', 'cube644_cluster0'], ['cube613_cluster0', 'cube645_cluster0'], ['cube613_cluster0', 'cube646_cluster0'], ['cube613_cluster0', 'cube647_cluster0'], ['cube613_cluster0', 'cube677_cluster0'], ['cube613_cluster0', 'cube678_cluster0'], ['cube613_cluster0', 'cube679_cluster0'], ['cube613_cluster0', 'cube680_cluster0'], ['cube613_cluster0', 'cube681_cluster0'], ['cube614_cluster0', 'cube615_cluster0'], ['cube614_cluster0', 'cube616_cluster0'], ['cube614_cluster0', 'cube645_cluster0'], ['cube614_cluster0', 'cube646_cluster0'], ['cube614_cluster0', 'cube647_cluster0'], ['cube614_cluster0', 'cube679_cluster0'], ['cube614_cluster0', 'cube680_cluster0'], ['cube614_cluster0', 'cube681_cluster0'], ['cube615_cluster0', 'cube616_cluster0'], ['cube615_cluster0', 'cube617_cluster0'], ['cube615_cluster0', 'cube645_cluster0'], ['cube615_cluster0', 'cube646_cluster0'], ['cube615_cluster0', 'cube647_cluster0'], ['cube615_cluster0', 'cube648_cluster0'], ['cube615_cluster0', 'cube649_cluster0'], ['cube615_cluster0', 'cube679_cluster0'], ['cube615_cluster0', 'cube680_cluster0'], ['cube615_cluster0', 'cube681_cluster0'], ['cube616_cluster0', 'cube617_cluster0'], ['cube616_cluster0', 'cube618_cluster0'], ['cube616_cluster0', 'cube647_cluster0'], ['cube616_cluster0', 'cube648_cluster0'], ['cube616_cluster0', 'cube649_cluster0'], ['cube617_cluster0', 'cube618_cluster0'], ['cube617_cluster0', 'cube647_cluster0'], ['cube617_cluster0', 'cube648_cluster0'], ['cube617_cluster0', 'cube649_cluster0'], ['cube618_cluster0', 'cube619_cluster0'], ['cube618_cluster0', 'cube620_cluster0'], ['cube618_cluster0', 'cube650_cluster0'], ['cube618_cluster0', 'cube651_cluster0'], ['cube618_cluster0', 'cube652_cluster0'], ['cube618_cluster0', 'cube684_cluster0'], ['cube618_cluster0', 'cube685_cluster0'], ['cube618_cluster0', 'cube686_cluster0'], ['cube619_cluster0', 'cube620_cluster0'], ['cube619_cluster0', 'cube621_cluster0'], ['cube619_cluster0', 'cube650_cluster0'], ['cube619_cluster0', 'cube651_cluster0'], ['cube619_cluster0', 'cube652_cluster0'], ['cube619_cluster0', 'cube653_cluster0'], ['cube619_cluster0', 'cube684_cluster0'], ['cube619_cluster0', 'cube685_cluster0'], ['cube619_cluster0', 'cube686_cluster0'], ['cube620_cluster0', 'cube621_cluster0'], ['cube620_cluster0', 'cube622_cluster0'], ['cube620_cluster0', 'cube650_cluster0'], ['cube620_cluster0', 'cube651_cluster0'], ['cube620_cluster0', 'cube652_cluster0'], ['cube620_cluster0', 'cube653_cluster0'], ['cube620_cluster0', 'cube654_cluster0'], ['cube620_cluster0', 'cube684_cluster0'], ['cube620_cluster0', 'cube685_cluster0'], ['cube620_cluster0', 'cube686_cluster0'], ['cube621_cluster0', 'cube622_cluster0'], ['cube621_cluster0', 'cube651_cluster0'], ['cube621_cluster0', 'cube652_cluster0'], ['cube621_cluster0', 'cube653_cluster0'], ['cube621_cluster0', 'cube654_cluster0'], ['cube621_cluster0', 'cube686_cluster0'], ['cube622_cluster0', 'cube652_cluster0'], ['cube622_cluster0', 'cube653_cluster0'], ['cube622_cluster0', 'cube654_cluster0'], ['cube622_cluster0', 'cube686_cluster0'], ['cube629_cluster0', 'cube630_cluster0'], ['cube629_cluster0', 'cube631_cluster0'], ['cube629_cluster0', 'cube663_cluster0'], ['cube629_cluster0', 'cube664_cluster0'], ['cube629_cluster0', 'cube665_cluster0'], ['cube629_cluster0', 'cube702_cluster0'], ['cube630_cluster0', 'cube631_cluster0'], ['cube630_cluster0', 'cube632_cluster0'], ['cube630_cluster0', 'cube663_cluster0'], ['cube630_cluster0', 'cube664_cluster0'], ['cube630_cluster0', 'cube665_cluster0'], ['cube630_cluster0', 'cube666_cluster0'], ['cube630_cluster0', 'cube702_cluster0'], ['cube631_cluster0', 'cube632_cluster0'], ['cube631_cluster0', 'cube633_cluster0'], ['cube631_cluster0', 'cube663_cluster0'], ['cube631_cluster0', 'cube664_cluster0'], ['cube631_cluster0', 'cube665_cluster0'], ['cube631_cluster0', 'cube666_cluster0'], ['cube631_cluster0', 'cube667_cluster0'], ['cube631_cluster0', 'cube702_cluster0'], ['cube631_cluster0', 'cube705_cluster0'], ['cube631_cluster0', 'cube706_cluster0'], ['cube632_cluster0', 'cube633_cluster0'], ['cube632_cluster0', 'cube664_cluster0'], ['cube632_cluster0', 'cube665_cluster0'], ['cube632_cluster0', 'cube666_cluster0'], ['cube632_cluster0', 'cube667_cluster0'], ['cube632_cluster0', 'cube668_cluster0'], ['cube632_cluster0', 'cube705_cluster0'], ['cube632_cluster0', 'cube706_cluster0'], ['cube633_cluster0', 'cube665_cluster0'], ['cube633_cluster0', 'cube666_cluster0'], ['cube633_cluster0', 'cube667_cluster0'], ['cube633_cluster0', 'cube668_cluster0'], ['cube633_cluster0', 'cube705_cluster0'], ['cube633_cluster0', 'cube706_cluster0'], ['cube635_cluster0', 'cube636_cluster0'], ['cube635_cluster0', 'cube637_cluster0'], ['cube635_cluster0', 'cube669_cluster0'], ['cube635_cluster0', 'cube670_cluster0'], ['cube635_cluster0', 'cube671_cluster0'], ['cube635_cluster0', 'cube708_cluster0'], ['cube635_cluster0', 'cube709_cluster0'], ['cube635_cluster0', 'cube710_cluster0'], ['cube636_cluster0', 'cube637_cluster0'], ['cube636_cluster0', 'cube638_cluster0'], ['cube636_cluster0', 'cube669_cluster0'], ['cube636_cluster0', 'cube670_cluster0'], ['cube636_cluster0', 'cube671_cluster0'], ['cube636_cluster0', 'cube672_cluster0'], ['cube636_cluster0', 'cube708_cluster0'], ['cube636_cluster0', 'cube709_cluster0'], ['cube636_cluster0', 'cube710_cluster0'], ['cube636_cluster0', 'cube711_cluster0'], ['cube637_cluster0', 'cube638_cluster0'], ['cube637_cluster0', 'cube639_cluster0'], ['cube637_cluster0', 'cube669_cluster0'], ['cube637_cluster0', 'cube670_cluster0'], ['cube637_cluster0', 'cube671_cluster0'], ['cube637_cluster0', 'cube672_cluster0'], ['cube637_cluster0', 'cube673_cluster0'], ['cube637_cluster0', 'cube708_cluster0'], ['cube637_cluster0', 'cube709_cluster0'], ['cube637_cluster0', 'cube710_cluster0'], ['cube637_cluster0', 'cube711_cluster0'], ['cube637_cluster0', 'cube712_cluster0'], ['cube638_cluster0', 'cube639_cluster0'], ['cube638_cluster0', 'cube640_cluster0'], ['cube638_cluster0', 'cube670_cluster0'], ['cube638_cluster0', 'cube671_cluster0'], ['cube638_cluster0', 'cube672_cluster0'], ['cube638_cluster0', 'cube673_cluster0'], ['cube638_cluster0', 'cube674_cluster0'], ['cube638_cluster0', 'cube709_cluster0'], ['cube638_cluster0', 'cube710_cluster0'], ['cube638_cluster0', 'cube711_cluster0'], ['cube638_cluster0', 'cube712_cluster0'], ['cube638_cluster0', 'cube713_cluster0'], ['cube639_cluster0', 'cube640_cluster0'], ['cube639_cluster0', 'cube641_cluster0'], ['cube639_cluster0', 'cube671_cluster0'], ['cube639_cluster0', 'cube672_cluster0'], ['cube639_cluster0', 'cube673_cluster0'], ['cube639_cluster0', 'cube674_cluster0'], ['cube639_cluster0', 'cube675_cluster0'], ['cube639_cluster0', 'cube710_cluster0'], ['cube639_cluster0', 'cube711_cluster0'], ['cube639_cluster0', 'cube712_cluster0'], ['cube639_cluster0', 'cube713_cluster0'], ['cube639_cluster0', 'cube714_cluster0'], ['cube640_cluster0', 'cube641_cluster0'], ['cube640_cluster0', 'cube642_cluster0'], ['cube640_cluster0', 'cube672_cluster0'], ['cube640_cluster0', 'cube673_cluster0'], ['cube640_cluster0', 'cube674_cluster0'], ['cube640_cluster0', 'cube675_cluster0'], ['cube640_cluster0', 'cube676_cluster0'], ['cube640_cluster0', 'cube711_cluster0'], ['cube640_cluster0', 'cube712_cluster0'], ['cube640_cluster0', 'cube713_cluster0'], ['cube640_cluster0', 'cube714_cluster0'], ['cube641_cluster0', 'cube642_cluster0'], ['cube641_cluster0', 'cube643_cluster0'], ['cube641_cluster0', 'cube673_cluster0'], ['cube641_cluster0', 'cube674_cluster0'], ['cube641_cluster0', 'cube675_cluster0'], ['cube641_cluster0', 'cube676_cluster0'], ['cube641_cluster0', 'cube677_cluster0'], ['cube641_cluster0', 'cube712_cluster0'], ['cube641_cluster0', 'cube713_cluster0'], ['cube641_cluster0', 'cube714_cluster0'], ['cube641_cluster0', 'cube715_cluster0'], ['cube641_cluster0', 'cube716_cluster0'], ['cube642_cluster0', 'cube643_cluster0'], ['cube642_cluster0', 'cube644_cluster0'], ['cube642_cluster0', 'cube674_cluster0'], ['cube642_cluster0', 'cube675_cluster0'], ['cube642_cluster0', 'cube676_cluster0'], ['cube642_cluster0', 'cube677_cluster0'], ['cube642_cluster0', 'cube678_cluster0'], ['cube642_cluster0', 'cube714_cluster0'], ['cube642_cluster0', 'cube715_cluster0'], ['cube642_cluster0', 'cube716_cluster0'], ['cube642_cluster0', 'cube717_cluster0'], ['cube643_cluster0', 'cube644_cluster0'], ['cube643_cluster0', 'cube645_cluster0'], ['cube643_cluster0', 'cube675_cluster0'], ['cube643_cluster0', 'cube676_cluster0'], ['cube643_cluster0', 'cube677_cluster0'], ['cube643_cluster0', 'cube678_cluster0'], ['cube643_cluster0', 'cube679_cluster0'], ['cube643_cluster0', 'cube714_cluster0'], ['cube643_cluster0', 'cube715_cluster0'], ['cube643_cluster0', 'cube716_cluster0'], ['cube643_cluster0', 'cube717_cluster0'], ['cube643_cluster0', 'cube718_cluster0'], ['cube644_cluster0', 'cube645_cluster0'], ['cube644_cluster0', 'cube676_cluster0'], ['cube644_cluster0', 'cube677_cluster0'], ['cube644_cluster0', 'cube678_cluster0'], ['cube644_cluster0', 'cube679_cluster0'], ['cube644_cluster0', 'cube715_cluster0'], ['cube644_cluster0', 'cube716_cluster0'], ['cube644_cluster0', 'cube717_cluster0'], ['cube644_cluster0', 'cube718_cluster0'], ['cube645_cluster0', 'cube646_cluster0'], ['cube645_cluster0', 'cube647_cluster0'], ['cube645_cluster0', 'cube677_cluster0'], ['cube645_cluster0', 'cube678_cluster0'], ['cube645_cluster0', 'cube679_cluster0'], ['cube645_cluster0', 'cube680_cluster0'], ['cube645_cluster0', 'cube681_cluster0'], ['cube645_cluster0', 'cube716_cluster0'], ['cube645_cluster0', 'cube717_cluster0'], ['cube645_cluster0', 'cube718_cluster0'], ['cube646_cluster0', 'cube647_cluster0'], ['cube646_cluster0', 'cube648_cluster0'], ['cube646_cluster0', 'cube679_cluster0'], ['cube646_cluster0', 'cube680_cluster0'], ['cube646_cluster0', 'cube681_cluster0'], ['cube646_cluster0', 'cube682_cluster0'], ['cube646_cluster0', 'cube718_cluster0'], ['cube646_cluster0', 'cube721_cluster0'], ['cube647_cluster0', 'cube648_cluster0'], ['cube647_cluster0', 'cube649_cluster0'], ['cube647_cluster0', 'cube679_cluster0'], ['cube647_cluster0', 'cube680_cluster0'], ['cube647_cluster0', 'cube681_cluster0'], ['cube647_cluster0', 'cube682_cluster0'], ['cube647_cluster0', 'cube683_cluster0'], ['cube647_cluster0', 'cube721_cluster0'], ['cube647_cluster0', 'cube722_cluster0'], ['cube648_cluster0', 'cube649_cluster0'], ['cube648_cluster0', 'cube680_cluster0'], ['cube648_cluster0', 'cube681_cluster0'], ['cube648_cluster0', 'cube682_cluster0'], ['cube648_cluster0', 'cube683_cluster0'], ['cube648_cluster0', 'cube721_cluster0'], ['cube648_cluster0', 'cube722_cluster0'], ['cube649_cluster0', 'cube650_cluster0'], ['cube649_cluster0', 'cube651_cluster0'], ['cube649_cluster0', 'cube681_cluster0'], ['cube649_cluster0', 'cube682_cluster0'], ['cube649_cluster0', 'cube683_cluster0'], ['cube649_cluster0', 'cube684_cluster0'], ['cube649_cluster0', 'cube685_cluster0'], ['cube649_cluster0', 'cube721_cluster0'], ['cube649_cluster0', 'cube722_cluster0'], ['cube649_cluster0', 'cube723_cluster0'], ['cube650_cluster0', 'cube651_cluster0'], ['cube650_cluster0', 'cube652_cluster0'], ['cube650_cluster0', 'cube683_cluster0'], ['cube650_cluster0', 'cube684_cluster0'], ['cube650_cluster0', 'cube685_cluster0'], ['cube650_cluster0', 'cube686_cluster0'], ['cube650_cluster0', 'cube722_cluster0'], ['cube650_cluster0', 'cube723_cluster0'], ['cube651_cluster0', 'cube652_cluster0'], ['cube651_cluster0', 'cube653_cluster0'], ['cube651_cluster0', 'cube683_cluster0'], ['cube651_cluster0', 'cube684_cluster0'], ['cube651_cluster0', 'cube685_cluster0'], ['cube651_cluster0', 'cube686_cluster0'], ['cube651_cluster0', 'cube722_cluster0'], ['cube651_cluster0', 'cube723_cluster0'], ['cube652_cluster0', 'cube653_cluster0'], ['cube652_cluster0', 'cube654_cluster0'], ['cube652_cluster0', 'cube684_cluster0'], ['cube652_cluster0', 'cube685_cluster0'], ['cube652_cluster0', 'cube686_cluster0'], ['cube652_cluster0', 'cube723_cluster0'], ['cube653_cluster0', 'cube654_cluster0'], ['cube653_cluster0', 'cube686_cluster0'], ['cube654_cluster0', 'cube686_cluster0'], ['cube663_cluster0', 'cube664_cluster0'], ['cube663_cluster0', 'cube665_cluster0'], ['cube663_cluster0', 'cube701_cluster0'], ['cube663_cluster0', 'cube702_cluster0'], ['cube663_cluster0', 'cube738_cluster0'], ['cube664_cluster0', 'cube665_cluster0'], ['cube664_cluster0', 'cube666_cluster0'], ['cube664_cluster0', 'cube701_cluster0'], ['cube664_cluster0', 'cube702_cluster0'], ['cube664_cluster0', 'cube738_cluster0'], ['cube665_cluster0', 'cube666_cluster0'], ['cube665_cluster0', 'cube667_cluster0'], ['cube665_cluster0', 'cube702_cluster0'], ['cube665_cluster0', 'cube705_cluster0'], ['cube665_cluster0', 'cube706_cluster0'], ['cube666_cluster0', 'cube667_cluster0'], ['cube666_cluster0', 'cube668_cluster0'], ['cube666_cluster0', 'cube705_cluster0'], ['cube666_cluster0', 'cube706_cluster0'], ['cube666_cluster0', 'cube707_cluster0'], ['cube666_cluster0', 'cube743_cluster0'], ['cube666_cluster0', 'cube744_cluster0'], ['cube667_cluster0', 'cube668_cluster0'], ['cube667_cluster0', 'cube669_cluster0'], ['cube667_cluster0', 'cube705_cluster0'], ['cube667_cluster0', 'cube706_cluster0'], ['cube667_cluster0', 'cube707_cluster0'], ['cube667_cluster0', 'cube708_cluster0'], ['cube667_cluster0', 'cube743_cluster0'], ['cube667_cluster0', 'cube744_cluster0'], ['cube667_cluster0', 'cube745_cluster0'], ['cube668_cluster0', 'cube669_cluster0'], ['cube668_cluster0', 'cube705_cluster0'], ['cube668_cluster0', 'cube706_cluster0'], ['cube668_cluster0', 'cube707_cluster0'], ['cube668_cluster0', 'cube708_cluster0'], ['cube668_cluster0', 'cube743_cluster0'], ['cube668_cluster0', 'cube744_cluster0'], ['cube668_cluster0', 'cube745_cluster0'], ['cube669_cluster0', 'cube670_cluster0'], ['cube669_cluster0', 'cube671_cluster0'], ['cube669_cluster0', 'cube706_cluster0'], ['cube669_cluster0', 'cube707_cluster0'], ['cube669_cluster0', 'cube708_cluster0'], ['cube669_cluster0', 'cube709_cluster0'], ['cube669_cluster0', 'cube710_cluster0'], ['cube669_cluster0', 'cube743_cluster0'], ['cube669_cluster0', 'cube744_cluster0'], ['cube669_cluster0', 'cube745_cluster0'], ['cube669_cluster0', 'cube746_cluster0'], ['cube670_cluster0', 'cube671_cluster0'], ['cube670_cluster0', 'cube672_cluster0'], ['cube670_cluster0', 'cube708_cluster0'], ['cube670_cluster0', 'cube709_cluster0'], ['cube670_cluster0', 'cube710_cluster0'], ['cube670_cluster0', 'cube711_cluster0'], ['cube670_cluster0', 'cube745_cluster0'], ['cube670_cluster0', 'cube746_cluster0'], ['cube670_cluster0', 'cube747_cluster0'], ['cube670_cluster0', 'cube748_cluster0'], ['cube671_cluster0', 'cube672_cluster0'], ['cube671_cluster0', 'cube673_cluster0'], ['cube671_cluster0', 'cube708_cluster0'], ['cube671_cluster0', 'cube709_cluster0'], ['cube671_cluster0', 'cube710_cluster0'], ['cube671_cluster0', 'cube711_cluster0'], ['cube671_cluster0', 'cube712_cluster0'], ['cube671_cluster0', 'cube746_cluster0'], ['cube671_cluster0', 'cube747_cluster0'], ['cube671_cluster0', 'cube748_cluster0'], ['cube671_cluster0', 'cube749_cluster0'], ['cube672_cluster0', 'cube673_cluster0'], ['cube672_cluster0', 'cube674_cluster0'], ['cube672_cluster0', 'cube709_cluster0'], ['cube672_cluster0', 'cube710_cluster0'], ['cube672_cluster0', 'cube711_cluster0'], ['cube672_cluster0', 'cube712_cluster0'], ['cube672_cluster0', 'cube713_cluster0'], ['cube672_cluster0', 'cube746_cluster0'], ['cube672_cluster0', 'cube747_cluster0'], ['cube672_cluster0', 'cube748_cluster0'], ['cube672_cluster0', 'cube749_cluster0'], ['cube673_cluster0', 'cube674_cluster0'], ['cube673_cluster0', 'cube675_cluster0'], ['cube673_cluster0', 'cube710_cluster0'], ['cube673_cluster0', 'cube711_cluster0'], ['cube673_cluster0', 'cube712_cluster0'], ['cube673_cluster0', 'cube713_cluster0'], ['cube673_cluster0', 'cube714_cluster0'], ['cube673_cluster0', 'cube747_cluster0'], ['cube673_cluster0', 'cube748_cluster0'], ['cube673_cluster0', 'cube749_cluster0'], ['cube673_cluster0', 'cube750_cluster0'], ['cube673_cluster0', 'cube751_cluster0'], ['cube674_cluster0', 'cube675_cluster0'], ['cube674_cluster0', 'cube676_cluster0'], ['cube674_cluster0', 'cube711_cluster0'], ['cube674_cluster0', 'cube712_cluster0'], ['cube674_cluster0', 'cube713_cluster0'], ['cube674_cluster0', 'cube714_cluster0'], ['cube674_cluster0', 'cube715_cluster0'], ['cube674_cluster0', 'cube749_cluster0'], ['cube674_cluster0', 'cube750_cluster0'], ['cube674_cluster0', 'cube751_cluster0'], ['cube674_cluster0', 'cube752_cluster0'], ['cube675_cluster0', 'cube676_cluster0'], ['cube675_cluster0', 'cube677_cluster0'], ['cube675_cluster0', 'cube712_cluster0'], ['cube675_cluster0', 'cube713_cluster0'], ['cube675_cluster0', 'cube714_cluster0'], ['cube675_cluster0', 'cube715_cluster0'], ['cube675_cluster0', 'cube716_cluster0'], ['cube675_cluster0', 'cube749_cluster0'], ['cube675_cluster0', 'cube750_cluster0'], ['cube675_cluster0', 'cube751_cluster0'], ['cube675_cluster0', 'cube752_cluster0'], ['cube675_cluster0', 'cube753_cluster0'], ['cube676_cluster0', 'cube677_cluster0'], ['cube676_cluster0', 'cube678_cluster0'], ['cube676_cluster0', 'cube713_cluster0'], ['cube676_cluster0', 'cube714_cluster0'], ['cube676_cluster0', 'cube715_cluster0'], ['cube676_cluster0', 'cube716_cluster0'], ['cube676_cluster0', 'cube717_cluster0'], ['cube676_cluster0', 'cube750_cluster0'], ['cube676_cluster0', 'cube751_cluster0'], ['cube676_cluster0', 'cube752_cluster0'], ['cube676_cluster0', 'cube753_cluster0'], ['cube677_cluster0', 'cube678_cluster0'], ['cube677_cluster0', 'cube679_cluster0'], ['cube677_cluster0', 'cube714_cluster0'], ['cube677_cluster0', 'cube715_cluster0'], ['cube677_cluster0', 'cube716_cluster0'], ['cube677_cluster0', 'cube717_cluster0'], ['cube677_cluster0', 'cube718_cluster0'], ['cube677_cluster0', 'cube751_cluster0'], ['cube677_cluster0', 'cube752_cluster0'], ['cube677_cluster0', 'cube753_cluster0'], ['cube677_cluster0', 'cube754_cluster0'], ['cube678_cluster0', 'cube679_cluster0'], ['cube678_cluster0', 'cube680_cluster0'], ['cube678_cluster0', 'cube715_cluster0'], ['cube678_cluster0', 'cube716_cluster0'], ['cube678_cluster0', 'cube717_cluster0'], ['cube678_cluster0', 'cube718_cluster0'], ['cube678_cluster0', 'cube753_cluster0'], ['cube678_cluster0', 'cube754_cluster0'], ['cube678_cluster0', 'cube755_cluster0'], ['cube679_cluster0', 'cube680_cluster0'], ['cube679_cluster0', 'cube681_cluster0'], ['cube679_cluster0', 'cube716_cluster0'], ['cube679_cluster0', 'cube717_cluster0'], ['cube679_cluster0', 'cube718_cluster0'], ['cube679_cluster0', 'cube754_cluster0'], ['cube679_cluster0', 'cube755_cluster0'], ['cube680_cluster0', 'cube681_cluster0'], ['cube680_cluster0', 'cube682_cluster0'], ['cube680_cluster0', 'cube717_cluster0'], ['cube680_cluster0', 'cube718_cluster0'], ['cube680_cluster0', 'cube721_cluster0'], ['cube681_cluster0', 'cube682_cluster0'], ['cube681_cluster0', 'cube683_cluster0'], ['cube681_cluster0', 'cube721_cluster0'], ['cube681_cluster0', 'cube722_cluster0'], ['cube682_cluster0', 'cube683_cluster0'], ['cube682_cluster0', 'cube684_cluster0'], ['cube682_cluster0', 'cube721_cluster0'], ['cube682_cluster0', 'cube722_cluster0'], ['cube682_cluster0', 'cube723_cluster0'], ['cube682_cluster0', 'cube760_cluster0'], ['cube683_cluster0', 'cube684_cluster0'], ['cube683_cluster0', 'cube685_cluster0'], ['cube683_cluster0', 'cube721_cluster0'], ['cube683_cluster0', 'cube722_cluster0'], ['cube683_cluster0', 'cube723_cluster0'], ['cube683_cluster0', 'cube760_cluster0'], ['cube684_cluster0', 'cube685_cluster0'], ['cube684_cluster0', 'cube686_cluster0'], ['cube684_cluster0', 'cube721_cluster0'], ['cube684_cluster0', 'cube722_cluster0'], ['cube684_cluster0', 'cube723_cluster0'], ['cube684_cluster0', 'cube760_cluster0'], ['cube685_cluster0', 'cube686_cluster0'], ['cube685_cluster0', 'cube722_cluster0'], ['cube685_cluster0', 'cube723_cluster0'], ['cube685_cluster0', 'cube762_cluster0'], ['cube686_cluster0', 'cube723_cluster0'], ['cube686_cluster0', 'cube762_cluster0'], ['cube701_cluster0', 'cube702_cluster0'], ['cube701_cluster0', 'cube738_cluster0'], ['cube702_cluster0', 'cube738_cluster0'], ['cube705_cluster0', 'cube706_cluster0'], ['cube705_cluster0', 'cube707_cluster0'], ['cube705_cluster0', 'cube743_cluster0'], ['cube705_cluster0', 'cube744_cluster0'], ['cube705_cluster0', 'cube778_cluster0'], ['cube705_cluster0', 'cube779_cluster0'], ['cube706_cluster0', 'cube707_cluster0'], ['cube706_cluster0', 'cube708_cluster0'], ['cube706_cluster0', 'cube743_cluster0'], ['cube706_cluster0', 'cube744_cluster0'], ['cube706_cluster0', 'cube745_cluster0'], ['cube706_cluster0', 'cube778_cluster0'], ['cube706_cluster0', 'cube779_cluster0'], ['cube707_cluster0', 'cube708_cluster0'], ['cube707_cluster0', 'cube709_cluster0'], ['cube707_cluster0', 'cube743_cluster0'], ['cube707_cluster0', 'cube744_cluster0'], ['cube707_cluster0', 'cube745_cluster0'], ['cube707_cluster0', 'cube746_cluster0'], ['cube708_cluster0', 'cube709_cluster0'], ['cube708_cluster0', 'cube710_cluster0'], ['cube708_cluster0', 'cube743_cluster0'], ['cube708_cluster0', 'cube744_cluster0'], ['cube708_cluster0', 'cube745_cluster0'], ['cube708_cluster0', 'cube746_cluster0'], ['cube709_cluster0', 'cube710_cluster0'], ['cube709_cluster0', 'cube711_cluster0'], ['cube709_cluster0', 'cube744_cluster0'], ['cube709_cluster0', 'cube745_cluster0'], ['cube709_cluster0', 'cube746_cluster0'], ['cube709_cluster0', 'cube747_cluster0'], ['cube709_cluster0', 'cube748_cluster0'], ['cube709_cluster0', 'cube782_cluster0'], ['cube709_cluster0', 'cube783_cluster0'], ['cube709_cluster0', 'cube784_cluster0'], ['cube710_cluster0', 'cube711_cluster0'], ['cube710_cluster0', 'cube712_cluster0'], ['cube710_cluster0', 'cube746_cluster0'], ['cube710_cluster0', 'cube747_cluster0'], ['cube710_cluster0', 'cube748_cluster0'], ['cube710_cluster0', 'cube749_cluster0'], ['cube710_cluster0', 'cube782_cluster0'], ['cube710_cluster0', 'cube783_cluster0'], ['cube710_cluster0', 'cube784_cluster0'], ['cube710_cluster0', 'cube785_cluster0'], ['cube711_cluster0', 'cube712_cluster0'], ['cube711_cluster0', 'cube713_cluster0'], ['cube711_cluster0', 'cube746_cluster0'], ['cube711_cluster0', 'cube747_cluster0'], ['cube711_cluster0', 'cube748_cluster0'], ['cube711_cluster0', 'cube749_cluster0'], ['cube711_cluster0', 'cube750_cluster0'], ['cube711_cluster0', 'cube782_cluster0'], ['cube711_cluster0', 'cube783_cluster0'], ['cube711_cluster0', 'cube784_cluster0'], ['cube711_cluster0', 'cube785_cluster0'], ['cube711_cluster0', 'cube786_cluster0'], ['cube712_cluster0', 'cube713_cluster0'], ['cube712_cluster0', 'cube714_cluster0'], ['cube712_cluster0', 'cube747_cluster0'], ['cube712_cluster0', 'cube748_cluster0'], ['cube712_cluster0', 'cube749_cluster0'], ['cube712_cluster0', 'cube750_cluster0'], ['cube712_cluster0', 'cube751_cluster0'], ['cube712_cluster0', 'cube783_cluster0'], ['cube712_cluster0', 'cube784_cluster0'], ['cube712_cluster0', 'cube785_cluster0'], ['cube712_cluster0', 'cube786_cluster0'], ['cube712_cluster0', 'cube787_cluster0'], ['cube713_cluster0', 'cube714_cluster0'], ['cube713_cluster0', 'cube715_cluster0'], ['cube713_cluster0', 'cube748_cluster0'], ['cube713_cluster0', 'cube749_cluster0'], ['cube713_cluster0', 'cube750_cluster0'], ['cube713_cluster0', 'cube751_cluster0'], ['cube713_cluster0', 'cube752_cluster0'], ['cube713_cluster0', 'cube784_cluster0'], ['cube713_cluster0', 'cube785_cluster0'], ['cube713_cluster0', 'cube786_cluster0'], ['cube713_cluster0', 'cube787_cluster0'], ['cube714_cluster0', 'cube715_cluster0'], ['cube714_cluster0', 'cube716_cluster0'], ['cube714_cluster0', 'cube749_cluster0'], ['cube714_cluster0', 'cube750_cluster0'], ['cube714_cluster0', 'cube751_cluster0'], ['cube714_cluster0', 'cube752_cluster0'], ['cube714_cluster0', 'cube753_cluster0'], ['cube714_cluster0', 'cube785_cluster0'], ['cube714_cluster0', 'cube786_cluster0'], ['cube714_cluster0', 'cube787_cluster0'], ['cube715_cluster0', 'cube716_cluster0'], ['cube715_cluster0', 'cube717_cluster0'], ['cube715_cluster0', 'cube750_cluster0'], ['cube715_cluster0', 'cube751_cluster0'], ['cube715_cluster0', 'cube752_cluster0'], ['cube715_cluster0', 'cube753_cluster0'], ['cube715_cluster0', 'cube754_cluster0'], ['cube715_cluster0', 'cube788_cluster0'], ['cube715_cluster0', 'cube789_cluster0'], ['cube715_cluster0', 'cube790_cluster0'], ['cube716_cluster0', 'cube717_cluster0'], ['cube716_cluster0', 'cube718_cluster0'], ['cube716_cluster0', 'cube751_cluster0'], ['cube716_cluster0', 'cube752_cluster0'], ['cube716_cluster0', 'cube753_cluster0'], ['cube716_cluster0', 'cube754_cluster0'], ['cube716_cluster0', 'cube788_cluster0'], ['cube716_cluster0', 'cube789_cluster0'], ['cube716_cluster0', 'cube790_cluster0'], ['cube717_cluster0', 'cube718_cluster0'], ['cube717_cluster0', 'cube752_cluster0'], ['cube717_cluster0', 'cube753_cluster0'], ['cube717_cluster0', 'cube754_cluster0'], ['cube717_cluster0', 'cube755_cluster0'], ['cube717_cluster0', 'cube756_cluster0'], ['cube717_cluster0', 'cube788_cluster0'], ['cube717_cluster0', 'cube789_cluster0'], ['cube717_cluster0', 'cube790_cluster0'], ['cube718_cluster0', 'cube754_cluster0'], ['cube718_cluster0', 'cube755_cluster0'], ['cube718_cluster0', 'cube756_cluster0'], ['cube721_cluster0', 'cube722_cluster0'], ['cube721_cluster0', 'cube723_cluster0'], ['cube721_cluster0', 'cube760_cluster0'], ['cube721_cluster0', 'cube796_cluster0'], ['cube722_cluster0', 'cube723_cluster0'], ['cube722_cluster0', 'cube760_cluster0'], ['cube722_cluster0', 'cube796_cluster0'], ['cube723_cluster0', 'cube760_cluster0'], ['cube723_cluster0', 'cube796_cluster0'], ['cube743_cluster0', 'cube744_cluster0'], ['cube743_cluster0', 'cube745_cluster0'], ['cube743_cluster0', 'cube778_cluster0'], ['cube743_cluster0', 'cube779_cluster0'], ['cube743_cluster0', 'cube780_cluster0'], ['cube743_cluster0', 'cube781_cluster0'], ['cube743_cluster0', 'cube819_cluster0'], ['cube743_cluster0', 'cube820_cluster0'], ['cube743_cluster0', 'cube821_cluster0'], ['cube743_cluster0', 'cube822_cluster0'], ['cube744_cluster0', 'cube745_cluster0'], ['cube744_cluster0', 'cube746_cluster0'], ['cube744_cluster0', 'cube779_cluster0'], ['cube744_cluster0', 'cube780_cluster0'], ['cube744_cluster0', 'cube781_cluster0'], ['cube744_cluster0', 'cube782_cluster0'], ['cube744_cluster0', 'cube820_cluster0'], ['cube744_cluster0', 'cube821_cluster0'], ['cube744_cluster0', 'cube822_cluster0'], ['cube744_cluster0', 'cube823_cluster0'], ['cube745_cluster0', 'cube746_cluster0'], ['cube745_cluster0', 'cube779_cluster0'], ['cube745_cluster0', 'cube780_cluster0'], ['cube745_cluster0', 'cube781_cluster0'], ['cube745_cluster0', 'cube782_cluster0'], ['cube745_cluster0', 'cube820_cluster0'], ['cube745_cluster0', 'cube821_cluster0'], ['cube745_cluster0', 'cube822_cluster0'], ['cube745_cluster0', 'cube823_cluster0'], ['cube746_cluster0', 'cube747_cluster0'], ['cube746_cluster0', 'cube748_cluster0'], ['cube746_cluster0', 'cube780_cluster0'], ['cube746_cluster0', 'cube781_cluster0'], ['cube746_cluster0', 'cube782_cluster0'], ['cube746_cluster0', 'cube783_cluster0'], ['cube746_cluster0', 'cube784_cluster0'], ['cube746_cluster0', 'cube821_cluster0'], ['cube746_cluster0', 'cube822_cluster0'], ['cube746_cluster0', 'cube823_cluster0'], ['cube747_cluster0', 'cube748_cluster0'], ['cube747_cluster0', 'cube749_cluster0'], ['cube747_cluster0', 'cube782_cluster0'], ['cube747_cluster0', 'cube783_cluster0'], ['cube747_cluster0', 'cube784_cluster0'], ['cube747_cluster0', 'cube785_cluster0'], ['cube747_cluster0', 'cube824_cluster0'], ['cube747_cluster0', 'cube825_cluster0'], ['cube747_cluster0', 'cube826_cluster0'], ['cube748_cluster0', 'cube749_cluster0'], ['cube748_cluster0', 'cube750_cluster0'], ['cube748_cluster0', 'cube782_cluster0'], ['cube748_cluster0', 'cube783_cluster0'], ['cube748_cluster0', 'cube784_cluster0'], ['cube748_cluster0', 'cube785_cluster0'], ['cube748_cluster0', 'cube786_cluster0'], ['cube748_cluster0', 'cube824_cluster0'], ['cube748_cluster0', 'cube825_cluster0'], ['cube748_cluster0', 'cube826_cluster0'], ['cube749_cluster0', 'cube750_cluster0'], ['cube749_cluster0', 'cube751_cluster0'], ['cube749_cluster0', 'cube783_cluster0'], ['cube749_cluster0', 'cube784_cluster0'], ['cube749_cluster0', 'cube785_cluster0'], ['cube749_cluster0', 'cube786_cluster0'], ['cube749_cluster0', 'cube787_cluster0'], ['cube749_cluster0', 'cube824_cluster0'], ['cube749_cluster0', 'cube825_cluster0'], ['cube749_cluster0', 'cube826_cluster0'], ['cube750_cluster0', 'cube751_cluster0'], ['cube750_cluster0', 'cube752_cluster0'], ['cube750_cluster0', 'cube784_cluster0'], ['cube750_cluster0', 'cube785_cluster0'], ['cube750_cluster0', 'cube786_cluster0'], ['cube750_cluster0', 'cube787_cluster0'], ['cube751_cluster0', 'cube752_cluster0'], ['cube751_cluster0', 'cube753_cluster0'], ['cube751_cluster0', 'cube785_cluster0'], ['cube751_cluster0', 'cube786_cluster0'], ['cube751_cluster0', 'cube787_cluster0'], ['cube751_cluster0', 'cube788_cluster0'], ['cube751_cluster0', 'cube789_cluster0'], ['cube752_cluster0', 'cube753_cluster0'], ['cube752_cluster0', 'cube754_cluster0'], ['cube752_cluster0', 'cube787_cluster0'], ['cube752_cluster0', 'cube788_cluster0'], ['cube752_cluster0', 'cube789_cluster0'], ['cube752_cluster0', 'cube790_cluster0'], ['cube753_cluster0', 'cube754_cluster0'], ['cube753_cluster0', 'cube755_cluster0'], ['cube753_cluster0', 'cube787_cluster0'], ['cube753_cluster0', 'cube788_cluster0'], ['cube753_cluster0', 'cube789_cluster0'], ['cube753_cluster0', 'cube790_cluster0'], ['cube753_cluster0', 'cube791_cluster0'], ['cube753_cluster0', 'cube830_cluster0'], ['cube753_cluster0', 'cube831_cluster0'], ['cube753_cluster0', 'cube832_cluster0'], ['cube754_cluster0', 'cube755_cluster0'], ['cube754_cluster0', 'cube756_cluster0'], ['cube754_cluster0', 'cube788_cluster0'], ['cube754_cluster0', 'cube789_cluster0'], ['cube754_cluster0', 'cube790_cluster0'], ['cube754_cluster0', 'cube791_cluster0'], ['cube754_cluster0', 'cube792_cluster0'], ['cube754_cluster0', 'cube830_cluster0'], ['cube754_cluster0', 'cube831_cluster0'], ['cube754_cluster0', 'cube832_cluster0'], ['cube754_cluster0', 'cube833_cluster0'], ['cube755_cluster0', 'cube756_cluster0'], ['cube755_cluster0', 'cube789_cluster0'], ['cube755_cluster0', 'cube790_cluster0'], ['cube755_cluster0', 'cube791_cluster0'], ['cube755_cluster0', 'cube792_cluster0'], ['cube755_cluster0', 'cube830_cluster0'], ['cube755_cluster0', 'cube831_cluster0'], ['cube755_cluster0', 'cube832_cluster0'], ['cube755_cluster0', 'cube833_cluster0'], ['cube756_cluster0', 'cube790_cluster0'], ['cube756_cluster0', 'cube791_cluster0'], ['cube756_cluster0', 'cube792_cluster0'], ['cube756_cluster0', 'cube793_cluster0'], ['cube756_cluster0', 'cube831_cluster0'], ['cube756_cluster0', 'cube832_cluster0'], ['cube756_cluster0', 'cube833_cluster0'], ['cube760_cluster0', 'cube762_cluster0'], ['cube760_cluster0', 'cube796_cluster0'], ['cube760_cluster0', 'cube837_cluster0'], ['cube762_cluster0', 'cube763_cluster0'], ['cube762_cluster0', 'cube764_cluster0'], ['cube762_cluster0', 'cube796_cluster0'], ['cube762_cluster0', 'cube799_cluster0'], ['cube762_cluster0', 'cube800_cluster0'], ['cube762_cluster0', 'cube837_cluster0'], ['cube762_cluster0', 'cube840_cluster0'], ['cube762_cluster0', 'cube841_cluster0'], ['cube763_cluster0', 'cube764_cluster0'], ['cube763_cluster0', 'cube799_cluster0'], ['cube763_cluster0', 'cube800_cluster0'], ['cube763_cluster0', 'cube840_cluster0'], ['cube763_cluster0', 'cube841_cluster0'], ['cube764_cluster0', 'cube799_cluster0'], ['cube764_cluster0', 'cube800_cluster0'], ['cube764_cluster0', 'cube840_cluster0'], ['cube764_cluster0', 'cube841_cluster0'], ['cube778_cluster0', 'cube779_cluster0'], ['cube778_cluster0', 'cube780_cluster0'], ['cube778_cluster0', 'cube819_cluster0'], ['cube778_cluster0', 'cube820_cluster0'], ['cube778_cluster0', 'cube821_cluster0'], ['cube778_cluster0', 'cube859_cluster0'], ['cube778_cluster0', 'cube860_cluster0'], ['cube778_cluster0', 'cube861_cluster0'], ['cube779_cluster0', 'cube780_cluster0'], ['cube779_cluster0', 'cube781_cluster0'], ['cube779_cluster0', 'cube819_cluster0'], ['cube779_cluster0', 'cube820_cluster0'], ['cube779_cluster0', 'cube821_cluster0'], ['cube779_cluster0', 'cube822_cluster0'], ['cube779_cluster0', 'cube859_cluster0'], ['cube779_cluster0', 'cube860_cluster0'], ['cube779_cluster0', 'cube861_cluster0'], ['cube780_cluster0', 'cube781_cluster0'], ['cube780_cluster0', 'cube782_cluster0'], ['cube780_cluster0', 'cube819_cluster0'], ['cube780_cluster0', 'cube820_cluster0'], ['cube780_cluster0', 'cube821_cluster0'], ['cube780_cluster0', 'cube822_cluster0'], ['cube780_cluster0', 'cube823_cluster0'], ['cube780_cluster0', 'cube859_cluster0'], ['cube780_cluster0', 'cube860_cluster0'], ['cube780_cluster0', 'cube861_cluster0'], ['cube781_cluster0', 'cube782_cluster0'], ['cube781_cluster0', 'cube820_cluster0'], ['cube781_cluster0', 'cube821_cluster0'], ['cube781_cluster0', 'cube822_cluster0'], ['cube781_cluster0', 'cube823_cluster0'], ['cube781_cluster0', 'cube862_cluster0'], ['cube781_cluster0', 'cube863_cluster0'], ['cube782_cluster0', 'cube783_cluster0'], ['cube782_cluster0', 'cube784_cluster0'], ['cube782_cluster0', 'cube821_cluster0'], ['cube782_cluster0', 'cube822_cluster0'], ['cube782_cluster0', 'cube823_cluster0'], ['cube782_cluster0', 'cube824_cluster0'], ['cube782_cluster0', 'cube825_cluster0'], ['cube782_cluster0', 'cube862_cluster0'], ['cube782_cluster0', 'cube863_cluster0'], ['cube782_cluster0', 'cube864_cluster0'], ['cube782_cluster0', 'cube865_cluster0'], ['cube783_cluster0', 'cube784_cluster0'], ['cube783_cluster0', 'cube785_cluster0'], ['cube783_cluster0', 'cube823_cluster0'], ['cube783_cluster0', 'cube824_cluster0'], ['cube783_cluster0', 'cube825_cluster0'], ['cube783_cluster0', 'cube826_cluster0'], ['cube783_cluster0', 'cube863_cluster0'], ['cube783_cluster0', 'cube864_cluster0'], ['cube783_cluster0', 'cube865_cluster0'], ['cube783_cluster0', 'cube866_cluster0'], ['cube784_cluster0', 'cube785_cluster0'], ['cube784_cluster0', 'cube786_cluster0'], ['cube784_cluster0', 'cube823_cluster0'], ['cube784_cluster0', 'cube824_cluster0'], ['cube784_cluster0', 'cube825_cluster0'], ['cube784_cluster0', 'cube826_cluster0'], ['cube784_cluster0', 'cube863_cluster0'], ['cube784_cluster0', 'cube864_cluster0'], ['cube784_cluster0', 'cube865_cluster0'], ['cube784_cluster0', 'cube866_cluster0'], ['cube785_cluster0', 'cube786_cluster0'], ['cube785_cluster0', 'cube787_cluster0'], ['cube785_cluster0', 'cube824_cluster0'], ['cube785_cluster0', 'cube825_cluster0'], ['cube785_cluster0', 'cube826_cluster0'], ['cube785_cluster0', 'cube827_cluster0'], ['cube785_cluster0', 'cube828_cluster0'], ['cube785_cluster0', 'cube864_cluster0'], ['cube785_cluster0', 'cube865_cluster0'], ['cube785_cluster0', 'cube866_cluster0'], ['cube785_cluster0', 'cube867_cluster0'], ['cube785_cluster0', 'cube868_cluster0'], ['cube786_cluster0', 'cube787_cluster0'], ['cube786_cluster0', 'cube788_cluster0'], ['cube786_cluster0', 'cube826_cluster0'], ['cube786_cluster0', 'cube827_cluster0'], ['cube786_cluster0', 'cube828_cluster0'], ['cube786_cluster0', 'cube829_cluster0'], ['cube786_cluster0', 'cube866_cluster0'], ['cube786_cluster0', 'cube867_cluster0'], ['cube786_cluster0', 'cube868_cluster0'], ['cube787_cluster0', 'cube788_cluster0'], ['cube787_cluster0', 'cube789_cluster0'], ['cube787_cluster0', 'cube826_cluster0'], ['cube787_cluster0', 'cube827_cluster0'], ['cube787_cluster0', 'cube828_cluster0'], ['cube787_cluster0', 'cube829_cluster0'], ['cube787_cluster0', 'cube866_cluster0'], ['cube787_cluster0', 'cube867_cluster0'], ['cube787_cluster0', 'cube868_cluster0'], ['cube788_cluster0', 'cube789_cluster0'], ['cube788_cluster0', 'cube790_cluster0'], ['cube788_cluster0', 'cube827_cluster0'], ['cube788_cluster0', 'cube828_cluster0'], ['cube788_cluster0', 'cube829_cluster0'], ['cube788_cluster0', 'cube830_cluster0'], ['cube788_cluster0', 'cube831_cluster0'], ['cube788_cluster0', 'cube869_cluster0'], ['cube788_cluster0', 'cube870_cluster0'], ['cube788_cluster0', 'cube871_cluster0'], ['cube789_cluster0', 'cube790_cluster0'], ['cube789_cluster0', 'cube791_cluster0'], ['cube789_cluster0', 'cube829_cluster0'], ['cube789_cluster0', 'cube830_cluster0'], ['cube789_cluster0', 'cube831_cluster0'], ['cube789_cluster0', 'cube832_cluster0'], ['cube789_cluster0', 'cube869_cluster0'], ['cube789_cluster0', 'cube870_cluster0'], ['cube789_cluster0', 'cube871_cluster0'], ['cube790_cluster0', 'cube791_cluster0'], ['cube790_cluster0', 'cube792_cluster0'], ['cube790_cluster0', 'cube829_cluster0'], ['cube790_cluster0', 'cube830_cluster0'], ['cube790_cluster0', 'cube831_cluster0'], ['cube790_cluster0', 'cube832_cluster0'], ['cube790_cluster0', 'cube833_cluster0'], ['cube790_cluster0', 'cube869_cluster0'], ['cube790_cluster0', 'cube870_cluster0'], ['cube790_cluster0', 'cube871_cluster0'], ['cube790_cluster0', 'cube872_cluster0'], ['cube790_cluster0', 'cube873_cluster0'], ['cube791_cluster0', 'cube792_cluster0'], ['cube791_cluster0', 'cube793_cluster0'], ['cube791_cluster0', 'cube830_cluster0'], ['cube791_cluster0', 'cube831_cluster0'], ['cube791_cluster0', 'cube832_cluster0'], ['cube791_cluster0', 'cube833_cluster0'], ['cube791_cluster0', 'cube834_cluster0'], ['cube791_cluster0', 'cube871_cluster0'], ['cube791_cluster0', 'cube872_cluster0'], ['cube791_cluster0', 'cube873_cluster0'], ['cube792_cluster0', 'cube793_cluster0'], ['cube792_cluster0', 'cube831_cluster0'], ['cube792_cluster0', 'cube832_cluster0'], ['cube792_cluster0', 'cube833_cluster0'], ['cube792_cluster0', 'cube834_cluster0'], ['cube792_cluster0', 'cube871_cluster0'], ['cube792_cluster0', 'cube872_cluster0'], ['cube792_cluster0', 'cube873_cluster0'], ['cube792_cluster0', 'cube874_cluster0'], ['cube793_cluster0', 'cube832_cluster0'], ['cube793_cluster0', 'cube833_cluster0'], ['cube793_cluster0', 'cube834_cluster0'], ['cube793_cluster0', 'cube873_cluster0'], ['cube793_cluster0', 'cube874_cluster0'], ['cube796_cluster0', 'cube837_cluster0'], ['cube799_cluster0', 'cube800_cluster0'], ['cube799_cluster0', 'cube840_cluster0'], ['cube799_cluster0', 'cube841_cluster0'], ['cube799_cluster0', 'cube880_cluster0'], ['cube799_cluster0', 'cube881_cluster0'], ['cube800_cluster0', 'cube840_cluster0'], ['cube800_cluster0', 'cube841_cluster0'], ['cube800_cluster0', 'cube880_cluster0'], ['cube800_cluster0', 'cube881_cluster0'], ['cube817_cluster0', 'cube819_cluster0'], ['cube817_cluster0', 'cube857_cluster0'], ['cube817_cluster0', 'cube858_cluster0'], ['cube817_cluster0', 'cube859_cluster0'], ['cube817_cluster0', 'cube897_cluster0'], ['cube817_cluster0', 'cube898_cluster0'], ['cube817_cluster0', 'cube899_cluster0'], ['cube819_cluster0', 'cube820_cluster0'], ['cube819_cluster0', 'cube821_cluster0'], ['cube819_cluster0', 'cube857_cluster0'], ['cube819_cluster0', 'cube858_cluster0'], ['cube819_cluster0', 'cube859_cluster0'], ['cube819_cluster0', 'cube860_cluster0'], ['cube819_cluster0', 'cube861_cluster0'], ['cube819_cluster0', 'cube897_cluster0'], ['cube819_cluster0', 'cube898_cluster0'], ['cube819_cluster0', 'cube899_cluster0'], ['cube819_cluster0', 'cube900_cluster0'], ['cube819_cluster0', 'cube901_cluster0'], ['cube820_cluster0', 'cube821_cluster0'], ['cube820_cluster0', 'cube822_cluster0'], ['cube820_cluster0', 'cube859_cluster0'], ['cube820_cluster0', 'cube860_cluster0'], ['cube820_cluster0', 'cube861_cluster0'], ['cube820_cluster0', 'cube899_cluster0'], ['cube820_cluster0', 'cube900_cluster0'], ['cube820_cluster0', 'cube901_cluster0'], ['cube821_cluster0', 'cube822_cluster0'], ['cube821_cluster0', 'cube823_cluster0'], ['cube821_cluster0', 'cube859_cluster0'], ['cube821_cluster0', 'cube860_cluster0'], ['cube821_cluster0', 'cube861_cluster0'], ['cube821_cluster0', 'cube862_cluster0'], ['cube821_cluster0', 'cube863_cluster0'], ['cube821_cluster0', 'cube899_cluster0'], ['cube821_cluster0', 'cube900_cluster0'], ['cube821_cluster0', 'cube901_cluster0'], ['cube821_cluster0', 'cube902_cluster0'], ['cube821_cluster0', 'cube903_cluster0'], ['cube822_cluster0', 'cube823_cluster0'], ['cube822_cluster0', 'cube824_cluster0'], ['cube822_cluster0', 'cube861_cluster0'], ['cube822_cluster0', 'cube862_cluster0'], ['cube822_cluster0', 'cube863_cluster0'], ['cube822_cluster0', 'cube864_cluster0'], ['cube822_cluster0', 'cube901_cluster0'], ['cube822_cluster0', 'cube902_cluster0'], ['cube822_cluster0', 'cube903_cluster0'], ['cube822_cluster0', 'cube904_cluster0'], ['cube823_cluster0', 'cube824_cluster0'], ['cube823_cluster0', 'cube825_cluster0'], ['cube823_cluster0', 'cube861_cluster0'], ['cube823_cluster0', 'cube862_cluster0'], ['cube823_cluster0', 'cube863_cluster0'], ['cube823_cluster0', 'cube864_cluster0'], ['cube823_cluster0', 'cube865_cluster0'], ['cube823_cluster0', 'cube901_cluster0'], ['cube823_cluster0', 'cube902_cluster0'], ['cube823_cluster0', 'cube903_cluster0'], ['cube823_cluster0', 'cube904_cluster0'], ['cube823_cluster0', 'cube905_cluster0'], ['cube824_cluster0', 'cube825_cluster0'], ['cube824_cluster0', 'cube826_cluster0'], ['cube824_cluster0', 'cube862_cluster0'], ['cube824_cluster0', 'cube863_cluster0'], ['cube824_cluster0', 'cube864_cluster0'], ['cube824_cluster0', 'cube865_cluster0'], ['cube824_cluster0', 'cube866_cluster0'], ['cube824_cluster0', 'cube902_cluster0'], ['cube824_cluster0', 'cube903_cluster0'], ['cube824_cluster0', 'cube904_cluster0'], ['cube824_cluster0', 'cube905_cluster0'], ['cube824_cluster0', 'cube906_cluster0'], ['cube825_cluster0', 'cube826_cluster0'], ['cube825_cluster0', 'cube863_cluster0'], ['cube825_cluster0', 'cube864_cluster0'], ['cube825_cluster0', 'cube865_cluster0'], ['cube825_cluster0', 'cube866_cluster0'], ['cube825_cluster0', 'cube903_cluster0'], ['cube825_cluster0', 'cube904_cluster0'], ['cube825_cluster0', 'cube905_cluster0'], ['cube825_cluster0', 'cube906_cluster0'], ['cube826_cluster0', 'cube827_cluster0'], ['cube826_cluster0', 'cube828_cluster0'], ['cube826_cluster0', 'cube864_cluster0'], ['cube826_cluster0', 'cube865_cluster0'], ['cube826_cluster0', 'cube866_cluster0'], ['cube826_cluster0', 'cube867_cluster0'], ['cube826_cluster0', 'cube868_cluster0'], ['cube826_cluster0', 'cube904_cluster0'], ['cube826_cluster0', 'cube905_cluster0'], ['cube826_cluster0', 'cube906_cluster0'], ['cube826_cluster0', 'cube907_cluster0'], ['cube826_cluster0', 'cube908_cluster0'], ['cube827_cluster0', 'cube828_cluster0'], ['cube827_cluster0', 'cube829_cluster0'], ['cube827_cluster0', 'cube866_cluster0'], ['cube827_cluster0', 'cube867_cluster0'], ['cube827_cluster0', 'cube868_cluster0'], ['cube827_cluster0', 'cube869_cluster0'], ['cube827_cluster0', 'cube906_cluster0'], ['cube827_cluster0', 'cube907_cluster0'], ['cube827_cluster0', 'cube908_cluster0'], ['cube828_cluster0', 'cube829_cluster0'], ['cube828_cluster0', 'cube866_cluster0'], ['cube828_cluster0', 'cube867_cluster0'], ['cube828_cluster0', 'cube868_cluster0'], ['cube828_cluster0', 'cube869_cluster0'], ['cube828_cluster0', 'cube906_cluster0'], ['cube828_cluster0', 'cube907_cluster0'], ['cube828_cluster0', 'cube908_cluster0'], ['cube829_cluster0', 'cube830_cluster0'], ['cube829_cluster0', 'cube831_cluster0'], ['cube829_cluster0', 'cube867_cluster0'], ['cube829_cluster0', 'cube868_cluster0'], ['cube829_cluster0', 'cube869_cluster0'], ['cube829_cluster0', 'cube870_cluster0'], ['cube829_cluster0', 'cube871_cluster0'], ['cube830_cluster0', 'cube831_cluster0'], ['cube830_cluster0', 'cube832_cluster0'], ['cube830_cluster0', 'cube869_cluster0'], ['cube830_cluster0', 'cube870_cluster0'], ['cube830_cluster0', 'cube871_cluster0'], ['cube830_cluster0', 'cube872_cluster0'], ['cube830_cluster0', 'cube910_cluster0'], ['cube830_cluster0', 'cube911_cluster0'], ['cube830_cluster0', 'cube912_cluster0'], ['cube831_cluster0', 'cube832_cluster0'], ['cube831_cluster0', 'cube833_cluster0'], ['cube831_cluster0', 'cube869_cluster0'], ['cube831_cluster0', 'cube870_cluster0'], ['cube831_cluster0', 'cube871_cluster0'], ['cube831_cluster0', 'cube872_cluster0'], ['cube831_cluster0', 'cube873_cluster0'], ['cube831_cluster0', 'cube910_cluster0'], ['cube831_cluster0', 'cube911_cluster0'], ['cube831_cluster0', 'cube912_cluster0'], ['cube831_cluster0', 'cube913_cluster0'], ['cube832_cluster0', 'cube833_cluster0'], ['cube832_cluster0', 'cube834_cluster0'], ['cube832_cluster0', 'cube870_cluster0'], ['cube832_cluster0', 'cube871_cluster0'], ['cube832_cluster0', 'cube872_cluster0'], ['cube832_cluster0', 'cube873_cluster0'], ['cube832_cluster0', 'cube910_cluster0'], ['cube832_cluster0', 'cube911_cluster0'], ['cube832_cluster0', 'cube912_cluster0'], ['cube832_cluster0', 'cube913_cluster0'], ['cube833_cluster0', 'cube834_cluster0'], ['cube833_cluster0', 'cube871_cluster0'], ['cube833_cluster0', 'cube872_cluster0'], ['cube833_cluster0', 'cube873_cluster0'], ['cube833_cluster0', 'cube874_cluster0'], ['cube833_cluster0', 'cube911_cluster0'], ['cube833_cluster0', 'cube912_cluster0'], ['cube833_cluster0', 'cube913_cluster0'], ['cube833_cluster0', 'cube914_cluster0'], ['cube834_cluster0', 'cube873_cluster0'], ['cube834_cluster0', 'cube874_cluster0'], ['cube834_cluster0', 'cube913_cluster0'], ['cube834_cluster0', 'cube914_cluster0'], ['cube837_cluster0', 'cube915_cluster0'], ['cube837_cluster0', 'cube916_cluster0'], ['cube837_cluster0', 'cube917_cluster0'], ['cube840_cluster0', 'cube841_cluster0'], ['cube840_cluster0', 'cube879_cluster0'], ['cube840_cluster0', 'cube880_cluster0'], ['cube840_cluster0', 'cube881_cluster0'], ['cube840_cluster0', 'cube920_cluster0'], ['cube840_cluster0', 'cube921_cluster0'], ['cube841_cluster0', 'cube879_cluster0'], ['cube841_cluster0', 'cube880_cluster0'], ['cube841_cluster0', 'cube881_cluster0'], ['cube841_cluster0', 'cube920_cluster0'], ['cube841_cluster0', 'cube921_cluster0'], ['cube857_cluster0', 'cube858_cluster0'], ['cube857_cluster0', 'cube859_cluster0'], ['cube857_cluster0', 'cube897_cluster0'], ['cube857_cluster0', 'cube898_cluster0'], ['cube857_cluster0', 'cube899_cluster0'], ['cube858_cluster0', 'cube859_cluster0'], ['cube858_cluster0', 'cube897_cluster0'], ['cube858_cluster0', 'cube898_cluster0'], ['cube858_cluster0', 'cube899_cluster0'], ['cube858_cluster0', 'cube935_cluster0'], ['cube859_cluster0', 'cube860_cluster0'], ['cube859_cluster0', 'cube861_cluster0'], ['cube859_cluster0', 'cube897_cluster0'], ['cube859_cluster0', 'cube898_cluster0'], ['cube859_cluster0', 'cube899_cluster0'], ['cube859_cluster0', 'cube900_cluster0'], ['cube859_cluster0', 'cube901_cluster0'], ['cube859_cluster0', 'cube935_cluster0'], ['cube859_cluster0', 'cube936_cluster0'], ['cube859_cluster0', 'cube937_cluster0'], ['cube860_cluster0', 'cube861_cluster0'], ['cube860_cluster0', 'cube899_cluster0'], ['cube860_cluster0', 'cube900_cluster0'], ['cube860_cluster0', 'cube901_cluster0'], ['cube860_cluster0', 'cube935_cluster0'], ['cube860_cluster0', 'cube936_cluster0'], ['cube860_cluster0', 'cube937_cluster0'], ['cube861_cluster0', 'cube862_cluster0'], ['cube861_cluster0', 'cube863_cluster0'], ['cube861_cluster0', 'cube899_cluster0'], ['cube861_cluster0', 'cube900_cluster0'], ['cube861_cluster0', 'cube901_cluster0'], ['cube861_cluster0', 'cube902_cluster0'], ['cube861_cluster0', 'cube903_cluster0'], ['cube861_cluster0', 'cube935_cluster0'], ['cube861_cluster0', 'cube936_cluster0'], ['cube861_cluster0', 'cube937_cluster0'], ['cube862_cluster0', 'cube863_cluster0'], ['cube862_cluster0', 'cube864_cluster0'], ['cube862_cluster0', 'cube901_cluster0'], ['cube862_cluster0', 'cube902_cluster0'], ['cube862_cluster0', 'cube903_cluster0'], ['cube862_cluster0', 'cube904_cluster0'], ['cube862_cluster0', 'cube938_cluster0'], ['cube863_cluster0', 'cube864_cluster0'], ['cube863_cluster0', 'cube865_cluster0'], ['cube863_cluster0', 'cube901_cluster0'], ['cube863_cluster0', 'cube902_cluster0'], ['cube863_cluster0', 'cube903_cluster0'], ['cube863_cluster0', 'cube904_cluster0'], ['cube863_cluster0', 'cube905_cluster0'], ['cube863_cluster0', 'cube938_cluster0'], ['cube864_cluster0', 'cube865_cluster0'], ['cube864_cluster0', 'cube866_cluster0'], ['cube864_cluster0', 'cube902_cluster0'], ['cube864_cluster0', 'cube903_cluster0'], ['cube864_cluster0', 'cube904_cluster0'], ['cube864_cluster0', 'cube905_cluster0'], ['cube864_cluster0', 'cube906_cluster0'], ['cube864_cluster0', 'cube938_cluster0'], ['cube865_cluster0', 'cube866_cluster0'], ['cube865_cluster0', 'cube867_cluster0'], ['cube865_cluster0', 'cube903_cluster0'], ['cube865_cluster0', 'cube904_cluster0'], ['cube865_cluster0', 'cube905_cluster0'], ['cube865_cluster0', 'cube906_cluster0'], ['cube865_cluster0', 'cube907_cluster0'], ['cube866_cluster0', 'cube867_cluster0'], ['cube866_cluster0', 'cube868_cluster0'], ['cube866_cluster0', 'cube904_cluster0'], ['cube866_cluster0', 'cube905_cluster0'], ['cube866_cluster0', 'cube906_cluster0'], ['cube866_cluster0', 'cube907_cluster0'], ['cube866_cluster0', 'cube908_cluster0'], ['cube867_cluster0', 'cube868_cluster0'], ['cube867_cluster0', 'cube869_cluster0'], ['cube867_cluster0', 'cube905_cluster0'], ['cube867_cluster0', 'cube906_cluster0'], ['cube867_cluster0', 'cube907_cluster0'], ['cube867_cluster0', 'cube908_cluster0'], ['cube867_cluster0', 'cube909_cluster0'], ['cube867_cluster0', 'cube943_cluster0'], ['cube867_cluster0', 'cube944_cluster0'], ['cube867_cluster0', 'cube945_cluster0'], ['cube868_cluster0', 'cube869_cluster0'], ['cube868_cluster0', 'cube870_cluster0'], ['cube868_cluster0', 'cube906_cluster0'], ['cube868_cluster0', 'cube907_cluster0'], ['cube868_cluster0', 'cube908_cluster0'], ['cube868_cluster0', 'cube909_cluster0'], ['cube868_cluster0', 'cube910_cluster0'], ['cube868_cluster0', 'cube943_cluster0'], ['cube868_cluster0', 'cube944_cluster0'], ['cube868_cluster0', 'cube945_cluster0'], ['cube869_cluster0', 'cube870_cluster0'], ['cube869_cluster0', 'cube871_cluster0'], ['cube869_cluster0', 'cube907_cluster0'], ['cube869_cluster0', 'cube908_cluster0'], ['cube869_cluster0', 'cube909_cluster0'], ['cube869_cluster0', 'cube910_cluster0'], ['cube869_cluster0', 'cube943_cluster0'], ['cube869_cluster0', 'cube944_cluster0'], ['cube869_cluster0', 'cube945_cluster0'], ['cube870_cluster0', 'cube871_cluster0'], ['cube870_cluster0', 'cube872_cluster0'], ['cube870_cluster0', 'cube908_cluster0'], ['cube870_cluster0', 'cube909_cluster0'], ['cube870_cluster0', 'cube910_cluster0'], ['cube870_cluster0', 'cube911_cluster0'], ['cube870_cluster0', 'cube912_cluster0'], ['cube870_cluster0', 'cube944_cluster0'], ['cube870_cluster0', 'cube945_cluster0'], ['cube870_cluster0', 'cube947_cluster0'], ['cube871_cluster0', 'cube872_cluster0'], ['cube871_cluster0', 'cube873_cluster0'], ['cube871_cluster0', 'cube910_cluster0'], ['cube871_cluster0', 'cube911_cluster0'], ['cube871_cluster0', 'cube912_cluster0'], ['cube871_cluster0', 'cube913_cluster0'], ['cube871_cluster0', 'cube947_cluster0'], ['cube872_cluster0', 'cube873_cluster0'], ['cube872_cluster0', 'cube874_cluster0'], ['cube872_cluster0', 'cube910_cluster0'], ['cube872_cluster0', 'cube911_cluster0'], ['cube872_cluster0', 'cube912_cluster0'], ['cube872_cluster0', 'cube913_cluster0'], ['cube872_cluster0', 'cube914_cluster0'], ['cube872_cluster0', 'cube947_cluster0'], ['cube873_cluster0', 'cube874_cluster0'], ['cube873_cluster0', 'cube911_cluster0'], ['cube873_cluster0', 'cube912_cluster0'], ['cube873_cluster0', 'cube913_cluster0'], ['cube873_cluster0', 'cube914_cluster0'], ['cube873_cluster0', 'cube915_cluster0'], ['cube873_cluster0', 'cube951_cluster0'], ['cube874_cluster0', 'cube912_cluster0'], ['cube874_cluster0', 'cube913_cluster0'], ['cube874_cluster0', 'cube914_cluster0'], ['cube874_cluster0', 'cube915_cluster0'], ['cube874_cluster0', 'cube951_cluster0'], ['cube879_cluster0', 'cube880_cluster0'], ['cube879_cluster0', 'cube881_cluster0'], ['cube879_cluster0', 'cube918_cluster0'], ['cube879_cluster0', 'cube919_cluster0'], ['cube879_cluster0', 'cube920_cluster0'], ['cube879_cluster0', 'cube921_cluster0'], ['cube879_cluster0', 'cube954_cluster0'], ['cube879_cluster0', 'cube955_cluster0'], ['cube880_cluster0', 'cube881_cluster0'], ['cube880_cluster0', 'cube918_cluster0'], ['cube880_cluster0', 'cube919_cluster0'], ['cube880_cluster0', 'cube920_cluster0'], ['cube880_cluster0', 'cube921_cluster0'], ['cube880_cluster0', 'cube954_cluster0'], ['cube880_cluster0', 'cube955_cluster0'], ['cube881_cluster0', 'cube919_cluster0'], ['cube881_cluster0', 'cube920_cluster0'], ['cube881_cluster0', 'cube921_cluster0'], ['cube881_cluster0', 'cube955_cluster0'], ['cube897_cluster0', 'cube898_cluster0'], ['cube897_cluster0', 'cube899_cluster0'], ['cube897_cluster0', 'cube935_cluster0'], ['cube898_cluster0', 'cube899_cluster0'], ['cube898_cluster0', 'cube935_cluster0'], ['cube899_cluster0', 'cube900_cluster0'], ['cube899_cluster0', 'cube901_cluster0'], ['cube899_cluster0', 'cube935_cluster0'], ['cube899_cluster0', 'cube936_cluster0'], ['cube899_cluster0', 'cube937_cluster0'], ['cube899_cluster0', 'cube968_cluster0'], ['cube899_cluster0', 'cube969_cluster0'], ['cube900_cluster0', 'cube901_cluster0'], ['cube900_cluster0', 'cube902_cluster0'], ['cube900_cluster0', 'cube935_cluster0'], ['cube900_cluster0', 'cube936_cluster0'], ['cube900_cluster0', 'cube937_cluster0'], ['cube900_cluster0', 'cube938_cluster0'], ['cube900_cluster0', 'cube968_cluster0'], ['cube900_cluster0', 'cube969_cluster0'], ['cube900_cluster0', 'cube970_cluster0'], ['cube901_cluster0', 'cube902_cluster0'], ['cube901_cluster0', 'cube903_cluster0'], ['cube901_cluster0', 'cube935_cluster0'], ['cube901_cluster0', 'cube936_cluster0'], ['cube901_cluster0', 'cube937_cluster0'], ['cube901_cluster0', 'cube938_cluster0'], ['cube901_cluster0', 'cube968_cluster0'], ['cube901_cluster0', 'cube969_cluster0'], ['cube901_cluster0', 'cube970_cluster0'], ['cube902_cluster0', 'cube903_cluster0'], ['cube902_cluster0', 'cube904_cluster0'], ['cube902_cluster0', 'cube936_cluster0'], ['cube902_cluster0', 'cube937_cluster0'], ['cube902_cluster0', 'cube938_cluster0'], ['cube902_cluster0', 'cube968_cluster0'], ['cube902_cluster0', 'cube969_cluster0'], ['cube902_cluster0', 'cube970_cluster0'], ['cube903_cluster0', 'cube904_cluster0'], ['cube903_cluster0', 'cube905_cluster0'], ['cube903_cluster0', 'cube938_cluster0'], ['cube904_cluster0', 'cube905_cluster0'], ['cube904_cluster0', 'cube906_cluster0'], ['cube904_cluster0', 'cube938_cluster0'], ['cube905_cluster0', 'cube906_cluster0'], ['cube905_cluster0', 'cube907_cluster0'], ['cube905_cluster0', 'cube943_cluster0'], ['cube905_cluster0', 'cube973_cluster0'], ['cube905_cluster0', 'cube975_cluster0'], ['cube906_cluster0', 'cube907_cluster0'], ['cube906_cluster0', 'cube908_cluster0'], ['cube906_cluster0', 'cube943_cluster0'], ['cube906_cluster0', 'cube973_cluster0'], ['cube906_cluster0', 'cube975_cluster0'], ['cube907_cluster0', 'cube908_cluster0'], ['cube907_cluster0', 'cube909_cluster0'], ['cube907_cluster0', 'cube943_cluster0'], ['cube907_cluster0', 'cube944_cluster0'], ['cube907_cluster0', 'cube945_cluster0'], ['cube907_cluster0', 'cube973_cluster0'], ['cube907_cluster0', 'cube975_cluster0'], ['cube907_cluster0', 'cube977_cluster0'], ['cube908_cluster0', 'cube909_cluster0'], ['cube908_cluster0', 'cube910_cluster0'], ['cube908_cluster0', 'cube943_cluster0'], ['cube908_cluster0', 'cube944_cluster0'], ['cube908_cluster0', 'cube945_cluster0'], ['cube908_cluster0', 'cube975_cluster0'], ['cube908_cluster0', 'cube977_cluster0'], ['cube909_cluster0', 'cube910_cluster0'], ['cube909_cluster0', 'cube911_cluster0'], ['cube909_cluster0', 'cube943_cluster0'], ['cube909_cluster0', 'cube944_cluster0'], ['cube909_cluster0', 'cube945_cluster0'], ['cube909_cluster0', 'cube947_cluster0'], ['cube909_cluster0', 'cube975_cluster0'], ['cube909_cluster0', 'cube977_cluster0'], ['cube909_cluster0', 'cube979_cluster0'], ['cube910_cluster0', 'cube911_cluster0'], ['cube910_cluster0', 'cube912_cluster0'], ['cube910_cluster0', 'cube944_cluster0'], ['cube910_cluster0', 'cube945_cluster0'], ['cube910_cluster0', 'cube947_cluster0'], ['cube910_cluster0', 'cube977_cluster0'], ['cube910_cluster0', 'cube979_cluster0'], ['cube911_cluster0', 'cube912_cluster0'], ['cube911_cluster0', 'cube913_cluster0'], ['cube911_cluster0', 'cube945_cluster0'], ['cube911_cluster0', 'cube947_cluster0'], ['cube911_cluster0', 'cube977_cluster0'], ['cube911_cluster0', 'cube979_cluster0'], ['cube912_cluster0', 'cube913_cluster0'], ['cube912_cluster0', 'cube914_cluster0'], ['cube912_cluster0', 'cube947_cluster0'], ['cube912_cluster0', 'cube979_cluster0'], ['cube913_cluster0', 'cube914_cluster0'], ['cube913_cluster0', 'cube915_cluster0'], ['cube913_cluster0', 'cube947_cluster0'], ['cube913_cluster0', 'cube951_cluster0'], ['cube913_cluster0', 'cube979_cluster0'], ['cube914_cluster0', 'cube915_cluster0'], ['cube914_cluster0', 'cube951_cluster0'], ['cube915_cluster0', 'cube916_cluster0'], ['cube915_cluster0', 'cube917_cluster0'], ['cube915_cluster0', 'cube951_cluster0'], ['cube915_cluster0', 'cube952_cluster0'], ['cube915_cluster0', 'cube953_cluster0'], ['cube915_cluster0', 'cube983_cluster0'], ['cube915_cluster0', 'cube984_cluster0'], ['cube915_cluster0', 'cube985_cluster0'], ['cube916_cluster0', 'cube917_cluster0'], ['cube916_cluster0', 'cube918_cluster0'], ['cube916_cluster0', 'cube951_cluster0'], ['cube916_cluster0', 'cube952_cluster0'], ['cube916_cluster0', 'cube953_cluster0'], ['cube916_cluster0', 'cube954_cluster0'], ['cube916_cluster0', 'cube983_cluster0'], ['cube916_cluster0', 'cube984_cluster0'], ['cube916_cluster0', 'cube985_cluster0'], ['cube917_cluster0', 'cube918_cluster0'], ['cube917_cluster0', 'cube919_cluster0'], ['cube917_cluster0', 'cube951_cluster0'], ['cube917_cluster0', 'cube952_cluster0'], ['cube917_cluster0', 'cube953_cluster0'], ['cube917_cluster0', 'cube954_cluster0'], ['cube917_cluster0', 'cube955_cluster0'], ['cube917_cluster0', 'cube983_cluster0'], ['cube917_cluster0', 'cube984_cluster0'], ['cube917_cluster0', 'cube985_cluster0'], ['cube917_cluster0', 'cube986_cluster0'], ['cube917_cluster0', 'cube987_cluster0'], ['cube918_cluster0', 'cube919_cluster0'], ['cube918_cluster0', 'cube920_cluster0'], ['cube918_cluster0', 'cube952_cluster0'], ['cube918_cluster0', 'cube953_cluster0'], ['cube918_cluster0', 'cube954_cluster0'], ['cube918_cluster0', 'cube955_cluster0'], ['cube918_cluster0', 'cube985_cluster0'], ['cube918_cluster0', 'cube986_cluster0'], ['cube918_cluster0', 'cube987_cluster0'], ['cube919_cluster0', 'cube920_cluster0'], ['cube919_cluster0', 'cube921_cluster0'], ['cube919_cluster0', 'cube953_cluster0'], ['cube919_cluster0', 'cube954_cluster0'], ['cube919_cluster0', 'cube955_cluster0'], ['cube919_cluster0', 'cube985_cluster0'], ['cube919_cluster0', 'cube986_cluster0'], ['cube919_cluster0', 'cube987_cluster0'], ['cube920_cluster0', 'cube921_cluster0'], ['cube920_cluster0', 'cube954_cluster0'], ['cube920_cluster0', 'cube955_cluster0'], ['cube921_cluster0', 'cube955_cluster0'], ['cube935_cluster0', 'cube936_cluster0'], ['cube935_cluster0', 'cube937_cluster0'], ['cube935_cluster0', 'cube968_cluster0'], ['cube935_cluster0', 'cube969_cluster0'], ['cube936_cluster0', 'cube937_cluster0'], ['cube936_cluster0', 'cube938_cluster0'], ['cube936_cluster0', 'cube968_cluster0'], ['cube936_cluster0', 'cube969_cluster0'], ['cube936_cluster0', 'cube970_cluster0'], ['cube937_cluster0', 'cube938_cluster0'], ['cube937_cluster0', 'cube968_cluster0'], ['cube937_cluster0', 'cube969_cluster0'], ['cube937_cluster0', 'cube970_cluster0'], ['cube937_cluster0', 'cube995_cluster0'], ['cube937_cluster0', 'cube996_cluster0'], ['cube938_cluster0', 'cube968_cluster0'], ['cube938_cluster0', 'cube969_cluster0'], ['cube938_cluster0', 'cube970_cluster0'], ['cube938_cluster0', 'cube995_cluster0'], ['cube938_cluster0', 'cube996_cluster0'], ['cube943_cluster0', 'cube944_cluster0'], ['cube943_cluster0', 'cube945_cluster0'], ['cube943_cluster0', 'cube973_cluster0'], ['cube943_cluster0', 'cube975_cluster0'], ['cube943_cluster0', 'cube977_cluster0'], ['cube944_cluster0', 'cube945_cluster0'], ['cube944_cluster0', 'cube975_cluster0'], ['cube944_cluster0', 'cube977_cluster0'], ['cube945_cluster0', 'cube947_cluster0'], ['cube945_cluster0', 'cube975_cluster0'], ['cube945_cluster0', 'cube977_cluster0'], ['cube945_cluster0', 'cube979_cluster0'], ['cube947_cluster0', 'cube977_cluster0'], ['cube947_cluster0', 'cube979_cluster0'], ['cube951_cluster0', 'cube952_cluster0'], ['cube951_cluster0', 'cube953_cluster0'], ['cube951_cluster0', 'cube983_cluster0'], ['cube951_cluster0', 'cube984_cluster0'], ['cube951_cluster0', 'cube985_cluster0'], ['cube952_cluster0', 'cube953_cluster0'], ['cube952_cluster0', 'cube954_cluster0'], ['cube952_cluster0', 'cube983_cluster0'], ['cube952_cluster0', 'cube984_cluster0'], ['cube952_cluster0', 'cube985_cluster0'], ['cube953_cluster0', 'cube954_cluster0'], ['cube953_cluster0', 'cube955_cluster0'], ['cube953_cluster0', 'cube983_cluster0'], ['cube953_cluster0', 'cube984_cluster0'], ['cube953_cluster0', 'cube985_cluster0'], ['cube953_cluster0', 'cube986_cluster0'], ['cube953_cluster0', 'cube987_cluster0'], ['cube954_cluster0', 'cube955_cluster0'], ['cube954_cluster0', 'cube985_cluster0'], ['cube954_cluster0', 'cube986_cluster0'], ['cube954_cluster0', 'cube987_cluster0'], ['cube955_cluster0', 'cube985_cluster0'], ['cube955_cluster0', 'cube986_cluster0'], ['cube955_cluster0', 'cube987_cluster0'], ['cube968_cluster0', 'cube969_cluster0'], ['cube968_cluster0', 'cube970_cluster0'], ['cube968_cluster0', 'cube995_cluster0'], ['cube968_cluster0', 'cube996_cluster0'], ['cube968_cluster0', 'cube1026_cluster0'], ['cube968_cluster0', 'cube1027_cluster0'], ['cube969_cluster0', 'cube970_cluster0'], ['cube969_cluster0', 'cube995_cluster0'], ['cube969_cluster0', 'cube996_cluster0'], ['cube969_cluster0', 'cube1026_cluster0'], ['cube969_cluster0', 'cube1027_cluster0'], ['cube970_cluster0', 'cube995_cluster0'], ['cube970_cluster0', 'cube996_cluster0'], ['cube970_cluster0', 'cube1026_cluster0'], ['cube970_cluster0', 'cube1027_cluster0'], ['cube973_cluster0', 'cube975_cluster0'], ['cube973_cluster0', 'cube1001_cluster0'], ['cube975_cluster0', 'cube977_cluster0'], ['cube975_cluster0', 'cube1001_cluster0'], ['cube975_cluster0', 'cube1032_cluster0'], ['cube975_cluster0', 'cube1033_cluster0'], ['cube975_cluster0', 'cube1034_cluster0'], ['cube977_cluster0', 'cube979_cluster0'], ['cube977_cluster0', 'cube1001_cluster0'], ['cube977_cluster0', 'cube1032_cluster0'], ['cube977_cluster0', 'cube1033_cluster0'], ['cube977_cluster0', 'cube1034_cluster0'], ['cube983_cluster0', 'cube984_cluster0'], ['cube983_cluster0', 'cube985_cluster0'], ['cube983_cluster0', 'cube1038_cluster0'], ['cube983_cluster0', 'cube1039_cluster0'], ['cube983_cluster0', 'cube1040_cluster0'], ['cube983_cluster0', 'cube1041_cluster0'], ['cube984_cluster0', 'cube985_cluster0'], ['cube984_cluster0', 'cube986_cluster0'], ['cube984_cluster0', 'cube1039_cluster0'], ['cube984_cluster0', 'cube1040_cluster0'], ['cube984_cluster0', 'cube1041_cluster0'], ['cube985_cluster0', 'cube986_cluster0'], ['cube985_cluster0', 'cube987_cluster0'], ['cube985_cluster0', 'cube1041_cluster0'], ['cube986_cluster0', 'cube987_cluster0'], ['cube986_cluster0', 'cube1041_cluster0'], ['cube995_cluster0', 'cube996_cluster0'], ['cube995_cluster0', 'cube1026_cluster0'], ['cube995_cluster0', 'cube1027_cluster0'], ['cube996_cluster0', 'cube1026_cluster0'], ['cube996_cluster0', 'cube1027_cluster0'], ['cube1001_cluster0', 'cube1032_cluster0'], ['cube1001_cluster0', 'cube1033_cluster0'], ['cube1001_cluster0', 'cube1034_cluster0'], ['cube1001_cluster0', 'cube1063_cluster0'], ['cube1001_cluster0', 'cube1064_cluster0'], ['cube1026_cluster0', 'cube1027_cluster0'], ['cube1032_cluster0', 'cube1033_cluster0'], ['cube1032_cluster0', 'cube1034_cluster0'], ['cube1032_cluster0', 'cube1063_cluster0'], ['cube1032_cluster0', 'cube1064_cluster0'], ['cube1033_cluster0', 'cube1034_cluster0'], ['cube1038_cluster0', 'cube1039_cluster0'], ['cube1038_cluster0', 'cube1040_cluster0'], ['cube1038_cluster0', 'cube1072_cluster0'], ['cube1039_cluster0', 'cube1040_cluster0'], ['cube1039_cluster0', 'cube1041_cluster0'], ['cube1039_cluster0', 'cube1072_cluster0'], ['cube1039_cluster0', 'cube1074_cluster0'], ['cube1040_cluster0', 'cube1041_cluster0'], ['cube1040_cluster0', 'cube1072_cluster0'], ['cube1040_cluster0', 'cube1074_cluster0'], ['cube1041_cluster0', 'cube1072_cluster0'], ['cube1041_cluster0', 'cube1074_cluster0'], ['cube1041_cluster0', 'cube1075_cluster0'], ['cube1063_cluster0', 'cube1064_cluster0'], ['cube1072_cluster0', 'cube1074_cluster0'], ['cube1074_cluster0', 'cube1075_cluster0'], ['cube1075_cluster0', 'cube1077_cluster0'], ['cube1077_cluster0', 'cube1078_cluster0']]\n",
            "\n",
            "meta_data\n",
            "{'projection': 'TruncatedSVD()', 'n_cubes': 50, 'perc_overlap': 0.62, 'clusterer': \"DBSCAN(eps=20.0, metric='correlation')\", 'scaler': 'MinMaxScaler()'}\n",
            "\n",
            "meta_nodes\n",
            "defaultdict(<class 'list'>, {})\n",
            "\n"
          ]
        }
      ],
      "id": "ROnEmUR2-5b9"
    },
    {
      "cell_type": "code",
      "source": [
        "from scipy.sparse.csgraph    import dijkstra, shortest_path, connected_components\n",
        "from scipy.stats             import ks_2samp\n",
        "\n",
        "def compute_differential_coordinates(df_tda_cognition, bnd_tmp_i):\n",
        "    \n",
        "    #Data points that create this community\n",
        "    list_idxs1 = list(np.unique(bnd_tmp_i))\n",
        "    #Data points that do not create this community\n",
        "    list_idxs2 = list(set(np.arange(X.shape[0]))-set(list_idxs1))\n",
        "\n",
        "    df_tda_cognition_np = df_tda_cognition.to_numpy()\n",
        "\n",
        "    features = [i for i in range(0, len(df_tda_cognition.columns))]\n",
        "    \n",
        "    pvals = []\n",
        "    for f in features:\n",
        "        group1, group2 = df_tda_cognition_np[list_idxs1, f], df_tda_cognition_np[list_idxs2, f]\n",
        "\n",
        "        _,pval = ks_2samp(group1, group2)\n",
        "        \n",
        "        pvals.append(pval)\n",
        "    \n",
        "    pvals = np.array(pvals)\n",
        "\n",
        "    features = np.array(features)\n",
        "    F_ks, P_ks = features[np.argsort(pvals)], np.sort(pvals)\n",
        "    return F_ks, P_ks \n",
        "\n",
        "\n"
      ],
      "metadata": {
        "id": "Iw8wO-l5F6ri"
      },
      "id": "Iw8wO-l5F6ri",
      "execution_count": 69,
      "outputs": []
    },
    {
      "cell_type": "code",
      "source": [
        "def get_AGE_of_community(df_tda_cognition, bnd_tmp_i):\n",
        "\n",
        "    group1 = X[bnd_tmp_i,2]\n",
        "    ages=np.unique(group1)\n",
        "    years=[]\n",
        "    for i in ages:\n",
        "      if i==1:\n",
        "        years.append(\"22-30\")\n",
        "      elif i==2:\n",
        "        years.append(\"31+\")\n",
        "      \n",
        "    return years\n",
        "#x = get_AGE_of_community(cover_complex, nodes=bnd_temp[0])"
      ],
      "metadata": {
        "id": "KLoEyzWEbgFD"
      },
      "execution_count": 70,
      "outputs": [],
      "id": "KLoEyzWEbgFD"
    },
    {
      "cell_type": "code",
      "source": [
        "def get_number_of_communities_to_print(df_tda_cognition, bnd_temp):\n",
        "  row=[[\"Clinical features\",\"Cat.\"]]\n",
        "  AGE=\"\"\n",
        "  for i in range(0,len(bnd_temp)):\n",
        "    AGE = get_AGE_of_community(df_tda_cognition, bnd_temp[i])\n",
        "    AGE = str(AGE)\n",
        "    AGE= AGE[2:]\n",
        "    AGE= AGE[:-2]\n",
        "    #row[0].append(str(AGE))\n",
        "    row[0].append(\"G\"+str(i+1))\n",
        "  return row\n",
        "\n",
        "def is_it_in_other_comm(feature, feature_meaning, all_comm_features ): #,all_means,com_numb):\n",
        "  data_columns = list(df_tda_cognition.columns)\n",
        "  thicks=[]\n",
        "  meann=\"\"\n",
        "  \n",
        "  #print(\"MEEEAN\",meann)\n",
        "\n",
        "  for i in range(len(all_comm_features)):\n",
        "    meann=\"\"\n",
        "    #mean_float = \"{:.0f}\".format(all_means[i][feature])\n",
        "    #meann=meann+ str(mean_float)\n",
        "    if feature_meaning in all_comm_features[i]:\n",
        "      thicks.append(\"X\") #+ \" (\" +str(meann)+\")\")\n",
        "    else:\n",
        "      thicks.append(\"-\") # + \" (\" +str(meann)+\")\")\n",
        "      \n",
        "  return thicks"
      ],
      "metadata": {
        "id": "kv3uDPT4Vt3o"
      },
      "id": "kv3uDPT4Vt3o",
      "execution_count": 71,
      "outputs": []
    },
    {
      "cell_type": "code",
      "source": [
        "\n",
        "def print_table( meanings_dictionary, bnd_temp, df_tda_cognition):  #, all_means):\n",
        "\n",
        "\n",
        "\n",
        "  all_feature_meanings=[]\n",
        "\n",
        "  for i in range(0,len(bnd_temp)):\n",
        "    \n",
        "    comm=[]\n",
        "    coordinates, pvalues = compute_differential_coordinates(df_tda_cognition, bnd_temp[i])\n",
        "    #print(\"Feature names that creates this community:\")\n",
        "    featuress= [df_tda_cognition.columns[j0] for j0 in coordinates]\n",
        "\n",
        "    for j in range(0,len(featuress)):\n",
        "      if pvalues[j] < 0.05:\n",
        "        comm.append(meanings_dictionary[featuress[j]])\n",
        "    all_feature_meanings.append(comm)\n",
        "  \n",
        "\n",
        "  \n",
        "  for i in range(0,len(bnd_temp)):\n",
        "    feat_meaning=[]\n",
        "    feat_code=[]\n",
        "    coordinates, pvalues = compute_differential_coordinates(df_tda_cognition, bnd_temp[i])\n",
        "    \n",
        "    #print(\"Feature names that creates this community:\")\n",
        "    featuress= [df_tda_cognition.columns[j1] for j1 in coordinates]\n",
        "\n",
        "    #PValue check:\n",
        "    for j in range(0,len(featuress)):\n",
        "      if pvalues[j] < 0.05:\n",
        "        feat_meaning.append(meanings_dictionary[featuress[j]])\n",
        "        feat_code.append(featuress[j])\n",
        "\n",
        "    category = \"\"\n",
        "    feature_name = \"\"\n",
        "    rows = get_number_of_communities_to_print(df_tda_cognition, bnd_temp)\n",
        "    for k in range(0,len(feat_meaning)):\n",
        "      category, feature_name = feat_meaning[k][0:3],feat_meaning[k][4:]\n",
        "      \n",
        "      row_tmp = [feature_name, category]\n",
        "      row_tmp = row_tmp + is_it_in_other_comm( feat_code[k], feat_meaning[k], all_feature_meanings ) #,all_means,i)\n",
        "           \n",
        "      rows.append(row_tmp)\n",
        "\n",
        "    #print(\"rows -->\",rows)\n",
        "    table = Texttable()\n",
        "    table.set_cols_align([\"c\"] * (len(bnd_temp)+2))\n",
        "    table.set_deco(Texttable.HEADER | Texttable.VLINES)\n",
        "    table.add_rows(rows)\n",
        "    \n",
        "    print(\"\\n--------------------------------------------------------------\")#, file=f)\n",
        "    \n",
        "    AGE=\"\"\n",
        "    AGE = get_AGE_of_community(df_tda_cognition, bnd_temp[i])\n",
        "    print(\"COMMUNITY-\",i+1 , \", \" , AGE ) #, file=f)\n",
        "    print(table.draw()) #, file=f)\n",
        "    \n",
        "    print(\"--------------------------------------------------------------\")#, file=f)\n",
        "  #f.close()\n",
        "\n",
        "\n",
        "\n",
        "\n"
      ],
      "metadata": {
        "id": "4UdmrnoQ7xo7"
      },
      "execution_count": 72,
      "outputs": [],
      "id": "4UdmrnoQ7xo7"
    },
    {
      "cell_type": "code",
      "source": [
        "from tabulate import tabulate\n",
        "from texttable import Texttable\n",
        "\n",
        "import latextable\n",
        "\n",
        "#31+\n",
        "comm1 = ['cube55_cluster0', 'cube56_cluster0','cube82_cluster0','cube137_cluster0','cube109_cluster0','cube138_cluster0',\n",
        "        'cube202_cluster0','cube139_cluster0','cube168_cluster0','cube203_cluster0','cube140_cluster0', 'cube167_cluster0',\n",
        "         'cube204_cluster0', 'cube169_cluster0','cube205_cluster0','cube141_cluster0','cube170_cluster0', 'cube207_cluster0',\n",
        "         'cube171_cluster0', 'cube206_cluster0',\n",
        "         \n",
        "         'cube394_cluster0', 'cube363_cluster0','cube393_cluster0','cube362_cluster0','cube332_cluster0','cube333_cluster0',\n",
        "        'cube392_cluster0','cube361_cluster0','cube210_cluster0','cube243_cluster0','cube175_cluster0', \n",
        "         'cube276_cluster0','cube242_cluster0',\n",
        "         ]\n",
        "\n",
        "\n",
        "#[20-30]\n",
        "comm2 = ['cube1027_cluster0', 'cube970_cluster0','cube936_cluster0','cube778_cluster0','cube935_cluster0','cube821_cluster0',\n",
        "         'cube1026_cluster0', 'cube969_cluster0','cube900_cluster0','cube819_cluster0','cube897_cluster0', 'cube780_cluster0',\n",
        "         'cube995_cluster0', 'cube968_cluster0','cube901_cluster0','cube820_cluster0','cube899_cluster0','cube898_cluster0',\n",
        "         'cube996_cluster0', 'cube937_cluster0','cube861_cluster0','cube779_cluster0','cube859_cluster0','cube858_cluster0',\n",
        "         'cube857_cluster0', 'cube817_cluster0','cube743_cluster0',\n",
        "         \n",
        "         \n",
        "         'cube743_cluster0', 'cube744_cluster0','cube745_cluster0','cube821_cluster0','cube781_cluster0','cube780_cluster0',\n",
        "         'cube779_cluster0', 'cube778_cluster0','cube938_cluster0','cube902_cluster0','cube862_cluster0','cube861_cluster0',\n",
        "         'cube863_cluster0', 'cube903_cluster0','cube708_cluster0',\n",
        "         ]\n",
        "\n",
        "#[20-30]\n",
        "comm3 = ['cube633_cluster0', 'cube563_cluster0','cube597_cluster0','cube738_cluster0', 'cube560_cluster0','cube441_cluster0',\n",
        "         'cube632_cluster0', 'cube561_cluster0','cube519_cluster0','cube440_cluster0', 'cube629_cluster0','cube562_cluster0',\n",
        "         'cube665_cluster0', 'cube663_cluster0','cube478_cluster0','cube518_cluster0', 'cube520_cluster0','cube630_cluster0',\n",
        "         'cube631_cluster0', 'cube702_cluster0','cube479_cluster0','cube442_cluster0', 'cube559_cluster0',  \n",
        "         'cube599_cluster0', 'cube664_cluster0','cube701_cluster0' ,'cube517_cluster0', 'cube476_cluster0', \n",
        "         'cube516_cluster0', 'cube473_cluster0','cube474_cluster0', 'cube477_cluster0','cube558_cluster0','cube598_cluster0',\n",
        "          \n",
        "         'cube666_cluster0', 'cube600_cluster0','cube564_cluster0', 'cube563_cluster0','cube521_cluster0','cube479_cluster0',\n",
        "         'cube443_cluster0', 'cube480_cluster0','cube403_cluster0', 'cube404_cluster0','cube522_cluster0'\n",
        "          ]\n",
        "\n",
        "\n",
        "#MIX AGE\n",
        "comm4 = ['cube1078_cluster0', 'cube1077_cluster0','cube1075_cluster0','cube1074_cluster0', 'cube1072_cluster0','cube1038_cluster0',\n",
        "         'cube1039_cluster0', 'cube1040_cluster0','cube1041_cluster0','cube983_cluster0', 'cube984_cluster0','cube985_cluster0',\n",
        "         'cube953_cluster0', 'cube917_cluster0','cube916_cluster0','cube952_cluster0', 'cube915_cluster0','cube951_cluster0',\n",
        "         \n",
        "         'cube986_cluster0', 'cube987_cluster0','cube918_cluster0','cube954_cluster0', 'cube919_cluster0',  \n",
        "         'cube955_cluster0', 'cube920_cluster0','cube879_cluster0' ,'cube921_cluster0', 'cube880_cluster0', \n",
        "         'cube881_cluster0', 'cube841_cluster0','cube840_cluster0', 'cube800_cluster0','cube799_cluster0',\n",
        "          \n",
        "         'cube764_cluster0', 'cube763_cluster0','cube762_cluster0', 'cube837_cluster0','cube796_cluster0','cube760_cluster0',\n",
        "         'cube721_cluster0', 'cube682_cluster0','cube683_cluster0', 'cube722_cluster0',\n",
        "          ]       \n",
        "\n",
        "\n",
        "comms = []\n",
        "comms.append(comm1)\n",
        "comms.append(comm2)\n",
        "comms.append(comm3)\n",
        "comms.append(comm4)\n",
        "\n",
        "\n",
        "\n",
        "bnd_tmp=[]\n",
        "for comm in comms:\n",
        "  patients_ids = []\n",
        "  #print(comm)\n",
        "  for i in comm:\n",
        "    patients_ids += graphh['nodes'][i]\n",
        "  bnd_tmp.append(np.unique(patients_ids))\n",
        "  \n",
        "#comm_features, p_values = compute_differential_coordinates(df_tda_cognition, all_patients_ids)\n",
        "\n",
        "print_table( meanings_dictionary, bnd_tmp, df_tda_cognition) #, all_means)\n"
      ],
      "metadata": {
        "id": "MFA9b7-_7xwx",
        "colab": {
          "base_uri": "https://localhost:8080/"
        },
        "outputId": "e64834fb-ba87-47ce-fbc5-e4beabc9be62"
      },
      "execution_count": 73,
      "outputs": [
        {
          "output_type": "stream",
          "name": "stdout",
          "text": [
            "\n",
            "--------------------------------------------------------------\n",
            "COMMUNITY- 1 ,  ['22-30', '31+']\n",
            "               Clinical features                | Cat. | G1 | G2 | G3 | G4\n",
            "================================================+======+====+====+====+===\n",
            "           Total gray matter volume             | GMV  | X  | X  | X  | X \n",
            "       Total cortical gray matter volume        | GMV  | X  | X  | X  | X \n",
            "             Supratentorial volume              | FSS  | X  | X  | X  | X \n",
            "     Total subcortical gray matter volume       | GMV  | X  | X  | -  | X \n",
            "        Right lateral-orbito-frontal SA         | SA_  | X  | X  | -  | X \n",
            "        Left lateral-orbito-frontal SA          | SA_  | X  | X  | X  | X \n",
            "      Left rostral-anterior-cingulate SA        | SA_  | X  | X  | X  | X \n",
            "      Total cortical white matter volume        | WMV  | X  | X  | X  | X \n",
            "        Right medial-orbito-frontal SA          | SA_  | X  | X  | -  | X \n",
            "                    Gender                      | OTH  | X  | X  | X  | X \n",
            "                      Age                       | OTH  | X  | X  | X  | - \n",
            "      Right caudal-anterior-cingulate SA        | SA_  | X  | X  | X  | X \n",
            "      Right rostral-anterior-cingulate SA       | SA_  | X  | X  | X  | X \n",
            "         Left medial-orbito-frontal SA          | SA_  | X  | X  | X  | X \n",
            "       Left caudal-anterior-cingulate SA        | SA_  | X  | X  | X  | X \n",
            "       Language/Vocabulary Comprehension        | COG  | X  | -  | X  | X \n",
            "   Left lateral-orbito-frontal Avg Thickness    | Thc  | X  | X  | X  | X \n",
            "     Strength (Grip Strength Dynamometry)       | MOT  | X  | X  | -  | X \n",
            "Self-regulation/Impulsivity (Delay Discounting) | COG  | X  | X  | X  | - \n",
            "        Endurance (2 minute walk test)          | MOT  | X  | X  | -  | X \n",
            "              Spatial Orientation               | COG  | X  | -  | -  | X \n",
            "           Language/Reading Decoding            | COG  | X  | -  | X  | X \n",
            "  Right lateral-orbito-frontal Avg Thickness    | Thc  | X  | X  | X  | - \n",
            "           Negative Affect (Sadness)            | EMO  | X  | -  | -  | - \n",
            "         Working Memory (List Sorting)          | COG  | X  | -  | X  | X \n",
            "--------------------------------------------------------------\n",
            "\n",
            "--------------------------------------------------------------\n",
            "COMMUNITY- 2 ,  ['22-30', '31+']\n",
            "               Clinical features                | Cat. | G1 | G2 | G3 | G4\n",
            "================================================+======+====+====+====+===\n",
            "           Total gray matter volume             | GMV  | X  | X  | X  | X \n",
            "       Total cortical gray matter volume        | GMV  | X  | X  | X  | X \n",
            "             Supratentorial volume              | FSS  | X  | X  | X  | X \n",
            "      Total cortical white matter volume        | WMV  | X  | X  | X  | X \n",
            "     Total subcortical gray matter volume       | GMV  | X  | X  | -  | X \n",
            "        Left lateral-orbito-frontal SA          | SA_  | X  | X  | X  | X \n",
            "        Right lateral-orbito-frontal SA         | SA_  | X  | X  | -  | X \n",
            "        Right medial-orbito-frontal SA          | SA_  | X  | X  | -  | X \n",
            "      Left rostral-anterior-cingulate SA        | SA_  | X  | X  | X  | X \n",
            "                    Gender                      | OTH  | X  | X  | X  | X \n",
            "     Strength (Grip Strength Dynamometry)       | MOT  | X  | X  | -  | X \n",
            "      Right caudal-anterior-cingulate SA        | SA_  | X  | X  | X  | X \n",
            "   Left lateral-orbito-frontal Avg Thickness    | Thc  | X  | X  | X  | X \n",
            "         Left medial-orbito-frontal SA          | SA_  | X  | X  | X  | X \n",
            "      Right rostral-anterior-cingulate SA       | SA_  | X  | X  | X  | X \n",
            "  Right lateral-orbito-frontal Avg Thickness    | Thc  | X  | X  | X  | - \n",
            "       Left caudal-anterior-cingulate SA        | SA_  | X  | X  | X  | X \n",
            "              Fluid Intelligence                | COG  | -  | X  | X  | - \n",
            "        Endurance (2 minute walk test)          | MOT  | X  | X  | -  | X \n",
            "                      Age                       | OTH  | X  | X  | X  | - \n",
            "   Right medial-orbito-frontal Avg Thickness    | Thc  | -  | X  | X  | - \n",
            "Right rostral-anterior-cingulate Avg Thickness  | Thc  | -  | X  | X  | X \n",
            "   Left medial-orbito-frontal Avg Thickness     | Thc  | -  | X  | X  | - \n",
            "Self-regulation/Impulsivity (Delay Discounting) | COG  | X  | X  | X  | - \n",
            "--------------------------------------------------------------\n",
            "\n",
            "--------------------------------------------------------------\n",
            "COMMUNITY- 3 ,  ['22-30', '31+']\n",
            "               Clinical features                | Cat. | G1 | G2 | G3 | G4\n",
            "================================================+======+====+====+====+===\n",
            "       Total cortical gray matter volume        | GMV  | X  | X  | X  | X \n",
            "           Total gray matter volume             | GMV  | X  | X  | X  | X \n",
            "      Total cortical white matter volume        | WMV  | X  | X  | X  | X \n",
            "             Supratentorial volume              | FSS  | X  | X  | X  | X \n",
            "                      Age                       | OTH  | X  | X  | X  | - \n",
            "   Left lateral-orbito-frontal Avg Thickness    | Thc  | X  | X  | X  | X \n",
            "              Fluid Intelligence                | COG  | -  | X  | X  | - \n",
            "        Left lateral-orbito-frontal SA          | SA_  | X  | X  | X  | X \n",
            "  Right lateral-orbito-frontal Avg Thickness    | Thc  | X  | X  | X  | - \n",
            "      Left rostral-anterior-cingulate SA        | SA_  | X  | X  | X  | X \n",
            "       Language/Vocabulary Comprehension        | COG  | X  | -  | X  | X \n",
            "      Right caudal-anterior-cingulate SA        | SA_  | X  | X  | X  | X \n",
            "   Right medial-orbito-frontal Avg Thickness    | Thc  | -  | X  | X  | - \n",
            "         Left medial-orbito-frontal SA          | SA_  | X  | X  | X  | X \n",
            "         Working Memory (List Sorting)          | COG  | X  | -  | X  | X \n",
            "      Right rostral-anterior-cingulate SA       | SA_  | X  | X  | X  | X \n",
            "Right rostral-anterior-cingulate Avg Thickness  | Thc  | -  | X  | X  | X \n",
            "   Left medial-orbito-frontal Avg Thickness     | Thc  | -  | X  | X  | - \n",
            "           Language/Reading Decoding            | COG  | X  | -  | X  | X \n",
            "Self-regulation/Impulsivity (Delay Discounting) | COG  | X  | X  | X  | - \n",
            "                    Gender                      | OTH  | X  | X  | X  | X \n",
            "       Left caudal-anterior-cingulate SA        | SA_  | X  | X  | X  | X \n",
            " Left rostral-anterior-cingulate Avg Thickness  | Thc  | -  | -  | X  | - \n",
            "              Sustained Attention               | COG  | -  | -  | X  | - \n",
            "--------------------------------------------------------------\n",
            "\n",
            "--------------------------------------------------------------\n",
            "COMMUNITY- 4 ,  ['22-30', '31+']\n",
            "              Clinical features                | Cat. | G1 | G2 | G3 | G4\n",
            "===============================================+======+====+====+====+===\n",
            "      Total cortical gray matter volume        | GMV  | X  | X  | X  | X \n",
            "           Total gray matter volume            | GMV  | X  | X  | X  | X \n",
            "            Supratentorial volume              | FSS  | X  | X  | X  | X \n",
            "      Total cortical white matter volume       | WMV  | X  | X  | X  | X \n",
            "     Total subcortical gray matter volume      | GMV  | X  | X  | -  | X \n",
            "       Right lateral-orbito-frontal SA         | SA_  | X  | X  | -  | X \n",
            "        Left lateral-orbito-frontal SA         | SA_  | X  | X  | X  | X \n",
            "        Left medial-orbito-frontal SA          | SA_  | X  | X  | X  | X \n",
            "        Right medial-orbito-frontal SA         | SA_  | X  | X  | -  | X \n",
            "     Strength (Grip Strength Dynamometry)      | MOT  | X  | X  | -  | X \n",
            "                    Gender                     | OTH  | X  | X  | X  | X \n",
            "      Left rostral-anterior-cingulate SA       | SA_  | X  | X  | X  | X \n",
            "     Right rostral-anterior-cingulate SA       | SA_  | X  | X  | X  | X \n",
            "      Right caudal-anterior-cingulate SA       | SA_  | X  | X  | X  | X \n",
            "      Left caudal-anterior-cingulate SA        | SA_  | X  | X  | X  | X \n",
            "        Endurance (2 minute walk test)         | MOT  | X  | X  | -  | X \n",
            "             Spatial Orientation               | COG  | X  | -  | -  | X \n",
            "        Working Memory (List Sorting)          | COG  | X  | -  | X  | X \n",
            "  Executive Function/ Cognitive Flexibility    | COG  | -  | -  | -  | X \n",
            "Right rostral-anterior-cingulate Avg Thickness | Thc  | -  | X  | X  | X \n",
            "          Language/Reading Decoding            | COG  | X  | -  | X  | X \n",
            "  Left lateral-orbito-frontal Avg Thickness    | Thc  | X  | X  | X  | X \n",
            "      Language/Vocabulary Comprehension        | COG  | X  | -  | X  | X \n",
            "--------------------------------------------------------------\n"
          ]
        }
      ],
      "id": "MFA9b7-_7xwx"
    },
    {
      "cell_type": "code",
      "source": [
        "def get_means_and_pvalues_helper(data_columns, bnd_tmp_i ):\n",
        "  #Data points that create this community\n",
        "  list_idxs1 = list(np.unique(bnd_tmp_i))\n",
        "  #Other data points that do not create this community\n",
        "  list_idxs2 = list(set(np.arange(X.shape[0]))-set(list_idxs1))\n",
        "\n",
        "  pvals = {}\n",
        "  means = {}\n",
        "\n",
        "  features = [i for i in range(0, len(df_tda_cognition.columns))]\n",
        "  for f in features:\n",
        "    group1, group2 = df_tda_cognition_np[list_idxs1, f], df_tda_cognition_np[list_idxs2, f]\n",
        "    _,pval = ks_2samp(group1, group2)\n",
        "\n",
        "\n",
        "    means[data_columns[f]] = np.mean(group1)\n",
        "    pvals[data_columns[f]] = pval\n",
        "\n",
        "   \n",
        "  return means, pvals"
      ],
      "metadata": {
        "id": "52_HiWZYzcru"
      },
      "execution_count": 75,
      "outputs": [],
      "id": "52_HiWZYzcru"
    },
    {
      "cell_type": "code",
      "source": [
        "comm_number = 0\n",
        "\n",
        "\n",
        "def get_means_and_pvalues( meanings_dictionary, bnd_temp, numm, df_tda_cognition):\n",
        "\n",
        "  data_columns = list(df_tda_cognition.columns)\n",
        "  \n",
        "  #f = open(\"statistics\"+\".txt\", \"a\")\n",
        "  \n",
        "  all_means=[]\n",
        "  for i in range(0,len(bnd_temp)):\n",
        "    means, pvals = get_means_and_pvalues_helper( data_columns, bnd_temp[i])\n",
        "    #featuress= [df_tda_cognition.columns[j] for j in coordinates]\n",
        "\n",
        "    \n",
        "    all_means.append(means)\n",
        "    '''\n",
        "    print(\"--------------------------------------------------------------\" ) #,file=f)\n",
        "    print(\"COMMUNITY-\",i) #, file=f)\n",
        "\n",
        "\n",
        "    for j in range(0,len(means)):\n",
        "      print(data_columns[j]) # , file=f)\n",
        "      print(\"p-value = \", pvals[data_columns[j]]) #, file=f)\n",
        "      print(\"mean = \", means[data_columns[j]]) #, file=f)\n",
        "      print(\" \") #, file=f)\n",
        "    '''\n",
        "  #f.close()\n",
        "  return all_means, pvals"
      ],
      "metadata": {
        "id": "Rw0hCIZX_Mih"
      },
      "execution_count": 78,
      "outputs": [],
      "id": "Rw0hCIZX_Mih"
    },
    {
      "cell_type": "code",
      "source": [
        "\n",
        "\n",
        "\n",
        "def get_one_nodes_avg_value(nodeee):\n",
        "  #To find an avg value of a feature in just one node\n",
        "  nodes=[]\n",
        "  #node= ['cube598_cluster0']\n",
        "  node = nodeee\n",
        "  nodes.append(np.unique(node))\n",
        "\n",
        "  bnd_tmp2=[]\n",
        "  for comm2 in nodes:\n",
        "    patients_ids = []\n",
        "    for i in comm2:\n",
        "      patients_ids += graphh['nodes'][i]\n",
        "    bnd_tmp2.append(np.unique(patients_ids))\n",
        "\n",
        "  all_means2, pvalues2 = get_means_and_pvalues(meanings_dictionary, bnd_tmp2, 0, df_tda_cognition)\n",
        "  return all_means2[0][\"FS_R_Rostralanteriorcingulate_Thck\"], len(bnd_tmp2[0])\n",
        "\n",
        "#31+\n",
        "comm1 = ['cube55_cluster0', 'cube56_cluster0','cube82_cluster0','cube137_cluster0','cube109_cluster0','cube138_cluster0',\n",
        "        'cube202_cluster0','cube139_cluster0','cube168_cluster0','cube203_cluster0','cube140_cluster0', 'cube167_cluster0',\n",
        "         'cube204_cluster0', 'cube169_cluster0','cube205_cluster0','cube141_cluster0','cube170_cluster0', 'cube207_cluster0',\n",
        "         'cube171_cluster0', 'cube206_cluster0',\n",
        "         \n",
        "         'cube394_cluster0', 'cube363_cluster0','cube393_cluster0','cube362_cluster0','cube332_cluster0','cube333_cluster0',\n",
        "        'cube392_cluster0','cube361_cluster0','cube210_cluster0','cube243_cluster0','cube175_cluster0', \n",
        "         'cube276_cluster0','cube242_cluster0',\n",
        "         ]\n",
        "\n",
        "\n",
        "#[20-30]\n",
        "comm2 = ['cube1027_cluster0', 'cube970_cluster0','cube936_cluster0','cube778_cluster0','cube935_cluster0','cube821_cluster0',\n",
        "         'cube1026_cluster0', 'cube969_cluster0','cube900_cluster0','cube819_cluster0','cube897_cluster0', 'cube780_cluster0',\n",
        "         'cube995_cluster0', 'cube968_cluster0','cube901_cluster0','cube820_cluster0','cube899_cluster0','cube898_cluster0',\n",
        "         'cube996_cluster0', 'cube937_cluster0','cube861_cluster0','cube779_cluster0','cube859_cluster0','cube858_cluster0',\n",
        "         'cube857_cluster0', 'cube817_cluster0','cube743_cluster0',\n",
        "         \n",
        "         \n",
        "         'cube743_cluster0', 'cube744_cluster0','cube745_cluster0','cube821_cluster0','cube781_cluster0','cube780_cluster0',\n",
        "         'cube779_cluster0', 'cube778_cluster0','cube938_cluster0','cube902_cluster0','cube862_cluster0','cube861_cluster0',\n",
        "         'cube863_cluster0', 'cube903_cluster0','cube708_cluster0',\n",
        "         ]\n",
        "\n",
        "#[20-30]\n",
        "comm3 = ['cube633_cluster0', 'cube563_cluster0','cube597_cluster0','cube738_cluster0', 'cube560_cluster0','cube441_cluster0',\n",
        "         'cube632_cluster0', 'cube561_cluster0','cube519_cluster0','cube440_cluster0', 'cube629_cluster0','cube562_cluster0',\n",
        "         'cube665_cluster0', 'cube663_cluster0','cube478_cluster0','cube518_cluster0', 'cube520_cluster0','cube630_cluster0',\n",
        "         'cube631_cluster0', 'cube702_cluster0','cube479_cluster0','cube442_cluster0', 'cube559_cluster0',  \n",
        "         'cube599_cluster0', 'cube664_cluster0','cube701_cluster0' ,'cube517_cluster0', 'cube476_cluster0', \n",
        "         'cube516_cluster0', 'cube473_cluster0','cube474_cluster0', 'cube477_cluster0','cube558_cluster0','cube598_cluster0',\n",
        "          \n",
        "         'cube666_cluster0', 'cube600_cluster0','cube564_cluster0', 'cube563_cluster0','cube521_cluster0','cube479_cluster0',\n",
        "         'cube443_cluster0', 'cube480_cluster0','cube403_cluster0', 'cube404_cluster0','cube522_cluster0'\n",
        "          ]\n",
        "\n",
        "\n",
        "#MIX AGE\n",
        "comm4 = ['cube1078_cluster0', 'cube1077_cluster0','cube1075_cluster0','cube1074_cluster0', 'cube1072_cluster0','cube1038_cluster0',\n",
        "         'cube1039_cluster0', 'cube1040_cluster0','cube1041_cluster0','cube983_cluster0', 'cube984_cluster0','cube985_cluster0',\n",
        "         'cube953_cluster0', 'cube917_cluster0','cube916_cluster0','cube952_cluster0', 'cube915_cluster0','cube951_cluster0',\n",
        "         \n",
        "         'cube986_cluster0', 'cube987_cluster0','cube918_cluster0','cube954_cluster0', 'cube919_cluster0',  \n",
        "         'cube955_cluster0', 'cube920_cluster0','cube879_cluster0' ,'cube921_cluster0', 'cube880_cluster0', \n",
        "         'cube881_cluster0', 'cube841_cluster0','cube840_cluster0', 'cube800_cluster0','cube799_cluster0',\n",
        "          \n",
        "         'cube764_cluster0', 'cube763_cluster0','cube762_cluster0', 'cube837_cluster0','cube796_cluster0','cube760_cluster0',\n",
        "         'cube721_cluster0', 'cube682_cluster0','cube683_cluster0', 'cube722_cluster0',\n",
        "          ]       \n",
        "\n",
        "\n",
        "summ=0\n",
        "for i in np.unique(comm4):\n",
        "  meann, lenn= get_one_nodes_avg_value(i)\n",
        "  #print(meann, \"-->\", i, \"--->\", lenn)\n",
        "  summ+= lenn\n",
        "\n",
        "print()\n",
        "print(summ)\n",
        "\n",
        "\n"
      ],
      "metadata": {
        "colab": {
          "base_uri": "https://localhost:8080/"
        },
        "id": "ZJCTUBZr0SWD",
        "outputId": "90b28ae8-133b-4278-bf41-158ab661b12a"
      },
      "id": "ZJCTUBZr0SWD",
      "execution_count": 79,
      "outputs": [
        {
          "output_type": "stream",
          "name": "stdout",
          "text": [
            "\n",
            "282\n"
          ]
        }
      ]
    },
    {
      "cell_type": "code",
      "source": [
        "all_means, pvalues = get_means_and_pvalues(meanings_dictionary, bnd_tmp, 0, df_tda_cognition)"
      ],
      "metadata": {
        "id": "ez3nmNZ0xzpb"
      },
      "execution_count": 80,
      "outputs": [],
      "id": "ez3nmNZ0xzpb"
    },
    {
      "cell_type": "code",
      "source": [
        "##################################################################################\n",
        "############################################\n",
        "############################################\n",
        "############################################\n",
        "############################################\n",
        "############################################\n",
        "############################################\n",
        "############################################\n",
        "##################################################################################"
      ],
      "metadata": {
        "id": "POsGMX9JorAZ"
      },
      "id": "POsGMX9JorAZ",
      "execution_count": 81,
      "outputs": []
    },
    {
      "cell_type": "code",
      "source": [
        "#############################\n",
        "def get_mean_tables(feature, feature_meaning, all_comm_features ,all_means, com_numb , df_tda_cognition):\n",
        "  data_columns = list(df_tda_cognition.columns)\n",
        "  thicks=[]\n",
        "  meann=\"\"\n",
        "\n",
        "  for i in range(len(all_comm_features)):\n",
        "    meann=\"\"\n",
        "    mean_float = \"{:.2f}\".format(all_means[i][feature])\n",
        "    meann=meann+ str(mean_float)\n",
        "    if feature_meaning in all_comm_features[i]:\n",
        "      thicks.append(\"X_\" + str(meann)) \n",
        "    else:\n",
        "      thicks.append(\"._\" + str(meann))\n",
        "      \n",
        "  return thicks"
      ],
      "metadata": {
        "id": "QMvLglGcrBDw"
      },
      "id": "QMvLglGcrBDw",
      "execution_count": 82,
      "outputs": []
    },
    {
      "cell_type": "code",
      "source": [
        "############################################\n",
        "\n",
        "def print_mean( meanings_dictionary, bnd_temp, df_tda_cognition, all_means):\n",
        "\n",
        "\n",
        "  all_feature_meanings=[]\n",
        "\n",
        "  for i in range(0,len(bnd_temp)):\n",
        "    comm=[]\n",
        "    coordinates, pvalues = compute_differential_coordinates(df_tda_cognition, bnd_temp[i])\n",
        "    \n",
        "    #print(\"Feature names that creates this community:\")\n",
        "    featuress= [df_tda_cognition.columns[j0] for j0 in coordinates]\n",
        "\n",
        "    for j in range(0,len(featuress)):\n",
        "      if pvalues[j] < 0.05:\n",
        "        comm.append(meanings_dictionary[featuress[j]])\n",
        "    all_feature_meanings.append(comm)\n",
        "  \n",
        "\n",
        "  \n",
        "  for i in range(0,len(bnd_temp)):\n",
        "    feat_meaning=[]\n",
        "    feat_code=[]\n",
        "    coordinates, pvalues = compute_differential_coordinates(df_tda_cognition, bnd_temp[i])\n",
        "    \n",
        "    #print(\"Feature names that creates this community:\")\n",
        "    featuress= [df_tda_cognition.columns[j1] for j1 in coordinates]\n",
        "\n",
        "    #PValue check:\n",
        "    for j in range(0,len(featuress)):\n",
        "      if pvalues[j] < 0.05:\n",
        "        feat_meaning.append(meanings_dictionary[featuress[j]])\n",
        "        feat_code.append(featuress[j])\n",
        "    \n",
        "\n",
        "    category = \"\"\n",
        "    feature_name = \"\"\n",
        "    rows = get_number_of_communities_to_print(df_tda_cognition, bnd_temp)\n",
        "\n",
        "    for k in range(0,len(feat_meaning)):\n",
        "      category, feature_name = feat_meaning[k][0:3],feat_meaning[k][4:]\n",
        "      \n",
        "      row_tmp = [feature_name, category]\n",
        "      row_tmp = row_tmp + get_mean_tables( feat_code[k], feat_meaning[k], all_feature_meanings ,all_means,i, df_tda_cognition)\n",
        "           \n",
        "      rows.append(row_tmp)\n",
        "\n",
        "\n",
        "    #print(\"rows -->\",rows)\n",
        "    table = Texttable()\n",
        "    table.set_cols_align([\"c\"] * (len(bnd_temp)+2))\n",
        "    table.set_deco(Texttable.HEADER | Texttable.VLINES)\n",
        "    table.add_rows(rows)\n",
        "    \n",
        "    print(\"\\n--------------------------------------------------------------\")#, file=f)\n",
        "    \n",
        "    AGE=\"\"\n",
        "    AGE = get_AGE_of_community(df_tda_cognition, bnd_temp[i])\n",
        "    print(\"GROUP-\",i+1 ) #, \", \" , AGE ) #, file=f)\n",
        "    print(table.draw()) #, file=f)\n",
        "    \n",
        "    print(\"--------------------------------------------------------------\")#, file=f)\n",
        "  #f.close()\n",
        "  \n"
      ],
      "metadata": {
        "id": "iyoHmoALotwb"
      },
      "id": "iyoHmoALotwb",
      "execution_count": 83,
      "outputs": []
    },
    {
      "cell_type": "code",
      "source": [
        "print_mean( meanings_dictionary, bnd_tmp, df_tda_cognition, all_means)\n",
        "\n",
        "\n",
        "\n"
      ],
      "metadata": {
        "id": "pSF--CnKk42W",
        "colab": {
          "base_uri": "https://localhost:8080/"
        },
        "outputId": "51254967-ccfa-4bca-c077-4e61ad5c603a"
      },
      "id": "pSF--CnKk42W",
      "execution_count": 84,
      "outputs": [
        {
          "output_type": "stream",
          "name": "stdout",
          "text": [
            "\n",
            "--------------------------------------------------------------\n",
            "GROUP- 1\n",
            "   Clinical    | Cat. |     G1      |      G2      |      G3      |      G4     \n",
            "   features    |      |             |              |              |             \n",
            "===============+======+=============+==============+==============+=============\n",
            "  Total gray   | GMV  | X_592655.32 | X_771533.94  | X_714666.40  | X_752002.16 \n",
            "matter volume  |      |             |              |              |             \n",
            "Total cortical | GMV  | X_435261.56 | X_578701.44  | X_534875.82  | X_562891.96 \n",
            " gray matter   |      |             |              |              |             \n",
            "    volume     |      |             |              |              |             \n",
            "Supratentorial | FSS  | X_905980.23 | X_1144966.52 | X_1037582.75 | X_1179358.45\n",
            "    volume     |      |             |              |              |             \n",
            "    Total      | GMV  | X_55629.67  |  X_65507.86  |  ._60928.54  |  X_66823.75 \n",
            " subcortical   |      |             |              |              |             \n",
            " gray matter   |      |             |              |              |             \n",
            "    volume     |      |             |              |              |             \n",
            "Right lateral- | SA_  |  X_2241.25  |  X_2832.70   |  ._2646.64   |  X_2874.59  \n",
            "orbito-frontal |      |             |              |              |             \n",
            "      SA       |      |             |              |              |             \n",
            "Left lateral-  | SA_  |  X_2312.82  |  X_2922.33   |  X_2718.40   |  X_2943.30  \n",
            "orbito-frontal |      |             |              |              |             \n",
            "      SA       |      |             |              |              |             \n",
            "Left rostral-  | SA_  |  X_717.11   |  X_1005.62   |   X_916.79   |  X_1001.03  \n",
            "  anterior-    |      |             |              |              |             \n",
            " cingulate SA  |      |             |              |              |             \n",
            "Total cortical | WMV  | X_399841.67 | X_481352.40  | X_424107.74  | X_529137.17 \n",
            " white matter  |      |             |              |              |             \n",
            "    volume     |      |             |              |              |             \n",
            "Right medial-  | SA_  |  X_1657.86  |  X_2038.35   |  ._1853.58   |  X_2053.96  \n",
            "orbito-frontal |      |             |              |              |             \n",
            "      SA       |      |             |              |              |             \n",
            "    Gender     | OTH  |   X_1.95    |    X_1.16    |    X_1.38    |    X_1.14   \n",
            "     Age       | OTH  |   X_1.75    |    X_1.16    |    X_1.08    |    ._1.38   \n",
            "Right caudal-  | SA_  |  X_674.07   |   X_935.22   |   X_874.46   |   X_926.20  \n",
            "  anterior-    |      |             |              |              |             \n",
            " cingulate SA  |      |             |              |              |             \n",
            "Right rostral- | SA_  |  X_558.58   |   X_758.89   |   X_693.57   |   X_771.91  \n",
            "  anterior-    |      |             |              |              |             \n",
            " cingulate SA  |      |             |              |              |             \n",
            " Left medial-  | SA_  |  X_1742.49  |  X_2161.33   |  X_1916.35   |  X_2228.36  \n",
            "orbito-frontal |      |             |              |              |             \n",
            "      SA       |      |             |              |              |             \n",
            " Left caudal-  | SA_  |  X_589.96   |   X_763.54   |   X_714.10   |   X_761.83  \n",
            "  anterior-    |      |             |              |              |             \n",
            " cingulate SA  |      |             |              |              |             \n",
            "Language/Vocab | COG  |  X_100.13   |   ._114.50   |   X_115.41   |   X_114.78  \n",
            "    ulary      |      |             |              |              |             \n",
            "Comprehension  |      |             |              |              |             \n",
            "Left lateral-  | Thc  |   X_2.76    |    X_2.89    |    X_2.88    |    X_2.79   \n",
            "orbito-frontal |      |             |              |              |             \n",
            "Avg Thickness  |      |             |              |              |             \n",
            "Strength (Grip | MOT  |   X_94.36   |   X_116.13   |   ._108.38   |   X_118.37  \n",
            "   Strength    |      |             |              |              |             \n",
            " Dynamometry)  |      |             |              |              |             \n",
            "Self-regulatio | COG  |   X_0.18    |    X_0.32    |    X_0.35    |    ._0.29   \n",
            "n/Impulsivity  |      |             |              |              |             \n",
            "    (Delay     |      |             |              |              |             \n",
            " Discounting)  |      |             |              |              |             \n",
            " Endurance (2  | MOT  |  X_102.29   |   X_114.84   |   ._110.50   |   X_112.83  \n",
            " minute walk   |      |             |              |              |             \n",
            "    test)      |      |             |              |              |             \n",
            "   Spatial     | COG  |   X_13.14   |   ._15.92    |   ._16.03    |   X_16.86   \n",
            " Orientation   |      |             |              |              |             \n",
            "Language/Readi | COG  |  X_101.09   |   ._111.92   |   X_113.08   |   X_111.98  \n",
            " ng Decoding   |      |             |              |              |             \n",
            "Right lateral- | Thc  |   X_2.80    |    X_2.89    |    X_2.88    |    ._2.81   \n",
            "orbito-frontal |      |             |              |              |             \n",
            "Avg Thickness  |      |             |              |              |             \n",
            "   Negative    | EMO  |   X_43.36   |   ._46.97    |   ._46.11    |   ._46.19   \n",
            "    Affect     |      |             |              |              |             \n",
            "  (Sadness)    |      |             |              |              |             \n",
            "Working Memory | COG  |  X_100.72   |   ._103.62   |   X_108.19   |   X_107.69  \n",
            "(List Sorting) |      |             |              |              |             \n",
            "--------------------------------------------------------------\n",
            "\n",
            "--------------------------------------------------------------\n",
            "GROUP- 2\n",
            "   Clinical    | Cat. |     G1      |      G2      |      G3      |      G4     \n",
            "   features    |      |             |              |              |             \n",
            "===============+======+=============+==============+==============+=============\n",
            "  Total gray   | GMV  | X_592655.32 | X_771533.94  | X_714666.40  | X_752002.16 \n",
            "matter volume  |      |             |              |              |             \n",
            "Total cortical | GMV  | X_435261.56 | X_578701.44  | X_534875.82  | X_562891.96 \n",
            " gray matter   |      |             |              |              |             \n",
            "    volume     |      |             |              |              |             \n",
            "Supratentorial | FSS  | X_905980.23 | X_1144966.52 | X_1037582.75 | X_1179358.45\n",
            "    volume     |      |             |              |              |             \n",
            "Total cortical | WMV  | X_399841.67 | X_481352.40  | X_424107.74  | X_529137.17 \n",
            " white matter  |      |             |              |              |             \n",
            "    volume     |      |             |              |              |             \n",
            "    Total      | GMV  | X_55629.67  |  X_65507.86  |  ._60928.54  |  X_66823.75 \n",
            " subcortical   |      |             |              |              |             \n",
            " gray matter   |      |             |              |              |             \n",
            "    volume     |      |             |              |              |             \n",
            "Left lateral-  | SA_  |  X_2312.82  |  X_2922.33   |  X_2718.40   |  X_2943.30  \n",
            "orbito-frontal |      |             |              |              |             \n",
            "      SA       |      |             |              |              |             \n",
            "Right lateral- | SA_  |  X_2241.25  |  X_2832.70   |  ._2646.64   |  X_2874.59  \n",
            "orbito-frontal |      |             |              |              |             \n",
            "      SA       |      |             |              |              |             \n",
            "Right medial-  | SA_  |  X_1657.86  |  X_2038.35   |  ._1853.58   |  X_2053.96  \n",
            "orbito-frontal |      |             |              |              |             \n",
            "      SA       |      |             |              |              |             \n",
            "Left rostral-  | SA_  |  X_717.11   |  X_1005.62   |   X_916.79   |  X_1001.03  \n",
            "  anterior-    |      |             |              |              |             \n",
            " cingulate SA  |      |             |              |              |             \n",
            "    Gender     | OTH  |   X_1.95    |    X_1.16    |    X_1.38    |    X_1.14   \n",
            "Strength (Grip | MOT  |   X_94.36   |   X_116.13   |   ._108.38   |   X_118.37  \n",
            "   Strength    |      |             |              |              |             \n",
            " Dynamometry)  |      |             |              |              |             \n",
            "Right caudal-  | SA_  |  X_674.07   |   X_935.22   |   X_874.46   |   X_926.20  \n",
            "  anterior-    |      |             |              |              |             \n",
            " cingulate SA  |      |             |              |              |             \n",
            "Left lateral-  | Thc  |   X_2.76    |    X_2.89    |    X_2.88    |    X_2.79   \n",
            "orbito-frontal |      |             |              |              |             \n",
            "Avg Thickness  |      |             |              |              |             \n",
            " Left medial-  | SA_  |  X_1742.49  |  X_2161.33   |  X_1916.35   |  X_2228.36  \n",
            "orbito-frontal |      |             |              |              |             \n",
            "      SA       |      |             |              |              |             \n",
            "Right rostral- | SA_  |  X_558.58   |   X_758.89   |   X_693.57   |   X_771.91  \n",
            "  anterior-    |      |             |              |              |             \n",
            " cingulate SA  |      |             |              |              |             \n",
            "Right lateral- | Thc  |   X_2.80    |    X_2.89    |    X_2.88    |    ._2.81   \n",
            "orbito-frontal |      |             |              |              |             \n",
            "Avg Thickness  |      |             |              |              |             \n",
            " Left caudal-  | SA_  |  X_589.96   |   X_763.54   |   X_714.10   |   X_761.83  \n",
            "  anterior-    |      |             |              |              |             \n",
            " cingulate SA  |      |             |              |              |             \n",
            "    Fluid      | COG  |   ._15.75   |   X_19.21    |   X_19.15    |   ._17.97   \n",
            " Intelligence  |      |             |              |              |             \n",
            " Endurance (2  | MOT  |  X_102.29   |   X_114.84   |   ._110.50   |   X_112.83  \n",
            " minute walk   |      |             |              |              |             \n",
            "    test)      |      |             |              |              |             \n",
            "     Age       | OTH  |   X_1.75    |    X_1.16    |    X_1.08    |    ._1.38   \n",
            "Right medial-  | Thc  |   ._2.71    |    X_2.78    |    X_2.79    |    ._2.70   \n",
            "orbito-frontal |      |             |              |              |             \n",
            "Avg Thickness  |      |             |              |              |             \n",
            "Right rostral- | Thc  |   ._3.02    |    X_3.07    |    X_3.08    |    X_2.96   \n",
            "  anterior-    |      |             |              |              |             \n",
            "cingulate Avg  |      |             |              |              |             \n",
            "  Thickness    |      |             |              |              |             \n",
            " Left medial-  | Thc  |   ._2.56    |    X_2.62    |    X_2.62    |    ._2.54   \n",
            "orbito-frontal |      |             |              |              |             \n",
            "Avg Thickness  |      |             |              |              |             \n",
            "Self-regulatio | COG  |   X_0.18    |    X_0.32    |    X_0.35    |    ._0.29   \n",
            "n/Impulsivity  |      |             |              |              |             \n",
            "    (Delay     |      |             |              |              |             \n",
            " Discounting)  |      |             |              |              |             \n",
            "--------------------------------------------------------------\n",
            "\n",
            "--------------------------------------------------------------\n",
            "GROUP- 3\n",
            "   Clinical    | Cat. |     G1      |      G2      |      G3      |      G4     \n",
            "   features    |      |             |              |              |             \n",
            "===============+======+=============+==============+==============+=============\n",
            "Total cortical | GMV  | X_435261.56 | X_578701.44  | X_534875.82  | X_562891.96 \n",
            " gray matter   |      |             |              |              |             \n",
            "    volume     |      |             |              |              |             \n",
            "  Total gray   | GMV  | X_592655.32 | X_771533.94  | X_714666.40  | X_752002.16 \n",
            "matter volume  |      |             |              |              |             \n",
            "Total cortical | WMV  | X_399841.67 | X_481352.40  | X_424107.74  | X_529137.17 \n",
            " white matter  |      |             |              |              |             \n",
            "    volume     |      |             |              |              |             \n",
            "Supratentorial | FSS  | X_905980.23 | X_1144966.52 | X_1037582.75 | X_1179358.45\n",
            "    volume     |      |             |              |              |             \n",
            "     Age       | OTH  |   X_1.75    |    X_1.16    |    X_1.08    |    ._1.38   \n",
            "Left lateral-  | Thc  |   X_2.76    |    X_2.89    |    X_2.88    |    X_2.79   \n",
            "orbito-frontal |      |             |              |              |             \n",
            "Avg Thickness  |      |             |              |              |             \n",
            "    Fluid      | COG  |   ._15.75   |   X_19.21    |   X_19.15    |   ._17.97   \n",
            " Intelligence  |      |             |              |              |             \n",
            "Left lateral-  | SA_  |  X_2312.82  |  X_2922.33   |  X_2718.40   |  X_2943.30  \n",
            "orbito-frontal |      |             |              |              |             \n",
            "      SA       |      |             |              |              |             \n",
            "Right lateral- | Thc  |   X_2.80    |    X_2.89    |    X_2.88    |    ._2.81   \n",
            "orbito-frontal |      |             |              |              |             \n",
            "Avg Thickness  |      |             |              |              |             \n",
            "Left rostral-  | SA_  |  X_717.11   |  X_1005.62   |   X_916.79   |  X_1001.03  \n",
            "  anterior-    |      |             |              |              |             \n",
            " cingulate SA  |      |             |              |              |             \n",
            "Language/Vocab | COG  |  X_100.13   |   ._114.50   |   X_115.41   |   X_114.78  \n",
            "    ulary      |      |             |              |              |             \n",
            "Comprehension  |      |             |              |              |             \n",
            "Right caudal-  | SA_  |  X_674.07   |   X_935.22   |   X_874.46   |   X_926.20  \n",
            "  anterior-    |      |             |              |              |             \n",
            " cingulate SA  |      |             |              |              |             \n",
            "Right medial-  | Thc  |   ._2.71    |    X_2.78    |    X_2.79    |    ._2.70   \n",
            "orbito-frontal |      |             |              |              |             \n",
            "Avg Thickness  |      |             |              |              |             \n",
            " Left medial-  | SA_  |  X_1742.49  |  X_2161.33   |  X_1916.35   |  X_2228.36  \n",
            "orbito-frontal |      |             |              |              |             \n",
            "      SA       |      |             |              |              |             \n",
            "Working Memory | COG  |  X_100.72   |   ._103.62   |   X_108.19   |   X_107.69  \n",
            "(List Sorting) |      |             |              |              |             \n",
            "Right rostral- | SA_  |  X_558.58   |   X_758.89   |   X_693.57   |   X_771.91  \n",
            "  anterior-    |      |             |              |              |             \n",
            " cingulate SA  |      |             |              |              |             \n",
            "Right rostral- | Thc  |   ._3.02    |    X_3.07    |    X_3.08    |    X_2.96   \n",
            "  anterior-    |      |             |              |              |             \n",
            "cingulate Avg  |      |             |              |              |             \n",
            "  Thickness    |      |             |              |              |             \n",
            " Left medial-  | Thc  |   ._2.56    |    X_2.62    |    X_2.62    |    ._2.54   \n",
            "orbito-frontal |      |             |              |              |             \n",
            "Avg Thickness  |      |             |              |              |             \n",
            "Language/Readi | COG  |  X_101.09   |   ._111.92   |   X_113.08   |   X_111.98  \n",
            " ng Decoding   |      |             |              |              |             \n",
            "Self-regulatio | COG  |   X_0.18    |    X_0.32    |    X_0.35    |    ._0.29   \n",
            "n/Impulsivity  |      |             |              |              |             \n",
            "    (Delay     |      |             |              |              |             \n",
            " Discounting)  |      |             |              |              |             \n",
            "    Gender     | OTH  |   X_1.95    |    X_1.16    |    X_1.38    |    X_1.14   \n",
            " Left caudal-  | SA_  |  X_589.96   |   X_763.54   |   X_714.10   |   X_761.83  \n",
            "  anterior-    |      |             |              |              |             \n",
            " cingulate SA  |      |             |              |              |             \n",
            "Left rostral-  | Thc  |   ._3.03    |    ._3.07    |    X_3.06    |    ._3.01   \n",
            "  anterior-    |      |             |              |              |             \n",
            "cingulate Avg  |      |             |              |              |             \n",
            "  Thickness    |      |             |              |              |             \n",
            "  Sustained    | COG  |   ._0.96    |    ._0.96    |    X_0.95    |    ._0.96   \n",
            "  Attention    |      |             |              |              |             \n",
            "--------------------------------------------------------------\n",
            "\n",
            "--------------------------------------------------------------\n",
            "GROUP- 4\n",
            "   Clinical    | Cat. |     G1      |      G2      |      G3      |      G4     \n",
            "   features    |      |             |              |              |             \n",
            "===============+======+=============+==============+==============+=============\n",
            "Total cortical | GMV  | X_435261.56 | X_578701.44  | X_534875.82  | X_562891.96 \n",
            " gray matter   |      |             |              |              |             \n",
            "    volume     |      |             |              |              |             \n",
            "  Total gray   | GMV  | X_592655.32 | X_771533.94  | X_714666.40  | X_752002.16 \n",
            "matter volume  |      |             |              |              |             \n",
            "Supratentorial | FSS  | X_905980.23 | X_1144966.52 | X_1037582.75 | X_1179358.45\n",
            "    volume     |      |             |              |              |             \n",
            "Total cortical | WMV  | X_399841.67 | X_481352.40  | X_424107.74  | X_529137.17 \n",
            " white matter  |      |             |              |              |             \n",
            "    volume     |      |             |              |              |             \n",
            "    Total      | GMV  | X_55629.67  |  X_65507.86  |  ._60928.54  |  X_66823.75 \n",
            " subcortical   |      |             |              |              |             \n",
            " gray matter   |      |             |              |              |             \n",
            "    volume     |      |             |              |              |             \n",
            "Right lateral- | SA_  |  X_2241.25  |  X_2832.70   |  ._2646.64   |  X_2874.59  \n",
            "orbito-frontal |      |             |              |              |             \n",
            "      SA       |      |             |              |              |             \n",
            "Left lateral-  | SA_  |  X_2312.82  |  X_2922.33   |  X_2718.40   |  X_2943.30  \n",
            "orbito-frontal |      |             |              |              |             \n",
            "      SA       |      |             |              |              |             \n",
            " Left medial-  | SA_  |  X_1742.49  |  X_2161.33   |  X_1916.35   |  X_2228.36  \n",
            "orbito-frontal |      |             |              |              |             \n",
            "      SA       |      |             |              |              |             \n",
            "Right medial-  | SA_  |  X_1657.86  |  X_2038.35   |  ._1853.58   |  X_2053.96  \n",
            "orbito-frontal |      |             |              |              |             \n",
            "      SA       |      |             |              |              |             \n",
            "Strength (Grip | MOT  |   X_94.36   |   X_116.13   |   ._108.38   |   X_118.37  \n",
            "   Strength    |      |             |              |              |             \n",
            " Dynamometry)  |      |             |              |              |             \n",
            "    Gender     | OTH  |   X_1.95    |    X_1.16    |    X_1.38    |    X_1.14   \n",
            "Left rostral-  | SA_  |  X_717.11   |  X_1005.62   |   X_916.79   |  X_1001.03  \n",
            "  anterior-    |      |             |              |              |             \n",
            " cingulate SA  |      |             |              |              |             \n",
            "Right rostral- | SA_  |  X_558.58   |   X_758.89   |   X_693.57   |   X_771.91  \n",
            "  anterior-    |      |             |              |              |             \n",
            " cingulate SA  |      |             |              |              |             \n",
            "Right caudal-  | SA_  |  X_674.07   |   X_935.22   |   X_874.46   |   X_926.20  \n",
            "  anterior-    |      |             |              |              |             \n",
            " cingulate SA  |      |             |              |              |             \n",
            " Left caudal-  | SA_  |  X_589.96   |   X_763.54   |   X_714.10   |   X_761.83  \n",
            "  anterior-    |      |             |              |              |             \n",
            " cingulate SA  |      |             |              |              |             \n",
            " Endurance (2  | MOT  |  X_102.29   |   X_114.84   |   ._110.50   |   X_112.83  \n",
            " minute walk   |      |             |              |              |             \n",
            "    test)      |      |             |              |              |             \n",
            "   Spatial     | COG  |   X_13.14   |   ._15.92    |   ._16.03    |   X_16.86   \n",
            " Orientation   |      |             |              |              |             \n",
            "Working Memory | COG  |  X_100.72   |   ._103.62   |   X_108.19   |   X_107.69  \n",
            "(List Sorting) |      |             |              |              |             \n",
            "  Executive    | COG  |  ._101.18   |   ._103.68   |   ._103.45   |   X_105.51  \n",
            "  Function/    |      |             |              |              |             \n",
            "  Cognitive    |      |             |              |              |             \n",
            " Flexibility   |      |             |              |              |             \n",
            "Right rostral- | Thc  |   ._3.02    |    X_3.07    |    X_3.08    |    X_2.96   \n",
            "  anterior-    |      |             |              |              |             \n",
            "cingulate Avg  |      |             |              |              |             \n",
            "  Thickness    |      |             |              |              |             \n",
            "Language/Readi | COG  |  X_101.09   |   ._111.92   |   X_113.08   |   X_111.98  \n",
            " ng Decoding   |      |             |              |              |             \n",
            "Left lateral-  | Thc  |   X_2.76    |    X_2.89    |    X_2.88    |    X_2.79   \n",
            "orbito-frontal |      |             |              |              |             \n",
            "Avg Thickness  |      |             |              |              |             \n",
            "Language/Vocab | COG  |  X_100.13   |   ._114.50   |   X_115.41   |   X_114.78  \n",
            "    ulary      |      |             |              |              |             \n",
            "Comprehension  |      |             |              |              |             \n",
            "--------------------------------------------------------------\n"
          ]
        }
      ]
    },
    {
      "cell_type": "code",
      "source": [],
      "metadata": {
        "id": "EIESs5zZk44e"
      },
      "id": "EIESs5zZk44e",
      "execution_count": 84,
      "outputs": []
    },
    {
      "cell_type": "code",
      "source": [],
      "metadata": {
        "id": "QUivf5sdk460"
      },
      "id": "QUivf5sdk460",
      "execution_count": 84,
      "outputs": []
    },
    {
      "cell_type": "code",
      "source": [],
      "metadata": {
        "id": "DR7eIQFVk49B"
      },
      "id": "DR7eIQFVk49B",
      "execution_count": 84,
      "outputs": []
    },
    {
      "cell_type": "code",
      "source": [],
      "metadata": {
        "id": "waQEGSBak4_E"
      },
      "id": "waQEGSBak4_E",
      "execution_count": 84,
      "outputs": []
    },
    {
      "cell_type": "code",
      "source": [
        "'''\n",
        "import numpy as np \n",
        "import pandas as pd\n",
        "import networkx as nx\n",
        "\n",
        "from nilearn.datasets import fetch_haxby\n",
        "from nilearn.input_data import NiftiMasker\n",
        "\n",
        "from kmapper import KeplerMapper, Cover\n",
        "from sklearn.cluster import DBSCAN\n",
        "from sklearn.decomposition import PCA \n",
        "from sklearn.manifold import TSNE\n",
        "from umap.umap_ import UMAP\n",
        "\n",
        "from dyneusr import DyNeuGraph\n",
        "from dyneusr.tools import visualize_mapper_stages\n",
        "from dyneusr.mapper.utils import optimize_dbscan\n",
        "\n",
        "\n",
        "\n",
        "# Fetch dataset, extract time-series from ventral temporal (VT) mask\n",
        "dataset = fetch_haxby()\n",
        "masker = NiftiMasker(\n",
        "    dataset.mask_vt[0], \n",
        "    standardize=True, detrend=True, smoothing_fwhm=4.0,\n",
        "    low_pass=0.09, high_pass=0.008, t_r=2.5,\n",
        "    memory=\"nilearn_cache\")\n",
        "X = masker.fit_transform(dataset.func[0])\n",
        "\n",
        "# Encode labels as integers\n",
        "df = pd.read_csv(dataset.session_target[0], sep=\" \")\n",
        "target, labels = pd.factorize(df.labels.values)\n",
        "y = pd.DataFrame({l:(target==i).astype(int) for i,l in enumerate(labels)})\n",
        "\n",
        "# Extract sessions 4-5\n",
        "mask_sessions = df.chunks.add(1).isin([4, 5])\n",
        "X = X[mask_sessions]\n",
        "y = y.loc[mask_sessions, :]\n",
        "target = target[mask_sessions]\n",
        "\n",
        "\n",
        "\n",
        "# Generate a shape graph using KeplerMapper\n",
        "mapper = KeplerMapper(verbose=1)\n",
        "\n",
        "# Configure projection\n",
        "tsne = TSNE(2, init='pca', random_state=1)\n",
        "\n",
        "# Construct lens and generate the shape graph\n",
        "lens = mapper.fit_transform(tsne.fit_transform(X), projection=[0, 1]) \n",
        "\n",
        "graph = mapper.map(\n",
        "    lens, X=X, \n",
        "    cover=Cover(20, 0.5),\n",
        "    clusterer=optimize_dbscan(X, k=3, p=100.0), )\n",
        "\n",
        "\n",
        "\n",
        "# Convert to a DyNeuGraph\n",
        "dG = DyNeuGraph(G=graph, y=y)\n",
        "\n",
        "# Define some custom_layouts\n",
        "dG.add_custom_layout(lens, name='lens')\n",
        "dG.add_custom_layout(nx.spring_layout, name='nx.spring')\n",
        "dG.add_custom_layout(nx.kamada_kawai_layout, name='nx.kamada_kawai')\n",
        "dG.add_custom_layout(nx.spectral_layout, name='nx.spectral')\n",
        "dG.add_custom_layout(nx.circular_layout, name='nx.circular')\n",
        "\n",
        "# Configure some projections\n",
        "pca = PCA(2, random_state=1)\n",
        "tsne = TSNE(2, init='pca', random_state=1)\n",
        "umap = UMAP(n_components=2, init=pca.fit_transform(X))\n",
        "\n",
        "# Add projections as custom_layouts\n",
        "dG.add_custom_layout(pca.fit_transform(X), name='PCA')\n",
        "dG.add_custom_layout(tsne.fit_transform(X), name='TSNE')\n",
        "dG.add_custom_layout(umap.fit_transform(X, y=None), name='UMAP')\n",
        "dG.add_custom_layout(umap.fit_transform(X, y=target), name='Supervised UMAP')\n",
        "\n",
        "# Visualize \n",
        "dG.visualize('crazy.html')\n",
        "\n",
        "'''"
      ],
      "metadata": {
        "id": "TNbvTLM0xzrf",
        "colab": {
          "base_uri": "https://localhost:8080/",
          "height": 143
        },
        "outputId": "09d94936-1c99-4f67-9fbd-93706ce2653f"
      },
      "execution_count": 85,
      "outputs": [
        {
          "output_type": "execute_result",
          "data": {
            "text/plain": [
              "'\\nimport numpy as np \\nimport pandas as pd\\nimport networkx as nx\\n\\nfrom nilearn.datasets import fetch_haxby\\nfrom nilearn.input_data import NiftiMasker\\n\\nfrom kmapper import KeplerMapper, Cover\\nfrom sklearn.cluster import DBSCAN\\nfrom sklearn.decomposition import PCA \\nfrom sklearn.manifold import TSNE\\nfrom umap.umap_ import UMAP\\n\\nfrom dyneusr import DyNeuGraph\\nfrom dyneusr.tools import visualize_mapper_stages\\nfrom dyneusr.mapper.utils import optimize_dbscan\\n\\n\\n\\n# Fetch dataset, extract time-series from ventral temporal (VT) mask\\ndataset = fetch_haxby()\\nmasker = NiftiMasker(\\n    dataset.mask_vt[0], \\n    standardize=True, detrend=True, smoothing_fwhm=4.0,\\n    low_pass=0.09, high_pass=0.008, t_r=2.5,\\n    memory=\"nilearn_cache\")\\nX = masker.fit_transform(dataset.func[0])\\n\\n# Encode labels as integers\\ndf = pd.read_csv(dataset.session_target[0], sep=\" \")\\ntarget, labels = pd.factorize(df.labels.values)\\ny = pd.DataFrame({l:(target==i).astype(int) for i,l in enumerate(labels)})\\n\\n# Extract sessions 4-5\\nmask_sessions = df.chunks.add(1).isin([4, 5])\\nX = X[mask_sessions]\\ny = y.loc[mask_sessions, :]\\ntarget = target[mask_sessions]\\n\\n\\n\\n# Generate a shape graph using KeplerMapper\\nmapper = KeplerMapper(verbose=1)\\n\\n# Configure projection\\ntsne = TSNE(2, init=\\'pca\\', random_state=1)\\n\\n# Construct lens and generate the shape graph\\nlens = mapper.fit_transform(tsne.fit_transform(X), projection=[0, 1]) \\n\\ngraph = mapper.map(\\n    lens, X=X, \\n    cover=Cover(20, 0.5),\\n    clusterer=optimize_dbscan(X, k=3, p=100.0), )\\n\\n\\n\\n# Convert to a DyNeuGraph\\ndG = DyNeuGraph(G=graph, y=y)\\n\\n# Define some custom_layouts\\ndG.add_custom_layout(lens, name=\\'lens\\')\\ndG.add_custom_layout(nx.spring_layout, name=\\'nx.spring\\')\\ndG.add_custom_layout(nx.kamada_kawai_layout, name=\\'nx.kamada_kawai\\')\\ndG.add_custom_layout(nx.spectral_layout, name=\\'nx.spectral\\')\\ndG.add_custom_layout(nx.circular_layout, name=\\'nx.circular\\')\\n\\n# Configure some projections\\npca = PCA(2, random_state=1)\\ntsne = TSNE(2, init=\\'pca\\', random_state=1)\\numap = UMAP(n_components=2, init=pca.fit_transform(X))\\n\\n# Add projections as custom_layouts\\ndG.add_custom_layout(pca.fit_transform(X), name=\\'PCA\\')\\ndG.add_custom_layout(tsne.fit_transform(X), name=\\'TSNE\\')\\ndG.add_custom_layout(umap.fit_transform(X, y=None), name=\\'UMAP\\')\\ndG.add_custom_layout(umap.fit_transform(X, y=target), name=\\'Supervised UMAP\\')\\n\\n# Visualize \\ndG.visualize(\\'crazy.html\\')\\n\\n'"
            ],
            "application/vnd.google.colaboratory.intrinsic+json": {
              "type": "string"
            }
          },
          "metadata": {},
          "execution_count": 85
        }
      ],
      "id": "TNbvTLM0xzrf"
    },
    {
      "cell_type": "code",
      "source": [
        "'''\n",
        "import networkx as nx\n",
        "from sklearn.decomposition import PCA \n",
        "from sklearn.manifold import TSNE\n",
        "from umap.umap_ import UMAP\n",
        "\n",
        "from dyneusr import DyNeuGraph\n",
        "from dyneusr.datasets import make_trefoil\n",
        "from kmapper import KeplerMapper\n",
        "\n",
        "\n",
        "\n",
        "# Generate synthetic dataset\n",
        "dataset = make_trefoil(size=100)\n",
        "X = dataset.data\n",
        "y = dataset.target\n",
        "\n",
        "\n",
        "\n",
        "# Generate shape graph using KeplerMapper\n",
        "mapper = KeplerMapper(verbose=1)\n",
        "lens = mapper.fit_transform(X, projection=[0])\n",
        "graph = mapper.map(lens, X, nr_cubes=6, overlap_perc=0.2)\n",
        "\n",
        "\n",
        "\n",
        "# Convert to a DyNeuGraph\n",
        "dG = DyNeuGraph(G=graph, y=y)\n",
        "\n",
        "# Define some custom_layouts\n",
        "dG.add_custom_layout(lens, name='lens')\n",
        "dG.add_custom_layout(nx.spring_layout, name='nx.spring')\n",
        "dG.add_custom_layout(nx.kamada_kawai_layout, name='nx.kamada_kawai')\n",
        "dG.add_custom_layout(nx.spectral_layout, name='nx.spectral')\n",
        "dG.add_custom_layout(nx.circular_layout, name='nx.circular')\n",
        "\n",
        "# Configure some projections\n",
        "pca = PCA(2, random_state=1)\n",
        "tsne = TSNE(2, init='pca', random_state=1)\n",
        "umap = UMAP(n_components=2, init=pca.fit_transform(X))\n",
        "\n",
        "# Add projections as custom_layouts\n",
        "dG.add_custom_layout(pca.fit_transform(X), name='PCA')\n",
        "dG.add_custom_layout(tsne.fit_transform(X), name='TSNE')\n",
        "dG.add_custom_layout(umap.fit_transform(X, y=None), name='UMAP')\n",
        "\n",
        "# Visualize \n",
        "dG.visualize(\"deneme_1.html\")\n",
        "\n",
        "'''"
      ],
      "metadata": {
        "id": "j9uJq_etz95X",
        "colab": {
          "base_uri": "https://localhost:8080/",
          "height": 143
        },
        "outputId": "54bb0e04-4a42-4f9c-a4cf-a40a2ca72b91"
      },
      "execution_count": 86,
      "outputs": [
        {
          "output_type": "execute_result",
          "data": {
            "text/plain": [
              "'\\nimport networkx as nx\\nfrom sklearn.decomposition import PCA \\nfrom sklearn.manifold import TSNE\\nfrom umap.umap_ import UMAP\\n\\nfrom dyneusr import DyNeuGraph\\nfrom dyneusr.datasets import make_trefoil\\nfrom kmapper import KeplerMapper\\n\\n\\n\\n# Generate synthetic dataset\\ndataset = make_trefoil(size=100)\\nX = dataset.data\\ny = dataset.target\\n\\n\\n\\n# Generate shape graph using KeplerMapper\\nmapper = KeplerMapper(verbose=1)\\nlens = mapper.fit_transform(X, projection=[0])\\ngraph = mapper.map(lens, X, nr_cubes=6, overlap_perc=0.2)\\n\\n\\n\\n# Convert to a DyNeuGraph\\ndG = DyNeuGraph(G=graph, y=y)\\n\\n# Define some custom_layouts\\ndG.add_custom_layout(lens, name=\\'lens\\')\\ndG.add_custom_layout(nx.spring_layout, name=\\'nx.spring\\')\\ndG.add_custom_layout(nx.kamada_kawai_layout, name=\\'nx.kamada_kawai\\')\\ndG.add_custom_layout(nx.spectral_layout, name=\\'nx.spectral\\')\\ndG.add_custom_layout(nx.circular_layout, name=\\'nx.circular\\')\\n\\n# Configure some projections\\npca = PCA(2, random_state=1)\\ntsne = TSNE(2, init=\\'pca\\', random_state=1)\\numap = UMAP(n_components=2, init=pca.fit_transform(X))\\n\\n# Add projections as custom_layouts\\ndG.add_custom_layout(pca.fit_transform(X), name=\\'PCA\\')\\ndG.add_custom_layout(tsne.fit_transform(X), name=\\'TSNE\\')\\ndG.add_custom_layout(umap.fit_transform(X, y=None), name=\\'UMAP\\')\\n\\n# Visualize \\ndG.visualize(\"deneme_1.html\")\\n\\n'"
            ],
            "application/vnd.google.colaboratory.intrinsic+json": {
              "type": "string"
            }
          },
          "metadata": {},
          "execution_count": 86
        }
      ],
      "id": "j9uJq_etz95X"
    },
    {
      "cell_type": "code",
      "source": [],
      "metadata": {
        "id": "Dl11DXnPujyz"
      },
      "id": "Dl11DXnPujyz",
      "execution_count": 86,
      "outputs": []
    }
  ],
  "metadata": {
    "kernelspec": {
      "display_name": "Python 3 (ipykernel)",
      "language": "python",
      "name": "python3"
    },
    "language_info": {
      "codemirror_mode": {
        "name": "ipython",
        "version": 3
      },
      "file_extension": ".py",
      "mimetype": "text/x-python",
      "name": "python",
      "nbconvert_exporter": "python",
      "pygments_lexer": "ipython3",
      "version": "3.9.12"
    },
    "colab": {
      "provenance": [],
      "collapsed_sections": [
        "19dfbb72",
        "bd252d3c",
        "2a7497a9",
        "aad997e1",
        "f5c12471",
        "6d2f0e24",
        "ecaaf4b5",
        "33aa34cb",
        "ZQ4HUFXkwKkr",
        "HBCUXmV1hbe2",
        "59e63db0",
        "b0bc82f9"
      ]
    }
  },
  "nbformat": 4,
  "nbformat_minor": 5
}